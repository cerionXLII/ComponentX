{
 "cells": [
  {
   "cell_type": "markdown",
   "metadata": {},
   "source": [
    "# This notebook will use pyTorch to classify the componentX \n",
    "We will use pyTorch and the Transformer architecture to do classifications of the life time for Component X."
   ]
  },
  {
   "cell_type": "code",
   "execution_count": 21,
   "metadata": {},
   "outputs": [],
   "source": [
    "#Includes\n",
    "import pandas as pd\n",
    "import numpy as np\n",
    "import matplotlib.pyplot as plt\n",
    "import seaborn as sns\n",
    "import torch\n",
    "from tqdm.notebook import tqdm\n",
    "\n",
    "import torch.nn as nn\n",
    "import torch.nn.functional as F\n"
   ]
  },
  {
   "cell_type": "code",
   "execution_count": 2,
   "metadata": {},
   "outputs": [],
   "source": [
    "#Read the raw data\n",
    "#Train data\n",
    "tteTrain = pd.read_csv('../data/train_tte.csv')\n",
    "specificationsTrain = pd.read_csv('../data/train_specifications.csv')\n",
    "readoutsTrain = pd.read_csv('../data/train_operational_readouts.csv')\n",
    "\n",
    "\n",
    "#Validation data\n",
    "labelsValidation = pd.read_csv('../data/validation_labels.csv')\n",
    "specificationsValidation = pd.read_csv('../data/validation_specifications.csv')\n",
    "readoutsValidation = pd.read_csv('../data/validation_operational_readouts.csv')\n",
    "\n",
    "#Test data\n",
    "specificationsTest = pd.read_csv('../data/test_specifications.csv')\n",
    "readoutsTest = pd.read_csv('../data/test_operational_readouts.csv')\n",
    "#No labels for test data yet\n"
   ]
  },
  {
   "cell_type": "code",
   "execution_count": 3,
   "metadata": {},
   "outputs": [],
   "source": [
    "#First we group by vehicle_id and we will forward fill the last known value.\n",
    "#Then if the entire column is NaN, we will fill it with the median of the column. \n",
    "#If there are still any NaNs we will fill them with 0.\n",
    "\n",
    "def fill_missing_values(df):\n",
    "    df = df.groupby('vehicle_id').apply(lambda x: x.ffill(axis=0)) #Forward fill last known value, but only for the same vehicle\n",
    "    df = df.droplevel('vehicle_id') #Remove multi-index, as we don't want to group by vehicle_id anymore    \n",
    "    df = df.fillna(df.median()) #Fill with median rather than mean to avoid outliers\n",
    "    df = df.fillna(0) #Last resort fill with 0\n",
    "    \n",
    "    return df"
   ]
  },
  {
   "cell_type": "code",
   "execution_count": 4,
   "metadata": {},
   "outputs": [],
   "source": [
    "#df is the dataframe containing categorical values\n",
    "#possible_categories is a dictionary with the column name as the key and the possible categories as the values\n",
    "def one_hot_encoding_fixed_columns(df, possible_categories):\n",
    "    \n",
    "    #Create all possible combinations of the columns and categories\n",
    "    source_columns = list(possible_categories.keys())\n",
    "    cols = [f'{col}_{cat}' for col in source_columns for cat in possible_categories[col]]\n",
    "    \n",
    "    #Create a dataframe with the fixed columns with zeros, using the index of df as the index\n",
    "    one_hot_encoded = pd.DataFrame(0, index=df.index, columns=cols, dtype=np.float16) \n",
    "    \n",
    "    # Get dummies dataset\n",
    "    dummies_df = pd.get_dummies(df,columns=source_columns, dtype=np.float16)\n",
    "\n",
    "    # Make sure columns exists in both dataframes    \n",
    "    cols_in_both = dummies_df.columns.intersection(cols)\n",
    "\n",
    "    #Copy the one hot encoded columns to the fixed columns\n",
    "    one_hot_encoded[cols_in_both] = dummies_df[cols_in_both]\n",
    "\n",
    "    \n",
    "    return one_hot_encoded"
   ]
  },
  {
   "cell_type": "code",
   "execution_count": 5,
   "metadata": {},
   "outputs": [],
   "source": [
    "def add_features(readoutsdf, specificationsdf):\n",
    "    df = readoutsdf.copy()\n",
    "\n",
    "    # Add the specifications of the vehicles\n",
    "    # We have the specifications of each vehicle. Lets join that to the main table. \n",
    "    # Then we will one-hot encode them in order to feed them into a ML model.\n",
    "\n",
    "    # Join the specifications for the vehicles, then one hot encode the categorical variables\n",
    "    df = pd.merge(df, specificationsdf, on = 'vehicle_id', how='left')\n",
    "\n",
    "    # Define possible categories for each column, since the test data may not have all categories\n",
    "    possible_categories = {\n",
    "        'Spec_0': ['Cat0', 'Cat1', 'Cat2'],\n",
    "        'Spec_1': ['Cat0', 'Cat1', 'Cat10', 'Cat11', 'Cat12', 'Cat13', 'Cat14', 'Cat15', 'Cat16', 'Cat17', 'Cat18', 'Cat19', 'Cat2', 'Cat20', 'Cat21', 'Cat22', 'Cat23', 'Cat24', 'Cat25', 'Cat26', 'Cat27', 'Cat28', 'Cat3', 'Cat4', 'Cat5', 'Cat6', 'Cat7', 'Cat8', 'Cat9'],\n",
    "        'Spec_2': ['Cat0', 'Cat1', 'Cat10', 'Cat11', 'Cat12', 'Cat13', 'Cat14', 'Cat15', 'Cat16', 'Cat17', 'Cat18', 'Cat19', 'Cat2', 'Cat20', 'Cat3', 'Cat4', 'Cat5', 'Cat6', 'Cat7', 'Cat8', 'Cat9'],\n",
    "        'Spec_3': ['Cat0', 'Cat1', 'Cat2', 'Cat3'],\n",
    "        'Spec_4': ['Cat0', 'Cat1'],\n",
    "        'Spec_5': ['Cat0', 'Cat1', 'Cat2', 'Cat3', 'Cat4'],\n",
    "        'Spec_6': ['Cat0', 'Cat1', 'Cat10', 'Cat11', 'Cat12', 'Cat13', 'Cat15', 'Cat17', 'Cat18', 'Cat2', 'Cat3', 'Cat4', 'Cat5', 'Cat6', 'Cat7', 'Cat8', 'Cat9'],\n",
    "        'Spec_7': ['Cat0', 'Cat1', 'Cat2', 'Cat3', 'Cat4', 'Cat5', 'Cat6', 'Cat7', 'Cat8']\n",
    "    }\n",
    "\n",
    "    # One-hot encode the categorical variables \n",
    "    one_hot_encoded = one_hot_encoding_fixed_columns(df, possible_categories)\n",
    "    \n",
    "    # Concatenate the one-hot encoded columns with the original DataFrame\n",
    "    df = pd.concat([df, one_hot_encoded], axis=1)\n",
    "\n",
    "    #Drop the categorical columns and only keep the one-hot encoded ones\n",
    "    df = df.drop(columns = list(possible_categories.keys()))\n",
    "\n",
    "    return df"
   ]
  },
  {
   "cell_type": "code",
   "execution_count": 6,
   "metadata": {},
   "outputs": [],
   "source": [
    "df = readoutsTrain.copy()\n",
    "df = fill_missing_values(df) \n",
    "  \n",
    "#Add features\n",
    "df = add_features(df, specificationsTrain)"
   ]
  },
  {
   "cell_type": "code",
   "execution_count": 7,
   "metadata": {},
   "outputs": [
    {
     "data": {
      "text/html": [
       "<div>\n",
       "<style scoped>\n",
       "    .dataframe tbody tr th:only-of-type {\n",
       "        vertical-align: middle;\n",
       "    }\n",
       "\n",
       "    .dataframe tbody tr th {\n",
       "        vertical-align: top;\n",
       "    }\n",
       "\n",
       "    .dataframe thead th {\n",
       "        text-align: right;\n",
       "    }\n",
       "</style>\n",
       "<table border=\"1\" class=\"dataframe\">\n",
       "  <thead>\n",
       "    <tr style=\"text-align: right;\">\n",
       "      <th></th>\n",
       "      <th>vehicle_id</th>\n",
       "      <th>time_step</th>\n",
       "      <th>171_0</th>\n",
       "      <th>666_0</th>\n",
       "      <th>427_0</th>\n",
       "      <th>837_0</th>\n",
       "      <th>167_0</th>\n",
       "      <th>167_1</th>\n",
       "      <th>167_2</th>\n",
       "      <th>167_3</th>\n",
       "      <th>...</th>\n",
       "      <th>Spec_6_Cat9</th>\n",
       "      <th>Spec_7_Cat0</th>\n",
       "      <th>Spec_7_Cat1</th>\n",
       "      <th>Spec_7_Cat2</th>\n",
       "      <th>Spec_7_Cat3</th>\n",
       "      <th>Spec_7_Cat4</th>\n",
       "      <th>Spec_7_Cat5</th>\n",
       "      <th>Spec_7_Cat6</th>\n",
       "      <th>Spec_7_Cat7</th>\n",
       "      <th>Spec_7_Cat8</th>\n",
       "    </tr>\n",
       "  </thead>\n",
       "  <tbody>\n",
       "    <tr>\n",
       "      <th>0</th>\n",
       "      <td>0</td>\n",
       "      <td>11.2</td>\n",
       "      <td>167985.0</td>\n",
       "      <td>10787.0</td>\n",
       "      <td>7413813.0</td>\n",
       "      <td>2296.0</td>\n",
       "      <td>4110.0</td>\n",
       "      <td>1296420.0</td>\n",
       "      <td>1628265.0</td>\n",
       "      <td>630345.0</td>\n",
       "      <td>...</td>\n",
       "      <td>0.0</td>\n",
       "      <td>1.0</td>\n",
       "      <td>0.0</td>\n",
       "      <td>0.0</td>\n",
       "      <td>0.0</td>\n",
       "      <td>0.0</td>\n",
       "      <td>0.0</td>\n",
       "      <td>0.0</td>\n",
       "      <td>0.0</td>\n",
       "      <td>0.0</td>\n",
       "    </tr>\n",
       "    <tr>\n",
       "      <th>1</th>\n",
       "      <td>0</td>\n",
       "      <td>11.4</td>\n",
       "      <td>167985.0</td>\n",
       "      <td>10787.0</td>\n",
       "      <td>7413813.0</td>\n",
       "      <td>2296.0</td>\n",
       "      <td>4111.0</td>\n",
       "      <td>1302855.0</td>\n",
       "      <td>1628265.0</td>\n",
       "      <td>630345.0</td>\n",
       "      <td>...</td>\n",
       "      <td>0.0</td>\n",
       "      <td>1.0</td>\n",
       "      <td>0.0</td>\n",
       "      <td>0.0</td>\n",
       "      <td>0.0</td>\n",
       "      <td>0.0</td>\n",
       "      <td>0.0</td>\n",
       "      <td>0.0</td>\n",
       "      <td>0.0</td>\n",
       "      <td>0.0</td>\n",
       "    </tr>\n",
       "    <tr>\n",
       "      <th>2</th>\n",
       "      <td>0</td>\n",
       "      <td>19.6</td>\n",
       "      <td>331635.0</td>\n",
       "      <td>14525.0</td>\n",
       "      <td>13683604.0</td>\n",
       "      <td>2600.0</td>\n",
       "      <td>4111.0</td>\n",
       "      <td>1302855.0</td>\n",
       "      <td>1628265.0</td>\n",
       "      <td>630345.0</td>\n",
       "      <td>...</td>\n",
       "      <td>0.0</td>\n",
       "      <td>1.0</td>\n",
       "      <td>0.0</td>\n",
       "      <td>0.0</td>\n",
       "      <td>0.0</td>\n",
       "      <td>0.0</td>\n",
       "      <td>0.0</td>\n",
       "      <td>0.0</td>\n",
       "      <td>0.0</td>\n",
       "      <td>0.0</td>\n",
       "    </tr>\n",
       "    <tr>\n",
       "      <th>3</th>\n",
       "      <td>0</td>\n",
       "      <td>20.2</td>\n",
       "      <td>354975.0</td>\n",
       "      <td>15015.0</td>\n",
       "      <td>14540449.0</td>\n",
       "      <td>2616.0</td>\n",
       "      <td>4111.0</td>\n",
       "      <td>1302855.0</td>\n",
       "      <td>1628265.0</td>\n",
       "      <td>630345.0</td>\n",
       "      <td>...</td>\n",
       "      <td>0.0</td>\n",
       "      <td>1.0</td>\n",
       "      <td>0.0</td>\n",
       "      <td>0.0</td>\n",
       "      <td>0.0</td>\n",
       "      <td>0.0</td>\n",
       "      <td>0.0</td>\n",
       "      <td>0.0</td>\n",
       "      <td>0.0</td>\n",
       "      <td>0.0</td>\n",
       "    </tr>\n",
       "    <tr>\n",
       "      <th>4</th>\n",
       "      <td>0</td>\n",
       "      <td>21.0</td>\n",
       "      <td>365550.0</td>\n",
       "      <td>15295.0</td>\n",
       "      <td>14966985.0</td>\n",
       "      <td>2720.0</td>\n",
       "      <td>4111.0</td>\n",
       "      <td>1302855.0</td>\n",
       "      <td>1628265.0</td>\n",
       "      <td>630345.0</td>\n",
       "      <td>...</td>\n",
       "      <td>0.0</td>\n",
       "      <td>1.0</td>\n",
       "      <td>0.0</td>\n",
       "      <td>0.0</td>\n",
       "      <td>0.0</td>\n",
       "      <td>0.0</td>\n",
       "      <td>0.0</td>\n",
       "      <td>0.0</td>\n",
       "      <td>0.0</td>\n",
       "      <td>0.0</td>\n",
       "    </tr>\n",
       "  </tbody>\n",
       "</table>\n",
       "<p>5 rows × 197 columns</p>\n",
       "</div>"
      ],
      "text/plain": [
       "   vehicle_id  time_step     171_0    666_0       427_0   837_0   167_0  \\\n",
       "0           0       11.2  167985.0  10787.0   7413813.0  2296.0  4110.0   \n",
       "1           0       11.4  167985.0  10787.0   7413813.0  2296.0  4111.0   \n",
       "2           0       19.6  331635.0  14525.0  13683604.0  2600.0  4111.0   \n",
       "3           0       20.2  354975.0  15015.0  14540449.0  2616.0  4111.0   \n",
       "4           0       21.0  365550.0  15295.0  14966985.0  2720.0  4111.0   \n",
       "\n",
       "       167_1      167_2     167_3  ...  Spec_6_Cat9  Spec_7_Cat0  Spec_7_Cat1  \\\n",
       "0  1296420.0  1628265.0  630345.0  ...          0.0          1.0          0.0   \n",
       "1  1302855.0  1628265.0  630345.0  ...          0.0          1.0          0.0   \n",
       "2  1302855.0  1628265.0  630345.0  ...          0.0          1.0          0.0   \n",
       "3  1302855.0  1628265.0  630345.0  ...          0.0          1.0          0.0   \n",
       "4  1302855.0  1628265.0  630345.0  ...          0.0          1.0          0.0   \n",
       "\n",
       "   Spec_7_Cat2  Spec_7_Cat3  Spec_7_Cat4  Spec_7_Cat5  Spec_7_Cat6  \\\n",
       "0          0.0          0.0          0.0          0.0          0.0   \n",
       "1          0.0          0.0          0.0          0.0          0.0   \n",
       "2          0.0          0.0          0.0          0.0          0.0   \n",
       "3          0.0          0.0          0.0          0.0          0.0   \n",
       "4          0.0          0.0          0.0          0.0          0.0   \n",
       "\n",
       "   Spec_7_Cat7  Spec_7_Cat8  \n",
       "0          0.0          0.0  \n",
       "1          0.0          0.0  \n",
       "2          0.0          0.0  \n",
       "3          0.0          0.0  \n",
       "4          0.0          0.0  \n",
       "\n",
       "[5 rows x 197 columns]"
      ]
     },
     "execution_count": 7,
     "metadata": {},
     "output_type": "execute_result"
    }
   ],
   "source": [
    "df.head()"
   ]
  },
  {
   "cell_type": "code",
   "execution_count": 8,
   "metadata": {},
   "outputs": [],
   "source": [
    "# We want to create labels for the training data based on the time to event data\n",
    "# Labels in validation set are denoted by 0, 1, 2, 3, 4 where they are related to readouts within a time window of: (more than 48), (48 to 24), (24 to 12), (12 to 6), and (6 to 0) time_step before the failure, respectively. \n",
    "# If we don't have a failure reported, and the time_step left is less 48 we don't know when the failure will happen, so we will label it as -1. \n",
    "\n",
    "def get_class_label_train(row):\n",
    "    #classes denoted by 0, 1, 2, 3, 4 where they are related to readouts within a time window of: (more than 48), (48 to 24), (24 to 12), (12 to 6), and (6 to 0) time_step before the failure, respectively\n",
    "    if row['time_to_potential_event'] > 48:\n",
    "        return 0 #No failure within 48 time steps\n",
    "    elif row['time_to_potential_event'] > 24 and row['in_study_repair'] == 1:\n",
    "        return 1 #Failure within 48 to 24 time steps\n",
    "    elif row['time_to_potential_event'] > 12 and row['in_study_repair'] == 1:\n",
    "        return 2 #Failure within 24 to 12 time steps\n",
    "    elif row['time_to_potential_event'] > 6 and row['in_study_repair'] == 1:\n",
    "        return 3 #Failure within 12 to 6 time steps\n",
    "    elif row['time_to_potential_event'] > 0 and row['in_study_repair'] == 1:\n",
    "        return 4 #Failure within 6 to 0 time steps\n",
    "    else:\n",
    "        return -1 #No failure reported, but within 48 time steps from the end of the study, don't know if it will fail or not\n",
    "    \n",
    "def add_class_labels_train(ttedf, readoutsdf):\n",
    "    # Join the readouts and the time to event data\n",
    "    df = pd.merge(readoutsdf, ttedf, on = 'vehicle_id', how='left').copy()\n",
    "\n",
    "    #Calculate the time to a failure event\n",
    "    df['time_to_potential_event'] = df['length_of_study_time_step'] - df['time_step']\n",
    "\n",
    "    df['class_label'] = df.apply(get_class_label_train, axis=1)\n",
    "\n",
    "    return df"
   ]
  },
  {
   "cell_type": "code",
   "execution_count": 9,
   "metadata": {},
   "outputs": [],
   "source": [
    "# We want to create labels for the training data based on the time to event data\n",
    "# Labels in validation set are denoted by 0, 1, 2, 3, 4 where they are related to readouts within a time window of: (more than 48), (48 to 24), (24 to 12), (12 to 6), and (6 to 0) time_step before the failure, respectively. \n",
    "# The validation_labels.csv file has 5046 rows, which is equal to the number of vehicles contributed to the operational data of the\n",
    "# validation set. It includes a column named class_label, corresponding to the class for the last readout of each vehicle.\n",
    "# As mentioned in subsection validation_operational_readouts.csv, the last readout for the validation set is selected randomly\n",
    "# among all readouts for each vehicle. The temporal placement of this final simulated readout is categorized into five classes\n",
    "# denoted by 0, 1, 2, 3, 4 where they are related to readouts within a time window of: (more than 48), (48 to 24), (24 to 12), (12\n",
    "# to 6), and (6 to 0) time_step before the failure, respectively. These classes show the time windows in which the last readouts for\n",
    "# each vehicle are randomly selected.\n",
    "\n",
    "def get_class_label_validation(row):\n",
    "    #classes denoted by 0, 1, 2, 3, 4 where they are related to readouts within a time window of: (more than 48), (48 to 24), (24 to 12), (12 to 6), and (6 to 0) time_step before the failure, respectively\n",
    "    dt = row['time_to_potential_event'] #Time left to the end of the time series\n",
    "\n",
    "    #Add time based on the class_labels\n",
    "    if row['class_label'] == 0:\n",
    "        #(48+) after last readout\n",
    "        dt += 48\n",
    "    elif row['class_label'] == 1:\n",
    "        #(48 to 24) after last readout\n",
    "        dt += 24\n",
    "    elif row['class_label'] == 2:\n",
    "        #(24 to 12) after last readout\n",
    "        dt += 12\n",
    "    elif row['class_label'] == 3:\n",
    "        #(12 to 6) after last readout\n",
    "        dt += 6\n",
    "    elif row['class_label'] == 4:\n",
    "        #(6 to 0) after last readout\n",
    "        dt += 0\n",
    "\n",
    "\n",
    "    if dt >= 48:\n",
    "        return 0 #No failure within 48 time steps\n",
    "    elif dt >= 24:\n",
    "        return 1 #Failure within 48 to 24 time steps\n",
    "    elif dt >= 12:\n",
    "        return 2 #Failure within 24 to 12 time steps\n",
    "    elif dt >= 6:\n",
    "        return 3 #Failure within 12 to 6 time steps\n",
    "    elif dt >= 0:\n",
    "        return 4 #Failure within 6 to 0 time steps\n",
    "    else:\n",
    "        return -1 #Should not happen...\n",
    "    \n",
    "def add_class_labels_validation(ttedf, readoutsdf):\n",
    "    # Join the readouts and the time to event data\n",
    "    df = pd.merge(readoutsdf, ttedf, on = 'vehicle_id', how='left').copy()\n",
    "\n",
    "    # For each vehicle get the max time_step seen for that vehicle:\n",
    "    df['length_of_study_time_step'] = df.groupby('vehicle_id')['time_step'].transform('max')\n",
    "\n",
    "    #Calculate the time to a failure event\n",
    "    df['time_to_potential_event'] = df['length_of_study_time_step'] - df['time_step']\n",
    "\n",
    "    df['class_label'] = df.apply(get_class_label_validation, axis=1)\n",
    "\n",
    "    return df"
   ]
  },
  {
   "cell_type": "code",
   "execution_count": null,
   "metadata": {},
   "outputs": [],
   "source": []
  },
  {
   "cell_type": "code",
   "execution_count": 10,
   "metadata": {},
   "outputs": [],
   "source": [
    "#This function will preprocess all the data step by step and return X and y\n",
    "def preprocess_all(readoutsdf, specificationsdf, ttedf=None, validation=False):\n",
    "    #Fill missing values\n",
    "    df = fill_missing_values(readoutsdf) \n",
    "  \n",
    "    #Add features\n",
    "    df = add_features(df, specificationsdf)\n",
    "\n",
    "    #We only have information about the class labels in the training and validation data\n",
    "    if ttedf is not None:\n",
    "\n",
    "        #Merge the time to event data with the readouts data and figure out which class they belong to\n",
    "        #Later we will need to remove the columns: length_of_study_time_step, in_study_repair, time_to_potential_event, class_label and remove any rows with class label -1\n",
    "\n",
    "        #Train and validation targets are structured in different ways, needs to be handled differently\n",
    "        if validation:\n",
    "            df = add_class_labels_validation(ttedf, df)\n",
    "            #Drop the columns that we cannot use for training, since they contain information about the class label\n",
    "            df = df.drop(columns = ['length_of_study_time_step', 'time_to_potential_event'])\n",
    "        else:\n",
    "            df = add_class_labels_train(ttedf, df)\n",
    "            #Drop the columns that we cannot use for training, since they contain information about the class label\n",
    "            df = df.drop(columns = ['length_of_study_time_step', 'in_study_repair', 'time_to_potential_event'])\n",
    "\n",
    "        # Remove classes with class -1, where we don't know if the vehicle will fail or not within 48 hours\n",
    "        df = df[df['class_label'] != -1]\n",
    "  \n",
    "\n",
    "    return df"
   ]
  },
  {
   "cell_type": "code",
   "execution_count": 11,
   "metadata": {},
   "outputs": [],
   "source": [
    "dfTrain = preprocess_all(readoutsTrain, specificationsTrain, tteTrain, validation=False)\n",
    "dfValidation = preprocess_all(readoutsValidation, specificationsValidation, labelsValidation, validation=True)\n",
    "dfTest = preprocess_all(readoutsTest, specificationsTest)\n",
    "#dfTrain, XTrain, yTrain = preprocess_all(readoutsTrain, specificationsTrain, tteTrain, validation=False)\n",
    "# XValidation, yValidation = preprocess_all(readoutsValidation, specificationsValidation, labelsValidation, validation=True)\n",
    "# XTest, yTest = preprocess_all(readoutsTest, specificationsTest)"
   ]
  },
  {
   "cell_type": "code",
   "execution_count": 12,
   "metadata": {},
   "outputs": [
    {
     "data": {
      "text/html": [
       "<div>\n",
       "<style scoped>\n",
       "    .dataframe tbody tr th:only-of-type {\n",
       "        vertical-align: middle;\n",
       "    }\n",
       "\n",
       "    .dataframe tbody tr th {\n",
       "        vertical-align: top;\n",
       "    }\n",
       "\n",
       "    .dataframe thead th {\n",
       "        text-align: right;\n",
       "    }\n",
       "</style>\n",
       "<table border=\"1\" class=\"dataframe\">\n",
       "  <thead>\n",
       "    <tr style=\"text-align: right;\">\n",
       "      <th></th>\n",
       "      <th>vehicle_id</th>\n",
       "      <th>time_step</th>\n",
       "      <th>171_0</th>\n",
       "      <th>666_0</th>\n",
       "      <th>427_0</th>\n",
       "      <th>837_0</th>\n",
       "      <th>167_0</th>\n",
       "      <th>167_1</th>\n",
       "      <th>167_2</th>\n",
       "      <th>167_3</th>\n",
       "      <th>...</th>\n",
       "      <th>Spec_7_Cat0</th>\n",
       "      <th>Spec_7_Cat1</th>\n",
       "      <th>Spec_7_Cat2</th>\n",
       "      <th>Spec_7_Cat3</th>\n",
       "      <th>Spec_7_Cat4</th>\n",
       "      <th>Spec_7_Cat5</th>\n",
       "      <th>Spec_7_Cat6</th>\n",
       "      <th>Spec_7_Cat7</th>\n",
       "      <th>Spec_7_Cat8</th>\n",
       "      <th>class_label</th>\n",
       "    </tr>\n",
       "  </thead>\n",
       "  <tbody>\n",
       "    <tr>\n",
       "      <th>0</th>\n",
       "      <td>0</td>\n",
       "      <td>11.2</td>\n",
       "      <td>167985.0</td>\n",
       "      <td>10787.0</td>\n",
       "      <td>7413813.0</td>\n",
       "      <td>2296.0</td>\n",
       "      <td>4110.0</td>\n",
       "      <td>1296420.0</td>\n",
       "      <td>1628265.0</td>\n",
       "      <td>630345.0</td>\n",
       "      <td>...</td>\n",
       "      <td>1.0</td>\n",
       "      <td>0.0</td>\n",
       "      <td>0.0</td>\n",
       "      <td>0.0</td>\n",
       "      <td>0.0</td>\n",
       "      <td>0.0</td>\n",
       "      <td>0.0</td>\n",
       "      <td>0.0</td>\n",
       "      <td>0.0</td>\n",
       "      <td>0</td>\n",
       "    </tr>\n",
       "    <tr>\n",
       "      <th>1</th>\n",
       "      <td>0</td>\n",
       "      <td>11.4</td>\n",
       "      <td>167985.0</td>\n",
       "      <td>10787.0</td>\n",
       "      <td>7413813.0</td>\n",
       "      <td>2296.0</td>\n",
       "      <td>4111.0</td>\n",
       "      <td>1302855.0</td>\n",
       "      <td>1628265.0</td>\n",
       "      <td>630345.0</td>\n",
       "      <td>...</td>\n",
       "      <td>1.0</td>\n",
       "      <td>0.0</td>\n",
       "      <td>0.0</td>\n",
       "      <td>0.0</td>\n",
       "      <td>0.0</td>\n",
       "      <td>0.0</td>\n",
       "      <td>0.0</td>\n",
       "      <td>0.0</td>\n",
       "      <td>0.0</td>\n",
       "      <td>0</td>\n",
       "    </tr>\n",
       "    <tr>\n",
       "      <th>2</th>\n",
       "      <td>0</td>\n",
       "      <td>19.6</td>\n",
       "      <td>331635.0</td>\n",
       "      <td>14525.0</td>\n",
       "      <td>13683604.0</td>\n",
       "      <td>2600.0</td>\n",
       "      <td>4111.0</td>\n",
       "      <td>1302855.0</td>\n",
       "      <td>1628265.0</td>\n",
       "      <td>630345.0</td>\n",
       "      <td>...</td>\n",
       "      <td>1.0</td>\n",
       "      <td>0.0</td>\n",
       "      <td>0.0</td>\n",
       "      <td>0.0</td>\n",
       "      <td>0.0</td>\n",
       "      <td>0.0</td>\n",
       "      <td>0.0</td>\n",
       "      <td>0.0</td>\n",
       "      <td>0.0</td>\n",
       "      <td>0</td>\n",
       "    </tr>\n",
       "    <tr>\n",
       "      <th>3</th>\n",
       "      <td>0</td>\n",
       "      <td>20.2</td>\n",
       "      <td>354975.0</td>\n",
       "      <td>15015.0</td>\n",
       "      <td>14540449.0</td>\n",
       "      <td>2616.0</td>\n",
       "      <td>4111.0</td>\n",
       "      <td>1302855.0</td>\n",
       "      <td>1628265.0</td>\n",
       "      <td>630345.0</td>\n",
       "      <td>...</td>\n",
       "      <td>1.0</td>\n",
       "      <td>0.0</td>\n",
       "      <td>0.0</td>\n",
       "      <td>0.0</td>\n",
       "      <td>0.0</td>\n",
       "      <td>0.0</td>\n",
       "      <td>0.0</td>\n",
       "      <td>0.0</td>\n",
       "      <td>0.0</td>\n",
       "      <td>0</td>\n",
       "    </tr>\n",
       "    <tr>\n",
       "      <th>4</th>\n",
       "      <td>0</td>\n",
       "      <td>21.0</td>\n",
       "      <td>365550.0</td>\n",
       "      <td>15295.0</td>\n",
       "      <td>14966985.0</td>\n",
       "      <td>2720.0</td>\n",
       "      <td>4111.0</td>\n",
       "      <td>1302855.0</td>\n",
       "      <td>1628265.0</td>\n",
       "      <td>630345.0</td>\n",
       "      <td>...</td>\n",
       "      <td>1.0</td>\n",
       "      <td>0.0</td>\n",
       "      <td>0.0</td>\n",
       "      <td>0.0</td>\n",
       "      <td>0.0</td>\n",
       "      <td>0.0</td>\n",
       "      <td>0.0</td>\n",
       "      <td>0.0</td>\n",
       "      <td>0.0</td>\n",
       "      <td>0</td>\n",
       "    </tr>\n",
       "  </tbody>\n",
       "</table>\n",
       "<p>5 rows × 198 columns</p>\n",
       "</div>"
      ],
      "text/plain": [
       "   vehicle_id  time_step     171_0    666_0       427_0   837_0   167_0  \\\n",
       "0           0       11.2  167985.0  10787.0   7413813.0  2296.0  4110.0   \n",
       "1           0       11.4  167985.0  10787.0   7413813.0  2296.0  4111.0   \n",
       "2           0       19.6  331635.0  14525.0  13683604.0  2600.0  4111.0   \n",
       "3           0       20.2  354975.0  15015.0  14540449.0  2616.0  4111.0   \n",
       "4           0       21.0  365550.0  15295.0  14966985.0  2720.0  4111.0   \n",
       "\n",
       "       167_1      167_2     167_3  ...  Spec_7_Cat0  Spec_7_Cat1  Spec_7_Cat2  \\\n",
       "0  1296420.0  1628265.0  630345.0  ...          1.0          0.0          0.0   \n",
       "1  1302855.0  1628265.0  630345.0  ...          1.0          0.0          0.0   \n",
       "2  1302855.0  1628265.0  630345.0  ...          1.0          0.0          0.0   \n",
       "3  1302855.0  1628265.0  630345.0  ...          1.0          0.0          0.0   \n",
       "4  1302855.0  1628265.0  630345.0  ...          1.0          0.0          0.0   \n",
       "\n",
       "   Spec_7_Cat3  Spec_7_Cat4  Spec_7_Cat5  Spec_7_Cat6  Spec_7_Cat7  \\\n",
       "0          0.0          0.0          0.0          0.0          0.0   \n",
       "1          0.0          0.0          0.0          0.0          0.0   \n",
       "2          0.0          0.0          0.0          0.0          0.0   \n",
       "3          0.0          0.0          0.0          0.0          0.0   \n",
       "4          0.0          0.0          0.0          0.0          0.0   \n",
       "\n",
       "   Spec_7_Cat8  class_label  \n",
       "0          0.0            0  \n",
       "1          0.0            0  \n",
       "2          0.0            0  \n",
       "3          0.0            0  \n",
       "4          0.0            0  \n",
       "\n",
       "[5 rows x 198 columns]"
      ]
     },
     "execution_count": 12,
     "metadata": {},
     "output_type": "execute_result"
    }
   ],
   "source": [
    "dfTrain.head()"
   ]
  },
  {
   "cell_type": "code",
   "execution_count": 13,
   "metadata": {},
   "outputs": [],
   "source": [
    "# Use Scikit-learn to normalize the data\n",
    "from sklearn.preprocessing import StandardScaler\n",
    "\n",
    "scaler = StandardScaler()\n",
    "#Normalize the data, but only the columns that are not one hot encoded\n",
    "colsToIgnore = ['vehicle_id', 'class_label', 'Spec']\n",
    "#Get the columns that we don't ignore\n",
    "columns = [col for col in dfTrain.columns if all(ignored not in col for ignored in colsToIgnore)]\n",
    "\n",
    "#Fit and transform the data\n",
    "dfTrain[columns] = scaler.fit_transform(dfTrain[columns])\n",
    "\n",
    "#Use the same transformation for the validation and test data\n",
    "dfValidation[columns] = scaler.transform(dfValidation[columns])\n",
    "dfTest[columns] = scaler.transform(dfTest[columns])"
   ]
  },
  {
   "cell_type": "code",
   "execution_count": 14,
   "metadata": {},
   "outputs": [
    {
     "data": {
      "text/html": [
       "<div>\n",
       "<style scoped>\n",
       "    .dataframe tbody tr th:only-of-type {\n",
       "        vertical-align: middle;\n",
       "    }\n",
       "\n",
       "    .dataframe tbody tr th {\n",
       "        vertical-align: top;\n",
       "    }\n",
       "\n",
       "    .dataframe thead th {\n",
       "        text-align: right;\n",
       "    }\n",
       "</style>\n",
       "<table border=\"1\" class=\"dataframe\">\n",
       "  <thead>\n",
       "    <tr style=\"text-align: right;\">\n",
       "      <th></th>\n",
       "      <th>vehicle_id</th>\n",
       "      <th>time_step</th>\n",
       "      <th>171_0</th>\n",
       "      <th>666_0</th>\n",
       "      <th>427_0</th>\n",
       "      <th>837_0</th>\n",
       "      <th>167_0</th>\n",
       "      <th>167_1</th>\n",
       "      <th>167_2</th>\n",
       "      <th>167_3</th>\n",
       "      <th>...</th>\n",
       "      <th>Spec_7_Cat0</th>\n",
       "      <th>Spec_7_Cat1</th>\n",
       "      <th>Spec_7_Cat2</th>\n",
       "      <th>Spec_7_Cat3</th>\n",
       "      <th>Spec_7_Cat4</th>\n",
       "      <th>Spec_7_Cat5</th>\n",
       "      <th>Spec_7_Cat6</th>\n",
       "      <th>Spec_7_Cat7</th>\n",
       "      <th>Spec_7_Cat8</th>\n",
       "      <th>class_label</th>\n",
       "    </tr>\n",
       "  </thead>\n",
       "  <tbody>\n",
       "    <tr>\n",
       "      <th>0</th>\n",
       "      <td>10</td>\n",
       "      <td>-1.401526</td>\n",
       "      <td>-1.174908</td>\n",
       "      <td>-0.792514</td>\n",
       "      <td>-1.215986</td>\n",
       "      <td>-0.519401</td>\n",
       "      <td>-0.275722</td>\n",
       "      <td>-1.123193</td>\n",
       "      <td>-1.054025</td>\n",
       "      <td>-0.895208</td>\n",
       "      <td>...</td>\n",
       "      <td>0.0</td>\n",
       "      <td>1.0</td>\n",
       "      <td>0.0</td>\n",
       "      <td>0.0</td>\n",
       "      <td>0.0</td>\n",
       "      <td>0.0</td>\n",
       "      <td>0.0</td>\n",
       "      <td>0.0</td>\n",
       "      <td>0.0</td>\n",
       "      <td>0</td>\n",
       "    </tr>\n",
       "    <tr>\n",
       "      <th>1</th>\n",
       "      <td>10</td>\n",
       "      <td>-1.350937</td>\n",
       "      <td>-1.143335</td>\n",
       "      <td>-0.694372</td>\n",
       "      <td>-1.167848</td>\n",
       "      <td>-0.475053</td>\n",
       "      <td>-0.275722</td>\n",
       "      <td>-1.049603</td>\n",
       "      <td>-1.033836</td>\n",
       "      <td>-0.880753</td>\n",
       "      <td>...</td>\n",
       "      <td>0.0</td>\n",
       "      <td>1.0</td>\n",
       "      <td>0.0</td>\n",
       "      <td>0.0</td>\n",
       "      <td>0.0</td>\n",
       "      <td>0.0</td>\n",
       "      <td>0.0</td>\n",
       "      <td>0.0</td>\n",
       "      <td>0.0</td>\n",
       "      <td>0</td>\n",
       "    </tr>\n",
       "    <tr>\n",
       "      <th>2</th>\n",
       "      <td>10</td>\n",
       "      <td>-1.344038</td>\n",
       "      <td>-1.136706</td>\n",
       "      <td>-0.672664</td>\n",
       "      <td>-1.158933</td>\n",
       "      <td>-0.467178</td>\n",
       "      <td>-0.275722</td>\n",
       "      <td>-1.045711</td>\n",
       "      <td>-1.029650</td>\n",
       "      <td>-0.879821</td>\n",
       "      <td>...</td>\n",
       "      <td>0.0</td>\n",
       "      <td>1.0</td>\n",
       "      <td>0.0</td>\n",
       "      <td>0.0</td>\n",
       "      <td>0.0</td>\n",
       "      <td>0.0</td>\n",
       "      <td>0.0</td>\n",
       "      <td>0.0</td>\n",
       "      <td>0.0</td>\n",
       "      <td>0</td>\n",
       "    </tr>\n",
       "    <tr>\n",
       "      <th>3</th>\n",
       "      <td>10</td>\n",
       "      <td>-1.298048</td>\n",
       "      <td>-1.119632</td>\n",
       "      <td>-0.637477</td>\n",
       "      <td>-1.137810</td>\n",
       "      <td>-0.436923</td>\n",
       "      <td>-0.207791</td>\n",
       "      <td>-1.009742</td>\n",
       "      <td>-1.020041</td>\n",
       "      <td>-0.875221</td>\n",
       "      <td>...</td>\n",
       "      <td>0.0</td>\n",
       "      <td>1.0</td>\n",
       "      <td>0.0</td>\n",
       "      <td>0.0</td>\n",
       "      <td>0.0</td>\n",
       "      <td>0.0</td>\n",
       "      <td>0.0</td>\n",
       "      <td>0.0</td>\n",
       "      <td>0.0</td>\n",
       "      <td>0</td>\n",
       "    </tr>\n",
       "    <tr>\n",
       "      <th>4</th>\n",
       "      <td>10</td>\n",
       "      <td>-1.295749</td>\n",
       "      <td>-1.119626</td>\n",
       "      <td>-0.637477</td>\n",
       "      <td>-1.137810</td>\n",
       "      <td>-0.436923</td>\n",
       "      <td>-0.207791</td>\n",
       "      <td>-1.009742</td>\n",
       "      <td>-1.020041</td>\n",
       "      <td>-0.875221</td>\n",
       "      <td>...</td>\n",
       "      <td>0.0</td>\n",
       "      <td>1.0</td>\n",
       "      <td>0.0</td>\n",
       "      <td>0.0</td>\n",
       "      <td>0.0</td>\n",
       "      <td>0.0</td>\n",
       "      <td>0.0</td>\n",
       "      <td>0.0</td>\n",
       "      <td>0.0</td>\n",
       "      <td>0</td>\n",
       "    </tr>\n",
       "  </tbody>\n",
       "</table>\n",
       "<p>5 rows × 198 columns</p>\n",
       "</div>"
      ],
      "text/plain": [
       "   vehicle_id  time_step     171_0     666_0     427_0     837_0     167_0  \\\n",
       "0          10  -1.401526 -1.174908 -0.792514 -1.215986 -0.519401 -0.275722   \n",
       "1          10  -1.350937 -1.143335 -0.694372 -1.167848 -0.475053 -0.275722   \n",
       "2          10  -1.344038 -1.136706 -0.672664 -1.158933 -0.467178 -0.275722   \n",
       "3          10  -1.298048 -1.119632 -0.637477 -1.137810 -0.436923 -0.207791   \n",
       "4          10  -1.295749 -1.119626 -0.637477 -1.137810 -0.436923 -0.207791   \n",
       "\n",
       "      167_1     167_2     167_3  ...  Spec_7_Cat0  Spec_7_Cat1  Spec_7_Cat2  \\\n",
       "0 -1.123193 -1.054025 -0.895208  ...          0.0          1.0          0.0   \n",
       "1 -1.049603 -1.033836 -0.880753  ...          0.0          1.0          0.0   \n",
       "2 -1.045711 -1.029650 -0.879821  ...          0.0          1.0          0.0   \n",
       "3 -1.009742 -1.020041 -0.875221  ...          0.0          1.0          0.0   \n",
       "4 -1.009742 -1.020041 -0.875221  ...          0.0          1.0          0.0   \n",
       "\n",
       "   Spec_7_Cat3  Spec_7_Cat4  Spec_7_Cat5  Spec_7_Cat6  Spec_7_Cat7  \\\n",
       "0          0.0          0.0          0.0          0.0          0.0   \n",
       "1          0.0          0.0          0.0          0.0          0.0   \n",
       "2          0.0          0.0          0.0          0.0          0.0   \n",
       "3          0.0          0.0          0.0          0.0          0.0   \n",
       "4          0.0          0.0          0.0          0.0          0.0   \n",
       "\n",
       "   Spec_7_Cat8  class_label  \n",
       "0          0.0            0  \n",
       "1          0.0            0  \n",
       "2          0.0            0  \n",
       "3          0.0            0  \n",
       "4          0.0            0  \n",
       "\n",
       "[5 rows x 198 columns]"
      ]
     },
     "execution_count": 14,
     "metadata": {},
     "output_type": "execute_result"
    }
   ],
   "source": [
    "dfValidation.head()"
   ]
  },
  {
   "cell_type": "code",
   "execution_count": 15,
   "metadata": {},
   "outputs": [],
   "source": [
    "# Group by vechicle_id and get the last target_value for each vehicle, this is now our y\n",
    "yTrain = dfTrain.groupby('vehicle_id').last()['class_label']\n",
    "yValidation = dfValidation.groupby('vehicle_id').last()['class_label']\n",
    "#No target for test data\n",
    "\n",
    "#For each vechicle_id create a matrix of all the features in order of time_step\n",
    "#This will be our X\n",
    "XTrain = dfTrain.drop(columns=['class_label']).groupby('vehicle_id').apply(lambda x: x.drop(columns=['vehicle_id']).values)\n",
    "XValidation = dfValidation.drop(columns=['class_label']).groupby('vehicle_id').apply(lambda x: x.drop(columns=['vehicle_id']).values)\n",
    "\n",
    "#No class label for test data\n",
    "XTest = dfTest.groupby('vehicle_id').apply(lambda x: x.drop(columns=['vehicle_id']).values)\n",
    "\n",
    "#Convert to numpy arrays\n",
    "XTrain = np.array(XTrain)\n",
    "XValidation = np.array(XValidation)\n",
    "XTest = np.array(XTest)"
   ]
  },
  {
   "cell_type": "code",
   "execution_count": 16,
   "metadata": {},
   "outputs": [],
   "source": [
    "# We want to create feature inputs for the torch model\n",
    "# Shape should be (n_vehicles, n_timesteps, n_features)\n",
    "# We need to pad the sequences with zeros to make them the same length\n",
    "def pad_sequences(X, max_length=256):\n",
    "    \n",
    "    #Create a tensor for the sequences\n",
    "    X_padded = np.zeros((len(X), max_length, X[0].shape[1]), dtype=np.float32)\n",
    "\n",
    "    #Pad the sequences with zeros\n",
    "    for i, x in enumerate(X):\n",
    "        length = x.shape[0]\n",
    "        X_padded[i, :length] = x[-max_length:] #Only keep the last max_length time steps    \n",
    "\n",
    "    return X_padded"
   ]
  },
  {
   "cell_type": "code",
   "execution_count": 17,
   "metadata": {},
   "outputs": [],
   "source": [
    "max_length = 256\n",
    "XPaddedTrain = pad_sequences(XTrain, max_length=max_length)\n",
    "XPaddedValidation = pad_sequences(XValidation, max_length=max_length)\n",
    "XPaddedTest = pad_sequences(XTest, max_length=max_length)"
   ]
  },
  {
   "cell_type": "code",
   "execution_count": 18,
   "metadata": {},
   "outputs": [],
   "source": [
    "#Convert to tensors\n",
    "XTrain = torch.tensor(XPaddedTrain, dtype=torch.float32)\n",
    "yTrain = torch.tensor(yTrain.values, dtype=torch.int64)\n",
    "\n",
    "XValidation = torch.tensor(XPaddedValidation, dtype=torch.float32)\n",
    "yValidation = torch.tensor(yValidation.values, dtype=torch.int64)\n",
    "\n",
    "XTest = torch.tensor(XPaddedTest, dtype=torch.float32)\n"
   ]
  },
  {
   "cell_type": "code",
   "execution_count": 19,
   "metadata": {},
   "outputs": [
    {
     "data": {
      "text/plain": [
       "torch.Size([23549, 256, 196])"
      ]
     },
     "execution_count": 19,
     "metadata": {},
     "output_type": "execute_result"
    }
   ],
   "source": [
    "XTrain.shape"
   ]
  },
  {
   "cell_type": "code",
   "execution_count": 29,
   "metadata": {},
   "outputs": [],
   "source": [
    "# Create a pyTorch Transformer model that takes a sequence of features and outputs a class label\n",
    "# The model should not have an embedding layer, rather the features should be used directly one for each position\n",
    "# The input should be of shape (batch_size, sequence_length, n_features)\n",
    "# The position of the features should be encoded using positional encoding\n",
    "\n",
    "\n",
    "class XTransformer(nn.Module):\n",
    "    def __init__(self, n_features, n_classes, n_layers=6, n_heads=8, max_time_steps=256, hidden_size=512, dropout=0.1, dim_feedforward=2048):\n",
    "        super(XTransformer, self).__init__()\n",
    "        self.n_features = n_features\n",
    "        self.n_classes = n_classes\n",
    "        self.n_layers = n_layers\n",
    "        self.n_heads = n_heads\n",
    "        self.max_time_steps = max_time_steps\n",
    "        self.dim_feedforward = dim_feedforward\n",
    "        self.hidden_size = hidden_size\n",
    "        self.dropout_rate = dropout\n",
    "        self.dropout_layer = nn.Dropout(dropout)\n",
    " \n",
    "        self.input_layer = nn.Linear(n_features, hidden_size)\n",
    "        # Positional embedding\n",
    "        self.position_embedding = nn.Embedding(max_time_steps, embedding_dim=hidden_size)\n",
    "        \n",
    "        self.layer_norm1 = nn.LayerNorm(n_features)\n",
    "        self.layer_norm2 = nn.LayerNorm(hidden_size)\n",
    "\n",
    "        # Transformer layers\n",
    "        self.transformer_layers = nn.ModuleList([\n",
    "            nn.TransformerEncoderLayer(\n",
    "                d_model=hidden_size, \n",
    "                nhead=n_heads, \n",
    "                dropout=dropout,\n",
    "                dim_feedforward=dim_feedforward,\n",
    "                batch_first=True\n",
    "                ) for _ in range(n_layers)])\n",
    "\n",
    "        # Output layer\n",
    "        self.output_layer = nn.Linear(hidden_size, n_classes)\n",
    "\n",
    "    def forward(self, x):\n",
    "\n",
    "        B, T, C = x.shape\n",
    "\n",
    "        device = x.device   \n",
    "\n",
    "        # Input layer, normalize and apply dropout\n",
    "        x = self.layer_norm1(x)\n",
    "        x = self.dropout_layer(x)\n",
    "\n",
    "        #FC layer, to get to the correct hidden size\n",
    "        x = self.input_layer(x)\n",
    "\n",
    "        # Add positional encoding\n",
    "        position_ids = torch.arange(T, device=device).unsqueeze(0).repeat(B, 1)  # Expand to batch size\n",
    "        pos_emb = self.position_embedding(position_ids)  # (B, T, hidden_size)\n",
    "        x = x + pos_emb #(B, T, C)\n",
    "\n",
    "        #Dropout\n",
    "        x = self.dropout_layer(x)\n",
    "\n",
    "        # Transformer layers\n",
    "        for layer in self.transformer_layers:\n",
    "            x = layer(x)\n",
    "\n",
    "\n",
    "        # Normalize and apply dropout\n",
    "        x = self.layer_norm2(x)\n",
    "        \n",
    "        #Dropout\n",
    "        x = self.dropout_layer(x)\n",
    "        \n",
    "        # Output layer\n",
    "        x = self.output_layer(x)\n",
    "\n",
    "        # Only keep the last time step\n",
    "        x = x.mean(dim=1).squeeze()\n",
    "        #x = x[:, -1, :].squeeze()\n",
    "\n",
    "        return x\n"
   ]
  },
  {
   "cell_type": "code",
   "execution_count": 30,
   "metadata": {},
   "outputs": [
    {
     "data": {
      "text/plain": [
       "tensor([0, 1, 2, 3, 4])"
      ]
     },
     "execution_count": 30,
     "metadata": {},
     "output_type": "execute_result"
    }
   ],
   "source": [
    "yTrain.unique()"
   ]
  },
  {
   "cell_type": "code",
   "execution_count": 31,
   "metadata": {},
   "outputs": [
    {
     "name": "stdout",
     "output_type": "stream",
     "text": [
      "device: cuda\n"
     ]
    }
   ],
   "source": [
    "# Get the current device\n",
    "device = torch.device(\"cuda\" if torch.cuda.is_available() else \"cpu\")\n",
    "print(f'device: {device}')"
   ]
  },
  {
   "cell_type": "code",
   "execution_count": 32,
   "metadata": {},
   "outputs": [
    {
     "data": {
      "text/plain": [
       "torch.Size([23549, 256, 196])"
      ]
     },
     "execution_count": 32,
     "metadata": {},
     "output_type": "execute_result"
    }
   ],
   "source": [
    "XTrain.shape"
   ]
  },
  {
   "cell_type": "code",
   "execution_count": 33,
   "metadata": {},
   "outputs": [],
   "source": [
    "#model = XTransformer(n_features=XTrain.shape[2], n_classes=5, dropout=0.1, n_layers=3, n_heads=8, max_time_steps=XTrain.shape[1], hidden_size=512, dim_feedforward=2048)\n",
    "model = XTransformer(n_features=XTrain.shape[2], n_classes=5, dropout=0.2, n_layers=3, n_heads=8, max_time_steps=XTrain.shape[1], hidden_size=512, dim_feedforward=2048)"
   ]
  },
  {
   "cell_type": "code",
   "execution_count": 34,
   "metadata": {},
   "outputs": [],
   "source": [
    "#Send model to device\n",
    "model = model.to(device)\n"
   ]
  },
  {
   "cell_type": "markdown",
   "metadata": {},
   "source": [
    "# Create weighted samples\n",
    "We need to train the model on a balanced training set, in order to minimize mitigate the effect of inbalance.\n"
   ]
  },
  {
   "cell_type": "code",
   "execution_count": 35,
   "metadata": {},
   "outputs": [],
   "source": [
    "# Batch the data\n",
    "batch_size = 1024\n",
    "#batch_size = 5*100\n",
    "num_workers = 6\n",
    "\n",
    "\n",
    "#Calculate the class weights\n",
    "class_weights = 1.0 / torch.tensor([len(yTrain[yTrain == i]) for i in range(5)], dtype=torch.float32, device=device)\n",
    "\n",
    "# Create a sampler for the data\n",
    "weights = class_weights[yTrain]\n",
    "sampler = torch.utils.data.sampler.WeightedRandomSampler(weights, len(weights))\n",
    "\n",
    "train_data = torch.utils.data.TensorDataset(XTrain, yTrain)\n",
    "\n",
    "# Create a DataLoader that samples from the WeightedRandomSampler\n",
    "train_loader= torch.utils.data.DataLoader(train_data, batch_size=batch_size, sampler=sampler, num_workers=num_workers)\n",
    "\n",
    "#Same for validation data, but without the weighted classes\n",
    "validation_data = torch.utils.data.TensorDataset(XValidation, yValidation)\n",
    "validation_loader = torch.utils.data.DataLoader(validation_data, batch_size=batch_size, shuffle=False, num_workers=num_workers)"
   ]
  },
  {
   "cell_type": "code",
   "execution_count": 27,
   "metadata": {},
   "outputs": [],
   "source": [
    "# # Get a mini batch\n",
    "# num_workers = 6\n",
    "# XMini, yMini = next(iter(train_loader))\n",
    "# #Creata a train_data with mini-data\n",
    "# #mini_batch_size = 512\n",
    "# train_data_mini = torch.utils.data.TensorDataset(XMini, yMini)\n",
    "# train_loader_mini = torch.utils.data.DataLoader(train_data_mini, batch_size=batch_size, shuffle=True, num_workers=num_workers)\n",
    "# train_loader = train_loader_mini\n",
    "# #validation_loader = train_loader_mini"
   ]
  },
  {
   "cell_type": "code",
   "execution_count": 28,
   "metadata": {},
   "outputs": [],
   "source": [
    "# # Get a mini validation loader too\n",
    "\n",
    "# #Calculate the class weights\n",
    "# class_weights = 1.0 / torch.tensor([len(yValidation[yValidation == i]) for i in range(5)], dtype=torch.float32, device=device)\n",
    "\n",
    "# # Create a sampler for the data\n",
    "# weights = class_weights[yValidation]\n",
    "# sampler = torch.utils.data.sampler.WeightedRandomSampler(weights, len(weights))\n",
    "\n",
    "# validation_data = torch.utils.data.TensorDataset(XValidation, yValidation)\n",
    "\n",
    "# # Create a DataLoader that samples from the WeightedRandomSampler\n",
    "# train_loader_mini= torch.utils.data.DataLoader(validation_data, batch_size=batch_size, sampler=sampler)\n",
    "\n",
    "# XValMini, yValMini = next(iter(train_loader_mini))\n",
    "\n",
    "\n",
    "# validation_data_mini = torch.utils.data.TensorDataset(XValMini, yValMini)\n",
    "# train_loader_mini = torch.utils.data.DataLoader(validation_data_mini, batch_size=batch_size, shuffle=False, num_workers=num_workers)\n",
    "# validation_loader = train_loader_mini\n",
    "# plt.hist(np.array(yMini),5)"
   ]
  },
  {
   "cell_type": "code",
   "execution_count": 36,
   "metadata": {},
   "outputs": [],
   "source": [
    "# Define the loss function and optimizer\n",
    "# We need to weight the classes since they are imbalanced\n",
    "import torch.optim as optim\n",
    "from sklearn.utils.class_weight import compute_class_weight\n",
    "#Find the class weights\n",
    "#class_weights = 1.0 / torch.tensor([len(yTrain[yTrain == i]) for i in range(5)], dtype=torch.float32, device=device)\n",
    "\n",
    "\n",
    "# classes = np.unique(np.array(yTrain))\n",
    "# # Compute class weights\n",
    "# class_weights = compute_class_weight(class_weight='balanced', classes=classes, y=np.array(yTrain))\n",
    "\n",
    "# class_weights = torch.tensor(class_weights, dtype=torch.float32, device=device)\n",
    "\n",
    "\n",
    "#Create a optimizer and loss function\n",
    "#criterion = nn.CrossEntropyLoss(weight=class_weights)\n",
    "\n",
    "criterion = nn.CrossEntropyLoss() #We will use class weights when sampling the data instead\n",
    "#optimizer = optim.Adam(model.parameters(), lr=0.001)\n",
    "optimizer = optim.AdamW(model.parameters(), lr=0.0003)\n",
    "\n",
    "\n"
   ]
  },
  {
   "cell_type": "code",
   "execution_count": 38,
   "metadata": {},
   "outputs": [],
   "source": [
    "loss_train = []\n",
    "loss_validation = []\n",
    "epochs = 25\n",
    "checkpoint_path = 'model2.pth'\n",
    "best_validation_loss = 1e9\n"
   ]
  },
  {
   "cell_type": "code",
   "execution_count": 39,
   "metadata": {},
   "outputs": [
    {
     "data": {
      "application/json": {
       "ascii": false,
       "bar_format": null,
       "colour": null,
       "elapsed": 0.008004903793334961,
       "initial": 0,
       "n": 0,
       "ncols": null,
       "nrows": null,
       "postfix": null,
       "prefix": "Epoch 1/25 [Training]",
       "rate": null,
       "total": 23,
       "unit": "it",
       "unit_divisor": 1000,
       "unit_scale": false
      },
      "application/vnd.jupyter.widget-view+json": {
       "model_id": "12b55c683e9c4c12bf82fee08aadd340",
       "version_major": 2,
       "version_minor": 0
      },
      "text/plain": [
       "Epoch 1/25 [Training]:   0%|          | 0/23 [00:00<?, ?it/s]"
      ]
     },
     "metadata": {},
     "output_type": "display_data"
    },
    {
     "name": "stdout",
     "output_type": "stream",
     "text": [
      "Saving model with validation loss 1.6951\n",
      "Epoch 1, loss_train: 1.7041, loss_validation: 1.6951, accuracy_train: 0.2745, accuracy_validation: 0.2416\n"
     ]
    },
    {
     "data": {
      "application/json": {
       "ascii": false,
       "bar_format": null,
       "colour": null,
       "elapsed": 0.005000591278076172,
       "initial": 0,
       "n": 0,
       "ncols": null,
       "nrows": null,
       "postfix": null,
       "prefix": "Epoch 2/25 [Training]",
       "rate": null,
       "total": 23,
       "unit": "it",
       "unit_divisor": 1000,
       "unit_scale": false
      },
      "application/vnd.jupyter.widget-view+json": {
       "model_id": "49dd6aab813249be8fb1b3355e144ae3",
       "version_major": 2,
       "version_minor": 0
      },
      "text/plain": [
       "Epoch 2/25 [Training]:   0%|          | 0/23 [00:00<?, ?it/s]"
      ]
     },
     "metadata": {},
     "output_type": "display_data"
    },
    {
     "name": "stdout",
     "output_type": "stream",
     "text": [
      "Epoch 2, loss_train: 1.3980, loss_validation: 2.5094, accuracy_train: 0.3844, accuracy_validation: 0.0753\n"
     ]
    },
    {
     "data": {
      "application/json": {
       "ascii": false,
       "bar_format": null,
       "colour": null,
       "elapsed": 0.004999637603759766,
       "initial": 0,
       "n": 0,
       "ncols": null,
       "nrows": null,
       "postfix": null,
       "prefix": "Epoch 3/25 [Training]",
       "rate": null,
       "total": 23,
       "unit": "it",
       "unit_divisor": 1000,
       "unit_scale": false
      },
      "application/vnd.jupyter.widget-view+json": {
       "model_id": "7e3b6f3d445c4e86a9953f9d1dac6528",
       "version_major": 2,
       "version_minor": 0
      },
      "text/plain": [
       "Epoch 3/25 [Training]:   0%|          | 0/23 [00:00<?, ?it/s]"
      ]
     },
     "metadata": {},
     "output_type": "display_data"
    },
    {
     "name": "stdout",
     "output_type": "stream",
     "text": [
      "Epoch 3, loss_train: 1.2414, loss_validation: 1.9300, accuracy_train: 0.4680, accuracy_validation: 0.1494\n"
     ]
    },
    {
     "data": {
      "application/json": {
       "ascii": false,
       "bar_format": null,
       "colour": null,
       "elapsed": 0.01199960708618164,
       "initial": 0,
       "n": 0,
       "ncols": null,
       "nrows": null,
       "postfix": null,
       "prefix": "Epoch 4/25 [Training]",
       "rate": null,
       "total": 23,
       "unit": "it",
       "unit_divisor": 1000,
       "unit_scale": false
      },
      "application/vnd.jupyter.widget-view+json": {
       "model_id": "f669ab06a9c4429cad1d00b84ca575e8",
       "version_major": 2,
       "version_minor": 0
      },
      "text/plain": [
       "Epoch 4/25 [Training]:   0%|          | 0/23 [00:00<?, ?it/s]"
      ]
     },
     "metadata": {},
     "output_type": "display_data"
    },
    {
     "name": "stdout",
     "output_type": "stream",
     "text": [
      "Epoch 4, loss_train: 1.0500, loss_validation: 1.8675, accuracy_train: 0.5655, accuracy_validation: 0.1742\n"
     ]
    },
    {
     "data": {
      "application/json": {
       "ascii": false,
       "bar_format": null,
       "colour": null,
       "elapsed": 0.0060002803802490234,
       "initial": 0,
       "n": 0,
       "ncols": null,
       "nrows": null,
       "postfix": null,
       "prefix": "Epoch 5/25 [Training]",
       "rate": null,
       "total": 23,
       "unit": "it",
       "unit_divisor": 1000,
       "unit_scale": false
      },
      "application/vnd.jupyter.widget-view+json": {
       "model_id": "5b2ec32cfcd54fcfae125d24fd1663aa",
       "version_major": 2,
       "version_minor": 0
      },
      "text/plain": [
       "Epoch 5/25 [Training]:   0%|          | 0/23 [00:00<?, ?it/s]"
      ]
     },
     "metadata": {},
     "output_type": "display_data"
    },
    {
     "name": "stdout",
     "output_type": "stream",
     "text": [
      "Saving model with validation loss 1.4511\n",
      "Epoch 5, loss_train: 0.8556, loss_validation: 1.4511, accuracy_train: 0.6397, accuracy_validation: 0.3300\n"
     ]
    },
    {
     "data": {
      "application/json": {
       "ascii": false,
       "bar_format": null,
       "colour": null,
       "elapsed": 0.007370710372924805,
       "initial": 0,
       "n": 0,
       "ncols": null,
       "nrows": null,
       "postfix": null,
       "prefix": "Epoch 6/25 [Training]",
       "rate": null,
       "total": 23,
       "unit": "it",
       "unit_divisor": 1000,
       "unit_scale": false
      },
      "application/vnd.jupyter.widget-view+json": {
       "model_id": "0be2c82cacc140aba108250b2fa2a118",
       "version_major": 2,
       "version_minor": 0
      },
      "text/plain": [
       "Epoch 6/25 [Training]:   0%|          | 0/23 [00:00<?, ?it/s]"
      ]
     },
     "metadata": {},
     "output_type": "display_data"
    },
    {
     "name": "stdout",
     "output_type": "stream",
     "text": [
      "Epoch 6, loss_train: 0.7093, loss_validation: 2.1394, accuracy_train: 0.7044, accuracy_validation: 0.2113\n"
     ]
    },
    {
     "data": {
      "application/json": {
       "ascii": false,
       "bar_format": null,
       "colour": null,
       "elapsed": 0.005460977554321289,
       "initial": 0,
       "n": 0,
       "ncols": null,
       "nrows": null,
       "postfix": null,
       "prefix": "Epoch 7/25 [Training]",
       "rate": null,
       "total": 23,
       "unit": "it",
       "unit_divisor": 1000,
       "unit_scale": false
      },
      "application/vnd.jupyter.widget-view+json": {
       "model_id": "eb32e5972fd74201823e0447c2a4dc53",
       "version_major": 2,
       "version_minor": 0
      },
      "text/plain": [
       "Epoch 7/25 [Training]:   0%|          | 0/23 [00:00<?, ?it/s]"
      ]
     },
     "metadata": {},
     "output_type": "display_data"
    },
    {
     "name": "stdout",
     "output_type": "stream",
     "text": [
      "Epoch 7, loss_train: 0.6374, loss_validation: 2.1615, accuracy_train: 0.7294, accuracy_validation: 0.1570\n"
     ]
    },
    {
     "data": {
      "application/json": {
       "ascii": false,
       "bar_format": null,
       "colour": null,
       "elapsed": 0.005441427230834961,
       "initial": 0,
       "n": 0,
       "ncols": null,
       "nrows": null,
       "postfix": null,
       "prefix": "Epoch 8/25 [Training]",
       "rate": null,
       "total": 23,
       "unit": "it",
       "unit_divisor": 1000,
       "unit_scale": false
      },
      "application/vnd.jupyter.widget-view+json": {
       "model_id": "eac3fb69aea24617a24ac3243a2cdde9",
       "version_major": 2,
       "version_minor": 0
      },
      "text/plain": [
       "Epoch 8/25 [Training]:   0%|          | 0/23 [00:00<?, ?it/s]"
      ]
     },
     "metadata": {},
     "output_type": "display_data"
    },
    {
     "name": "stdout",
     "output_type": "stream",
     "text": [
      "Epoch 8, loss_train: 0.5682, loss_validation: 2.1321, accuracy_train: 0.7613, accuracy_validation: 0.1268\n"
     ]
    },
    {
     "data": {
      "application/json": {
       "ascii": false,
       "bar_format": null,
       "colour": null,
       "elapsed": 0.005473136901855469,
       "initial": 0,
       "n": 0,
       "ncols": null,
       "nrows": null,
       "postfix": null,
       "prefix": "Epoch 9/25 [Training]",
       "rate": null,
       "total": 23,
       "unit": "it",
       "unit_divisor": 1000,
       "unit_scale": false
      },
      "application/vnd.jupyter.widget-view+json": {
       "model_id": "a248aee0446f4e3faede57e487920390",
       "version_major": 2,
       "version_minor": 0
      },
      "text/plain": [
       "Epoch 9/25 [Training]:   0%|          | 0/23 [00:00<?, ?it/s]"
      ]
     },
     "metadata": {},
     "output_type": "display_data"
    },
    {
     "name": "stdout",
     "output_type": "stream",
     "text": [
      "Epoch 9, loss_train: 0.4959, loss_validation: 1.4882, accuracy_train: 0.7909, accuracy_validation: 0.3690\n"
     ]
    },
    {
     "data": {
      "application/json": {
       "ascii": false,
       "bar_format": null,
       "colour": null,
       "elapsed": 0.006426811218261719,
       "initial": 0,
       "n": 0,
       "ncols": null,
       "nrows": null,
       "postfix": null,
       "prefix": "Epoch 10/25 [Training]",
       "rate": null,
       "total": 23,
       "unit": "it",
       "unit_divisor": 1000,
       "unit_scale": false
      },
      "application/vnd.jupyter.widget-view+json": {
       "model_id": "5d1bd6c11bd94fe2981e5a266df40399",
       "version_major": 2,
       "version_minor": 0
      },
      "text/plain": [
       "Epoch 10/25 [Training]:   0%|          | 0/23 [00:00<?, ?it/s]"
      ]
     },
     "metadata": {},
     "output_type": "display_data"
    },
    {
     "name": "stdout",
     "output_type": "stream",
     "text": [
      "Saving model with validation loss 1.4348\n",
      "Epoch 10, loss_train: 0.4379, loss_validation: 1.4348, accuracy_train: 0.8151, accuracy_validation: 0.3072\n"
     ]
    },
    {
     "data": {
      "application/json": {
       "ascii": false,
       "bar_format": null,
       "colour": null,
       "elapsed": 0.005425691604614258,
       "initial": 0,
       "n": 0,
       "ncols": null,
       "nrows": null,
       "postfix": null,
       "prefix": "Epoch 11/25 [Training]",
       "rate": null,
       "total": 23,
       "unit": "it",
       "unit_divisor": 1000,
       "unit_scale": false
      },
      "application/vnd.jupyter.widget-view+json": {
       "model_id": "26daa15f5aaa4c2088c6c84408c351d5",
       "version_major": 2,
       "version_minor": 0
      },
      "text/plain": [
       "Epoch 11/25 [Training]:   0%|          | 0/23 [00:00<?, ?it/s]"
      ]
     },
     "metadata": {},
     "output_type": "display_data"
    },
    {
     "name": "stdout",
     "output_type": "stream",
     "text": [
      "Saving model with validation loss 0.8575\n",
      "Epoch 11, loss_train: 0.3931, loss_validation: 0.8575, accuracy_train: 0.8327, accuracy_validation: 0.5918\n"
     ]
    },
    {
     "data": {
      "application/json": {
       "ascii": false,
       "bar_format": null,
       "colour": null,
       "elapsed": 0.009415626525878906,
       "initial": 0,
       "n": 0,
       "ncols": null,
       "nrows": null,
       "postfix": null,
       "prefix": "Epoch 12/25 [Training]",
       "rate": null,
       "total": 23,
       "unit": "it",
       "unit_divisor": 1000,
       "unit_scale": false
      },
      "application/vnd.jupyter.widget-view+json": {
       "model_id": "7971a18e90c7467d9d3e081a5b4f627a",
       "version_major": 2,
       "version_minor": 0
      },
      "text/plain": [
       "Epoch 12/25 [Training]:   0%|          | 0/23 [00:00<?, ?it/s]"
      ]
     },
     "metadata": {},
     "output_type": "display_data"
    },
    {
     "name": "stdout",
     "output_type": "stream",
     "text": [
      "Epoch 12, loss_train: 0.3879, loss_validation: 1.2297, accuracy_train: 0.8314, accuracy_validation: 0.4142\n"
     ]
    },
    {
     "data": {
      "application/json": {
       "ascii": false,
       "bar_format": null,
       "colour": null,
       "elapsed": 0.0054476261138916016,
       "initial": 0,
       "n": 0,
       "ncols": null,
       "nrows": null,
       "postfix": null,
       "prefix": "Epoch 13/25 [Training]",
       "rate": null,
       "total": 23,
       "unit": "it",
       "unit_divisor": 1000,
       "unit_scale": false
      },
      "application/vnd.jupyter.widget-view+json": {
       "model_id": "d0da7f318b0c47588777c3e7e75d4edd",
       "version_major": 2,
       "version_minor": 0
      },
      "text/plain": [
       "Epoch 13/25 [Training]:   0%|          | 0/23 [00:00<?, ?it/s]"
      ]
     },
     "metadata": {},
     "output_type": "display_data"
    },
    {
     "name": "stdout",
     "output_type": "stream",
     "text": [
      "Epoch 13, loss_train: 0.3461, loss_validation: 1.2235, accuracy_train: 0.8461, accuracy_validation: 0.4084\n"
     ]
    },
    {
     "data": {
      "application/json": {
       "ascii": false,
       "bar_format": null,
       "colour": null,
       "elapsed": 0.004909038543701172,
       "initial": 0,
       "n": 0,
       "ncols": null,
       "nrows": null,
       "postfix": null,
       "prefix": "Epoch 14/25 [Training]",
       "rate": null,
       "total": 23,
       "unit": "it",
       "unit_divisor": 1000,
       "unit_scale": false
      },
      "application/vnd.jupyter.widget-view+json": {
       "model_id": "77929f5aeb5849cea8c4b1c3b7a29a14",
       "version_major": 2,
       "version_minor": 0
      },
      "text/plain": [
       "Epoch 14/25 [Training]:   0%|          | 0/23 [00:00<?, ?it/s]"
      ]
     },
     "metadata": {},
     "output_type": "display_data"
    },
    {
     "name": "stdout",
     "output_type": "stream",
     "text": [
      "Epoch 14, loss_train: 0.3194, loss_validation: 1.2706, accuracy_train: 0.8580, accuracy_validation: 0.3886\n"
     ]
    },
    {
     "data": {
      "application/json": {
       "ascii": false,
       "bar_format": null,
       "colour": null,
       "elapsed": 0.005411863327026367,
       "initial": 0,
       "n": 0,
       "ncols": null,
       "nrows": null,
       "postfix": null,
       "prefix": "Epoch 15/25 [Training]",
       "rate": null,
       "total": 23,
       "unit": "it",
       "unit_divisor": 1000,
       "unit_scale": false
      },
      "application/vnd.jupyter.widget-view+json": {
       "model_id": "d7852b5ab190450e97c33287a06aa2db",
       "version_major": 2,
       "version_minor": 0
      },
      "text/plain": [
       "Epoch 15/25 [Training]:   0%|          | 0/23 [00:00<?, ?it/s]"
      ]
     },
     "metadata": {},
     "output_type": "display_data"
    },
    {
     "name": "stdout",
     "output_type": "stream",
     "text": [
      "Epoch 15, loss_train: 0.3440, loss_validation: 1.1243, accuracy_train: 0.8474, accuracy_validation: 0.4522\n"
     ]
    },
    {
     "data": {
      "application/json": {
       "ascii": false,
       "bar_format": null,
       "colour": null,
       "elapsed": 0.0054132938385009766,
       "initial": 0,
       "n": 0,
       "ncols": null,
       "nrows": null,
       "postfix": null,
       "prefix": "Epoch 16/25 [Training]",
       "rate": null,
       "total": 23,
       "unit": "it",
       "unit_divisor": 1000,
       "unit_scale": false
      },
      "application/vnd.jupyter.widget-view+json": {
       "model_id": "afbd4978c6b64b69a583eb4390874afe",
       "version_major": 2,
       "version_minor": 0
      },
      "text/plain": [
       "Epoch 16/25 [Training]:   0%|          | 0/23 [00:00<?, ?it/s]"
      ]
     },
     "metadata": {},
     "output_type": "display_data"
    },
    {
     "name": "stdout",
     "output_type": "stream",
     "text": [
      "Epoch 16, loss_train: 0.3065, loss_validation: 1.1645, accuracy_train: 0.8602, accuracy_validation: 0.4475\n"
     ]
    },
    {
     "data": {
      "application/json": {
       "ascii": false,
       "bar_format": null,
       "colour": null,
       "elapsed": 0.005448579788208008,
       "initial": 0,
       "n": 0,
       "ncols": null,
       "nrows": null,
       "postfix": null,
       "prefix": "Epoch 17/25 [Training]",
       "rate": null,
       "total": 23,
       "unit": "it",
       "unit_divisor": 1000,
       "unit_scale": false
      },
      "application/vnd.jupyter.widget-view+json": {
       "model_id": "dc6dd5757e2c4d3d8db6139f091f0e7e",
       "version_major": 2,
       "version_minor": 0
      },
      "text/plain": [
       "Epoch 17/25 [Training]:   0%|          | 0/23 [00:00<?, ?it/s]"
      ]
     },
     "metadata": {},
     "output_type": "display_data"
    },
    {
     "name": "stdout",
     "output_type": "stream",
     "text": [
      "Epoch 17, loss_train: 0.2913, loss_validation: 0.9518, accuracy_train: 0.8659, accuracy_validation: 0.5914\n"
     ]
    },
    {
     "data": {
      "application/json": {
       "ascii": false,
       "bar_format": null,
       "colour": null,
       "elapsed": 0.0058133602142333984,
       "initial": 0,
       "n": 0,
       "ncols": null,
       "nrows": null,
       "postfix": null,
       "prefix": "Epoch 18/25 [Training]",
       "rate": null,
       "total": 23,
       "unit": "it",
       "unit_divisor": 1000,
       "unit_scale": false
      },
      "application/vnd.jupyter.widget-view+json": {
       "model_id": "b41effb1a6504f559d60c7c64e1fb06a",
       "version_major": 2,
       "version_minor": 0
      },
      "text/plain": [
       "Epoch 18/25 [Training]:   0%|          | 0/23 [00:00<?, ?it/s]"
      ]
     },
     "metadata": {},
     "output_type": "display_data"
    },
    {
     "name": "stdout",
     "output_type": "stream",
     "text": [
      "Epoch 18, loss_train: 0.2818, loss_validation: 1.0843, accuracy_train: 0.8715, accuracy_validation: 0.4189\n"
     ]
    },
    {
     "data": {
      "application/json": {
       "ascii": false,
       "bar_format": null,
       "colour": null,
       "elapsed": 0.004438638687133789,
       "initial": 0,
       "n": 0,
       "ncols": null,
       "nrows": null,
       "postfix": null,
       "prefix": "Epoch 19/25 [Training]",
       "rate": null,
       "total": 23,
       "unit": "it",
       "unit_divisor": 1000,
       "unit_scale": false
      },
      "application/vnd.jupyter.widget-view+json": {
       "model_id": "e5f5c289ead340488c219bc742cd7a5a",
       "version_major": 2,
       "version_minor": 0
      },
      "text/plain": [
       "Epoch 19/25 [Training]:   0%|          | 0/23 [00:00<?, ?it/s]"
      ]
     },
     "metadata": {},
     "output_type": "display_data"
    },
    {
     "name": "stdout",
     "output_type": "stream",
     "text": [
      "Epoch 19, loss_train: 0.2750, loss_validation: 1.2607, accuracy_train: 0.8744, accuracy_validation: 0.4189\n"
     ]
    },
    {
     "data": {
      "application/json": {
       "ascii": false,
       "bar_format": null,
       "colour": null,
       "elapsed": 0.005859375,
       "initial": 0,
       "n": 0,
       "ncols": null,
       "nrows": null,
       "postfix": null,
       "prefix": "Epoch 20/25 [Training]",
       "rate": null,
       "total": 23,
       "unit": "it",
       "unit_divisor": 1000,
       "unit_scale": false
      },
      "application/vnd.jupyter.widget-view+json": {
       "model_id": "c1e4531dbd0e465fb137a3a53651cb4b",
       "version_major": 2,
       "version_minor": 0
      },
      "text/plain": [
       "Epoch 20/25 [Training]:   0%|          | 0/23 [00:00<?, ?it/s]"
      ]
     },
     "metadata": {},
     "output_type": "display_data"
    },
    {
     "name": "stdout",
     "output_type": "stream",
     "text": [
      "Epoch 20, loss_train: 0.2691, loss_validation: 1.1996, accuracy_train: 0.8728, accuracy_validation: 0.4475\n"
     ]
    },
    {
     "data": {
      "application/json": {
       "ascii": false,
       "bar_format": null,
       "colour": null,
       "elapsed": 0.004881143569946289,
       "initial": 0,
       "n": 0,
       "ncols": null,
       "nrows": null,
       "postfix": null,
       "prefix": "Epoch 21/25 [Training]",
       "rate": null,
       "total": 23,
       "unit": "it",
       "unit_divisor": 1000,
       "unit_scale": false
      },
      "application/vnd.jupyter.widget-view+json": {
       "model_id": "e4f288813e194f9f9dfcc86ccf310d02",
       "version_major": 2,
       "version_minor": 0
      },
      "text/plain": [
       "Epoch 21/25 [Training]:   0%|          | 0/23 [00:00<?, ?it/s]"
      ]
     },
     "metadata": {},
     "output_type": "display_data"
    },
    {
     "name": "stdout",
     "output_type": "stream",
     "text": [
      "Epoch 21, loss_train: 0.2748, loss_validation: 1.2912, accuracy_train: 0.8752, accuracy_validation: 0.4176\n"
     ]
    },
    {
     "data": {
      "application/json": {
       "ascii": false,
       "bar_format": null,
       "colour": null,
       "elapsed": 0.0054149627685546875,
       "initial": 0,
       "n": 0,
       "ncols": null,
       "nrows": null,
       "postfix": null,
       "prefix": "Epoch 22/25 [Training]",
       "rate": null,
       "total": 23,
       "unit": "it",
       "unit_divisor": 1000,
       "unit_scale": false
      },
      "application/vnd.jupyter.widget-view+json": {
       "model_id": "f3ed29ba389349ab9dfd3105b0f141c9",
       "version_major": 2,
       "version_minor": 0
      },
      "text/plain": [
       "Epoch 22/25 [Training]:   0%|          | 0/23 [00:00<?, ?it/s]"
      ]
     },
     "metadata": {},
     "output_type": "display_data"
    }
   ],
   "source": [
    "# Create a training loop\n",
    "for epoch in range(epochs):\n",
    "    model.train()\n",
    "    running_loss = 0.0\n",
    "    correct_train = 0\n",
    "    total_train = 0\n",
    "    correct_validation = 0\n",
    "    total_validation = 0\n",
    "\n",
    "\n",
    "    # Setup tqdm progress bar for the training loop\n",
    "    train_progress_bar = tqdm(train_loader, desc=f'Epoch {epoch + 1}/{epochs} [Training]', leave=False)\n",
    "    for i, data in enumerate(train_loader, 0):\n",
    "\n",
    "        inputs, labels = data\n",
    "        inputs, labels = inputs.to(device), labels.to(device)\n",
    "\n",
    "        #Forward pass\n",
    "        outputs = model(inputs)\n",
    "\n",
    "        #Calculate the loss\n",
    "        loss = criterion(outputs, labels)\n",
    "\n",
    "        #Zero the gradients\n",
    "        optimizer.zero_grad()\n",
    "\n",
    "        #Backward pass\n",
    "        loss.backward()\n",
    "\n",
    "        #Update the parameters\n",
    "        optimizer.step()\n",
    "\n",
    "        running_loss += loss.item()\n",
    "\n",
    "        #Calculate the accuracy:\n",
    "        _, predicted = torch.max(outputs, 1)\n",
    "        correct = (predicted == labels).sum().item()\n",
    "        total = labels.size(0)\n",
    "        correct_train += correct\n",
    "        total_train += total\n",
    "        accuracy_train = correct_train / total_train\n",
    "\n",
    "        train_progress_bar.set_postfix({'loss': (running_loss / (train_progress_bar.n + 1)), 'accuracy train': accuracy_train})\n",
    "        train_progress_bar.update()\n",
    "        \n",
    "    loss_train.append(running_loss / len(train_loader))\n",
    "\n",
    "    # Validation loss\n",
    "    model.eval()\n",
    "    running_loss = 0.0\n",
    "    with torch.no_grad():\n",
    "        for i, data in enumerate(validation_loader, 0):\n",
    "            inputs, labels = data\n",
    "            inputs, labels = inputs.to(device), labels.to(device)\n",
    "\n",
    "            outputs = model(inputs)\n",
    "            loss = criterion(outputs, labels)\n",
    "\n",
    "            running_loss += loss.item()\n",
    "             #Calculate the accuracy:\n",
    "            _, predicted = torch.max(outputs, 1)\n",
    "            correct = (predicted == labels).sum().item()\n",
    "            total = labels.size(0)\n",
    "            correct_validation += correct\n",
    "            total_validation+= total\n",
    "\n",
    "    loss_validation.append(running_loss / len(validation_loader))\n",
    "    accuracy_validation = correct_validation / total_validation\n",
    "    accuracy_train = correct_train / total_train\n",
    "\n",
    "    #Save the model if it is the best one so far\n",
    "    if loss_validation[-1] < best_validation_loss:\n",
    "        print(f'Saving model with validation loss {loss_validation[-1]:.4f}')\n",
    "        torch.save(model.state_dict(), checkpoint_path)\n",
    "        best_validation_loss = loss_validation[-1]\n",
    "\n",
    "\n",
    "    print(f'Epoch {epoch + 1}, loss_train: {loss_train[-1]:.4f}, loss_validation: {loss_validation[-1]:.4f}, accuracy_train: {accuracy_train:.4f}, accuracy_validation: {accuracy_validation:.4f}')"
   ]
  },
  {
   "cell_type": "code",
   "execution_count": null,
   "metadata": {},
   "outputs": [
    {
     "data": {
      "image/png": "[encoded data removed]",
      "text/plain": [
       "<Figure size 640x480 with 1 Axes>"
      ]
     },
     "metadata": {},
     "output_type": "display_data"
    }
   ],
   "source": [
    "# Plot the loss\n",
    "plt.plot(loss_train, label='train')\n",
    "plt.plot(loss_validation, label='validation')\n",
    "plt.legend()\n",
    "plt.show()\n"
   ]
  },
  {
   "cell_type": "markdown",
   "metadata": {},
   "source": [
    "# Create predictions"
   ]
  },
  {
   "cell_type": "code",
   "execution_count": null,
   "metadata": {},
   "outputs": [],
   "source": [
    "# Create a function that takes the model, data loader and device and returns the predictions\n",
    "def get_predictions(model, data_loader, device):\n",
    "    model.eval()\n",
    "    predictions = []\n",
    "    targets = []\n",
    "    with torch.no_grad():\n",
    "        for i, data in enumerate(data_loader, 0):\n",
    "            inputs, labels = data\n",
    "            inputs = inputs.to(device)\n",
    "\n",
    "            outputs = model(inputs)\n",
    "            outputs = outputs.argmax(dim=1).cpu().numpy() #Take the class with the highest probability\n",
    "            predictions.append(outputs)\n",
    "            targets.append(labels.numpy())\n",
    "\n",
    "    return np.concatenate(predictions), np.concatenate(targets)"
   ]
  },
  {
   "cell_type": "code",
   "execution_count": null,
   "metadata": {},
   "outputs": [],
   "source": [
    "# Create a diffusion matrix of the train and validation data\n",
    "\n",
    "yPredTrain, yTrainNp = get_predictions(model, train_loader, device)\n",
    "yPredValidation, yValidationNp = get_predictions(model, validation_loader, device)"
   ]
  },
  {
   "cell_type": "code",
   "execution_count": null,
   "metadata": {},
   "outputs": [
    {
     "data": {
      "text/plain": [
       "(5046,)"
      ]
     },
     "execution_count": 47,
     "metadata": {},
     "output_type": "execute_result"
    }
   ],
   "source": [
    "yPredValidation.shape"
   ]
  },
  {
   "cell_type": "code",
   "execution_count": null,
   "metadata": {},
   "outputs": [
    {
     "name": "stdout",
     "output_type": "stream",
     "text": [
      "Training data:\n",
      "              precision    recall  f1-score   support\n",
      "\n",
      "           0       0.65      0.78      0.71      4734\n",
      "           1       0.99      1.00      0.99      4780\n",
      "           2       0.97      1.00      0.99      4685\n",
      "           3       0.95      0.99      0.97      4700\n",
      "           4       0.77      0.55      0.64      4650\n",
      "\n",
      "    accuracy                           0.87     23549\n",
      "   macro avg       0.87      0.86      0.86     23549\n",
      "weighted avg       0.87      0.87      0.86     23549\n",
      "\n",
      "Validation data:\n",
      "              precision    recall  f1-score   support\n",
      "\n",
      "           0       0.99      0.41      0.58      4910\n",
      "           1       0.00      0.00      0.00        16\n",
      "           2       0.00      0.00      0.00        14\n",
      "           3       0.01      0.13      0.01        30\n",
      "           4       0.03      0.72      0.05        76\n",
      "\n",
      "    accuracy                           0.41      5046\n",
      "   macro avg       0.20      0.25      0.13      5046\n",
      "weighted avg       0.97      0.41      0.56      5046\n",
      "\n"
     ]
    }
   ],
   "source": [
    "from sklearn.metrics import classification_report\n",
    "\n",
    "#Print the classification report\n",
    "print('Training data:')\n",
    "print(classification_report(yTrainNp, yPredTrain))\n",
    "\n",
    "print('Validation data:')\n",
    "print(classification_report(yValidationNp, yPredValidation))\n"
   ]
  },
  {
   "cell_type": "code",
   "execution_count": null,
   "metadata": {},
   "outputs": [
    {
     "data": {
      "image/png": "[encoded data removed]",
      "text/plain": [
       "<Figure size 700x700 with 2 Axes>"
      ]
     },
     "metadata": {},
     "output_type": "display_data"
    }
   ],
   "source": [
    "#Import confusion matrix\n",
    "from sklearn.metrics import confusion_matrix\n",
    "cm = confusion_matrix(yValidationNp, yPredValidation, normalize='true')\n",
    "plt.figure(figsize = (7,7))\n",
    "#add labels\n",
    "plt.title('Confusion matrix Validation')\n",
    "plt.xlabel('Predicted')\n",
    "plt.ylabel('True')\n",
    "#plot the confusion matrix\n",
    "ax = sns.heatmap(cm, annot=True)"
   ]
  },
  {
   "cell_type": "code",
   "execution_count": null,
   "metadata": {},
   "outputs": [
    {
     "data": {
      "image/png": "[encoded data removed]",
      "text/plain": [
       "<Figure size 700x700 with 2 Axes>"
      ]
     },
     "metadata": {},
     "output_type": "display_data"
    }
   ],
   "source": [
    "cm = confusion_matrix(yTrainNp, yPredTrain, normalize='true')\n",
    "plt.figure(figsize = (7,7))\n",
    "#add labels\n",
    "plt.title('Confusion matrix Train')\n",
    "plt.xlabel('Predicted')\n",
    "plt.ylabel('True')\n",
    "#plot the confusion matrix\n",
    "ax = sns.heatmap(cm, annot=True)"
   ]
  },
  {
   "cell_type": "code",
   "execution_count": 41,
   "metadata": {},
   "outputs": [],
   "source": [
    "checkpoint_path = 'model _40hitrate.pth'"
   ]
  },
  {
   "cell_type": "code",
   "execution_count": 50,
   "metadata": {},
   "outputs": [],
   "source": [
    "#Clone the latest model\n",
    "import copy\n",
    "model_latest = copy.deepcopy(model)"
   ]
  },
  {
   "cell_type": "code",
   "execution_count": 42,
   "metadata": {},
   "outputs": [
    {
     "data": {
      "text/plain": [
       "<All keys matched successfully>"
      ]
     },
     "execution_count": 42,
     "metadata": {},
     "output_type": "execute_result"
    }
   ],
   "source": [
    "#Load the best model\n",
    "model.load_state_dict(torch.load(checkpoint_path))"
   ]
  },
  {
   "cell_type": "code",
   "execution_count": 44,
   "metadata": {},
   "outputs": [
    {
     "data": {
      "text/plain": [
       "XTransformer(\n",
       "  (dropout_layer): Dropout(p=0.2, inplace=False)\n",
       "  (input_layer): Linear(in_features=196, out_features=512, bias=True)\n",
       "  (position_embedding): Embedding(256, 512)\n",
       "  (transformer_layers): ModuleList(\n",
       "    (0-2): 3 x TransformerEncoderLayer(\n",
       "      (self_attn): MultiheadAttention(\n",
       "        (out_proj): NonDynamicallyQuantizableLinear(in_features=512, out_features=512, bias=True)\n",
       "      )\n",
       "      (linear1): Linear(in_features=512, out_features=2048, bias=True)\n",
       "      (dropout): Dropout(p=0.2, inplace=False)\n",
       "      (linear2): Linear(in_features=2048, out_features=512, bias=True)\n",
       "      (norm1): LayerNorm((512,), eps=1e-05, elementwise_affine=True)\n",
       "      (norm2): LayerNorm((512,), eps=1e-05, elementwise_affine=True)\n",
       "      (dropout1): Dropout(p=0.2, inplace=False)\n",
       "      (dropout2): Dropout(p=0.2, inplace=False)\n",
       "    )\n",
       "  )\n",
       "  (output_layer): Linear(in_features=512, out_features=5, bias=True)\n",
       ")"
      ]
     },
     "execution_count": 44,
     "metadata": {},
     "output_type": "execute_result"
    }
   ],
   "source": [
    "model.to(device)"
   ]
  },
  {
   "cell_type": "code",
   "execution_count": null,
   "metadata": {},
   "outputs": [],
   "source": []
  }
 ],
 "metadata": {
  "kernelspec": {
   "display_name": "tf38",
   "language": "python",
   "name": "python3"
  },
  "language_info": {
   "codemirror_mode": {
    "name": "ipython",
    "version": 3
   },
   "file_extension": ".py",
   "mimetype": "text/x-python",
   "name": "python",
   "nbconvert_exporter": "python",
   "pygments_lexer": "ipython3",
   "version": "3.8.19"
  }
 },
 "nbformat": 4,
 "nbformat_minor": 2
}
