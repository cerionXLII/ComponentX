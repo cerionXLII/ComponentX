{
 "cells": [
  {
   "cell_type": "markdown",
   "metadata": {},
   "source": [
    "# This notebook will use pyTorch to classify the componentX \n",
    "We will use pyTorch and the Transformer architecture to do classifications of the life time for Component X."
   ]
  },
  {
   "cell_type": "code",
   "execution_count": 4,
   "metadata": {},
   "outputs": [],
   "source": [
    "#Includes\n",
    "import pandas as pd\n",
    "import numpy as np\n",
    "import matplotlib.pyplot as plt\n",
    "import seaborn as sns\n",
    "import torch\n",
    "from tqdm.notebook import tqdm\n",
    "\n",
    "import torch.nn as nn\n",
    "import torch.nn.functional as F\n"
   ]
  },
  {
   "cell_type": "code",
   "execution_count": 5,
   "metadata": {},
   "outputs": [],
   "source": [
    "#Read the raw data\n",
    "#Train data\n",
    "tteTrain = pd.read_csv('../data/train_tte.csv')\n",
    "specificationsTrain = pd.read_csv('../data/train_specifications.csv')\n",
    "readoutsTrain = pd.read_csv('../data/train_operational_readouts.csv')\n",
    "\n",
    "\n",
    "#Validation data\n",
    "labelsValidation = pd.read_csv('../data/validation_labels.csv')\n",
    "specificationsValidation = pd.read_csv('../data/validation_specifications.csv')\n",
    "readoutsValidation = pd.read_csv('../data/validation_operational_readouts.csv')\n",
    "\n",
    "#Test data\n",
    "specificationsTest = pd.read_csv('../data/test_specifications.csv')\n",
    "readoutsTest = pd.read_csv('../data/test_operational_readouts.csv')\n",
    "#No labels for test data yet\n"
   ]
  },
  {
   "cell_type": "code",
   "execution_count": 6,
   "metadata": {},
   "outputs": [],
   "source": [
    "#First we group by vehicle_id and we will forward fill the last known value.\n",
    "#Then if the entire column is NaN, we will fill it with the median of the column. \n",
    "#If there are still any NaNs we will fill them with 0.\n",
    "\n",
    "def fill_missing_values(df):\n",
    "    df = df.groupby('vehicle_id').apply(lambda x: x.ffill(axis=0)) #Forward fill last known value, but only for the same vehicle\n",
    "    df = df.droplevel('vehicle_id') #Remove multi-index, as we don't want to group by vehicle_id anymore    \n",
    "    df = df.fillna(df.median()) #Fill with median rather than mean to avoid outliers\n",
    "    df = df.fillna(0) #Last resort fill with 0\n",
    "    \n",
    "    return df"
   ]
  },
  {
   "cell_type": "code",
   "execution_count": 4,
   "metadata": {},
   "outputs": [],
   "source": [
    "# #df is the dataframe containing categorical values\n",
    "# #possible_categories is a dictionary with the column name as the key and the possible categories as the values\n",
    "# def one_hot_encoding_fixed_columns(df, possible_categories):\n",
    "    \n",
    "#     #Create all possible combinations of the columns and categories\n",
    "#     source_columns = list(possible_categories.keys())\n",
    "#     cols = [f'{col}_{cat}' for col in source_columns for cat in possible_categories[col]]\n",
    "    \n",
    "#     #Create a dataframe with the fixed columns with zeros, using the index of df as the index\n",
    "#     one_hot_encoded = pd.DataFrame(0, index=df.index, columns=cols, dtype=np.float32) \n",
    "    \n",
    "#     # Get dummies dataset\n",
    "#     dummies_df = pd.get_dummies(df,columns=source_columns, dtype=np.float32)\n",
    "\n",
    "#     # Make sure columns exists in both dataframes    \n",
    "#     cols_in_both = dummies_df.columns.intersection(cols)\n",
    "\n",
    "#     #Copy the one hot encoded columns to the fixed columns\n",
    "#     one_hot_encoded[cols_in_both] = dummies_df[cols_in_both]\n",
    "\n",
    "    \n",
    "#     return one_hot_encoded"
   ]
  },
  {
   "cell_type": "code",
   "execution_count": 20,
   "metadata": {},
   "outputs": [],
   "source": [
    "def handle_specifications(specificationsdf):\n",
    "    #Possible categories for the specifications\n",
    "    possible_categories = {\n",
    "        'Spec_0': ['Cat0', 'Cat1', 'Cat2'],\n",
    "        'Spec_1': ['Cat0', 'Cat1', 'Cat2', 'Cat3', 'Cat4', 'Cat5', 'Cat6', 'Cat7', 'Cat8', 'Cat9', 'Cat10', 'Cat11', 'Cat12', 'Cat13', 'Cat14', 'Cat15', 'Cat16', 'Cat17', 'Cat18', 'Cat19',  'Cat20', 'Cat21', 'Cat22', 'Cat23', 'Cat24', 'Cat25', 'Cat26', 'Cat27', 'Cat28'],\n",
    "        'Spec_2': ['Cat0', 'Cat1', 'Cat2', 'Cat3', 'Cat4', 'Cat5', 'Cat6', 'Cat7', 'Cat8', 'Cat9', 'Cat10', 'Cat11', 'Cat12', 'Cat13', 'Cat14', 'Cat15', 'Cat16', 'Cat17', 'Cat18', 'Cat19', 'Cat20'],\n",
    "        'Spec_3': ['Cat0', 'Cat1', 'Cat2', 'Cat3'],\n",
    "        'Spec_4': ['Cat0', 'Cat1'],\n",
    "        'Spec_5': ['Cat0', 'Cat1', 'Cat2', 'Cat3', 'Cat4'],\n",
    "        'Spec_6': ['Cat0', 'Cat1','Cat2', 'Cat3', 'Cat4', 'Cat5', 'Cat6', 'Cat7', 'Cat8', 'Cat9', 'Cat10', 'Cat11', 'Cat12', 'Cat13', 'Cat15', 'Cat17', 'Cat18' ],\n",
    "        'Spec_7': ['Cat0', 'Cat1', 'Cat2', 'Cat3', 'Cat4', 'Cat5', 'Cat6', 'Cat7', 'Cat8']\n",
    "    }\n",
    "\n",
    "\n",
    "    #Create a conversion table for the categories, so that Cat0 is 0, Cat1 is 1, etc.\n",
    "    conversion_table = {}\n",
    "    for key in possible_categories.keys():\n",
    "        conversion_table[key] = {possible_categories[key][i]: i for i in range(len(possible_categories[key]))}\n",
    "\n",
    "    df = specificationsdf.copy()\n",
    "    \n",
    "    for key in conversion_table.keys():\n",
    "        df[key] = df[key].map(conversion_table[key])\n",
    "\n",
    "    #Num categories per feature:\n",
    "    num_categories_per_spec = [len(possible_categories[key]) for key in possible_categories.keys()]\n",
    "\n",
    "\n",
    "    return df, num_categories_per_spec\n",
    "\n",
    "\n",
    "    "
   ]
  },
  {
   "cell_type": "code",
   "execution_count": 38,
   "metadata": {},
   "outputs": [],
   "source": [
    "def add_features(readoutsdf, specificationsdf):\n",
    "    df = readoutsdf.copy()\n",
    "\n",
    "    #Convert specifications to integer-based categories\n",
    "    specificationsdf, num_categories_per_spec = handle_specifications(specificationsdf)\n",
    "\n",
    "    # Join the specifications for the vehicles, \n",
    "    df = pd.merge(df, specificationsdf, on = 'vehicle_id', how='left')\n",
    "\n",
    "    return df, num_categories_per_spec"
   ]
  },
  {
   "cell_type": "code",
   "execution_count": 39,
   "metadata": {},
   "outputs": [],
   "source": [
    "df = readoutsTrain.copy()\n",
    "df = fill_missing_values(df) \n",
    "  \n",
    "#Add features\n",
    "df, num_categories_per_spec = add_features(df, specificationsTrain)"
   ]
  },
  {
   "cell_type": "code",
   "execution_count": 40,
   "metadata": {},
   "outputs": [
    {
     "data": {
      "text/html": [
       "<div>\n",
       "<style scoped>\n",
       "    .dataframe tbody tr th:only-of-type {\n",
       "        vertical-align: middle;\n",
       "    }\n",
       "\n",
       "    .dataframe tbody tr th {\n",
       "        vertical-align: top;\n",
       "    }\n",
       "\n",
       "    .dataframe thead th {\n",
       "        text-align: right;\n",
       "    }\n",
       "</style>\n",
       "<table border=\"1\" class=\"dataframe\">\n",
       "  <thead>\n",
       "    <tr style=\"text-align: right;\">\n",
       "      <th></th>\n",
       "      <th>vehicle_id</th>\n",
       "      <th>time_step</th>\n",
       "      <th>171_0</th>\n",
       "      <th>666_0</th>\n",
       "      <th>427_0</th>\n",
       "      <th>837_0</th>\n",
       "      <th>167_0</th>\n",
       "      <th>167_1</th>\n",
       "      <th>167_2</th>\n",
       "      <th>167_3</th>\n",
       "      <th>...</th>\n",
       "      <th>397_34</th>\n",
       "      <th>397_35</th>\n",
       "      <th>Spec_0</th>\n",
       "      <th>Spec_1</th>\n",
       "      <th>Spec_2</th>\n",
       "      <th>Spec_3</th>\n",
       "      <th>Spec_4</th>\n",
       "      <th>Spec_5</th>\n",
       "      <th>Spec_6</th>\n",
       "      <th>Spec_7</th>\n",
       "    </tr>\n",
       "  </thead>\n",
       "  <tbody>\n",
       "    <tr>\n",
       "      <th>1122447</th>\n",
       "      <td>33643</td>\n",
       "      <td>101.0</td>\n",
       "      <td>2136810.0</td>\n",
       "      <td>41412.0</td>\n",
       "      <td>81068654.0</td>\n",
       "      <td>10365.0</td>\n",
       "      <td>843.0</td>\n",
       "      <td>6408272.0</td>\n",
       "      <td>10964376.0</td>\n",
       "      <td>6092347.0</td>\n",
       "      <td>...</td>\n",
       "      <td>17033.0</td>\n",
       "      <td>24.0</td>\n",
       "      <td>0</td>\n",
       "      <td>0</td>\n",
       "      <td>2</td>\n",
       "      <td>0</td>\n",
       "      <td>0</td>\n",
       "      <td>0</td>\n",
       "      <td>1</td>\n",
       "      <td>4</td>\n",
       "    </tr>\n",
       "    <tr>\n",
       "      <th>1122448</th>\n",
       "      <td>33643</td>\n",
       "      <td>107.0</td>\n",
       "      <td>2283285.0</td>\n",
       "      <td>44660.0</td>\n",
       "      <td>86639835.0</td>\n",
       "      <td>12317.0</td>\n",
       "      <td>843.0</td>\n",
       "      <td>6596477.0</td>\n",
       "      <td>12358026.0</td>\n",
       "      <td>6721702.0</td>\n",
       "      <td>...</td>\n",
       "      <td>18901.0</td>\n",
       "      <td>24.0</td>\n",
       "      <td>0</td>\n",
       "      <td>0</td>\n",
       "      <td>2</td>\n",
       "      <td>0</td>\n",
       "      <td>0</td>\n",
       "      <td>0</td>\n",
       "      <td>1</td>\n",
       "      <td>4</td>\n",
       "    </tr>\n",
       "    <tr>\n",
       "      <th>1122449</th>\n",
       "      <td>33643</td>\n",
       "      <td>113.8</td>\n",
       "      <td>2462865.0</td>\n",
       "      <td>48370.0</td>\n",
       "      <td>93439419.0</td>\n",
       "      <td>13910.0</td>\n",
       "      <td>843.0</td>\n",
       "      <td>6669542.0</td>\n",
       "      <td>12830421.0</td>\n",
       "      <td>7415497.0</td>\n",
       "      <td>...</td>\n",
       "      <td>21237.0</td>\n",
       "      <td>28.0</td>\n",
       "      <td>0</td>\n",
       "      <td>0</td>\n",
       "      <td>2</td>\n",
       "      <td>0</td>\n",
       "      <td>0</td>\n",
       "      <td>0</td>\n",
       "      <td>1</td>\n",
       "      <td>4</td>\n",
       "    </tr>\n",
       "    <tr>\n",
       "      <th>1122450</th>\n",
       "      <td>33643</td>\n",
       "      <td>119.8</td>\n",
       "      <td>2627250.0</td>\n",
       "      <td>51101.0</td>\n",
       "      <td>99682931.0</td>\n",
       "      <td>14854.0</td>\n",
       "      <td>843.0</td>\n",
       "      <td>7074468.0</td>\n",
       "      <td>13604706.0</td>\n",
       "      <td>7747492.0</td>\n",
       "      <td>...</td>\n",
       "      <td>22357.0</td>\n",
       "      <td>32.0</td>\n",
       "      <td>0</td>\n",
       "      <td>0</td>\n",
       "      <td>2</td>\n",
       "      <td>0</td>\n",
       "      <td>0</td>\n",
       "      <td>0</td>\n",
       "      <td>1</td>\n",
       "      <td>4</td>\n",
       "    </tr>\n",
       "    <tr>\n",
       "      <th>1122451</th>\n",
       "      <td>33643</td>\n",
       "      <td>125.8</td>\n",
       "      <td>2741460.0</td>\n",
       "      <td>52949.0</td>\n",
       "      <td>104122894.0</td>\n",
       "      <td>15222.0</td>\n",
       "      <td>843.0</td>\n",
       "      <td>7988418.0</td>\n",
       "      <td>16274631.0</td>\n",
       "      <td>8095988.0</td>\n",
       "      <td>...</td>\n",
       "      <td>23453.0</td>\n",
       "      <td>32.0</td>\n",
       "      <td>0</td>\n",
       "      <td>0</td>\n",
       "      <td>2</td>\n",
       "      <td>0</td>\n",
       "      <td>0</td>\n",
       "      <td>0</td>\n",
       "      <td>1</td>\n",
       "      <td>4</td>\n",
       "    </tr>\n",
       "  </tbody>\n",
       "</table>\n",
       "<p>5 rows × 115 columns</p>\n",
       "</div>"
      ],
      "text/plain": [
       "         vehicle_id  time_step      171_0    666_0        427_0    837_0  \\\n",
       "1122447       33643      101.0  2136810.0  41412.0   81068654.0  10365.0   \n",
       "1122448       33643      107.0  2283285.0  44660.0   86639835.0  12317.0   \n",
       "1122449       33643      113.8  2462865.0  48370.0   93439419.0  13910.0   \n",
       "1122450       33643      119.8  2627250.0  51101.0   99682931.0  14854.0   \n",
       "1122451       33643      125.8  2741460.0  52949.0  104122894.0  15222.0   \n",
       "\n",
       "         167_0      167_1       167_2      167_3  ...   397_34  397_35  \\\n",
       "1122447  843.0  6408272.0  10964376.0  6092347.0  ...  17033.0    24.0   \n",
       "1122448  843.0  6596477.0  12358026.0  6721702.0  ...  18901.0    24.0   \n",
       "1122449  843.0  6669542.0  12830421.0  7415497.0  ...  21237.0    28.0   \n",
       "1122450  843.0  7074468.0  13604706.0  7747492.0  ...  22357.0    32.0   \n",
       "1122451  843.0  7988418.0  16274631.0  8095988.0  ...  23453.0    32.0   \n",
       "\n",
       "         Spec_0  Spec_1  Spec_2  Spec_3  Spec_4  Spec_5  Spec_6  Spec_7  \n",
       "1122447       0       0       2       0       0       0       1       4  \n",
       "1122448       0       0       2       0       0       0       1       4  \n",
       "1122449       0       0       2       0       0       0       1       4  \n",
       "1122450       0       0       2       0       0       0       1       4  \n",
       "1122451       0       0       2       0       0       0       1       4  \n",
       "\n",
       "[5 rows x 115 columns]"
      ]
     },
     "execution_count": 40,
     "metadata": {},
     "output_type": "execute_result"
    }
   ],
   "source": [
    "df.tail()"
   ]
  },
  {
   "cell_type": "code",
   "execution_count": 32,
   "metadata": {},
   "outputs": [],
   "source": [
    "# We want to create labels for the training data based on the time to event data\n",
    "# Labels in validation set are denoted by 0, 1, 2, 3, 4 where they are related to readouts within a time window of: (more than 48), (48 to 24), (24 to 12), (12 to 6), and (6 to 0) time_step before the failure, respectively. \n",
    "# If we don't have a failure reported, and the time_step left is less 48 we don't know when the failure will happen, so we will label it as -1. \n",
    "\n",
    "def get_class_label_train(row):\n",
    "    #classes denoted by 0, 1, 2, 3, 4 where they are related to readouts within a time window of: (more than 48), (48 to 24), (24 to 12), (12 to 6), and (6 to 0) time_step before the failure, respectively\n",
    "    if row['time_to_potential_event'] > 48:\n",
    "        return 0 #No failure within 48 time steps\n",
    "    elif row['time_to_potential_event'] > 24 and row['in_study_repair'] == 1:\n",
    "        return 1 #Failure within 48 to 24 time steps\n",
    "    elif row['time_to_potential_event'] > 12 and row['in_study_repair'] == 1:\n",
    "        return 2 #Failure within 24 to 12 time steps\n",
    "    elif row['time_to_potential_event'] > 6 and row['in_study_repair'] == 1:\n",
    "        return 3 #Failure within 12 to 6 time steps\n",
    "    elif row['time_to_potential_event'] > 0 and row['in_study_repair'] == 1:\n",
    "        return 4 #Failure within 6 to 0 time steps\n",
    "    else:\n",
    "        return -1 #No failure reported, but within 48 time steps from the end of the study, don't know if it will fail or not\n",
    "    \n",
    "def add_class_labels_train(ttedf, readoutsdf):\n",
    "    # Join the readouts and the time to event data\n",
    "    df = pd.merge(readoutsdf, ttedf, on = 'vehicle_id', how='left').copy()\n",
    "\n",
    "    #Calculate the time to a failure event\n",
    "    df['time_to_potential_event'] = df['length_of_study_time_step'] - df['time_step']\n",
    "\n",
    "    df['class_label'] = df.apply(get_class_label_train, axis=1)\n",
    "\n",
    "    return df"
   ]
  },
  {
   "cell_type": "code",
   "execution_count": 33,
   "metadata": {},
   "outputs": [],
   "source": [
    "# We want to create labels for the training data based on the time to event data\n",
    "# Labels in validation set are denoted by 0, 1, 2, 3, 4 where they are related to readouts within a time window of: (more than 48), (48 to 24), (24 to 12), (12 to 6), and (6 to 0) time_step before the failure, respectively. \n",
    "# The validation_labels.csv file has 5046 rows, which is equal to the number of vehicles contributed to the operational data of the\n",
    "# validation set. It includes a column named class_label, corresponding to the class for the last readout of each vehicle.\n",
    "# As mentioned in subsection validation_operational_readouts.csv, the last readout for the validation set is selected randomly\n",
    "# among all readouts for each vehicle. The temporal placement of this final simulated readout is categorized into five classes\n",
    "# denoted by 0, 1, 2, 3, 4 where they are related to readouts within a time window of: (more than 48), (48 to 24), (24 to 12), (12\n",
    "# to 6), and (6 to 0) time_step before the failure, respectively. These classes show the time windows in which the last readouts for\n",
    "# each vehicle are randomly selected.\n",
    "\n",
    "def get_class_label_validation(row):\n",
    "    #classes denoted by 0, 1, 2, 3, 4 where they are related to readouts within a time window of: (more than 48), (48 to 24), (24 to 12), (12 to 6), and (6 to 0) time_step before the failure, respectively\n",
    "    dt = row['time_to_potential_event'] #Time left to the end of the time series\n",
    "\n",
    "    #Add time based on the class_labels\n",
    "    if row['class_label'] == 0:\n",
    "        #(48+) after last readout\n",
    "        dt += 48\n",
    "    elif row['class_label'] == 1:\n",
    "        #(48 to 24) after last readout\n",
    "        dt += 24\n",
    "    elif row['class_label'] == 2:\n",
    "        #(24 to 12) after last readout\n",
    "        dt += 12\n",
    "    elif row['class_label'] == 3:\n",
    "        #(12 to 6) after last readout\n",
    "        dt += 6\n",
    "    elif row['class_label'] == 4:\n",
    "        #(6 to 0) after last readout\n",
    "        dt += 0\n",
    "\n",
    "\n",
    "    if dt >= 48:\n",
    "        return 0 #No failure within 48 time steps\n",
    "    elif dt >= 24:\n",
    "        return 1 #Failure within 48 to 24 time steps\n",
    "    elif dt >= 12:\n",
    "        return 2 #Failure within 24 to 12 time steps\n",
    "    elif dt >= 6:\n",
    "        return 3 #Failure within 12 to 6 time steps\n",
    "    elif dt >= 0:\n",
    "        return 4 #Failure within 6 to 0 time steps\n",
    "    else:\n",
    "        return -1 #Should not happen...\n",
    "    \n",
    "def add_class_labels_validation(ttedf, readoutsdf):\n",
    "    # Join the readouts and the time to event data\n",
    "    df = pd.merge(readoutsdf, ttedf, on = 'vehicle_id', how='left').copy()\n",
    "\n",
    "    # For each vehicle get the max time_step seen for that vehicle:\n",
    "    df['length_of_study_time_step'] = df.groupby('vehicle_id')['time_step'].transform('max')\n",
    "\n",
    "    #Calculate the time to a failure event\n",
    "    df['time_to_potential_event'] = df['length_of_study_time_step'] - df['time_step']\n",
    "\n",
    "    df['class_label'] = df.apply(get_class_label_validation, axis=1)\n",
    "\n",
    "    return df"
   ]
  },
  {
   "cell_type": "code",
   "execution_count": 52,
   "metadata": {},
   "outputs": [],
   "source": [
    "#This function will preprocess all the data step by step and return X and y\n",
    "def preprocess_all(readoutsdf, specificationsdf, ttedf=None, validation=False):\n",
    "    #Fill missing values\n",
    "    df = fill_missing_values(readoutsdf) \n",
    "  \n",
    "    #Add features\n",
    "\n",
    "    df, num_categories_per_spec = add_features(df, specificationsdf)\n",
    "\n",
    "    #We only have information about the class labels in the training and validation data\n",
    "    if ttedf is not None:\n",
    "\n",
    "        #Merge the time to event data with the readouts data and figure out which class they belong to\n",
    "        #Later we will need to remove the columns: length_of_study_time_step, in_study_repair, time_to_potential_event, class_label and remove any rows with class label -1\n",
    "\n",
    "        #Train and validation targets are structured in different ways, needs to be handled differently\n",
    "        if validation:\n",
    "            df = add_class_labels_validation(ttedf, df)\n",
    "            #Drop the columns that we cannot use for training, since they contain information about the class label\n",
    "            df = df.drop(columns = ['length_of_study_time_step', 'time_to_potential_event'])\n",
    "        else:\n",
    "            df = add_class_labels_train(ttedf, df)\n",
    "            #Drop the columns that we cannot use for training, since they contain information about the class label\n",
    "            df = df.drop(columns = ['length_of_study_time_step', 'in_study_repair', 'time_to_potential_event'])\n",
    "\n",
    "        # Remove classes with class -1, where we don't know if the vehicle will fail or not within 48 hours\n",
    "        df = df[df['class_label'] != -1]\n",
    "\n",
    "    # categoryColumns = [col for col in specificationsdf.columns if 'Spec' in col]\n",
    "    \n",
    "    # dfCategories = df[categoryColumns] #Take only the columns that are categories\n",
    "    # df = df.drop(columns = categoryColumns) #Drop the columns that are categories\n",
    "  \n",
    "    return df, num_categories_per_spec"
   ]
  },
  {
   "cell_type": "code",
   "execution_count": 11,
   "metadata": {},
   "outputs": [
    {
     "data": {
      "text/html": [
       "<div>\n",
       "<style scoped>\n",
       "    .dataframe tbody tr th:only-of-type {\n",
       "        vertical-align: middle;\n",
       "    }\n",
       "\n",
       "    .dataframe tbody tr th {\n",
       "        vertical-align: top;\n",
       "    }\n",
       "\n",
       "    .dataframe thead th {\n",
       "        text-align: right;\n",
       "    }\n",
       "</style>\n",
       "<table border=\"1\" class=\"dataframe\">\n",
       "  <thead>\n",
       "    <tr style=\"text-align: right;\">\n",
       "      <th></th>\n",
       "      <th>vehicle_id</th>\n",
       "      <th>class_label</th>\n",
       "    </tr>\n",
       "  </thead>\n",
       "  <tbody>\n",
       "    <tr>\n",
       "      <th>0</th>\n",
       "      <td>10</td>\n",
       "      <td>0</td>\n",
       "    </tr>\n",
       "    <tr>\n",
       "      <th>1</th>\n",
       "      <td>16</td>\n",
       "      <td>0</td>\n",
       "    </tr>\n",
       "    <tr>\n",
       "      <th>2</th>\n",
       "      <td>18</td>\n",
       "      <td>0</td>\n",
       "    </tr>\n",
       "    <tr>\n",
       "      <th>3</th>\n",
       "      <td>23</td>\n",
       "      <td>0</td>\n",
       "    </tr>\n",
       "    <tr>\n",
       "      <th>4</th>\n",
       "      <td>45</td>\n",
       "      <td>0</td>\n",
       "    </tr>\n",
       "  </tbody>\n",
       "</table>\n",
       "</div>"
      ],
      "text/plain": [
       "   vehicle_id  class_label\n",
       "0          10            0\n",
       "1          16            0\n",
       "2          18            0\n",
       "3          23            0\n",
       "4          45            0"
      ]
     },
     "execution_count": 11,
     "metadata": {},
     "output_type": "execute_result"
    }
   ],
   "source": [
    "labelsValidation.head()"
   ]
  },
  {
   "cell_type": "code",
   "execution_count": 53,
   "metadata": {},
   "outputs": [],
   "source": [
    "\n",
    "dfTrain, num_categories_per_spec = preprocess_all(readoutsTrain, specificationsTrain, tteTrain, validation=False)\n",
    "dfValidation, _ = preprocess_all(readoutsValidation, specificationsValidation, labelsValidation, validation=True)\n",
    "dfTest, _ = preprocess_all(readoutsTest, specificationsTest)\n",
    "#dfTrain, XTrain, yTrain = preprocess_all(readoutsTrain, specificationsTrain, tteTrain, validation=False)\n",
    "# XValidation, yValidation = preprocess_all(readoutsValidation, specificationsValidation, labelsValidation, validation=True)\n",
    "# XTest, yTest = preprocess_all(readoutsTest, specificationsTest)"
   ]
  },
  {
   "cell_type": "code",
   "execution_count": 54,
   "metadata": {},
   "outputs": [
    {
     "data": {
      "text/html": [
       "<div>\n",
       "<style scoped>\n",
       "    .dataframe tbody tr th:only-of-type {\n",
       "        vertical-align: middle;\n",
       "    }\n",
       "\n",
       "    .dataframe tbody tr th {\n",
       "        vertical-align: top;\n",
       "    }\n",
       "\n",
       "    .dataframe thead th {\n",
       "        text-align: right;\n",
       "    }\n",
       "</style>\n",
       "<table border=\"1\" class=\"dataframe\">\n",
       "  <thead>\n",
       "    <tr style=\"text-align: right;\">\n",
       "      <th></th>\n",
       "      <th>vehicle_id</th>\n",
       "      <th>time_step</th>\n",
       "      <th>171_0</th>\n",
       "      <th>666_0</th>\n",
       "      <th>427_0</th>\n",
       "      <th>837_0</th>\n",
       "      <th>167_0</th>\n",
       "      <th>167_1</th>\n",
       "      <th>167_2</th>\n",
       "      <th>167_3</th>\n",
       "      <th>...</th>\n",
       "      <th>397_35</th>\n",
       "      <th>Spec_0</th>\n",
       "      <th>Spec_1</th>\n",
       "      <th>Spec_2</th>\n",
       "      <th>Spec_3</th>\n",
       "      <th>Spec_4</th>\n",
       "      <th>Spec_5</th>\n",
       "      <th>Spec_6</th>\n",
       "      <th>Spec_7</th>\n",
       "      <th>class_label</th>\n",
       "    </tr>\n",
       "  </thead>\n",
       "  <tbody>\n",
       "    <tr>\n",
       "      <th>0</th>\n",
       "      <td>0</td>\n",
       "      <td>11.2</td>\n",
       "      <td>167985.0</td>\n",
       "      <td>10787.0</td>\n",
       "      <td>7413813.0</td>\n",
       "      <td>2296.0</td>\n",
       "      <td>4110.0</td>\n",
       "      <td>1296420.0</td>\n",
       "      <td>1628265.0</td>\n",
       "      <td>630345.0</td>\n",
       "      <td>...</td>\n",
       "      <td>452.0</td>\n",
       "      <td>0</td>\n",
       "      <td>0</td>\n",
       "      <td>0</td>\n",
       "      <td>0</td>\n",
       "      <td>0</td>\n",
       "      <td>0</td>\n",
       "      <td>0</td>\n",
       "      <td>0</td>\n",
       "      <td>0</td>\n",
       "    </tr>\n",
       "    <tr>\n",
       "      <th>1</th>\n",
       "      <td>0</td>\n",
       "      <td>11.4</td>\n",
       "      <td>167985.0</td>\n",
       "      <td>10787.0</td>\n",
       "      <td>7413813.0</td>\n",
       "      <td>2296.0</td>\n",
       "      <td>4111.0</td>\n",
       "      <td>1302855.0</td>\n",
       "      <td>1628265.0</td>\n",
       "      <td>630345.0</td>\n",
       "      <td>...</td>\n",
       "      <td>452.0</td>\n",
       "      <td>0</td>\n",
       "      <td>0</td>\n",
       "      <td>0</td>\n",
       "      <td>0</td>\n",
       "      <td>0</td>\n",
       "      <td>0</td>\n",
       "      <td>0</td>\n",
       "      <td>0</td>\n",
       "      <td>0</td>\n",
       "    </tr>\n",
       "    <tr>\n",
       "      <th>2</th>\n",
       "      <td>0</td>\n",
       "      <td>19.6</td>\n",
       "      <td>331635.0</td>\n",
       "      <td>14525.0</td>\n",
       "      <td>13683604.0</td>\n",
       "      <td>2600.0</td>\n",
       "      <td>4111.0</td>\n",
       "      <td>1302855.0</td>\n",
       "      <td>1628265.0</td>\n",
       "      <td>630345.0</td>\n",
       "      <td>...</td>\n",
       "      <td>452.0</td>\n",
       "      <td>0</td>\n",
       "      <td>0</td>\n",
       "      <td>0</td>\n",
       "      <td>0</td>\n",
       "      <td>0</td>\n",
       "      <td>0</td>\n",
       "      <td>0</td>\n",
       "      <td>0</td>\n",
       "      <td>0</td>\n",
       "    </tr>\n",
       "    <tr>\n",
       "      <th>3</th>\n",
       "      <td>0</td>\n",
       "      <td>20.2</td>\n",
       "      <td>354975.0</td>\n",
       "      <td>15015.0</td>\n",
       "      <td>14540449.0</td>\n",
       "      <td>2616.0</td>\n",
       "      <td>4111.0</td>\n",
       "      <td>1302855.0</td>\n",
       "      <td>1628265.0</td>\n",
       "      <td>630345.0</td>\n",
       "      <td>...</td>\n",
       "      <td>453.0</td>\n",
       "      <td>0</td>\n",
       "      <td>0</td>\n",
       "      <td>0</td>\n",
       "      <td>0</td>\n",
       "      <td>0</td>\n",
       "      <td>0</td>\n",
       "      <td>0</td>\n",
       "      <td>0</td>\n",
       "      <td>0</td>\n",
       "    </tr>\n",
       "    <tr>\n",
       "      <th>4</th>\n",
       "      <td>0</td>\n",
       "      <td>21.0</td>\n",
       "      <td>365550.0</td>\n",
       "      <td>15295.0</td>\n",
       "      <td>14966985.0</td>\n",
       "      <td>2720.0</td>\n",
       "      <td>4111.0</td>\n",
       "      <td>1302855.0</td>\n",
       "      <td>1628265.0</td>\n",
       "      <td>630345.0</td>\n",
       "      <td>...</td>\n",
       "      <td>454.0</td>\n",
       "      <td>0</td>\n",
       "      <td>0</td>\n",
       "      <td>0</td>\n",
       "      <td>0</td>\n",
       "      <td>0</td>\n",
       "      <td>0</td>\n",
       "      <td>0</td>\n",
       "      <td>0</td>\n",
       "      <td>0</td>\n",
       "    </tr>\n",
       "  </tbody>\n",
       "</table>\n",
       "<p>5 rows × 116 columns</p>\n",
       "</div>"
      ],
      "text/plain": [
       "   vehicle_id  time_step     171_0    666_0       427_0   837_0   167_0  \\\n",
       "0           0       11.2  167985.0  10787.0   7413813.0  2296.0  4110.0   \n",
       "1           0       11.4  167985.0  10787.0   7413813.0  2296.0  4111.0   \n",
       "2           0       19.6  331635.0  14525.0  13683604.0  2600.0  4111.0   \n",
       "3           0       20.2  354975.0  15015.0  14540449.0  2616.0  4111.0   \n",
       "4           0       21.0  365550.0  15295.0  14966985.0  2720.0  4111.0   \n",
       "\n",
       "       167_1      167_2     167_3  ...  397_35  Spec_0  Spec_1  Spec_2  \\\n",
       "0  1296420.0  1628265.0  630345.0  ...   452.0       0       0       0   \n",
       "1  1302855.0  1628265.0  630345.0  ...   452.0       0       0       0   \n",
       "2  1302855.0  1628265.0  630345.0  ...   452.0       0       0       0   \n",
       "3  1302855.0  1628265.0  630345.0  ...   453.0       0       0       0   \n",
       "4  1302855.0  1628265.0  630345.0  ...   454.0       0       0       0   \n",
       "\n",
       "   Spec_3  Spec_4  Spec_5  Spec_6  Spec_7  class_label  \n",
       "0       0       0       0       0       0            0  \n",
       "1       0       0       0       0       0            0  \n",
       "2       0       0       0       0       0            0  \n",
       "3       0       0       0       0       0            0  \n",
       "4       0       0       0       0       0            0  \n",
       "\n",
       "[5 rows x 116 columns]"
      ]
     },
     "execution_count": 54,
     "metadata": {},
     "output_type": "execute_result"
    }
   ],
   "source": [
    "dfTrain.head()"
   ]
  },
  {
   "cell_type": "code",
   "execution_count": 55,
   "metadata": {},
   "outputs": [],
   "source": [
    "# Use Scikit-learn to normalize the data\n",
    "from sklearn.preprocessing import StandardScaler\n",
    "\n",
    "scaler = StandardScaler()\n",
    "#Normalize the data, but only the columns that are not one hot encoded\n",
    "colsToIgnore = ['vehicle_id', 'class_label', 'Spec']\n",
    "#Get the columns that we don't ignore\n",
    "columns = [col for col in dfTrain.columns if all(ignored not in col for ignored in colsToIgnore)]\n",
    "\n",
    "#Fit and transform the data\n",
    "dfTrain[columns] = scaler.fit_transform(dfTrain[columns])\n",
    "\n",
    "#Use the same transformation for the validation and test data\n",
    "dfValidation[columns] = scaler.transform(dfValidation[columns])\n",
    "dfTest[columns] = scaler.transform(dfTest[columns])"
   ]
  },
  {
   "cell_type": "code",
   "execution_count": 56,
   "metadata": {},
   "outputs": [
    {
     "data": {
      "text/html": [
       "<div>\n",
       "<style scoped>\n",
       "    .dataframe tbody tr th:only-of-type {\n",
       "        vertical-align: middle;\n",
       "    }\n",
       "\n",
       "    .dataframe tbody tr th {\n",
       "        vertical-align: top;\n",
       "    }\n",
       "\n",
       "    .dataframe thead th {\n",
       "        text-align: right;\n",
       "    }\n",
       "</style>\n",
       "<table border=\"1\" class=\"dataframe\">\n",
       "  <thead>\n",
       "    <tr style=\"text-align: right;\">\n",
       "      <th></th>\n",
       "      <th>vehicle_id</th>\n",
       "      <th>time_step</th>\n",
       "      <th>171_0</th>\n",
       "      <th>666_0</th>\n",
       "      <th>427_0</th>\n",
       "      <th>837_0</th>\n",
       "      <th>167_0</th>\n",
       "      <th>167_1</th>\n",
       "      <th>167_2</th>\n",
       "      <th>167_3</th>\n",
       "      <th>...</th>\n",
       "      <th>397_35</th>\n",
       "      <th>Spec_0</th>\n",
       "      <th>Spec_1</th>\n",
       "      <th>Spec_2</th>\n",
       "      <th>Spec_3</th>\n",
       "      <th>Spec_4</th>\n",
       "      <th>Spec_5</th>\n",
       "      <th>Spec_6</th>\n",
       "      <th>Spec_7</th>\n",
       "      <th>class_label</th>\n",
       "    </tr>\n",
       "  </thead>\n",
       "  <tbody>\n",
       "    <tr>\n",
       "      <th>count</th>\n",
       "      <td>919315.000000</td>\n",
       "      <td>9.193150e+05</td>\n",
       "      <td>9.193150e+05</td>\n",
       "      <td>9.193150e+05</td>\n",
       "      <td>9.193150e+05</td>\n",
       "      <td>9.193150e+05</td>\n",
       "      <td>9.193150e+05</td>\n",
       "      <td>9.193150e+05</td>\n",
       "      <td>9.193150e+05</td>\n",
       "      <td>9.193150e+05</td>\n",
       "      <td>...</td>\n",
       "      <td>9.193150e+05</td>\n",
       "      <td>919315.000000</td>\n",
       "      <td>919315.000000</td>\n",
       "      <td>919315.000000</td>\n",
       "      <td>919315.000000</td>\n",
       "      <td>919315.000000</td>\n",
       "      <td>919315.000000</td>\n",
       "      <td>919315.000000</td>\n",
       "      <td>919315.000000</td>\n",
       "      <td>919315.000000</td>\n",
       "    </tr>\n",
       "    <tr>\n",
       "      <th>mean</th>\n",
       "      <td>15206.614850</td>\n",
       "      <td>1.310846e-16</td>\n",
       "      <td>-5.441248e-17</td>\n",
       "      <td>-2.671158e-17</td>\n",
       "      <td>-6.381100e-17</td>\n",
       "      <td>-3.462612e-18</td>\n",
       "      <td>3.920172e-17</td>\n",
       "      <td>3.227649e-17</td>\n",
       "      <td>-5.564913e-17</td>\n",
       "      <td>-3.932538e-17</td>\n",
       "      <td>...</td>\n",
       "      <td>-2.012643e-17</td>\n",
       "      <td>0.190648</td>\n",
       "      <td>3.816901</td>\n",
       "      <td>1.747000</td>\n",
       "      <td>0.610904</td>\n",
       "      <td>0.016777</td>\n",
       "      <td>0.307290</td>\n",
       "      <td>1.157302</td>\n",
       "      <td>1.944170</td>\n",
       "      <td>0.054272</td>\n",
       "    </tr>\n",
       "    <tr>\n",
       "      <th>std</th>\n",
       "      <td>9774.004888</td>\n",
       "      <td>1.000001e+00</td>\n",
       "      <td>1.000001e+00</td>\n",
       "      <td>1.000001e+00</td>\n",
       "      <td>1.000001e+00</td>\n",
       "      <td>1.000001e+00</td>\n",
       "      <td>1.000001e+00</td>\n",
       "      <td>1.000001e+00</td>\n",
       "      <td>1.000001e+00</td>\n",
       "      <td>1.000001e+00</td>\n",
       "      <td>...</td>\n",
       "      <td>1.000001e+00</td>\n",
       "      <td>0.395990</td>\n",
       "      <td>5.026650</td>\n",
       "      <td>2.514605</td>\n",
       "      <td>0.916742</td>\n",
       "      <td>0.128434</td>\n",
       "      <td>0.713147</td>\n",
       "      <td>1.560122</td>\n",
       "      <td>2.253661</td>\n",
       "      <td>0.368800</td>\n",
       "    </tr>\n",
       "    <tr>\n",
       "      <th>min</th>\n",
       "      <td>0.000000</td>\n",
       "      <td>-1.436019e+00</td>\n",
       "      <td>-1.193171e+00</td>\n",
       "      <td>-8.203732e-01</td>\n",
       "      <td>-1.237974e+00</td>\n",
       "      <td>-5.394333e-01</td>\n",
       "      <td>-2.757221e-01</td>\n",
       "      <td>-1.178886e+00</td>\n",
       "      <td>-1.079403e+00</td>\n",
       "      <td>-9.028752e-01</td>\n",
       "      <td>...</td>\n",
       "      <td>-2.262132e-01</td>\n",
       "      <td>0.000000</td>\n",
       "      <td>0.000000</td>\n",
       "      <td>0.000000</td>\n",
       "      <td>0.000000</td>\n",
       "      <td>0.000000</td>\n",
       "      <td>0.000000</td>\n",
       "      <td>0.000000</td>\n",
       "      <td>0.000000</td>\n",
       "      <td>0.000000</td>\n",
       "    </tr>\n",
       "    <tr>\n",
       "      <th>25%</th>\n",
       "      <td>6247.000000</td>\n",
       "      <td>-7.990563e-01</td>\n",
       "      <td>-7.675430e-01</td>\n",
       "      <td>-6.320502e-01</td>\n",
       "      <td>-7.657070e-01</td>\n",
       "      <td>-5.071259e-01</td>\n",
       "      <td>-2.713850e-01</td>\n",
       "      <td>-7.250011e-01</td>\n",
       "      <td>-6.907598e-01</td>\n",
       "      <td>-6.031002e-01</td>\n",
       "      <td>...</td>\n",
       "      <td>-2.208853e-01</td>\n",
       "      <td>0.000000</td>\n",
       "      <td>1.000000</td>\n",
       "      <td>1.000000</td>\n",
       "      <td>0.000000</td>\n",
       "      <td>0.000000</td>\n",
       "      <td>0.000000</td>\n",
       "      <td>0.000000</td>\n",
       "      <td>0.000000</td>\n",
       "      <td>0.000000</td>\n",
       "    </tr>\n",
       "    <tr>\n",
       "      <th>50%</th>\n",
       "      <td>15468.000000</td>\n",
       "      <td>-1.942870e-01</td>\n",
       "      <td>-2.552939e-01</td>\n",
       "      <td>-3.233495e-01</td>\n",
       "      <td>-2.380003e-01</td>\n",
       "      <td>-3.538917e-01</td>\n",
       "      <td>-1.978337e-01</td>\n",
       "      <td>-2.556182e-01</td>\n",
       "      <td>-2.655115e-01</td>\n",
       "      <td>-2.584784e-01</td>\n",
       "      <td>...</td>\n",
       "      <td>-1.998810e-01</td>\n",
       "      <td>0.000000</td>\n",
       "      <td>1.000000</td>\n",
       "      <td>1.000000</td>\n",
       "      <td>0.000000</td>\n",
       "      <td>0.000000</td>\n",
       "      <td>0.000000</td>\n",
       "      <td>1.000000</td>\n",
       "      <td>1.000000</td>\n",
       "      <td>0.000000</td>\n",
       "    </tr>\n",
       "    <tr>\n",
       "      <th>75%</th>\n",
       "      <td>22990.000000</td>\n",
       "      <td>6.657271e-01</td>\n",
       "      <td>5.343218e-01</td>\n",
       "      <td>2.641196e-01</td>\n",
       "      <td>5.427373e-01</td>\n",
       "      <td>8.945324e-02</td>\n",
       "      <td>1.825215e-02</td>\n",
       "      <td>4.378583e-01</td>\n",
       "      <td>3.908949e-01</td>\n",
       "      <td>2.778524e-01</td>\n",
       "      <td>...</td>\n",
       "      <td>-1.063348e-01</td>\n",
       "      <td>0.000000</td>\n",
       "      <td>5.000000</td>\n",
       "      <td>2.000000</td>\n",
       "      <td>1.000000</td>\n",
       "      <td>0.000000</td>\n",
       "      <td>0.000000</td>\n",
       "      <td>1.000000</td>\n",
       "      <td>4.000000</td>\n",
       "      <td>0.000000</td>\n",
       "    </tr>\n",
       "    <tr>\n",
       "      <th>max</th>\n",
       "      <td>33643.000000</td>\n",
       "      <td>4.073591e+00</td>\n",
       "      <td>9.292816e+00</td>\n",
       "      <td>4.314025e+01</td>\n",
       "      <td>8.652973e+00</td>\n",
       "      <td>8.920041e+01</td>\n",
       "      <td>1.928817e+02</td>\n",
       "      <td>1.142972e+01</td>\n",
       "      <td>1.960565e+01</td>\n",
       "      <td>2.972276e+01</td>\n",
       "      <td>...</td>\n",
       "      <td>5.991361e+01</td>\n",
       "      <td>2.000000</td>\n",
       "      <td>28.000000</td>\n",
       "      <td>20.000000</td>\n",
       "      <td>3.000000</td>\n",
       "      <td>1.000000</td>\n",
       "      <td>4.000000</td>\n",
       "      <td>16.000000</td>\n",
       "      <td>8.000000</td>\n",
       "      <td>4.000000</td>\n",
       "    </tr>\n",
       "  </tbody>\n",
       "</table>\n",
       "<p>8 rows × 116 columns</p>\n",
       "</div>"
      ],
      "text/plain": [
       "          vehicle_id     time_step         171_0         666_0         427_0  \\\n",
       "count  919315.000000  9.193150e+05  9.193150e+05  9.193150e+05  9.193150e+05   \n",
       "mean    15206.614850  1.310846e-16 -5.441248e-17 -2.671158e-17 -6.381100e-17   \n",
       "std      9774.004888  1.000001e+00  1.000001e+00  1.000001e+00  1.000001e+00   \n",
       "min         0.000000 -1.436019e+00 -1.193171e+00 -8.203732e-01 -1.237974e+00   \n",
       "25%      6247.000000 -7.990563e-01 -7.675430e-01 -6.320502e-01 -7.657070e-01   \n",
       "50%     15468.000000 -1.942870e-01 -2.552939e-01 -3.233495e-01 -2.380003e-01   \n",
       "75%     22990.000000  6.657271e-01  5.343218e-01  2.641196e-01  5.427373e-01   \n",
       "max     33643.000000  4.073591e+00  9.292816e+00  4.314025e+01  8.652973e+00   \n",
       "\n",
       "              837_0         167_0         167_1         167_2         167_3  \\\n",
       "count  9.193150e+05  9.193150e+05  9.193150e+05  9.193150e+05  9.193150e+05   \n",
       "mean  -3.462612e-18  3.920172e-17  3.227649e-17 -5.564913e-17 -3.932538e-17   \n",
       "std    1.000001e+00  1.000001e+00  1.000001e+00  1.000001e+00  1.000001e+00   \n",
       "min   -5.394333e-01 -2.757221e-01 -1.178886e+00 -1.079403e+00 -9.028752e-01   \n",
       "25%   -5.071259e-01 -2.713850e-01 -7.250011e-01 -6.907598e-01 -6.031002e-01   \n",
       "50%   -3.538917e-01 -1.978337e-01 -2.556182e-01 -2.655115e-01 -2.584784e-01   \n",
       "75%    8.945324e-02  1.825215e-02  4.378583e-01  3.908949e-01  2.778524e-01   \n",
       "max    8.920041e+01  1.928817e+02  1.142972e+01  1.960565e+01  2.972276e+01   \n",
       "\n",
       "       ...        397_35         Spec_0         Spec_1         Spec_2  \\\n",
       "count  ...  9.193150e+05  919315.000000  919315.000000  919315.000000   \n",
       "mean   ... -2.012643e-17       0.190648       3.816901       1.747000   \n",
       "std    ...  1.000001e+00       0.395990       5.026650       2.514605   \n",
       "min    ... -2.262132e-01       0.000000       0.000000       0.000000   \n",
       "25%    ... -2.208853e-01       0.000000       1.000000       1.000000   \n",
       "50%    ... -1.998810e-01       0.000000       1.000000       1.000000   \n",
       "75%    ... -1.063348e-01       0.000000       5.000000       2.000000   \n",
       "max    ...  5.991361e+01       2.000000      28.000000      20.000000   \n",
       "\n",
       "              Spec_3         Spec_4         Spec_5         Spec_6  \\\n",
       "count  919315.000000  919315.000000  919315.000000  919315.000000   \n",
       "mean        0.610904       0.016777       0.307290       1.157302   \n",
       "std         0.916742       0.128434       0.713147       1.560122   \n",
       "min         0.000000       0.000000       0.000000       0.000000   \n",
       "25%         0.000000       0.000000       0.000000       0.000000   \n",
       "50%         0.000000       0.000000       0.000000       1.000000   \n",
       "75%         1.000000       0.000000       0.000000       1.000000   \n",
       "max         3.000000       1.000000       4.000000      16.000000   \n",
       "\n",
       "              Spec_7    class_label  \n",
       "count  919315.000000  919315.000000  \n",
       "mean        1.944170       0.054272  \n",
       "std         2.253661       0.368800  \n",
       "min         0.000000       0.000000  \n",
       "25%         0.000000       0.000000  \n",
       "50%         1.000000       0.000000  \n",
       "75%         4.000000       0.000000  \n",
       "max         8.000000       4.000000  \n",
       "\n",
       "[8 rows x 116 columns]"
      ]
     },
     "execution_count": 56,
     "metadata": {},
     "output_type": "execute_result"
    }
   ],
   "source": [
    "dfTrain.describe()"
   ]
  },
  {
   "cell_type": "code",
   "execution_count": 50,
   "metadata": {},
   "outputs": [
    {
     "data": {
      "text/html": [
       "<div>\n",
       "<style scoped>\n",
       "    .dataframe tbody tr th:only-of-type {\n",
       "        vertical-align: middle;\n",
       "    }\n",
       "\n",
       "    .dataframe tbody tr th {\n",
       "        vertical-align: top;\n",
       "    }\n",
       "\n",
       "    .dataframe thead th {\n",
       "        text-align: right;\n",
       "    }\n",
       "</style>\n",
       "<table border=\"1\" class=\"dataframe\">\n",
       "  <thead>\n",
       "    <tr style=\"text-align: right;\">\n",
       "      <th></th>\n",
       "      <th>vehicle_id</th>\n",
       "      <th>time_step</th>\n",
       "      <th>171_0</th>\n",
       "      <th>666_0</th>\n",
       "      <th>427_0</th>\n",
       "      <th>837_0</th>\n",
       "      <th>167_0</th>\n",
       "      <th>167_1</th>\n",
       "      <th>167_2</th>\n",
       "      <th>167_3</th>\n",
       "      <th>...</th>\n",
       "      <th>397_27</th>\n",
       "      <th>397_28</th>\n",
       "      <th>397_29</th>\n",
       "      <th>397_30</th>\n",
       "      <th>397_31</th>\n",
       "      <th>397_32</th>\n",
       "      <th>397_33</th>\n",
       "      <th>397_34</th>\n",
       "      <th>397_35</th>\n",
       "      <th>class_label</th>\n",
       "    </tr>\n",
       "  </thead>\n",
       "  <tbody>\n",
       "    <tr>\n",
       "      <th>0</th>\n",
       "      <td>10</td>\n",
       "      <td>-1.401526</td>\n",
       "      <td>-1.174908</td>\n",
       "      <td>-0.792514</td>\n",
       "      <td>-1.215986</td>\n",
       "      <td>-0.519401</td>\n",
       "      <td>-0.275722</td>\n",
       "      <td>-1.123193</td>\n",
       "      <td>-1.054025</td>\n",
       "      <td>-0.895208</td>\n",
       "      <td>...</td>\n",
       "      <td>-0.289082</td>\n",
       "      <td>-0.006569</td>\n",
       "      <td>-0.009917</td>\n",
       "      <td>-0.059830</td>\n",
       "      <td>-0.566665</td>\n",
       "      <td>-0.690973</td>\n",
       "      <td>-0.672216</td>\n",
       "      <td>-0.424115</td>\n",
       "      <td>-0.226213</td>\n",
       "      <td>0</td>\n",
       "    </tr>\n",
       "    <tr>\n",
       "      <th>1</th>\n",
       "      <td>10</td>\n",
       "      <td>-1.350937</td>\n",
       "      <td>-1.143335</td>\n",
       "      <td>-0.694372</td>\n",
       "      <td>-1.167848</td>\n",
       "      <td>-0.475053</td>\n",
       "      <td>-0.275722</td>\n",
       "      <td>-1.049603</td>\n",
       "      <td>-1.033836</td>\n",
       "      <td>-0.880753</td>\n",
       "      <td>...</td>\n",
       "      <td>-0.207403</td>\n",
       "      <td>-0.006536</td>\n",
       "      <td>-0.009688</td>\n",
       "      <td>-0.053092</td>\n",
       "      <td>-0.190650</td>\n",
       "      <td>-0.388904</td>\n",
       "      <td>-0.305146</td>\n",
       "      <td>-0.250437</td>\n",
       "      <td>-0.123241</td>\n",
       "      <td>0</td>\n",
       "    </tr>\n",
       "    <tr>\n",
       "      <th>2</th>\n",
       "      <td>10</td>\n",
       "      <td>-1.344038</td>\n",
       "      <td>-1.136706</td>\n",
       "      <td>-0.672664</td>\n",
       "      <td>-1.158933</td>\n",
       "      <td>-0.467178</td>\n",
       "      <td>-0.275722</td>\n",
       "      <td>-1.045711</td>\n",
       "      <td>-1.029650</td>\n",
       "      <td>-0.879821</td>\n",
       "      <td>...</td>\n",
       "      <td>-0.189641</td>\n",
       "      <td>-0.006530</td>\n",
       "      <td>-0.009688</td>\n",
       "      <td>-0.052521</td>\n",
       "      <td>-0.105657</td>\n",
       "      <td>-0.317316</td>\n",
       "      <td>-0.230769</td>\n",
       "      <td>-0.204245</td>\n",
       "      <td>-0.072523</td>\n",
       "      <td>0</td>\n",
       "    </tr>\n",
       "    <tr>\n",
       "      <th>3</th>\n",
       "      <td>10</td>\n",
       "      <td>-1.298048</td>\n",
       "      <td>-1.119632</td>\n",
       "      <td>-0.637477</td>\n",
       "      <td>-1.137810</td>\n",
       "      <td>-0.436923</td>\n",
       "      <td>-0.207791</td>\n",
       "      <td>-1.009742</td>\n",
       "      <td>-1.020041</td>\n",
       "      <td>-0.875221</td>\n",
       "      <td>...</td>\n",
       "      <td>-0.168941</td>\n",
       "      <td>-0.006524</td>\n",
       "      <td>-0.009688</td>\n",
       "      <td>-0.051778</td>\n",
       "      <td>0.090841</td>\n",
       "      <td>-0.139454</td>\n",
       "      <td>-0.048429</td>\n",
       "      <td>-0.132876</td>\n",
       "      <td>-0.063199</td>\n",
       "      <td>0</td>\n",
       "    </tr>\n",
       "    <tr>\n",
       "      <th>4</th>\n",
       "      <td>10</td>\n",
       "      <td>-1.295749</td>\n",
       "      <td>-1.119626</td>\n",
       "      <td>-0.637477</td>\n",
       "      <td>-1.137810</td>\n",
       "      <td>-0.436923</td>\n",
       "      <td>-0.207791</td>\n",
       "      <td>-1.009742</td>\n",
       "      <td>-1.020041</td>\n",
       "      <td>-0.875221</td>\n",
       "      <td>...</td>\n",
       "      <td>-0.168939</td>\n",
       "      <td>-0.006524</td>\n",
       "      <td>-0.009688</td>\n",
       "      <td>-0.051775</td>\n",
       "      <td>0.090841</td>\n",
       "      <td>-0.139454</td>\n",
       "      <td>-0.048427</td>\n",
       "      <td>-0.132873</td>\n",
       "      <td>-0.063097</td>\n",
       "      <td>0</td>\n",
       "    </tr>\n",
       "  </tbody>\n",
       "</table>\n",
       "<p>5 rows × 108 columns</p>\n",
       "</div>"
      ],
      "text/plain": [
       "   vehicle_id  time_step     171_0     666_0     427_0     837_0     167_0  \\\n",
       "0          10  -1.401526 -1.174908 -0.792514 -1.215986 -0.519401 -0.275722   \n",
       "1          10  -1.350937 -1.143335 -0.694372 -1.167848 -0.475053 -0.275722   \n",
       "2          10  -1.344038 -1.136706 -0.672664 -1.158933 -0.467178 -0.275722   \n",
       "3          10  -1.298048 -1.119632 -0.637477 -1.137810 -0.436923 -0.207791   \n",
       "4          10  -1.295749 -1.119626 -0.637477 -1.137810 -0.436923 -0.207791   \n",
       "\n",
       "      167_1     167_2     167_3  ...    397_27    397_28    397_29    397_30  \\\n",
       "0 -1.123193 -1.054025 -0.895208  ... -0.289082 -0.006569 -0.009917 -0.059830   \n",
       "1 -1.049603 -1.033836 -0.880753  ... -0.207403 -0.006536 -0.009688 -0.053092   \n",
       "2 -1.045711 -1.029650 -0.879821  ... -0.189641 -0.006530 -0.009688 -0.052521   \n",
       "3 -1.009742 -1.020041 -0.875221  ... -0.168941 -0.006524 -0.009688 -0.051778   \n",
       "4 -1.009742 -1.020041 -0.875221  ... -0.168939 -0.006524 -0.009688 -0.051775   \n",
       "\n",
       "     397_31    397_32    397_33    397_34    397_35  class_label  \n",
       "0 -0.566665 -0.690973 -0.672216 -0.424115 -0.226213            0  \n",
       "1 -0.190650 -0.388904 -0.305146 -0.250437 -0.123241            0  \n",
       "2 -0.105657 -0.317316 -0.230769 -0.204245 -0.072523            0  \n",
       "3  0.090841 -0.139454 -0.048429 -0.132876 -0.063199            0  \n",
       "4  0.090841 -0.139454 -0.048427 -0.132873 -0.063097            0  \n",
       "\n",
       "[5 rows x 108 columns]"
      ]
     },
     "execution_count": 50,
     "metadata": {},
     "output_type": "execute_result"
    }
   ],
   "source": [
    "dfValidation.head()"
   ]
  },
  {
   "cell_type": "code",
   "execution_count": 51,
   "metadata": {},
   "outputs": [
    {
     "data": {
      "text/html": [
       "<div>\n",
       "<style scoped>\n",
       "    .dataframe tbody tr th:only-of-type {\n",
       "        vertical-align: middle;\n",
       "    }\n",
       "\n",
       "    .dataframe tbody tr th {\n",
       "        vertical-align: top;\n",
       "    }\n",
       "\n",
       "    .dataframe thead th {\n",
       "        text-align: right;\n",
       "    }\n",
       "</style>\n",
       "<table border=\"1\" class=\"dataframe\">\n",
       "  <thead>\n",
       "    <tr style=\"text-align: right;\">\n",
       "      <th></th>\n",
       "      <th>vehicle_id</th>\n",
       "      <th>time_step</th>\n",
       "      <th>171_0</th>\n",
       "      <th>666_0</th>\n",
       "      <th>427_0</th>\n",
       "      <th>837_0</th>\n",
       "      <th>167_0</th>\n",
       "      <th>167_1</th>\n",
       "      <th>167_2</th>\n",
       "      <th>167_3</th>\n",
       "      <th>...</th>\n",
       "      <th>397_27</th>\n",
       "      <th>397_28</th>\n",
       "      <th>397_29</th>\n",
       "      <th>397_30</th>\n",
       "      <th>397_31</th>\n",
       "      <th>397_32</th>\n",
       "      <th>397_33</th>\n",
       "      <th>397_34</th>\n",
       "      <th>397_35</th>\n",
       "      <th>class_label</th>\n",
       "    </tr>\n",
       "  </thead>\n",
       "  <tbody>\n",
       "    <tr>\n",
       "      <th>count</th>\n",
       "      <td>196227.000000</td>\n",
       "      <td>196227.000000</td>\n",
       "      <td>196227.000000</td>\n",
       "      <td>196227.000000</td>\n",
       "      <td>196227.000000</td>\n",
       "      <td>196227.000000</td>\n",
       "      <td>196227.000000</td>\n",
       "      <td>196227.000000</td>\n",
       "      <td>196227.000000</td>\n",
       "      <td>196227.000000</td>\n",
       "      <td>...</td>\n",
       "      <td>196227.000000</td>\n",
       "      <td>196227.000000</td>\n",
       "      <td>196227.000000</td>\n",
       "      <td>196227.000000</td>\n",
       "      <td>196227.000000</td>\n",
       "      <td>196227.000000</td>\n",
       "      <td>196227.000000</td>\n",
       "      <td>196227.000000</td>\n",
       "      <td>196227.000000</td>\n",
       "      <td>196227.000000</td>\n",
       "    </tr>\n",
       "    <tr>\n",
       "      <th>mean</th>\n",
       "      <td>15028.013107</td>\n",
       "      <td>-0.006836</td>\n",
       "      <td>-0.025719</td>\n",
       "      <td>0.560544</td>\n",
       "      <td>0.198814</td>\n",
       "      <td>0.126050</td>\n",
       "      <td>-0.025710</td>\n",
       "      <td>-0.091264</td>\n",
       "      <td>-0.073798</td>\n",
       "      <td>-0.049755</td>\n",
       "      <td>...</td>\n",
       "      <td>0.860385</td>\n",
       "      <td>-0.005925</td>\n",
       "      <td>-0.000637</td>\n",
       "      <td>0.140414</td>\n",
       "      <td>1.788012</td>\n",
       "      <td>2.089268</td>\n",
       "      <td>2.131257</td>\n",
       "      <td>1.468246</td>\n",
       "      <td>0.795284</td>\n",
       "      <td>0.014183</td>\n",
       "    </tr>\n",
       "    <tr>\n",
       "      <th>std</th>\n",
       "      <td>9656.122184</td>\n",
       "      <td>0.998160</td>\n",
       "      <td>0.988148</td>\n",
       "      <td>1.654574</td>\n",
       "      <td>1.171644</td>\n",
       "      <td>1.130498</td>\n",
       "      <td>0.503400</td>\n",
       "      <td>0.931486</td>\n",
       "      <td>0.946425</td>\n",
       "      <td>0.928068</td>\n",
       "      <td>...</td>\n",
       "      <td>1.887244</td>\n",
       "      <td>0.001670</td>\n",
       "      <td>0.052424</td>\n",
       "      <td>0.258074</td>\n",
       "      <td>3.512291</td>\n",
       "      <td>3.599766</td>\n",
       "      <td>3.788086</td>\n",
       "      <td>4.329545</td>\n",
       "      <td>4.203252</td>\n",
       "      <td>0.182807</td>\n",
       "    </tr>\n",
       "    <tr>\n",
       "      <th>min</th>\n",
       "      <td>10.000000</td>\n",
       "      <td>-1.436019</td>\n",
       "      <td>-1.193160</td>\n",
       "      <td>-0.820373</td>\n",
       "      <td>-1.237909</td>\n",
       "      <td>-0.539433</td>\n",
       "      <td>-0.275722</td>\n",
       "      <td>-1.178419</td>\n",
       "      <td>-1.079403</td>\n",
       "      <td>-0.902875</td>\n",
       "      <td>...</td>\n",
       "      <td>-0.307148</td>\n",
       "      <td>-0.006573</td>\n",
       "      <td>-0.009974</td>\n",
       "      <td>-0.061715</td>\n",
       "      <td>-0.673536</td>\n",
       "      <td>-0.789262</td>\n",
       "      <td>-0.764290</td>\n",
       "      <td>-0.454335</td>\n",
       "      <td>-0.226213</td>\n",
       "      <td>0.000000</td>\n",
       "    </tr>\n",
       "    <tr>\n",
       "      <th>25%</th>\n",
       "      <td>6183.000000</td>\n",
       "      <td>-0.801356</td>\n",
       "      <td>-0.782844</td>\n",
       "      <td>-0.510602</td>\n",
       "      <td>-0.691800</td>\n",
       "      <td>-0.503347</td>\n",
       "      <td>-0.275003</td>\n",
       "      <td>-0.763079</td>\n",
       "      <td>-0.720640</td>\n",
       "      <td>-0.622216</td>\n",
       "      <td>...</td>\n",
       "      <td>-0.035609</td>\n",
       "      <td>-0.006496</td>\n",
       "      <td>-0.009573</td>\n",
       "      <td>-0.004539</td>\n",
       "      <td>-0.135684</td>\n",
       "      <td>-0.161023</td>\n",
       "      <td>-0.187548</td>\n",
       "      <td>-0.276136</td>\n",
       "      <td>-0.206029</td>\n",
       "      <td>0.000000</td>\n",
       "    </tr>\n",
       "    <tr>\n",
       "      <th>50%</th>\n",
       "      <td>15256.000000</td>\n",
       "      <td>-0.203485</td>\n",
       "      <td>-0.280762</td>\n",
       "      <td>0.022490</td>\n",
       "      <td>-0.083542</td>\n",
       "      <td>-0.315609</td>\n",
       "      <td>-0.200939</td>\n",
       "      <td>-0.330713</td>\n",
       "      <td>-0.325545</td>\n",
       "      <td>-0.300920</td>\n",
       "      <td>...</td>\n",
       "      <td>0.340037</td>\n",
       "      <td>-0.006358</td>\n",
       "      <td>-0.008305</td>\n",
       "      <td>0.069830</td>\n",
       "      <td>0.735555</td>\n",
       "      <td>0.941759</td>\n",
       "      <td>0.837022</td>\n",
       "      <td>0.132907</td>\n",
       "      <td>-0.122524</td>\n",
       "      <td>0.000000</td>\n",
       "    </tr>\n",
       "    <tr>\n",
       "      <th>75%</th>\n",
       "      <td>22793.000000</td>\n",
       "      <td>0.654230</td>\n",
       "      <td>0.489773</td>\n",
       "      <td>1.022047</td>\n",
       "      <td>0.819126</td>\n",
       "      <td>0.237417</td>\n",
       "      <td>-0.003664</td>\n",
       "      <td>0.304251</td>\n",
       "      <td>0.288404</td>\n",
       "      <td>0.215834</td>\n",
       "      <td>...</td>\n",
       "      <td>1.061474</td>\n",
       "      <td>-0.006014</td>\n",
       "      <td>-0.003926</td>\n",
       "      <td>0.192378</td>\n",
       "      <td>2.394652</td>\n",
       "      <td>2.978786</td>\n",
       "      <td>2.931176</td>\n",
       "      <td>1.256794</td>\n",
       "      <td>0.284858</td>\n",
       "      <td>0.000000</td>\n",
       "    </tr>\n",
       "    <tr>\n",
       "      <th>max</th>\n",
       "      <td>33625.000000</td>\n",
       "      <td>3.813747</td>\n",
       "      <td>6.463927</td>\n",
       "      <td>22.534481</td>\n",
       "      <td>7.444731</td>\n",
       "      <td>12.376044</td>\n",
       "      <td>7.849310</td>\n",
       "      <td>7.288434</td>\n",
       "      <td>11.699579</td>\n",
       "      <td>16.508744</td>\n",
       "      <td>...</td>\n",
       "      <td>63.263704</td>\n",
       "      <td>0.035653</td>\n",
       "      <td>4.398932</td>\n",
       "      <td>6.323531</td>\n",
       "      <td>69.223975</td>\n",
       "      <td>53.248817</td>\n",
       "      <td>43.295025</td>\n",
       "      <td>80.473767</td>\n",
       "      <td>167.428043</td>\n",
       "      <td>4.000000</td>\n",
       "    </tr>\n",
       "  </tbody>\n",
       "</table>\n",
       "<p>8 rows × 108 columns</p>\n",
       "</div>"
      ],
      "text/plain": [
       "          vehicle_id      time_step          171_0          666_0  \\\n",
       "count  196227.000000  196227.000000  196227.000000  196227.000000   \n",
       "mean    15028.013107      -0.006836      -0.025719       0.560544   \n",
       "std      9656.122184       0.998160       0.988148       1.654574   \n",
       "min        10.000000      -1.436019      -1.193160      -0.820373   \n",
       "25%      6183.000000      -0.801356      -0.782844      -0.510602   \n",
       "50%     15256.000000      -0.203485      -0.280762       0.022490   \n",
       "75%     22793.000000       0.654230       0.489773       1.022047   \n",
       "max     33625.000000       3.813747       6.463927      22.534481   \n",
       "\n",
       "               427_0          837_0          167_0          167_1  \\\n",
       "count  196227.000000  196227.000000  196227.000000  196227.000000   \n",
       "mean        0.198814       0.126050      -0.025710      -0.091264   \n",
       "std         1.171644       1.130498       0.503400       0.931486   \n",
       "min        -1.237909      -0.539433      -0.275722      -1.178419   \n",
       "25%        -0.691800      -0.503347      -0.275003      -0.763079   \n",
       "50%        -0.083542      -0.315609      -0.200939      -0.330713   \n",
       "75%         0.819126       0.237417      -0.003664       0.304251   \n",
       "max         7.444731      12.376044       7.849310       7.288434   \n",
       "\n",
       "               167_2          167_3  ...         397_27         397_28  \\\n",
       "count  196227.000000  196227.000000  ...  196227.000000  196227.000000   \n",
       "mean       -0.073798      -0.049755  ...       0.860385      -0.005925   \n",
       "std         0.946425       0.928068  ...       1.887244       0.001670   \n",
       "min        -1.079403      -0.902875  ...      -0.307148      -0.006573   \n",
       "25%        -0.720640      -0.622216  ...      -0.035609      -0.006496   \n",
       "50%        -0.325545      -0.300920  ...       0.340037      -0.006358   \n",
       "75%         0.288404       0.215834  ...       1.061474      -0.006014   \n",
       "max        11.699579      16.508744  ...      63.263704       0.035653   \n",
       "\n",
       "              397_29         397_30         397_31         397_32  \\\n",
       "count  196227.000000  196227.000000  196227.000000  196227.000000   \n",
       "mean       -0.000637       0.140414       1.788012       2.089268   \n",
       "std         0.052424       0.258074       3.512291       3.599766   \n",
       "min        -0.009974      -0.061715      -0.673536      -0.789262   \n",
       "25%        -0.009573      -0.004539      -0.135684      -0.161023   \n",
       "50%        -0.008305       0.069830       0.735555       0.941759   \n",
       "75%        -0.003926       0.192378       2.394652       2.978786   \n",
       "max         4.398932       6.323531      69.223975      53.248817   \n",
       "\n",
       "              397_33         397_34         397_35    class_label  \n",
       "count  196227.000000  196227.000000  196227.000000  196227.000000  \n",
       "mean        2.131257       1.468246       0.795284       0.014183  \n",
       "std         3.788086       4.329545       4.203252       0.182807  \n",
       "min        -0.764290      -0.454335      -0.226213       0.000000  \n",
       "25%        -0.187548      -0.276136      -0.206029       0.000000  \n",
       "50%         0.837022       0.132907      -0.122524       0.000000  \n",
       "75%         2.931176       1.256794       0.284858       0.000000  \n",
       "max        43.295025      80.473767     167.428043       4.000000  \n",
       "\n",
       "[8 rows x 108 columns]"
      ]
     },
     "execution_count": 51,
     "metadata": {},
     "output_type": "execute_result"
    }
   ],
   "source": [
    "dfValidation.describe()"
   ]
  },
  {
   "cell_type": "markdown",
   "metadata": {},
   "source": [
    "# Augment data\n",
    "We want to get training data for the interesting classes. So we take all observations from the right where we have non-zero data and add them shifted in order to get more of the rare data points"
   ]
  },
  {
   "cell_type": "code",
   "execution_count": 57,
   "metadata": {},
   "outputs": [],
   "source": [
    "def augment_data(df):\n",
    "    df = df.copy()\n",
    "    #For each vechicle_id we have T observations. We want to get all observations up to T, then T-1, T-2 and so up to T-n\n",
    "    # We start by grouping by vehicle_id and then we will apply a function to each group\n",
    "\n",
    "    #This function will create a new dataframe with all the observations up to T, then T-1, T-2 and so on\n",
    "    def augment_group(group, max_n=20):\n",
    "        #Get the number of observations for this vehicle with non zero class labels\n",
    "        num_non_zero_class_labels = np.sum(group['class_label'] > 0) # We want to have at least one observation with a class label > 0\n",
    "        #print('num_non_zero_class_labels', num_non_zero_class_labels)\n",
    "        n = np.min([num_non_zero_class_labels + 1, max_n]) #Take all non_zero observations (plus one), but at most max_n\n",
    "        n = np.max([n, 1]) #at least one observation\n",
    "        #print('n', n)\n",
    "        vehic_id = group['vehicle_id'].iloc[0]\n",
    "        #print(vehic_id)\n",
    "\n",
    "        #Create a list of dataframes, where each dataframe is the original dataframe but shifted\n",
    "        dfs = [group.shift(i) for i in range(n)]\n",
    "\n",
    "        #Add the vehicle_id to each dataframe with the corresponding n value\n",
    "        for i, d in enumerate(dfs):\n",
    "            d['vehicle_id_aug'] = f\"{vehic_id}_{i}\"\n",
    "            \n",
    "        #print('len dfs', len(dfs))\n",
    "        #Concatenate all the dataframes\n",
    "        return pd.concat(dfs).dropna()\n",
    "    \n",
    "    #Group by vehicle_id and apply the function to each group\n",
    "    df = df.groupby('vehicle_id').apply(augment_group)\n",
    "    #Reset the index\n",
    "    df = df.reset_index(drop=True)\n",
    "    return df"
   ]
  },
  {
   "cell_type": "code",
   "execution_count": 58,
   "metadata": {},
   "outputs": [
    {
     "name": "stdout",
     "output_type": "stream",
     "text": [
      "Before augmentation: (919315, 116)\n",
      "After augmentation: (2025833, 117)\n"
     ]
    }
   ],
   "source": [
    "print('Before augmentation:', dfTrain.shape)\n",
    "dfTrainAugmented = augment_data(dfTrain)\n",
    "print('After augmentation:', dfTrainAugmented.shape)"
   ]
  },
  {
   "cell_type": "code",
   "execution_count": 60,
   "metadata": {},
   "outputs": [
    {
     "name": "stdout",
     "output_type": "stream",
     "text": [
      "Before: class_label\n",
      "0    893575\n",
      "1     12503\n",
      "2      6179\n",
      "4      3858\n",
      "3      3200\n",
      "Name: count, dtype: int64)\n",
      "After: class_label\n",
      "0.0    1841857\n",
      "1.0     128769\n",
      "2.0      36731\n",
      "3.0      11424\n",
      "4.0       7052\n",
      "Name: count, dtype: int64)\n"
     ]
    }
   ],
   "source": [
    "print(f'Before: {dfTrain[\"class_label\"].value_counts()})')\n",
    "print(f'After: {dfTrainAugmented[\"class_label\"].value_counts()})')"
   ]
  },
  {
   "cell_type": "code",
   "execution_count": 62,
   "metadata": {},
   "outputs": [],
   "source": [
    "# Group by vechicle_id and get the last target_value for each vehicle, this is now our y\n",
    "#yTrain = dfTrain.groupby('vehicle_id').last()['class_label']\n",
    "yTrain = dfTrainAugmented.groupby('vehicle_id_aug').last()['class_label'].astype(int)  \n",
    "yValidation = dfValidation.groupby('vehicle_id').last()['class_label'].astype(int)\n",
    "#No target for test data\n",
    "\n",
    "#For each vechicle_id create a matrix of all the features in order of time_step\n",
    "#This will be our X\n",
    "XTrain = dfTrainAugmented.drop(columns=['class_label']).groupby('vehicle_id_aug').apply(lambda x: x.drop(columns=['vehicle_id', 'vehicle_id_aug']).values)\n",
    "XValidation = dfValidation.drop(columns=['class_label']).groupby('vehicle_id').apply(lambda x: x.drop(columns=['vehicle_id']).values)\n",
    "\n",
    "#No class label for test data\n",
    "XTest = dfTest.groupby('vehicle_id').apply(lambda x: x.drop(columns=['vehicle_id']).values)\n",
    "\n",
    "#Convert to numpy arrays\n",
    "XTrain = np.array(XTrain)\n",
    "XValidation = np.array(XValidation)\n",
    "XTest = np.array(XTest)"
   ]
  },
  {
   "cell_type": "code",
   "execution_count": 63,
   "metadata": {},
   "outputs": [
    {
     "data": {
      "text/plain": [
       "((153, 114), (102, 114), (70, 114))"
      ]
     },
     "execution_count": 63,
     "metadata": {},
     "output_type": "execute_result"
    }
   ],
   "source": [
    "XTrain[0].shape, XValidation[0].shape, XTest[0].shape"
   ]
  },
  {
   "cell_type": "code",
   "execution_count": 64,
   "metadata": {},
   "outputs": [
    {
     "data": {
      "text/plain": [
       "((48659,), (5046,), (5045,))"
      ]
     },
     "execution_count": 64,
     "metadata": {},
     "output_type": "execute_result"
    }
   ],
   "source": [
    "XTrain.shape, XValidation.shape, XTest.shape"
   ]
  },
  {
   "cell_type": "code",
   "execution_count": 65,
   "metadata": {},
   "outputs": [
    {
     "data": {
      "text/plain": [
       "class_label\n",
       "0    23415\n",
       "1    12020\n",
       "2     6167\n",
       "4     3858\n",
       "3     3199\n",
       "Name: count, dtype: int64"
      ]
     },
     "execution_count": 65,
     "metadata": {},
     "output_type": "execute_result"
    }
   ],
   "source": [
    "yTrain.value_counts()"
   ]
  },
  {
   "cell_type": "code",
   "execution_count": 66,
   "metadata": {},
   "outputs": [
    {
     "data": {
      "text/plain": [
       "class_label\n",
       "0    4910\n",
       "4      76\n",
       "3      30\n",
       "1      16\n",
       "2      14\n",
       "Name: count, dtype: int64"
      ]
     },
     "execution_count": 66,
     "metadata": {},
     "output_type": "execute_result"
    }
   ],
   "source": [
    "yValidation.value_counts()"
   ]
  },
  {
   "cell_type": "code",
   "execution_count": 67,
   "metadata": {},
   "outputs": [
    {
     "data": {
      "text/html": [
       "<div>\n",
       "<style scoped>\n",
       "    .dataframe tbody tr th:only-of-type {\n",
       "        vertical-align: middle;\n",
       "    }\n",
       "\n",
       "    .dataframe tbody tr th {\n",
       "        vertical-align: top;\n",
       "    }\n",
       "\n",
       "    .dataframe thead th {\n",
       "        text-align: right;\n",
       "    }\n",
       "</style>\n",
       "<table border=\"1\" class=\"dataframe\">\n",
       "  <thead>\n",
       "    <tr style=\"text-align: right;\">\n",
       "      <th></th>\n",
       "      <th>vehicle_id</th>\n",
       "      <th>time_step</th>\n",
       "      <th>171_0</th>\n",
       "      <th>666_0</th>\n",
       "      <th>427_0</th>\n",
       "      <th>837_0</th>\n",
       "      <th>167_0</th>\n",
       "      <th>167_1</th>\n",
       "      <th>167_2</th>\n",
       "      <th>167_3</th>\n",
       "      <th>...</th>\n",
       "      <th>397_35</th>\n",
       "      <th>Spec_0</th>\n",
       "      <th>Spec_1</th>\n",
       "      <th>Spec_2</th>\n",
       "      <th>Spec_3</th>\n",
       "      <th>Spec_4</th>\n",
       "      <th>Spec_5</th>\n",
       "      <th>Spec_6</th>\n",
       "      <th>Spec_7</th>\n",
       "      <th>class_label</th>\n",
       "    </tr>\n",
       "  </thead>\n",
       "  <tbody>\n",
       "    <tr>\n",
       "      <th>0</th>\n",
       "      <td>0</td>\n",
       "      <td>-1.307246</td>\n",
       "      <td>-1.127307</td>\n",
       "      <td>-0.739064</td>\n",
       "      <td>-1.158006</td>\n",
       "      <td>-0.507713</td>\n",
       "      <td>-0.170246</td>\n",
       "      <td>-0.915208</td>\n",
       "      <td>-0.95772</td>\n",
       "      <td>-0.854462</td>\n",
       "      <td>...</td>\n",
       "      <td>-0.179901</td>\n",
       "      <td>0</td>\n",
       "      <td>0</td>\n",
       "      <td>0</td>\n",
       "      <td>0</td>\n",
       "      <td>0</td>\n",
       "      <td>0</td>\n",
       "      <td>0</td>\n",
       "      <td>0</td>\n",
       "      <td>0</td>\n",
       "    </tr>\n",
       "    <tr>\n",
       "      <th>1</th>\n",
       "      <td>0</td>\n",
       "      <td>-1.304947</td>\n",
       "      <td>-1.127307</td>\n",
       "      <td>-0.739064</td>\n",
       "      <td>-1.158006</td>\n",
       "      <td>-0.507713</td>\n",
       "      <td>-0.170220</td>\n",
       "      <td>-0.913899</td>\n",
       "      <td>-0.95772</td>\n",
       "      <td>-0.854462</td>\n",
       "      <td>...</td>\n",
       "      <td>-0.179901</td>\n",
       "      <td>0</td>\n",
       "      <td>0</td>\n",
       "      <td>0</td>\n",
       "      <td>0</td>\n",
       "      <td>0</td>\n",
       "      <td>0</td>\n",
       "      <td>0</td>\n",
       "      <td>0</td>\n",
       "      <td>0</td>\n",
       "    </tr>\n",
       "    <tr>\n",
       "      <th>2</th>\n",
       "      <td>0</td>\n",
       "      <td>-1.210667</td>\n",
       "      <td>-1.063137</td>\n",
       "      <td>-0.710888</td>\n",
       "      <td>-1.090373</td>\n",
       "      <td>-0.503513</td>\n",
       "      <td>-0.170220</td>\n",
       "      <td>-0.913899</td>\n",
       "      <td>-0.95772</td>\n",
       "      <td>-0.854462</td>\n",
       "      <td>...</td>\n",
       "      <td>-0.179901</td>\n",
       "      <td>0</td>\n",
       "      <td>0</td>\n",
       "      <td>0</td>\n",
       "      <td>0</td>\n",
       "      <td>0</td>\n",
       "      <td>0</td>\n",
       "      <td>0</td>\n",
       "      <td>0</td>\n",
       "      <td>0</td>\n",
       "    </tr>\n",
       "    <tr>\n",
       "      <th>3</th>\n",
       "      <td>0</td>\n",
       "      <td>-1.203769</td>\n",
       "      <td>-1.053985</td>\n",
       "      <td>-0.707194</td>\n",
       "      <td>-1.081130</td>\n",
       "      <td>-0.503292</td>\n",
       "      <td>-0.170220</td>\n",
       "      <td>-0.913899</td>\n",
       "      <td>-0.95772</td>\n",
       "      <td>-0.854462</td>\n",
       "      <td>...</td>\n",
       "      <td>-0.179799</td>\n",
       "      <td>0</td>\n",
       "      <td>0</td>\n",
       "      <td>0</td>\n",
       "      <td>0</td>\n",
       "      <td>0</td>\n",
       "      <td>0</td>\n",
       "      <td>0</td>\n",
       "      <td>0</td>\n",
       "      <td>0</td>\n",
       "    </tr>\n",
       "    <tr>\n",
       "      <th>4</th>\n",
       "      <td>0</td>\n",
       "      <td>-1.194571</td>\n",
       "      <td>-1.049838</td>\n",
       "      <td>-0.705083</td>\n",
       "      <td>-1.076529</td>\n",
       "      <td>-0.501855</td>\n",
       "      <td>-0.170220</td>\n",
       "      <td>-0.913899</td>\n",
       "      <td>-0.95772</td>\n",
       "      <td>-0.854462</td>\n",
       "      <td>...</td>\n",
       "      <td>-0.179696</td>\n",
       "      <td>0</td>\n",
       "      <td>0</td>\n",
       "      <td>0</td>\n",
       "      <td>0</td>\n",
       "      <td>0</td>\n",
       "      <td>0</td>\n",
       "      <td>0</td>\n",
       "      <td>0</td>\n",
       "      <td>0</td>\n",
       "    </tr>\n",
       "  </tbody>\n",
       "</table>\n",
       "<p>5 rows × 116 columns</p>\n",
       "</div>"
      ],
      "text/plain": [
       "   vehicle_id  time_step     171_0     666_0     427_0     837_0     167_0  \\\n",
       "0           0  -1.307246 -1.127307 -0.739064 -1.158006 -0.507713 -0.170246   \n",
       "1           0  -1.304947 -1.127307 -0.739064 -1.158006 -0.507713 -0.170220   \n",
       "2           0  -1.210667 -1.063137 -0.710888 -1.090373 -0.503513 -0.170220   \n",
       "3           0  -1.203769 -1.053985 -0.707194 -1.081130 -0.503292 -0.170220   \n",
       "4           0  -1.194571 -1.049838 -0.705083 -1.076529 -0.501855 -0.170220   \n",
       "\n",
       "      167_1    167_2     167_3  ...    397_35  Spec_0  Spec_1  Spec_2  Spec_3  \\\n",
       "0 -0.915208 -0.95772 -0.854462  ... -0.179901       0       0       0       0   \n",
       "1 -0.913899 -0.95772 -0.854462  ... -0.179901       0       0       0       0   \n",
       "2 -0.913899 -0.95772 -0.854462  ... -0.179901       0       0       0       0   \n",
       "3 -0.913899 -0.95772 -0.854462  ... -0.179799       0       0       0       0   \n",
       "4 -0.913899 -0.95772 -0.854462  ... -0.179696       0       0       0       0   \n",
       "\n",
       "   Spec_4  Spec_5  Spec_6  Spec_7  class_label  \n",
       "0       0       0       0       0            0  \n",
       "1       0       0       0       0            0  \n",
       "2       0       0       0       0            0  \n",
       "3       0       0       0       0            0  \n",
       "4       0       0       0       0            0  \n",
       "\n",
       "[5 rows x 116 columns]"
      ]
     },
     "execution_count": 67,
     "metadata": {},
     "output_type": "execute_result"
    }
   ],
   "source": [
    "dfTrain.head()"
   ]
  },
  {
   "cell_type": "code",
   "execution_count": 69,
   "metadata": {},
   "outputs": [],
   "source": [
    "# We want to create feature inputs for the torch model\n",
    "# Shape should be (n_vehicles, n_timesteps, n_features)\n",
    "# We need to pad the sequences with zeros to make them the same length\n",
    "def pad_sequences(X, max_length=256):\n",
    "    \n",
    "    #Create a tensor for the sequences\n",
    "    X_padded = np.zeros((len(X), max_length, X[0].shape[1]), dtype=np.float32)\n",
    "\n",
    "    #Pad the sequences with zeros\n",
    "    for i, x in enumerate(X):\n",
    "        length = x.shape[0]\n",
    "        X_padded[i, :length] = x[-max_length:] #Only keep the last max_length time steps    \n",
    "\n",
    "    return X_padded"
   ]
  },
  {
   "cell_type": "code",
   "execution_count": 70,
   "metadata": {},
   "outputs": [],
   "source": [
    "# max_length = 256\n",
    "max_length = 128\n",
    "XPaddedTrain = pad_sequences(XTrain, max_length=max_length)\n",
    "XPaddedValidation = pad_sequences(XValidation, max_length=max_length)\n",
    "XPaddedTest = pad_sequences(XTest, max_length=max_length)"
   ]
  },
  {
   "cell_type": "code",
   "execution_count": 71,
   "metadata": {},
   "outputs": [],
   "source": [
    "#Convert to tensors\n",
    "XTrain = torch.tensor(XPaddedTrain, dtype=torch.float32)\n",
    "yTrain = torch.tensor(yTrain.values, dtype=torch.int64)\n",
    "\n",
    "XValidation = torch.tensor(XPaddedValidation, dtype=torch.float32)\n",
    "yValidation = torch.tensor(yValidation.values, dtype=torch.int64)\n",
    "\n",
    "XTest = torch.tensor(XPaddedTest, dtype=torch.float32)\n"
   ]
  },
  {
   "cell_type": "code",
   "execution_count": 72,
   "metadata": {},
   "outputs": [
    {
     "data": {
      "text/plain": [
       "torch.Size([48659, 128, 114])"
      ]
     },
     "execution_count": 72,
     "metadata": {},
     "output_type": "execute_result"
    }
   ],
   "source": [
    "XTrain.shape"
   ]
  },
  {
   "cell_type": "code",
   "execution_count": 79,
   "metadata": {},
   "outputs": [
    {
     "data": {
      "text/plain": [
       "[3, 29, 21, 4, 2, 5, 17, 9]"
      ]
     },
     "execution_count": 79,
     "metadata": {},
     "output_type": "execute_result"
    }
   ],
   "source": [
    "num_categories_per_spec"
   ]
  },
  {
   "cell_type": "code",
   "execution_count": 81,
   "metadata": {},
   "outputs": [
    {
     "data": {
      "text/plain": [
       "torch.Size([3, 128, 8])"
      ]
     },
     "execution_count": 81,
     "metadata": {},
     "output_type": "execute_result"
    }
   ],
   "source": [
    "XOst = XTrain[0:3,:,-8:]\n",
    "XOst.shape"
   ]
  },
  {
   "cell_type": "code",
   "execution_count": 88,
   "metadata": {},
   "outputs": [
    {
     "ename": "TypeError",
     "evalue": "empty() received an invalid combination of arguments - got (tuple, dtype=NoneType, device=NoneType), but expected one of:\n * (tuple of ints size, *, tuple of names names, torch.memory_format memory_format, torch.dtype dtype, torch.layout layout, torch.device device, bool pin_memory, bool requires_grad)\n * (tuple of ints size, *, torch.memory_format memory_format, Tensor out, torch.dtype dtype, torch.layout layout, torch.device device, bool pin_memory, bool requires_grad)\n",
     "output_type": "error",
     "traceback": [
      "\u001b[1;31m---------------------------------------------------------------------------\u001b[0m",
      "\u001b[1;31mTypeError\u001b[0m                                 Traceback (most recent call last)",
      "Cell \u001b[1;32mIn[88], line 1\u001b[0m\n\u001b[1;32m----> 1\u001b[0m emb \u001b[38;5;241m=\u001b[39m \u001b[43mnn\u001b[49m\u001b[38;5;241;43m.\u001b[39;49m\u001b[43mEmbedding\u001b[49m\u001b[43m(\u001b[49m\u001b[43m[\u001b[49m\u001b[38;5;241;43m29\u001b[39;49m\u001b[43m,\u001b[49m\u001b[38;5;241;43m9\u001b[39;49m\u001b[43m]\u001b[49m\u001b[43m,\u001b[49m\u001b[38;5;241;43m5\u001b[39;49m\u001b[43m)\u001b[49m\n",
      "File \u001b[1;32m~\\AppData\\Roaming\\Python\\Python38\\site-packages\\torch\\nn\\modules\\sparse.py:142\u001b[0m, in \u001b[0;36mEmbedding.__init__\u001b[1;34m(self, num_embeddings, embedding_dim, padding_idx, max_norm, norm_type, scale_grad_by_freq, sparse, _weight, _freeze, device, dtype)\u001b[0m\n\u001b[0;32m    140\u001b[0m \u001b[38;5;28mself\u001b[39m\u001b[38;5;241m.\u001b[39mscale_grad_by_freq \u001b[38;5;241m=\u001b[39m scale_grad_by_freq\n\u001b[0;32m    141\u001b[0m \u001b[38;5;28;01mif\u001b[39;00m _weight \u001b[38;5;129;01mis\u001b[39;00m \u001b[38;5;28;01mNone\u001b[39;00m:\n\u001b[1;32m--> 142\u001b[0m     \u001b[38;5;28mself\u001b[39m\u001b[38;5;241m.\u001b[39mweight \u001b[38;5;241m=\u001b[39m Parameter(\u001b[43mtorch\u001b[49m\u001b[38;5;241;43m.\u001b[39;49m\u001b[43mempty\u001b[49m\u001b[43m(\u001b[49m\u001b[43m(\u001b[49m\u001b[43mnum_embeddings\u001b[49m\u001b[43m,\u001b[49m\u001b[43m \u001b[49m\u001b[43membedding_dim\u001b[49m\u001b[43m)\u001b[49m\u001b[43m,\u001b[49m\u001b[43m \u001b[49m\u001b[38;5;241;43m*\u001b[39;49m\u001b[38;5;241;43m*\u001b[39;49m\u001b[43mfactory_kwargs\u001b[49m\u001b[43m)\u001b[49m,\n\u001b[0;32m    143\u001b[0m                             requires_grad\u001b[38;5;241m=\u001b[39m\u001b[38;5;129;01mnot\u001b[39;00m _freeze)\n\u001b[0;32m    144\u001b[0m     \u001b[38;5;28mself\u001b[39m\u001b[38;5;241m.\u001b[39mreset_parameters()\n\u001b[0;32m    145\u001b[0m \u001b[38;5;28;01melse\u001b[39;00m:\n",
      "\u001b[1;31mTypeError\u001b[0m: empty() received an invalid combination of arguments - got (tuple, dtype=NoneType, device=NoneType), but expected one of:\n * (tuple of ints size, *, tuple of names names, torch.memory_format memory_format, torch.dtype dtype, torch.layout layout, torch.device device, bool pin_memory, bool requires_grad)\n * (tuple of ints size, *, torch.memory_format memory_format, Tensor out, torch.dtype dtype, torch.layout layout, torch.device device, bool pin_memory, bool requires_grad)\n"
     ]
    }
   ],
   "source": [
    "emb = nn.Embedding([29,9],5)"
   ]
  },
  {
   "cell_type": "code",
   "execution_count": 86,
   "metadata": {},
   "outputs": [
    {
     "data": {
      "text/plain": [
       "tensor([[ 0.8443, -0.0667,  2.3514,  0.9250,  0.6889]],\n",
       "       grad_fn=<EmbeddingBackward0>)"
      ]
     },
     "execution_count": 86,
     "metadata": {},
     "output_type": "execute_result"
    }
   ],
   "source": [
    "emb(torch.tensor([1]))"
   ]
  },
  {
   "cell_type": "code",
   "execution_count": 102,
   "metadata": {},
   "outputs": [],
   "source": [
    "# Create a pyTorch Transformer model that takes a sequence of features and outputs a class label\n",
    "# The model should not have an embedding layer, rather the features should be used directly one for each position\n",
    "# The input should be of shape (batch_size, sequence_length, n_features)\n",
    "# The position of the features should be encoded using positional encoding\n",
    "\n",
    "\n",
    "class XTransformer(nn.Module):\n",
    "    def __init__(self, n_features_non_categorigal, categorical_feature_counts, categorical_embedding_dim, n_classes, n_layers=6, n_heads=8, max_time_steps=256, hidden_size=512, dropout=0.1, dim_feedforward=2048):\n",
    "        super(XTransformer, self).__init__()\n",
    "        self.n_features_non_categorigal = n_features_non_categorigal\n",
    "        self.categorical_feature_counts = categorical_feature_counts\n",
    "        self.categorical_embedding_dim = categorical_embedding_dim\n",
    "        self.n_classes = n_classes\n",
    "        self.n_layers = n_layers\n",
    "        self.n_heads = n_heads\n",
    "        self.max_time_steps = max_time_steps\n",
    "        self.dim_feedforward = dim_feedforward\n",
    "        self.hidden_size = hidden_size\n",
    "        self.dropout_rate = dropout\n",
    "        self.dropout_layer = nn.Dropout(dropout)\n",
    "        self.categorical_embeddings = nn.ModuleList([\n",
    "            nn.Embedding(num_embeddings, categorical_embedding_dim) for num_embeddings in categorical_feature_counts\n",
    "        ])\n",
    "\n",
    "        # Calculate the total number of features after embedding\n",
    "        self.n_features = n_features_non_categorigal + len(categorical_feature_counts) * categorical_embedding_dim\n",
    " \n",
    "        self.input_layer = nn.Linear(self.n_features, hidden_size)\n",
    "        # Positional embedding\n",
    "        self.position_embedding = nn.Embedding(max_time_steps, embedding_dim=hidden_size)\n",
    "        \n",
    "        self.layer_norm1 = nn.LayerNorm(self.n_features)\n",
    "        self.layer_norm2 = nn.LayerNorm(hidden_size)\n",
    "\n",
    "        self.input_batch_norm = nn.BatchNorm1d(hidden_size)  # Batch norm after input layer\n",
    "\n",
    "        # Transformer layers\n",
    "        self.transformer_layers = nn.ModuleList([\n",
    "            nn.TransformerEncoderLayer(\n",
    "                d_model=hidden_size, \n",
    "                nhead=n_heads, \n",
    "                dropout=dropout,\n",
    "                dim_feedforward=dim_feedforward,\n",
    "                batch_first=True,\n",
    "                norm_first=True\n",
    "                ) for _ in range(n_layers)])\n",
    "\n",
    "        # Output layer\n",
    "        self.output_layer = nn.Linear(hidden_size, n_classes)\n",
    "\n",
    "    def forward(self, x):\n",
    "\n",
    "        B, T, C = x.shape\n",
    "        device = x.device\n",
    "\n",
    "        #The last features are categorical\n",
    "        num_categorical_features = len(self.categorical_feature_counts)\n",
    "        x_non_categorigal = x[:, :, :-num_categorical_features]\n",
    "        \n",
    "        x_categorigal = x[:, :, -num_categorical_features:]   \n",
    "        #Make sure the categorical features are integers\n",
    "        x_categorigal = x_categorigal.long()\n",
    "\n",
    "        # Embed the categorical features\n",
    "        x_categorigal = [emb(x_categorigal[:, :, i]) for i, emb in enumerate(self.categorical_embeddings)]\n",
    "        x_categorigal = torch.cat(x_categorigal, dim=-1)\n",
    "\n",
    "        # Concatenate the non-categorical and categorical features\n",
    "        x = torch.cat([x_non_categorigal, x_categorigal], dim=-1)\n",
    "\n",
    "        # Input layer, normalize and apply dropout\n",
    "        x = self.layer_norm1(x)\n",
    "        x = self.dropout_layer(x)\n",
    "\n",
    "        #FC layer, to get to the correct hidden size\n",
    "        x = self.input_layer(x)\n",
    "\n",
    "        # Apply batch normalization on input features\n",
    "        x = self.input_batch_norm(x.view(-1, x.shape[-1])).view(B, T, -1)\n",
    "\n",
    "        # Add positional encoding\n",
    "        position_ids = torch.arange(T, device=device).unsqueeze(0).repeat(B, 1)  # Expand to batch size\n",
    "        pos_emb = self.position_embedding(position_ids)  # (B, T, hidden_size)\n",
    "        x = x + pos_emb #(B, T, C)\n",
    "\n",
    "        #Dropout\n",
    "        x = self.dropout_layer(x)\n",
    "\n",
    "        # Transformer layers\n",
    "        for layer in self.transformer_layers:\n",
    "            x = layer(x)\n",
    "\n",
    "\n",
    "        # Normalize and apply dropout\n",
    "        x = self.layer_norm2(x)\n",
    "        \n",
    "        #Dropout\n",
    "        x = self.dropout_layer(x)\n",
    "        \n",
    "        # Output layer\n",
    "        x = self.output_layer(x)\n",
    "\n",
    "        # Only keep the last time step\n",
    "        x = x.mean(dim=1).squeeze()\n",
    "        #x = x[:, -1, :].squeeze()\n",
    "\n",
    "        return x\n"
   ]
  },
  {
   "cell_type": "code",
   "execution_count": 31,
   "metadata": {},
   "outputs": [
    {
     "data": {
      "text/plain": [
       "tensor([0, 1, 2, 3, 4])"
      ]
     },
     "execution_count": 31,
     "metadata": {},
     "output_type": "execute_result"
    }
   ],
   "source": [
    "yTrain.unique()"
   ]
  },
  {
   "cell_type": "code",
   "execution_count": 90,
   "metadata": {},
   "outputs": [
    {
     "name": "stdout",
     "output_type": "stream",
     "text": [
      "device: cuda\n"
     ]
    }
   ],
   "source": [
    "# Get the current device\n",
    "device = torch.device(\"cuda\" if torch.cuda.is_available() else \"cpu\")\n",
    "print(f'device: {device}')"
   ]
  },
  {
   "cell_type": "code",
   "execution_count": 91,
   "metadata": {},
   "outputs": [
    {
     "data": {
      "text/plain": [
       "torch.Size([48659, 128, 114])"
      ]
     },
     "execution_count": 91,
     "metadata": {},
     "output_type": "execute_result"
    }
   ],
   "source": [
    "XTrain.shape"
   ]
  },
  {
   "cell_type": "code",
   "execution_count": 92,
   "metadata": {},
   "outputs": [
    {
     "data": {
      "text/plain": [
       "[3, 29, 21, 4, 2, 5, 17, 9]"
      ]
     },
     "execution_count": 92,
     "metadata": {},
     "output_type": "execute_result"
    }
   ],
   "source": [
    "num_categories_per_spec"
   ]
  },
  {
   "cell_type": "code",
   "execution_count": 103,
   "metadata": {},
   "outputs": [],
   "source": [
    "#model = XTransformer(n_features=XTrain.shape[2], n_classes=5, dropout=0.1, n_layers=3, n_heads=8, max_time_steps=XTrain.shape[1], hidden_size=512, dim_feedforward=2048)\n",
    "#model = XTransformer(n_features=XTrain.shape[2], n_classes=5, dropout=0.2, n_layers=3, n_heads=8, max_time_steps=XTrain.shape[1], hidden_size=512, dim_feedforward=2048)\n",
    "model = XTransformer(n_features_non_categorigal=XTrain.shape[2]-len(num_categories_per_spec), categorical_feature_counts=num_categories_per_spec, categorical_embedding_dim=5, n_classes=5, dropout=0.1, n_layers=3, n_heads=8, max_time_steps=XTrain.shape[1], hidden_size=512, dim_feedforward=2048)"
   ]
  },
  {
   "cell_type": "code",
   "execution_count": 106,
   "metadata": {},
   "outputs": [],
   "source": [
    "#Send model to device\n",
    "model = model.to(device)\n"
   ]
  },
  {
   "cell_type": "markdown",
   "metadata": {},
   "source": [
    "# Create weighted samples\n",
    "We need to train the model on a balanced training set, in order to minimize mitigate the effect of inbalance.\n"
   ]
  },
  {
   "cell_type": "code",
   "execution_count": 107,
   "metadata": {},
   "outputs": [],
   "source": [
    "# Batch the data\n",
    "batch_size = 1024\n",
    "#batch_size = 5*100\n",
    "num_workers = 6\n",
    "\n",
    "\n",
    "#Calculate the class weights\n",
    "class_weights = 1.0 / torch.tensor([len(yTrain[yTrain == i]) for i in range(5)], dtype=torch.float32, device=device)\n",
    "\n",
    "# Create a sampler for the data\n",
    "weights = class_weights[yTrain]\n",
    "sampler = torch.utils.data.sampler.WeightedRandomSampler(weights, len(weights))\n",
    "\n",
    "train_data = torch.utils.data.TensorDataset(XTrain, yTrain)\n",
    "\n",
    "# Create a DataLoader that samples from the WeightedRandomSampler\n",
    "train_loader= torch.utils.data.DataLoader(train_data, batch_size=batch_size, sampler=sampler, num_workers=num_workers)\n",
    "\n",
    "#Same for validation data, but without the weighted classes\n",
    "validation_data = torch.utils.data.TensorDataset(XValidation, yValidation)\n",
    "validation_loader = torch.utils.data.DataLoader(validation_data, batch_size=batch_size, shuffle=False, num_workers=num_workers)"
   ]
  },
  {
   "cell_type": "code",
   "execution_count": 72,
   "metadata": {},
   "outputs": [],
   "source": [
    "# # Get a mini batch\n",
    "# num_workers = 6\n",
    "# XMini, yMini = next(iter(train_loader))\n",
    "# #Creata a train_data with mini-data\n",
    "# #mini_batch_size = 512\n",
    "# train_data_mini = torch.utils.data.TensorDataset(XMini, yMini)\n",
    "# train_loader_mini = torch.utils.data.DataLoader(train_data_mini, batch_size=batch_size, shuffle=True, num_workers=num_workers)\n",
    "# train_loader = train_loader_mini\n",
    "# #validation_loader = train_loader_mini"
   ]
  },
  {
   "cell_type": "code",
   "execution_count": 73,
   "metadata": {},
   "outputs": [],
   "source": [
    "# # Get a mini validation loader too\n",
    "\n",
    "# #Calculate the class weights\n",
    "# class_weights = 1.0 / torch.tensor([len(yValidation[yValidation == i]) for i in range(5)], dtype=torch.float32, device=device)\n",
    "\n",
    "# # Create a sampler for the data\n",
    "# weights = class_weights[yValidation]\n",
    "# sampler = torch.utils.data.sampler.WeightedRandomSampler(weights, len(weights))\n",
    "\n",
    "# validation_data = torch.utils.data.TensorDataset(XValidation, yValidation)\n",
    "\n",
    "# # Create a DataLoader that samples from the WeightedRandomSampler\n",
    "# train_loader_mini= torch.utils.data.DataLoader(validation_data, batch_size=batch_size, sampler=sampler)\n",
    "\n",
    "# XValMini, yValMini = next(iter(train_loader_mini))\n",
    "\n",
    "\n",
    "# validation_data_mini = torch.utils.data.TensorDataset(XValMini, yValMini)\n",
    "# train_loader_mini = torch.utils.data.DataLoader(validation_data_mini, batch_size=batch_size, shuffle=False, num_workers=num_workers)\n",
    "# validation_loader = train_loader_mini\n",
    "# plt.hist(np.array(yMini),5)"
   ]
  },
  {
   "cell_type": "code",
   "execution_count": 108,
   "metadata": {},
   "outputs": [],
   "source": [
    "# Define the loss function and optimizer\n",
    "# We need to weight the classes since they are imbalanced\n",
    "import torch.optim as optim\n",
    "from sklearn.utils.class_weight import compute_class_weight\n",
    "#Find the class weights\n",
    "#class_weights = 1.0 / torch.tensor([len(yTrain[yTrain == i]) for i in range(5)], dtype=torch.float32, device=device)\n",
    "\n",
    "\n",
    "# classes = np.unique(np.array(yTrain))\n",
    "# # Compute class weights\n",
    "# class_weights = compute_class_weight(class_weight='balanced', classes=classes, y=np.array(yTrain))\n",
    "\n",
    "# class_weights = torch.tensor(class_weights, dtype=torch.float32, device=device)\n",
    "\n",
    "\n",
    "#Create a optimizer and loss function\n",
    "#criterion = nn.CrossEntropyLoss(weight=class_weights)\n",
    "\n",
    "criterion = nn.CrossEntropyLoss() #We will use class weights when sampling the data instead\n",
    "#optimizer = optim.Adam(model.parameters(), lr=0.001)\n",
    "#optimizer = optim.AdamW(model.parameters(), lr=0.0003, weight_decay=0.01)\n",
    "optimizer = optim.AdamW(model.parameters(), lr=0.0006, weight_decay=0.01)\n",
    "\n",
    "#Create a loss function for the validation data\n",
    "class_weights_val = 1.0 / torch.tensor([len(yValidation[yValidation == i]) for i in range(5)], dtype=torch.float32, device=device)\n",
    "criterion_val = nn.CrossEntropyLoss(weight=class_weights_val)\n",
    "\n",
    "scheduler = optim.lr_scheduler.StepLR(optimizer, step_size=5, gamma=0.1)"
   ]
  },
  {
   "cell_type": "code",
   "execution_count": 109,
   "metadata": {},
   "outputs": [],
   "source": [
    "loss_train = []\n",
    "loss_validation = []\n",
    "epochs = 25\n",
    "checkpoint_path = 'model4.pth'\n",
    "best_validation_loss = 1e9\n",
    "clip_value = 1.5  # Define the clip value for gradient clipping\n"
   ]
  },
  {
   "cell_type": "code",
   "execution_count": 110,
   "metadata": {},
   "outputs": [
    {
     "data": {
      "application/json": {
       "ascii": false,
       "bar_format": null,
       "colour": null,
       "elapsed": 0.0055141448974609375,
       "initial": 0,
       "n": 0,
       "ncols": null,
       "nrows": null,
       "postfix": null,
       "prefix": "Epoch 1/25 [Training]",
       "rate": null,
       "total": 48,
       "unit": "it",
       "unit_divisor": 1000,
       "unit_scale": false
      },
      "application/vnd.jupyter.widget-view+json": {
       "model_id": "947cb28906a34ce3a83cdac97a84672b",
       "version_major": 2,
       "version_minor": 0
      },
      "text/plain": [
       "Epoch 1/25 [Training]:   0%|          | 0/48 [00:00<?, ?it/s]"
      ]
     },
     "metadata": {},
     "output_type": "display_data"
    },
    {
     "name": "stdout",
     "output_type": "stream",
     "text": [
      "Saving model with validation loss 1.5941\n",
      "Epoch 1, loss_train: 1.7276, loss_validation: 1.5941, accuracy_train: 0.2595, accuracy_validation: 0.3458\n"
     ]
    },
    {
     "data": {
      "application/json": {
       "ascii": false,
       "bar_format": null,
       "colour": null,
       "elapsed": 0.005999565124511719,
       "initial": 0,
       "n": 0,
       "ncols": null,
       "nrows": null,
       "postfix": null,
       "prefix": "Epoch 2/25 [Training]",
       "rate": null,
       "total": 48,
       "unit": "it",
       "unit_divisor": 1000,
       "unit_scale": false
      },
      "application/vnd.jupyter.widget-view+json": {
       "model_id": "417c4f138fc74e3f9cddeef56f57bf12",
       "version_major": 2,
       "version_minor": 0
      },
      "text/plain": [
       "Epoch 2/25 [Training]:   0%|          | 0/48 [00:00<?, ?it/s]"
      ]
     },
     "metadata": {},
     "output_type": "display_data"
    },
    {
     "name": "stdout",
     "output_type": "stream",
     "text": [
      "Epoch 2, loss_train: 1.5177, loss_validation: 1.5987, accuracy_train: 0.3008, accuracy_validation: 0.2939\n"
     ]
    },
    {
     "data": {
      "application/json": {
       "ascii": false,
       "bar_format": null,
       "colour": null,
       "elapsed": 0.005003690719604492,
       "initial": 0,
       "n": 0,
       "ncols": null,
       "nrows": null,
       "postfix": null,
       "prefix": "Epoch 3/25 [Training]",
       "rate": null,
       "total": 48,
       "unit": "it",
       "unit_divisor": 1000,
       "unit_scale": false
      },
      "application/vnd.jupyter.widget-view+json": {
       "model_id": "c64faa31cc2d4c5a9a14401245036674",
       "version_major": 2,
       "version_minor": 0
      },
      "text/plain": [
       "Epoch 3/25 [Training]:   0%|          | 0/48 [00:00<?, ?it/s]"
      ]
     },
     "metadata": {},
     "output_type": "display_data"
    },
    {
     "name": "stdout",
     "output_type": "stream",
     "text": [
      "Epoch 3, loss_train: 1.4998, loss_validation: 1.6073, accuracy_train: 0.3154, accuracy_validation: 0.3032\n"
     ]
    },
    {
     "data": {
      "application/json": {
       "ascii": false,
       "bar_format": null,
       "colour": null,
       "elapsed": 0.004997968673706055,
       "initial": 0,
       "n": 0,
       "ncols": null,
       "nrows": null,
       "postfix": null,
       "prefix": "Epoch 4/25 [Training]",
       "rate": null,
       "total": 48,
       "unit": "it",
       "unit_divisor": 1000,
       "unit_scale": false
      },
      "application/vnd.jupyter.widget-view+json": {
       "model_id": "23b83e33c87648939da8a3787856c2ab",
       "version_major": 2,
       "version_minor": 0
      },
      "text/plain": [
       "Epoch 4/25 [Training]:   0%|          | 0/48 [00:00<?, ?it/s]"
      ]
     },
     "metadata": {},
     "output_type": "display_data"
    },
    {
     "name": "stdout",
     "output_type": "stream",
     "text": [
      "Epoch 4, loss_train: 1.4655, loss_validation: 1.6234, accuracy_train: 0.3309, accuracy_validation: 0.4352\n"
     ]
    },
    {
     "data": {
      "application/json": {
       "ascii": false,
       "bar_format": null,
       "colour": null,
       "elapsed": 0.007999420166015625,
       "initial": 0,
       "n": 0,
       "ncols": null,
       "nrows": null,
       "postfix": null,
       "prefix": "Epoch 5/25 [Training]",
       "rate": null,
       "total": 48,
       "unit": "it",
       "unit_divisor": 1000,
       "unit_scale": false
      },
      "application/vnd.jupyter.widget-view+json": {
       "model_id": "af44a227812542c9a7f6ae3252f511a7",
       "version_major": 2,
       "version_minor": 0
      },
      "text/plain": [
       "Epoch 5/25 [Training]:   0%|          | 0/48 [00:00<?, ?it/s]"
      ]
     },
     "metadata": {},
     "output_type": "display_data"
    },
    {
     "name": "stdout",
     "output_type": "stream",
     "text": [
      "Epoch 5, loss_train: 1.4379, loss_validation: 1.6388, accuracy_train: 0.3433, accuracy_validation: 0.4616\n"
     ]
    },
    {
     "data": {
      "application/json": {
       "ascii": false,
       "bar_format": null,
       "colour": null,
       "elapsed": 0.00500035285949707,
       "initial": 0,
       "n": 0,
       "ncols": null,
       "nrows": null,
       "postfix": null,
       "prefix": "Epoch 6/25 [Training]",
       "rate": null,
       "total": 48,
       "unit": "it",
       "unit_divisor": 1000,
       "unit_scale": false
      },
      "application/vnd.jupyter.widget-view+json": {
       "model_id": "f29ab8f9feaf4d2181f673fa6d186edf",
       "version_major": 2,
       "version_minor": 0
      },
      "text/plain": [
       "Epoch 6/25 [Training]:   0%|          | 0/48 [00:00<?, ?it/s]"
      ]
     },
     "metadata": {},
     "output_type": "display_data"
    },
    {
     "name": "stdout",
     "output_type": "stream",
     "text": [
      "Epoch 6, loss_train: 1.4006, loss_validation: 1.6732, accuracy_train: 0.3638, accuracy_validation: 0.6001\n"
     ]
    },
    {
     "data": {
      "application/json": {
       "ascii": false,
       "bar_format": null,
       "colour": null,
       "elapsed": 0.00500035285949707,
       "initial": 0,
       "n": 0,
       "ncols": null,
       "nrows": null,
       "postfix": null,
       "prefix": "Epoch 7/25 [Training]",
       "rate": null,
       "total": 48,
       "unit": "it",
       "unit_divisor": 1000,
       "unit_scale": false
      },
      "application/vnd.jupyter.widget-view+json": {
       "model_id": "9de3262cdc494f70ac680689d72831bb",
       "version_major": 2,
       "version_minor": 0
      },
      "text/plain": [
       "Epoch 7/25 [Training]:   0%|          | 0/48 [00:00<?, ?it/s]"
      ]
     },
     "metadata": {},
     "output_type": "display_data"
    },
    {
     "name": "stdout",
     "output_type": "stream",
     "text": [
      "Epoch 7, loss_train: 1.3657, loss_validation: 1.6640, accuracy_train: 0.3802, accuracy_validation: 0.5662\n"
     ]
    },
    {
     "data": {
      "application/json": {
       "ascii": false,
       "bar_format": null,
       "colour": null,
       "elapsed": 0.0060007572174072266,
       "initial": 0,
       "n": 0,
       "ncols": null,
       "nrows": null,
       "postfix": null,
       "prefix": "Epoch 8/25 [Training]",
       "rate": null,
       "total": 48,
       "unit": "it",
       "unit_divisor": 1000,
       "unit_scale": false
      },
      "application/vnd.jupyter.widget-view+json": {
       "model_id": "71f3cab998cc43bdb5b3d8e91160c4ec",
       "version_major": 2,
       "version_minor": 0
      },
      "text/plain": [
       "Epoch 8/25 [Training]:   0%|          | 0/48 [00:00<?, ?it/s]"
      ]
     },
     "metadata": {},
     "output_type": "display_data"
    },
    {
     "name": "stdout",
     "output_type": "stream",
     "text": [
      "Epoch 8, loss_train: 1.3397, loss_validation: 1.9892, accuracy_train: 0.3952, accuracy_validation: 0.7307\n"
     ]
    },
    {
     "data": {
      "application/json": {
       "ascii": false,
       "bar_format": null,
       "colour": null,
       "elapsed": 0.004999876022338867,
       "initial": 0,
       "n": 0,
       "ncols": null,
       "nrows": null,
       "postfix": null,
       "prefix": "Epoch 9/25 [Training]",
       "rate": null,
       "total": 48,
       "unit": "it",
       "unit_divisor": 1000,
       "unit_scale": false
      },
      "application/vnd.jupyter.widget-view+json": {
       "model_id": "012263f4dbfa4e73aaeb52f3386b323e",
       "version_major": 2,
       "version_minor": 0
      },
      "text/plain": [
       "Epoch 9/25 [Training]:   0%|          | 0/48 [00:00<?, ?it/s]"
      ]
     },
     "metadata": {},
     "output_type": "display_data"
    },
    {
     "name": "stdout",
     "output_type": "stream",
     "text": [
      "Epoch 9, loss_train: 1.3095, loss_validation: 1.9104, accuracy_train: 0.4104, accuracy_validation: 0.6708\n"
     ]
    },
    {
     "data": {
      "application/json": {
       "ascii": false,
       "bar_format": null,
       "colour": null,
       "elapsed": 0.0050008296966552734,
       "initial": 0,
       "n": 0,
       "ncols": null,
       "nrows": null,
       "postfix": null,
       "prefix": "Epoch 10/25 [Training]",
       "rate": null,
       "total": 48,
       "unit": "it",
       "unit_divisor": 1000,
       "unit_scale": false
      },
      "application/vnd.jupyter.widget-view+json": {
       "model_id": "5daeb7789e3d47c286c5e772f758c2e9",
       "version_major": 2,
       "version_minor": 0
      },
      "text/plain": [
       "Epoch 10/25 [Training]:   0%|          | 0/48 [00:00<?, ?it/s]"
      ]
     },
     "metadata": {},
     "output_type": "display_data"
    },
    {
     "name": "stdout",
     "output_type": "stream",
     "text": [
      "Epoch 10, loss_train: 1.2771, loss_validation: 2.2204, accuracy_train: 0.4298, accuracy_validation: 0.7122\n"
     ]
    },
    {
     "data": {
      "application/json": {
       "ascii": false,
       "bar_format": null,
       "colour": null,
       "elapsed": 0.008001089096069336,
       "initial": 0,
       "n": 0,
       "ncols": null,
       "nrows": null,
       "postfix": null,
       "prefix": "Epoch 11/25 [Training]",
       "rate": null,
       "total": 48,
       "unit": "it",
       "unit_divisor": 1000,
       "unit_scale": false
      },
      "application/vnd.jupyter.widget-view+json": {
       "model_id": "fb4b64f0adf040fbb155a9cf85d19e01",
       "version_major": 2,
       "version_minor": 0
      },
      "text/plain": [
       "Epoch 11/25 [Training]:   0%|          | 0/48 [00:00<?, ?it/s]"
      ]
     },
     "metadata": {},
     "output_type": "display_data"
    },
    {
     "name": "stdout",
     "output_type": "stream",
     "text": [
      "Epoch 11, loss_train: 1.2504, loss_validation: 2.3847, accuracy_train: 0.4445, accuracy_validation: 0.6607\n"
     ]
    },
    {
     "data": {
      "application/json": {
       "ascii": false,
       "bar_format": null,
       "colour": null,
       "elapsed": 0.004999399185180664,
       "initial": 0,
       "n": 0,
       "ncols": null,
       "nrows": null,
       "postfix": null,
       "prefix": "Epoch 12/25 [Training]",
       "rate": null,
       "total": 48,
       "unit": "it",
       "unit_divisor": 1000,
       "unit_scale": false
      },
      "application/vnd.jupyter.widget-view+json": {
       "model_id": "37498ab4bc4245d0b1529f9c142fc253",
       "version_major": 2,
       "version_minor": 0
      },
      "text/plain": [
       "Epoch 12/25 [Training]:   0%|          | 0/48 [00:00<?, ?it/s]"
      ]
     },
     "metadata": {},
     "output_type": "display_data"
    },
    {
     "name": "stdout",
     "output_type": "stream",
     "text": [
      "Epoch 12, loss_train: 1.2121, loss_validation: 2.3547, accuracy_train: 0.4676, accuracy_validation: 0.6219\n"
     ]
    },
    {
     "data": {
      "application/json": {
       "ascii": false,
       "bar_format": null,
       "colour": null,
       "elapsed": 0.004998207092285156,
       "initial": 0,
       "n": 0,
       "ncols": null,
       "nrows": null,
       "postfix": null,
       "prefix": "Epoch 13/25 [Training]",
       "rate": null,
       "total": 48,
       "unit": "it",
       "unit_divisor": 1000,
       "unit_scale": false
      },
      "application/vnd.jupyter.widget-view+json": {
       "model_id": "b5f971481c3343cea4158f118293dc6c",
       "version_major": 2,
       "version_minor": 0
      },
      "text/plain": [
       "Epoch 13/25 [Training]:   0%|          | 0/48 [00:00<?, ?it/s]"
      ]
     },
     "metadata": {},
     "output_type": "display_data"
    },
    {
     "name": "stdout",
     "output_type": "stream",
     "text": [
      "Epoch 13, loss_train: 1.1764, loss_validation: 2.8798, accuracy_train: 0.4828, accuracy_validation: 0.7596\n"
     ]
    },
    {
     "data": {
      "application/json": {
       "ascii": false,
       "bar_format": null,
       "colour": null,
       "elapsed": 0.006510019302368164,
       "initial": 0,
       "n": 0,
       "ncols": null,
       "nrows": null,
       "postfix": null,
       "prefix": "Epoch 14/25 [Training]",
       "rate": null,
       "total": 48,
       "unit": "it",
       "unit_divisor": 1000,
       "unit_scale": false
      },
      "application/vnd.jupyter.widget-view+json": {
       "model_id": "ce7f983a73d74bebb4ced3a212fd3952",
       "version_major": 2,
       "version_minor": 0
      },
      "text/plain": [
       "Epoch 14/25 [Training]:   0%|          | 0/48 [00:00<?, ?it/s]"
      ]
     },
     "metadata": {},
     "output_type": "display_data"
    },
    {
     "name": "stdout",
     "output_type": "stream",
     "text": [
      "Epoch 14, loss_train: 1.1277, loss_validation: 2.9376, accuracy_train: 0.5098, accuracy_validation: 0.6879\n"
     ]
    },
    {
     "data": {
      "application/json": {
       "ascii": false,
       "bar_format": null,
       "colour": null,
       "elapsed": 0.006507158279418945,
       "initial": 0,
       "n": 0,
       "ncols": null,
       "nrows": null,
       "postfix": null,
       "prefix": "Epoch 15/25 [Training]",
       "rate": null,
       "total": 48,
       "unit": "it",
       "unit_divisor": 1000,
       "unit_scale": false
      },
      "application/vnd.jupyter.widget-view+json": {
       "model_id": "1d11ab355e034044a8787c459736000a",
       "version_major": 2,
       "version_minor": 0
      },
      "text/plain": [
       "Epoch 15/25 [Training]:   0%|          | 0/48 [00:00<?, ?it/s]"
      ]
     },
     "metadata": {},
     "output_type": "display_data"
    },
    {
     "name": "stdout",
     "output_type": "stream",
     "text": [
      "Epoch 15, loss_train: 1.1013, loss_validation: 3.1382, accuracy_train: 0.5225, accuracy_validation: 0.7212\n"
     ]
    },
    {
     "data": {
      "application/json": {
       "ascii": false,
       "bar_format": null,
       "colour": null,
       "elapsed": 0.0050106048583984375,
       "initial": 0,
       "n": 0,
       "ncols": null,
       "nrows": null,
       "postfix": null,
       "prefix": "Epoch 16/25 [Training]",
       "rate": null,
       "total": 48,
       "unit": "it",
       "unit_divisor": 1000,
       "unit_scale": false
      },
      "application/vnd.jupyter.widget-view+json": {
       "model_id": "c51303001cee46609f6d2e5827879c04",
       "version_major": 2,
       "version_minor": 0
      },
      "text/plain": [
       "Epoch 16/25 [Training]:   0%|          | 0/48 [00:00<?, ?it/s]"
      ]
     },
     "metadata": {},
     "output_type": "display_data"
    },
    {
     "name": "stdout",
     "output_type": "stream",
     "text": [
      "Epoch 16, loss_train: 1.0704, loss_validation: 3.6888, accuracy_train: 0.5345, accuracy_validation: 0.7269\n"
     ]
    },
    {
     "data": {
      "application/json": {
       "ascii": false,
       "bar_format": null,
       "colour": null,
       "elapsed": 0.004509449005126953,
       "initial": 0,
       "n": 0,
       "ncols": null,
       "nrows": null,
       "postfix": null,
       "prefix": "Epoch 17/25 [Training]",
       "rate": null,
       "total": 48,
       "unit": "it",
       "unit_divisor": 1000,
       "unit_scale": false
      },
      "application/vnd.jupyter.widget-view+json": {
       "model_id": "6c8a1bb191454282998c899b3ed9a977",
       "version_major": 2,
       "version_minor": 0
      },
      "text/plain": [
       "Epoch 17/25 [Training]:   0%|          | 0/48 [00:00<?, ?it/s]"
      ]
     },
     "metadata": {},
     "output_type": "display_data"
    },
    {
     "name": "stdout",
     "output_type": "stream",
     "text": [
      "Epoch 17, loss_train: 1.0302, loss_validation: 3.2796, accuracy_train: 0.5562, accuracy_validation: 0.7362\n"
     ]
    },
    {
     "data": {
      "application/json": {
       "ascii": false,
       "bar_format": null,
       "colour": null,
       "elapsed": 0.004999637603759766,
       "initial": 0,
       "n": 0,
       "ncols": null,
       "nrows": null,
       "postfix": null,
       "prefix": "Epoch 18/25 [Training]",
       "rate": null,
       "total": 48,
       "unit": "it",
       "unit_divisor": 1000,
       "unit_scale": false
      },
      "application/vnd.jupyter.widget-view+json": {
       "model_id": "2f7acd63a6674e638ca68e98b1ce19a0",
       "version_major": 2,
       "version_minor": 0
      },
      "text/plain": [
       "Epoch 18/25 [Training]:   0%|          | 0/48 [00:00<?, ?it/s]"
      ]
     },
     "metadata": {},
     "output_type": "display_data"
    },
    {
     "name": "stdout",
     "output_type": "stream",
     "text": [
      "Epoch 18, loss_train: 0.9782, loss_validation: 3.7825, accuracy_train: 0.5850, accuracy_validation: 0.6803\n"
     ]
    },
    {
     "data": {
      "application/json": {
       "ascii": false,
       "bar_format": null,
       "colour": null,
       "elapsed": 0.0049991607666015625,
       "initial": 0,
       "n": 0,
       "ncols": null,
       "nrows": null,
       "postfix": null,
       "prefix": "Epoch 19/25 [Training]",
       "rate": null,
       "total": 48,
       "unit": "it",
       "unit_divisor": 1000,
       "unit_scale": false
      },
      "application/vnd.jupyter.widget-view+json": {
       "model_id": "72ac47b2424c4c47979e41c4eb366838",
       "version_major": 2,
       "version_minor": 0
      },
      "text/plain": [
       "Epoch 19/25 [Training]:   0%|          | 0/48 [00:00<?, ?it/s]"
      ]
     },
     "metadata": {},
     "output_type": "display_data"
    },
    {
     "name": "stdout",
     "output_type": "stream",
     "text": [
      "Epoch 19, loss_train: 0.9540, loss_validation: 4.4823, accuracy_train: 0.5901, accuracy_validation: 0.8030\n"
     ]
    },
    {
     "data": {
      "application/json": {
       "ascii": false,
       "bar_format": null,
       "colour": null,
       "elapsed": 0.006008625030517578,
       "initial": 0,
       "n": 0,
       "ncols": null,
       "nrows": null,
       "postfix": null,
       "prefix": "Epoch 20/25 [Training]",
       "rate": null,
       "total": 48,
       "unit": "it",
       "unit_divisor": 1000,
       "unit_scale": false
      },
      "application/vnd.jupyter.widget-view+json": {
       "model_id": "b1bff8a0862c4d7f96804415b3f67e23",
       "version_major": 2,
       "version_minor": 0
      },
      "text/plain": [
       "Epoch 20/25 [Training]:   0%|          | 0/48 [00:00<?, ?it/s]"
      ]
     },
     "metadata": {},
     "output_type": "display_data"
    },
    {
     "name": "stdout",
     "output_type": "stream",
     "text": [
      "Epoch 20, loss_train: 0.9108, loss_validation: 3.6558, accuracy_train: 0.6145, accuracy_validation: 0.7097\n"
     ]
    },
    {
     "data": {
      "application/json": {
       "ascii": false,
       "bar_format": null,
       "colour": null,
       "elapsed": 0.006513357162475586,
       "initial": 0,
       "n": 0,
       "ncols": null,
       "nrows": null,
       "postfix": null,
       "prefix": "Epoch 21/25 [Training]",
       "rate": null,
       "total": 48,
       "unit": "it",
       "unit_divisor": 1000,
       "unit_scale": false
      },
      "application/vnd.jupyter.widget-view+json": {
       "model_id": "1aff90e1b23040f98a29ffe2e99d39a4",
       "version_major": 2,
       "version_minor": 0
      },
      "text/plain": [
       "Epoch 21/25 [Training]:   0%|          | 0/48 [00:00<?, ?it/s]"
      ]
     },
     "metadata": {},
     "output_type": "display_data"
    },
    {
     "name": "stdout",
     "output_type": "stream",
     "text": [
      "Epoch 21, loss_train: 0.8698, loss_validation: 5.0450, accuracy_train: 0.6334, accuracy_validation: 0.8010\n"
     ]
    },
    {
     "data": {
      "application/json": {
       "ascii": false,
       "bar_format": null,
       "colour": null,
       "elapsed": 0.004510402679443359,
       "initial": 0,
       "n": 0,
       "ncols": null,
       "nrows": null,
       "postfix": null,
       "prefix": "Epoch 22/25 [Training]",
       "rate": null,
       "total": 48,
       "unit": "it",
       "unit_divisor": 1000,
       "unit_scale": false
      },
      "application/vnd.jupyter.widget-view+json": {
       "model_id": "111ad29ccc1240bd83dada569ef65fc9",
       "version_major": 2,
       "version_minor": 0
      },
      "text/plain": [
       "Epoch 22/25 [Training]:   0%|          | 0/48 [00:00<?, ?it/s]"
      ]
     },
     "metadata": {},
     "output_type": "display_data"
    },
    {
     "name": "stdout",
     "output_type": "stream",
     "text": [
      "Epoch 22, loss_train: 0.8389, loss_validation: 4.5448, accuracy_train: 0.6431, accuracy_validation: 0.6926\n"
     ]
    },
    {
     "data": {
      "application/json": {
       "ascii": false,
       "bar_format": null,
       "colour": null,
       "elapsed": 0.005003929138183594,
       "initial": 0,
       "n": 0,
       "ncols": null,
       "nrows": null,
       "postfix": null,
       "prefix": "Epoch 23/25 [Training]",
       "rate": null,
       "total": 48,
       "unit": "it",
       "unit_divisor": 1000,
       "unit_scale": false
      },
      "application/vnd.jupyter.widget-view+json": {
       "model_id": "a5ab483a9b084200b7b78129a0182330",
       "version_major": 2,
       "version_minor": 0
      },
      "text/plain": [
       "Epoch 23/25 [Training]:   0%|          | 0/48 [00:00<?, ?it/s]"
      ]
     },
     "metadata": {},
     "output_type": "display_data"
    },
    {
     "name": "stdout",
     "output_type": "stream",
     "text": [
      "Epoch 23, loss_train: 0.8053, loss_validation: 4.8951, accuracy_train: 0.6605, accuracy_validation: 0.7907\n"
     ]
    },
    {
     "data": {
      "application/json": {
       "ascii": false,
       "bar_format": null,
       "colour": null,
       "elapsed": 0.0050084590911865234,
       "initial": 0,
       "n": 0,
       "ncols": null,
       "nrows": null,
       "postfix": null,
       "prefix": "Epoch 24/25 [Training]",
       "rate": null,
       "total": 48,
       "unit": "it",
       "unit_divisor": 1000,
       "unit_scale": false
      },
      "application/vnd.jupyter.widget-view+json": {
       "model_id": "c9e911676ca3416e9d321aa524e545d9",
       "version_major": 2,
       "version_minor": 0
      },
      "text/plain": [
       "Epoch 24/25 [Training]:   0%|          | 0/48 [00:00<?, ?it/s]"
      ]
     },
     "metadata": {},
     "output_type": "display_data"
    },
    {
     "name": "stdout",
     "output_type": "stream",
     "text": [
      "Epoch 24, loss_train: 0.7699, loss_validation: 5.0986, accuracy_train: 0.6788, accuracy_validation: 0.8375\n"
     ]
    },
    {
     "data": {
      "application/json": {
       "ascii": false,
       "bar_format": null,
       "colour": null,
       "elapsed": 0.004998922348022461,
       "initial": 0,
       "n": 0,
       "ncols": null,
       "nrows": null,
       "postfix": null,
       "prefix": "Epoch 25/25 [Training]",
       "rate": null,
       "total": 48,
       "unit": "it",
       "unit_divisor": 1000,
       "unit_scale": false
      },
      "application/vnd.jupyter.widget-view+json": {
       "model_id": "fac2d0472a6b44f2ae295e5b7d93d28b",
       "version_major": 2,
       "version_minor": 0
      },
      "text/plain": [
       "Epoch 25/25 [Training]:   0%|          | 0/48 [00:00<?, ?it/s]"
      ]
     },
     "metadata": {},
     "output_type": "display_data"
    },
    {
     "name": "stdout",
     "output_type": "stream",
     "text": [
      "Epoch 25, loss_train: 0.7406, loss_validation: 5.4409, accuracy_train: 0.6926, accuracy_validation: 0.7515\n"
     ]
    }
   ],
   "source": [
    "# Create a training loop\n",
    "for epoch in range(epochs):\n",
    "    model.train()\n",
    "    running_loss = 0.0\n",
    "    correct_train = 0\n",
    "    total_train = 0\n",
    "    correct_validation = 0\n",
    "    total_validation = 0\n",
    "\n",
    "\n",
    "    # Setup tqdm progress bar for the training loop\n",
    "    train_progress_bar = tqdm(train_loader, desc=f'Epoch {epoch + 1}/{epochs} [Training]', leave=False)\n",
    "    for i, data in enumerate(train_loader, 0):\n",
    "\n",
    "        inputs, labels = data\n",
    "        inputs, labels = inputs.to(device), labels.to(device)\n",
    "\n",
    "        #Add noise to the inputs for regularization purposes\n",
    "        #noise = torch.randn_like(inputs, device=device) * 0.01\n",
    "        #inputs = inputs + noise\n",
    "\n",
    "        #Forward pass\n",
    "        outputs = model(inputs)\n",
    "\n",
    "        #Calculate the loss\n",
    "        loss = criterion(outputs, labels)\n",
    "\n",
    "        #Zero the gradients\n",
    "        optimizer.zero_grad()\n",
    "\n",
    "        #Backward pass\n",
    "        loss.backward()\n",
    "\n",
    "        # Gradient clipping\n",
    "        torch.nn.utils.clip_grad_norm_(model.parameters(), clip_value)\n",
    "\n",
    "        #Update the parameters\n",
    "        optimizer.step()\n",
    "\n",
    "        running_loss += loss.item()\n",
    "\n",
    "        #Calculate the accuracy:\n",
    "        _, predicted = torch.max(outputs, 1)\n",
    "        correct = (predicted == labels).sum().item()\n",
    "        total = labels.size(0)\n",
    "        correct_train += correct\n",
    "        total_train += total\n",
    "        accuracy_train = correct_train / total_train\n",
    "\n",
    "        train_progress_bar.set_postfix({'loss': (running_loss / (train_progress_bar.n + 1)), 'accuracy train': accuracy_train})\n",
    "        train_progress_bar.update()\n",
    "        \n",
    "    loss_train.append(running_loss / len(train_loader))\n",
    "    \n",
    "    \n",
    "    # Validation loss\n",
    "    model.eval()\n",
    "    running_loss = 0.0\n",
    "    with torch.no_grad():\n",
    "        for i, data in enumerate(validation_loader, 0):\n",
    "            inputs, labels = data\n",
    "            inputs, labels = inputs.to(device), labels.to(device)\n",
    "\n",
    "            outputs = model(inputs)\n",
    "            loss = criterion_val(outputs, labels) #Use the validation loss function, which has class weights\n",
    "\n",
    "            running_loss += loss.item()\n",
    "             #Calculate the accuracy:\n",
    "            _, predicted = torch.max(outputs, 1)\n",
    "            correct = (predicted == labels).sum().item()\n",
    "            total = labels.size(0)\n",
    "            correct_validation += correct\n",
    "            total_validation+= total\n",
    "\n",
    "    loss_validation.append(running_loss / len(validation_loader))\n",
    "    accuracy_validation = correct_validation / total_validation\n",
    "    accuracy_train = correct_train / total_train\n",
    "\n",
    "    train_progress_bar.close()\n",
    "\n",
    "    #Save the model if it is the best one so far\n",
    "    if loss_validation[-1] < best_validation_loss:\n",
    "        print(f'Saving model with validation loss {loss_validation[-1]:.4f}')\n",
    "        torch.save(model.state_dict(), checkpoint_path)\n",
    "        best_validation_loss = loss_validation[-1]\n",
    "\n",
    "\n",
    "    print(f'Epoch {epoch + 1}, loss_train: {loss_train[-1]:.4f}, loss_validation: {loss_validation[-1]:.4f}, accuracy_train: {accuracy_train:.4f}, accuracy_validation: {accuracy_validation:.4f}')\n",
    "    #Close the progress bar\n",
    "    \n",
    "    \n",
    "    # Step the scheduler\n",
    "    # scheduler.step()"
   ]
  },
  {
   "cell_type": "code",
   "execution_count": 111,
   "metadata": {},
   "outputs": [
    {
     "data": {
      "image/png": "[encoded data removed]",
      "text/plain": [
       "<Figure size 640x480 with 1 Axes>"
      ]
     },
     "metadata": {},
     "output_type": "display_data"
    }
   ],
   "source": [
    "# Plot the loss\n",
    "plt.plot(loss_train, label='train')\n",
    "plt.plot(loss_validation, label='validation')\n",
    "plt.legend()\n",
    "plt.show()\n"
   ]
  },
  {
   "cell_type": "markdown",
   "metadata": {},
   "source": [
    "# Create predictions"
   ]
  },
  {
   "cell_type": "code",
   "execution_count": 112,
   "metadata": {},
   "outputs": [],
   "source": [
    "# Create a function that takes the model, data loader and device and returns the predictions\n",
    "def get_predictions(model, data_loader, device):\n",
    "    model.eval()\n",
    "    predictions = []\n",
    "    targets = []\n",
    "    with torch.no_grad():\n",
    "        for i, data in enumerate(data_loader, 0):\n",
    "            inputs, labels = data\n",
    "            inputs = inputs.to(device)\n",
    "\n",
    "            outputs = model(inputs)\n",
    "            outputs = outputs.argmax(dim=1).cpu().numpy() #Take the class with the highest probability\n",
    "            predictions.append(outputs)\n",
    "            targets.append(labels.numpy())\n",
    "\n",
    "    return np.concatenate(predictions), np.concatenate(targets)"
   ]
  },
  {
   "cell_type": "code",
   "execution_count": 123,
   "metadata": {},
   "outputs": [],
   "source": [
    "# Create a diffusion matrix of the train and validation data\n",
    "\n",
    "yPredTrain, yTrainNp = get_predictions(model, train_loader, device)\n",
    "yPredValidation, yValidationNp = get_predictions(model, validation_loader, device)"
   ]
  },
  {
   "cell_type": "code",
   "execution_count": 124,
   "metadata": {},
   "outputs": [
    {
     "data": {
      "text/plain": [
       "(5046,)"
      ]
     },
     "execution_count": 124,
     "metadata": {},
     "output_type": "execute_result"
    }
   ],
   "source": [
    "yPredValidation.shape"
   ]
  },
  {
   "cell_type": "code",
   "execution_count": 125,
   "metadata": {},
   "outputs": [
    {
     "name": "stdout",
     "output_type": "stream",
     "text": [
      "Training data:\n",
      "              precision    recall  f1-score   support\n",
      "\n",
      "           0       0.37      0.64      0.47      9820\n",
      "           1       0.26      0.17      0.20      9690\n",
      "           2       0.22      0.34      0.27      9677\n",
      "           3       0.25      0.25      0.25      9746\n",
      "           4       0.35      0.04      0.07      9726\n",
      "\n",
      "    accuracy                           0.29     48659\n",
      "   macro avg       0.29      0.29      0.25     48659\n",
      "weighted avg       0.29      0.29      0.25     48659\n",
      "\n",
      "Validation data:\n",
      "              precision    recall  f1-score   support\n",
      "\n",
      "           0       0.99      0.35      0.52      4910\n",
      "           1       0.01      0.19      0.01        16\n",
      "           2       0.00      0.21      0.00        14\n",
      "           3       0.00      0.17      0.01        30\n",
      "           4       0.00      0.00      0.00        76\n",
      "\n",
      "    accuracy                           0.35      5046\n",
      "   macro avg       0.20      0.18      0.11      5046\n",
      "weighted avg       0.97      0.35      0.51      5046\n",
      "\n"
     ]
    }
   ],
   "source": [
    "from sklearn.metrics import classification_report\n",
    "\n",
    "#Print the classification report\n",
    "print('Training data:')\n",
    "print(classification_report(yTrainNp, yPredTrain))\n",
    "\n",
    "print('Validation data:')\n",
    "print(classification_report(yValidationNp, yPredValidation))\n"
   ]
  },
  {
   "cell_type": "code",
   "execution_count": 116,
   "metadata": {},
   "outputs": [
    {
     "data": {
      "image/png": "[encoded data removed]",
      "text/plain": [
       "<Figure size 700x700 with 2 Axes>"
      ]
     },
     "metadata": {},
     "output_type": "display_data"
    }
   ],
   "source": [
    "#Import confusion matrix\n",
    "from sklearn.metrics import confusion_matrix\n",
    "cm = confusion_matrix(yValidationNp, yPredValidation, normalize='true')\n",
    "plt.figure(figsize = (7,7))\n",
    "#add labels\n",
    "plt.title('Confusion matrix Validation')\n",
    "plt.xlabel('Predicted')\n",
    "plt.ylabel('True')\n",
    "#plot the confusion matrix\n",
    "ax = sns.heatmap(cm, annot=True)"
   ]
  },
  {
   "cell_type": "code",
   "execution_count": 117,
   "metadata": {},
   "outputs": [
    {
     "data": {
      "image/png": "[encoded data removed]",
      "text/plain": [
       "<Figure size 700x700 with 2 Axes>"
      ]
     },
     "metadata": {},
     "output_type": "display_data"
    }
   ],
   "source": [
    "cm = confusion_matrix(yTrainNp, yPredTrain, normalize='true')\n",
    "plt.figure(figsize = (7,7))\n",
    "#add labels\n",
    "plt.title('Confusion matrix Train')\n",
    "plt.xlabel('Predicted')\n",
    "plt.ylabel('True')\n",
    "#plot the confusion matrix\n",
    "ax = sns.heatmap(cm, annot=True)"
   ]
  },
  {
   "cell_type": "code",
   "execution_count": 118,
   "metadata": {},
   "outputs": [],
   "source": [
    "checkpoint_path = 'model4.pth'"
   ]
  },
  {
   "cell_type": "code",
   "execution_count": 119,
   "metadata": {},
   "outputs": [],
   "source": [
    "#Clone the latest model\n",
    "import copy\n",
    "model_latest = copy.deepcopy(model)"
   ]
  },
  {
   "cell_type": "code",
   "execution_count": 120,
   "metadata": {},
   "outputs": [
    {
     "data": {
      "text/plain": [
       "<All keys matched successfully>"
      ]
     },
     "execution_count": 120,
     "metadata": {},
     "output_type": "execute_result"
    }
   ],
   "source": [
    "#Load the best model\n",
    "model.load_state_dict(torch.load(checkpoint_path))"
   ]
  },
  {
   "cell_type": "code",
   "execution_count": 121,
   "metadata": {},
   "outputs": [
    {
     "data": {
      "text/plain": [
       "XTransformer(\n",
       "  (dropout_layer): Dropout(p=0.1, inplace=False)\n",
       "  (categorical_embeddings): ModuleList(\n",
       "    (0): Embedding(3, 5)\n",
       "    (1): Embedding(29, 5)\n",
       "    (2): Embedding(21, 5)\n",
       "    (3): Embedding(4, 5)\n",
       "    (4): Embedding(2, 5)\n",
       "    (5): Embedding(5, 5)\n",
       "    (6): Embedding(17, 5)\n",
       "    (7): Embedding(9, 5)\n",
       "  )\n",
       "  (input_layer): Linear(in_features=146, out_features=512, bias=True)\n",
       "  (position_embedding): Embedding(128, 512)\n",
       "  (layer_norm1): LayerNorm((146,), eps=1e-05, elementwise_affine=True)\n",
       "  (layer_norm2): LayerNorm((512,), eps=1e-05, elementwise_affine=True)\n",
       "  (input_batch_norm): BatchNorm1d(512, eps=1e-05, momentum=0.1, affine=True, track_running_stats=True)\n",
       "  (transformer_layers): ModuleList(\n",
       "    (0-2): 3 x TransformerEncoderLayer(\n",
       "      (self_attn): MultiheadAttention(\n",
       "        (out_proj): NonDynamicallyQuantizableLinear(in_features=512, out_features=512, bias=True)\n",
       "      )\n",
       "      (linear1): Linear(in_features=512, out_features=2048, bias=True)\n",
       "      (dropout): Dropout(p=0.1, inplace=False)\n",
       "      (linear2): Linear(in_features=2048, out_features=512, bias=True)\n",
       "      (norm1): LayerNorm((512,), eps=1e-05, elementwise_affine=True)\n",
       "      (norm2): LayerNorm((512,), eps=1e-05, elementwise_affine=True)\n",
       "      (dropout1): Dropout(p=0.1, inplace=False)\n",
       "      (dropout2): Dropout(p=0.1, inplace=False)\n",
       "    )\n",
       "  )\n",
       "  (output_layer): Linear(in_features=512, out_features=5, bias=True)\n",
       ")"
      ]
     },
     "execution_count": 121,
     "metadata": {},
     "output_type": "execute_result"
    }
   ],
   "source": [
    "model.to(device)"
   ]
  },
  {
   "cell_type": "code",
   "execution_count": 122,
   "metadata": {},
   "outputs": [
    {
     "data": {
      "text/plain": [
       "==========================================================================================\n",
       "Layer (type:depth-idx)                   Output Shape              Param #\n",
       "==========================================================================================\n",
       "XTransformer                             [2, 5]                    --\n",
       "├─ModuleList: 1-1                        --                        --\n",
       "│    └─Embedding: 2-1                    [2, 128, 5]               15\n",
       "│    └─Embedding: 2-2                    [2, 128, 5]               145\n",
       "│    └─Embedding: 2-3                    [2, 128, 5]               105\n",
       "│    └─Embedding: 2-4                    [2, 128, 5]               20\n",
       "│    └─Embedding: 2-5                    [2, 128, 5]               10\n",
       "│    └─Embedding: 2-6                    [2, 128, 5]               25\n",
       "│    └─Embedding: 2-7                    [2, 128, 5]               85\n",
       "│    └─Embedding: 2-8                    [2, 128, 5]               45\n",
       "├─LayerNorm: 1-2                         [2, 128, 146]             292\n",
       "├─Dropout: 1-3                           [2, 128, 146]             --\n",
       "├─Linear: 1-4                            [2, 128, 512]             75,264\n",
       "├─BatchNorm1d: 1-5                       [256, 512]                1,024\n",
       "├─Embedding: 1-6                         [2, 128, 512]             65,536\n",
       "├─Dropout: 1-7                           [2, 128, 512]             --\n",
       "├─ModuleList: 1-8                        --                        --\n",
       "│    └─TransformerEncoderLayer: 2-9      [2, 128, 512]             3,152,384\n",
       "│    └─TransformerEncoderLayer: 2-10     [2, 128, 512]             3,152,384\n",
       "│    └─TransformerEncoderLayer: 2-11     [2, 128, 512]             3,152,384\n",
       "├─LayerNorm: 1-9                         [2, 128, 512]             1,024\n",
       "├─Dropout: 1-10                          [2, 128, 512]             --\n",
       "├─Linear: 1-11                           [2, 128, 5]               2,565\n",
       "==========================================================================================\n",
       "Total params: 9,603,307\n",
       "Trainable params: 9,603,307\n",
       "Non-trainable params: 0\n",
       "Total mult-adds (M): 0.55\n",
       "==========================================================================================\n",
       "Input size (MB): 0.12\n",
       "Forward/backward pass size (MB): 4.59\n",
       "Params size (MB): 0.58\n",
       "Estimated Total Size (MB): 5.29\n",
       "=========================================================================================="
      ]
     },
     "execution_count": 122,
     "metadata": {},
     "output_type": "execute_result"
    }
   ],
   "source": [
    "from torchinfo import summary\n",
    "summary(model, (2, XTrain.shape[1], XTrain.shape[2]))"
   ]
  }
 ],
 "metadata": {
  "kernelspec": {
   "display_name": "tf38",
   "language": "python",
   "name": "python3"
  },
  "language_info": {
   "codemirror_mode": {
    "name": "ipython",
    "version": 3
   },
   "file_extension": ".py",
   "mimetype": "text/x-python",
   "name": "python",
   "nbconvert_exporter": "python",
   "pygments_lexer": "ipython3",
   "version": "3.8.19"
  }
 },
 "nbformat": 4,
 "nbformat_minor": 2
}
