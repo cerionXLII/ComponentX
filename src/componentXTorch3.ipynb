{
 "cells": [
  {
   "cell_type": "markdown",
   "metadata": {},
   "source": [
    "# This notebook will use pyTorch to classify the componentX \n",
    "We will use pyTorch and the Transformer architecture to do classifications of the life time for Component X."
   ]
  },
  {
   "cell_type": "code",
   "execution_count": 1,
   "metadata": {},
   "outputs": [],
   "source": [
    "#Includes\n",
    "import pandas as pd\n",
    "import numpy as np\n",
    "import matplotlib.pyplot as plt\n",
    "import seaborn as sns\n",
    "import torch\n",
    "from tqdm.notebook import tqdm\n",
    "\n",
    "import torch.nn as nn\n",
    "import torch.nn.functional as F\n"
   ]
  },
  {
   "cell_type": "code",
   "execution_count": null,
   "metadata": {},
   "outputs": [],
   "source": [
    "#Read the raw data\n",
    "#Train data\n",
    "tteTrain = pd.read_csv('../data/train_tte.csv')\n",
    "specificationsTrain = pd.read_csv('../data/train_specifications.csv')\n",
    "readoutsTrain = pd.read_csv('../data/train_operational_readouts.csv')\n",
    "\n",
    "\n",
    "#Validation data\n",
    "labelsValidation = pd.read_csv('../data/validation_labels.csv')\n",
    "specificationsValidation = pd.read_csv('../data/validation_specifications.csv')\n",
    "readoutsValidation = pd.read_csv('../data/validation_operational_readouts.csv')\n",
    "\n",
    "#Test data\n",
    "specificationsTest = pd.read_csv('../data/test_specifications.csv')\n",
    "readoutsTest = pd.read_csv('../data/test_operational_readouts.csv')\n",
    "#No labels for test data yet\n"
   ]
  },
  {
   "cell_type": "code",
   "execution_count": null,
   "metadata": {},
   "outputs": [],
   "source": [
    "#First we group by vehicle_id and we will forward fill the last known value.\n",
    "#Then if the entire column is NaN, we will fill it with the median of the column. \n",
    "#If there are still any NaNs we will fill them with 0.\n",
    "\n",
    "def fill_missing_values(df):\n",
    "    df = df.groupby('vehicle_id').apply(lambda x: x.ffill(axis=0)) #Forward fill last known value, but only for the same vehicle\n",
    "    df = df.droplevel('vehicle_id') #Remove multi-index, as we don't want to group by vehicle_id anymore    \n",
    "    df = df.fillna(df.median()) #Fill with median rather than mean to avoid outliers\n",
    "    df = df.fillna(0) #Last resort fill with 0\n",
    "    \n",
    "    return df"
   ]
  },
  {
   "cell_type": "code",
   "execution_count": null,
   "metadata": {},
   "outputs": [],
   "source": [
    "#df is the dataframe containing categorical values\n",
    "#possible_categories is a dictionary with the column name as the key and the possible categories as the values\n",
    "def one_hot_encoding_fixed_columns(df, possible_categories):\n",
    "    \n",
    "    #Create all possible combinations of the columns and categories\n",
    "    source_columns = list(possible_categories.keys())\n",
    "    cols = [f'{col}_{cat}' for col in source_columns for cat in possible_categories[col]]\n",
    "    \n",
    "    #Create a dataframe with the fixed columns with zeros, using the index of df as the index\n",
    "    one_hot_encoded = pd.DataFrame(0, index=df.index, columns=cols, dtype=np.float16) \n",
    "    \n",
    "    # Get dummies dataset\n",
    "    dummies_df = pd.get_dummies(df,columns=source_columns, dtype=np.float16)\n",
    "\n",
    "    # Make sure columns exists in both dataframes    \n",
    "    cols_in_both = dummies_df.columns.intersection(cols)\n",
    "\n",
    "    #Copy the one hot encoded columns to the fixed columns\n",
    "    one_hot_encoded[cols_in_both] = dummies_df[cols_in_both]\n",
    "\n",
    "    \n",
    "    return one_hot_encoded"
   ]
  },
  {
   "cell_type": "code",
   "execution_count": null,
   "metadata": {},
   "outputs": [],
   "source": [
    "def add_features(readoutsdf, specificationsdf):\n",
    "    df = readoutsdf.copy()\n",
    "\n",
    "    # Add the specifications of the vehicles\n",
    "    # We have the specifications of each vehicle. Lets join that to the main table. \n",
    "    # Then we will one-hot encode them in order to feed them into a ML model.\n",
    "\n",
    "    # Join the specifications for the vehicles, then one hot encode the categorical variables\n",
    "    df = pd.merge(df, specificationsdf, on = 'vehicle_id', how='left')\n",
    "\n",
    "    # Define possible categories for each column, since the test data may not have all categories\n",
    "    possible_categories = {\n",
    "        'Spec_0': ['Cat0', 'Cat1', 'Cat2'],\n",
    "        'Spec_1': ['Cat0', 'Cat1', 'Cat10', 'Cat11', 'Cat12', 'Cat13', 'Cat14', 'Cat15', 'Cat16', 'Cat17', 'Cat18', 'Cat19', 'Cat2', 'Cat20', 'Cat21', 'Cat22', 'Cat23', 'Cat24', 'Cat25', 'Cat26', 'Cat27', 'Cat28', 'Cat3', 'Cat4', 'Cat5', 'Cat6', 'Cat7', 'Cat8', 'Cat9'],\n",
    "        'Spec_2': ['Cat0', 'Cat1', 'Cat10', 'Cat11', 'Cat12', 'Cat13', 'Cat14', 'Cat15', 'Cat16', 'Cat17', 'Cat18', 'Cat19', 'Cat2', 'Cat20', 'Cat3', 'Cat4', 'Cat5', 'Cat6', 'Cat7', 'Cat8', 'Cat9'],\n",
    "        'Spec_3': ['Cat0', 'Cat1', 'Cat2', 'Cat3'],\n",
    "        'Spec_4': ['Cat0', 'Cat1'],\n",
    "        'Spec_5': ['Cat0', 'Cat1', 'Cat2', 'Cat3', 'Cat4'],\n",
    "        'Spec_6': ['Cat0', 'Cat1', 'Cat10', 'Cat11', 'Cat12', 'Cat13', 'Cat15', 'Cat17', 'Cat18', 'Cat2', 'Cat3', 'Cat4', 'Cat5', 'Cat6', 'Cat7', 'Cat8', 'Cat9'],\n",
    "        'Spec_7': ['Cat0', 'Cat1', 'Cat2', 'Cat3', 'Cat4', 'Cat5', 'Cat6', 'Cat7', 'Cat8']\n",
    "    }\n",
    "\n",
    "    # One-hot encode the categorical variables \n",
    "    one_hot_encoded = one_hot_encoding_fixed_columns(df, possible_categories)\n",
    "    \n",
    "    # Concatenate the one-hot encoded columns with the original DataFrame\n",
    "    df = pd.concat([df, one_hot_encoded], axis=1)\n",
    "\n",
    "    #Drop the categorical columns and only keep the one-hot encoded ones\n",
    "    df = df.drop(columns = list(possible_categories.keys()))\n",
    "\n",
    "    return df"
   ]
  },
  {
   "cell_type": "code",
   "execution_count": null,
   "metadata": {},
   "outputs": [],
   "source": [
    "df = readoutsTrain.copy()\n",
    "df = fill_missing_values(df) \n",
    "  \n",
    "#Add features\n",
    "df = add_features(df, specificationsTrain)"
   ]
  },
  {
   "cell_type": "code",
   "execution_count": null,
   "metadata": {},
   "outputs": [
    {
     "data": {
      "text/html": [
       "<div>\n",
       "<style scoped>\n",
       "    .dataframe tbody tr th:only-of-type {\n",
       "        vertical-align: middle;\n",
       "    }\n",
       "\n",
       "    .dataframe tbody tr th {\n",
       "        vertical-align: top;\n",
       "    }\n",
       "\n",
       "    .dataframe thead th {\n",
       "        text-align: right;\n",
       "    }\n",
       "</style>\n",
       "<table border=\"1\" class=\"dataframe\">\n",
       "  <thead>\n",
       "    <tr style=\"text-align: right;\">\n",
       "      <th></th>\n",
       "      <th>vehicle_id</th>\n",
       "      <th>time_step</th>\n",
       "      <th>171_0</th>\n",
       "      <th>666_0</th>\n",
       "      <th>427_0</th>\n",
       "      <th>837_0</th>\n",
       "      <th>167_0</th>\n",
       "      <th>167_1</th>\n",
       "      <th>167_2</th>\n",
       "      <th>167_3</th>\n",
       "      <th>...</th>\n",
       "      <th>Spec_6_Cat9</th>\n",
       "      <th>Spec_7_Cat0</th>\n",
       "      <th>Spec_7_Cat1</th>\n",
       "      <th>Spec_7_Cat2</th>\n",
       "      <th>Spec_7_Cat3</th>\n",
       "      <th>Spec_7_Cat4</th>\n",
       "      <th>Spec_7_Cat5</th>\n",
       "      <th>Spec_7_Cat6</th>\n",
       "      <th>Spec_7_Cat7</th>\n",
       "      <th>Spec_7_Cat8</th>\n",
       "    </tr>\n",
       "  </thead>\n",
       "  <tbody>\n",
       "    <tr>\n",
       "      <th>0</th>\n",
       "      <td>0</td>\n",
       "      <td>11.2</td>\n",
       "      <td>167985.0</td>\n",
       "      <td>10787.0</td>\n",
       "      <td>7413813.0</td>\n",
       "      <td>2296.0</td>\n",
       "      <td>4110.0</td>\n",
       "      <td>1296420.0</td>\n",
       "      <td>1628265.0</td>\n",
       "      <td>630345.0</td>\n",
       "      <td>...</td>\n",
       "      <td>0.0</td>\n",
       "      <td>1.0</td>\n",
       "      <td>0.0</td>\n",
       "      <td>0.0</td>\n",
       "      <td>0.0</td>\n",
       "      <td>0.0</td>\n",
       "      <td>0.0</td>\n",
       "      <td>0.0</td>\n",
       "      <td>0.0</td>\n",
       "      <td>0.0</td>\n",
       "    </tr>\n",
       "    <tr>\n",
       "      <th>1</th>\n",
       "      <td>0</td>\n",
       "      <td>11.4</td>\n",
       "      <td>167985.0</td>\n",
       "      <td>10787.0</td>\n",
       "      <td>7413813.0</td>\n",
       "      <td>2296.0</td>\n",
       "      <td>4111.0</td>\n",
       "      <td>1302855.0</td>\n",
       "      <td>1628265.0</td>\n",
       "      <td>630345.0</td>\n",
       "      <td>...</td>\n",
       "      <td>0.0</td>\n",
       "      <td>1.0</td>\n",
       "      <td>0.0</td>\n",
       "      <td>0.0</td>\n",
       "      <td>0.0</td>\n",
       "      <td>0.0</td>\n",
       "      <td>0.0</td>\n",
       "      <td>0.0</td>\n",
       "      <td>0.0</td>\n",
       "      <td>0.0</td>\n",
       "    </tr>\n",
       "    <tr>\n",
       "      <th>2</th>\n",
       "      <td>0</td>\n",
       "      <td>19.6</td>\n",
       "      <td>331635.0</td>\n",
       "      <td>14525.0</td>\n",
       "      <td>13683604.0</td>\n",
       "      <td>2600.0</td>\n",
       "      <td>4111.0</td>\n",
       "      <td>1302855.0</td>\n",
       "      <td>1628265.0</td>\n",
       "      <td>630345.0</td>\n",
       "      <td>...</td>\n",
       "      <td>0.0</td>\n",
       "      <td>1.0</td>\n",
       "      <td>0.0</td>\n",
       "      <td>0.0</td>\n",
       "      <td>0.0</td>\n",
       "      <td>0.0</td>\n",
       "      <td>0.0</td>\n",
       "      <td>0.0</td>\n",
       "      <td>0.0</td>\n",
       "      <td>0.0</td>\n",
       "    </tr>\n",
       "    <tr>\n",
       "      <th>3</th>\n",
       "      <td>0</td>\n",
       "      <td>20.2</td>\n",
       "      <td>354975.0</td>\n",
       "      <td>15015.0</td>\n",
       "      <td>14540449.0</td>\n",
       "      <td>2616.0</td>\n",
       "      <td>4111.0</td>\n",
       "      <td>1302855.0</td>\n",
       "      <td>1628265.0</td>\n",
       "      <td>630345.0</td>\n",
       "      <td>...</td>\n",
       "      <td>0.0</td>\n",
       "      <td>1.0</td>\n",
       "      <td>0.0</td>\n",
       "      <td>0.0</td>\n",
       "      <td>0.0</td>\n",
       "      <td>0.0</td>\n",
       "      <td>0.0</td>\n",
       "      <td>0.0</td>\n",
       "      <td>0.0</td>\n",
       "      <td>0.0</td>\n",
       "    </tr>\n",
       "    <tr>\n",
       "      <th>4</th>\n",
       "      <td>0</td>\n",
       "      <td>21.0</td>\n",
       "      <td>365550.0</td>\n",
       "      <td>15295.0</td>\n",
       "      <td>14966985.0</td>\n",
       "      <td>2720.0</td>\n",
       "      <td>4111.0</td>\n",
       "      <td>1302855.0</td>\n",
       "      <td>1628265.0</td>\n",
       "      <td>630345.0</td>\n",
       "      <td>...</td>\n",
       "      <td>0.0</td>\n",
       "      <td>1.0</td>\n",
       "      <td>0.0</td>\n",
       "      <td>0.0</td>\n",
       "      <td>0.0</td>\n",
       "      <td>0.0</td>\n",
       "      <td>0.0</td>\n",
       "      <td>0.0</td>\n",
       "      <td>0.0</td>\n",
       "      <td>0.0</td>\n",
       "    </tr>\n",
       "  </tbody>\n",
       "</table>\n",
       "<p>5 rows × 197 columns</p>\n",
       "</div>"
      ],
      "text/plain": [
       "   vehicle_id  time_step     171_0    666_0       427_0   837_0   167_0  \\\n",
       "0           0       11.2  167985.0  10787.0   7413813.0  2296.0  4110.0   \n",
       "1           0       11.4  167985.0  10787.0   7413813.0  2296.0  4111.0   \n",
       "2           0       19.6  331635.0  14525.0  13683604.0  2600.0  4111.0   \n",
       "3           0       20.2  354975.0  15015.0  14540449.0  2616.0  4111.0   \n",
       "4           0       21.0  365550.0  15295.0  14966985.0  2720.0  4111.0   \n",
       "\n",
       "       167_1      167_2     167_3  ...  Spec_6_Cat9  Spec_7_Cat0  Spec_7_Cat1  \\\n",
       "0  1296420.0  1628265.0  630345.0  ...          0.0          1.0          0.0   \n",
       "1  1302855.0  1628265.0  630345.0  ...          0.0          1.0          0.0   \n",
       "2  1302855.0  1628265.0  630345.0  ...          0.0          1.0          0.0   \n",
       "3  1302855.0  1628265.0  630345.0  ...          0.0          1.0          0.0   \n",
       "4  1302855.0  1628265.0  630345.0  ...          0.0          1.0          0.0   \n",
       "\n",
       "   Spec_7_Cat2  Spec_7_Cat3  Spec_7_Cat4  Spec_7_Cat5  Spec_7_Cat6  \\\n",
       "0          0.0          0.0          0.0          0.0          0.0   \n",
       "1          0.0          0.0          0.0          0.0          0.0   \n",
       "2          0.0          0.0          0.0          0.0          0.0   \n",
       "3          0.0          0.0          0.0          0.0          0.0   \n",
       "4          0.0          0.0          0.0          0.0          0.0   \n",
       "\n",
       "   Spec_7_Cat7  Spec_7_Cat8  \n",
       "0          0.0          0.0  \n",
       "1          0.0          0.0  \n",
       "2          0.0          0.0  \n",
       "3          0.0          0.0  \n",
       "4          0.0          0.0  \n",
       "\n",
       "[5 rows x 197 columns]"
      ]
     },
     "execution_count": 7,
     "metadata": {},
     "output_type": "execute_result"
    }
   ],
   "source": [
    "df.head()"
   ]
  },
  {
   "cell_type": "code",
   "execution_count": null,
   "metadata": {},
   "outputs": [],
   "source": [
    "# We want to create labels for the training data based on the time to event data\n",
    "# Labels in validation set are denoted by 0, 1, 2, 3, 4 where they are related to readouts within a time window of: (more than 48), (48 to 24), (24 to 12), (12 to 6), and (6 to 0) time_step before the failure, respectively. \n",
    "# If we don't have a failure reported, and the time_step left is less 48 we don't know when the failure will happen, so we will label it as -1. \n",
    "\n",
    "def get_class_label_train(row):\n",
    "    #classes denoted by 0, 1, 2, 3, 4 where they are related to readouts within a time window of: (more than 48), (48 to 24), (24 to 12), (12 to 6), and (6 to 0) time_step before the failure, respectively\n",
    "    if row['time_to_potential_event'] > 48:\n",
    "        return 0 #No failure within 48 time steps\n",
    "    elif row['time_to_potential_event'] > 24 and row['in_study_repair'] == 1:\n",
    "        return 1 #Failure within 48 to 24 time steps\n",
    "    elif row['time_to_potential_event'] > 12 and row['in_study_repair'] == 1:\n",
    "        return 2 #Failure within 24 to 12 time steps\n",
    "    elif row['time_to_potential_event'] > 6 and row['in_study_repair'] == 1:\n",
    "        return 3 #Failure within 12 to 6 time steps\n",
    "    elif row['time_to_potential_event'] > 0 and row['in_study_repair'] == 1:\n",
    "        return 4 #Failure within 6 to 0 time steps\n",
    "    else:\n",
    "        return -1 #No failure reported, but within 48 time steps from the end of the study, don't know if it will fail or not\n",
    "    \n",
    "def add_class_labels_train(ttedf, readoutsdf):\n",
    "    # Join the readouts and the time to event data\n",
    "    df = pd.merge(readoutsdf, ttedf, on = 'vehicle_id', how='left').copy()\n",
    "\n",
    "    #Calculate the time to a failure event\n",
    "    df['time_to_potential_event'] = df['length_of_study_time_step'] - df['time_step']\n",
    "\n",
    "    df['class_label'] = df.apply(get_class_label_train, axis=1)\n",
    "\n",
    "    return df"
   ]
  },
  {
   "cell_type": "code",
   "execution_count": null,
   "metadata": {},
   "outputs": [],
   "source": [
    "# We want to create labels for the training data based on the time to event data\n",
    "# Labels in validation set are denoted by 0, 1, 2, 3, 4 where they are related to readouts within a time window of: (more than 48), (48 to 24), (24 to 12), (12 to 6), and (6 to 0) time_step before the failure, respectively. \n",
    "# The validation_labels.csv file has 5046 rows, which is equal to the number of vehicles contributed to the operational data of the\n",
    "# validation set. It includes a column named class_label, corresponding to the class for the last readout of each vehicle.\n",
    "# As mentioned in subsection validation_operational_readouts.csv, the last readout for the validation set is selected randomly\n",
    "# among all readouts for each vehicle. The temporal placement of this final simulated readout is categorized into five classes\n",
    "# denoted by 0, 1, 2, 3, 4 where they are related to readouts within a time window of: (more than 48), (48 to 24), (24 to 12), (12\n",
    "# to 6), and (6 to 0) time_step before the failure, respectively. These classes show the time windows in which the last readouts for\n",
    "# each vehicle are randomly selected.\n",
    "\n",
    "def get_class_label_validation(row):\n",
    "    #classes denoted by 0, 1, 2, 3, 4 where they are related to readouts within a time window of: (more than 48), (48 to 24), (24 to 12), (12 to 6), and (6 to 0) time_step before the failure, respectively\n",
    "    dt = row['time_to_potential_event'] #Time left to the end of the time series\n",
    "\n",
    "    #Add time based on the class_labels\n",
    "    if row['class_label'] == 0:\n",
    "        #(48+) after last readout\n",
    "        dt += 48\n",
    "    elif row['class_label'] == 1:\n",
    "        #(48 to 24) after last readout\n",
    "        dt += 24\n",
    "    elif row['class_label'] == 2:\n",
    "        #(24 to 12) after last readout\n",
    "        dt += 12\n",
    "    elif row['class_label'] == 3:\n",
    "        #(12 to 6) after last readout\n",
    "        dt += 6\n",
    "    elif row['class_label'] == 4:\n",
    "        #(6 to 0) after last readout\n",
    "        dt += 0\n",
    "\n",
    "\n",
    "    if dt >= 48:\n",
    "        return 0 #No failure within 48 time steps\n",
    "    elif dt >= 24:\n",
    "        return 1 #Failure within 48 to 24 time steps\n",
    "    elif dt >= 12:\n",
    "        return 2 #Failure within 24 to 12 time steps\n",
    "    elif dt >= 6:\n",
    "        return 3 #Failure within 12 to 6 time steps\n",
    "    elif dt >= 0:\n",
    "        return 4 #Failure within 6 to 0 time steps\n",
    "    else:\n",
    "        return -1 #Should not happen...\n",
    "    \n",
    "def add_class_labels_validation(ttedf, readoutsdf):\n",
    "    # Join the readouts and the time to event data\n",
    "    df = pd.merge(readoutsdf, ttedf, on = 'vehicle_id', how='left').copy()\n",
    "\n",
    "    # For each vehicle get the max time_step seen for that vehicle:\n",
    "    df['length_of_study_time_step'] = df.groupby('vehicle_id')['time_step'].transform('max')\n",
    "\n",
    "    #Calculate the time to a failure event\n",
    "    df['time_to_potential_event'] = df['length_of_study_time_step'] - df['time_step']\n",
    "\n",
    "    df['class_label'] = df.apply(get_class_label_validation, axis=1)\n",
    "\n",
    "    return df"
   ]
  },
  {
   "cell_type": "code",
   "execution_count": null,
   "metadata": {},
   "outputs": [],
   "source": []
  },
  {
   "cell_type": "code",
   "execution_count": null,
   "metadata": {},
   "outputs": [],
   "source": [
    "#This function will preprocess all the data step by step and return X and y\n",
    "def preprocess_all(readoutsdf, specificationsdf, ttedf=None, validation=False):\n",
    "    #Fill missing values\n",
    "    df = fill_missing_values(readoutsdf) \n",
    "  \n",
    "    #Add features\n",
    "    df = add_features(df, specificationsdf)\n",
    "\n",
    "    #We only have information about the class labels in the training and validation data\n",
    "    if ttedf is not None:\n",
    "\n",
    "        #Merge the time to event data with the readouts data and figure out which class they belong to\n",
    "        #Later we will need to remove the columns: length_of_study_time_step, in_study_repair, time_to_potential_event, class_label and remove any rows with class label -1\n",
    "\n",
    "        #Train and validation targets are structured in different ways, needs to be handled differently\n",
    "        if validation:\n",
    "            df = add_class_labels_validation(ttedf, df)\n",
    "            #Drop the columns that we cannot use for training, since they contain information about the class label\n",
    "            df = df.drop(columns = ['length_of_study_time_step', 'time_to_potential_event'])\n",
    "        else:\n",
    "            df = add_class_labels_train(ttedf, df)\n",
    "            #Drop the columns that we cannot use for training, since they contain information about the class label\n",
    "            df = df.drop(columns = ['length_of_study_time_step', 'in_study_repair', 'time_to_potential_event'])\n",
    "\n",
    "        # Remove classes with class -1, where we don't know if the vehicle will fail or not within 48 hours\n",
    "        df = df[df['class_label'] != -1]\n",
    "  \n",
    "\n",
    "    return df"
   ]
  },
  {
   "cell_type": "code",
   "execution_count": null,
   "metadata": {},
   "outputs": [
    {
     "data": {
      "text/html": [
       "<div>\n",
       "<style scoped>\n",
       "    .dataframe tbody tr th:only-of-type {\n",
       "        vertical-align: middle;\n",
       "    }\n",
       "\n",
       "    .dataframe tbody tr th {\n",
       "        vertical-align: top;\n",
       "    }\n",
       "\n",
       "    .dataframe thead th {\n",
       "        text-align: right;\n",
       "    }\n",
       "</style>\n",
       "<table border=\"1\" class=\"dataframe\">\n",
       "  <thead>\n",
       "    <tr style=\"text-align: right;\">\n",
       "      <th></th>\n",
       "      <th>vehicle_id</th>\n",
       "      <th>class_label</th>\n",
       "    </tr>\n",
       "  </thead>\n",
       "  <tbody>\n",
       "    <tr>\n",
       "      <th>0</th>\n",
       "      <td>10</td>\n",
       "      <td>0</td>\n",
       "    </tr>\n",
       "    <tr>\n",
       "      <th>1</th>\n",
       "      <td>16</td>\n",
       "      <td>0</td>\n",
       "    </tr>\n",
       "    <tr>\n",
       "      <th>2</th>\n",
       "      <td>18</td>\n",
       "      <td>0</td>\n",
       "    </tr>\n",
       "    <tr>\n",
       "      <th>3</th>\n",
       "      <td>23</td>\n",
       "      <td>0</td>\n",
       "    </tr>\n",
       "    <tr>\n",
       "      <th>4</th>\n",
       "      <td>45</td>\n",
       "      <td>0</td>\n",
       "    </tr>\n",
       "  </tbody>\n",
       "</table>\n",
       "</div>"
      ],
      "text/plain": [
       "   vehicle_id  class_label\n",
       "0          10            0\n",
       "1          16            0\n",
       "2          18            0\n",
       "3          23            0\n",
       "4          45            0"
      ]
     },
     "execution_count": 11,
     "metadata": {},
     "output_type": "execute_result"
    }
   ],
   "source": [
    "labelsValidation.head()"
   ]
  },
  {
   "cell_type": "code",
   "execution_count": null,
   "metadata": {},
   "outputs": [],
   "source": [
    "dfTrain = preprocess_all(readoutsTrain, specificationsTrain, tteTrain, validation=False)\n",
    "dfValidation = preprocess_all(readoutsValidation, specificationsValidation, labelsValidation, validation=True)\n",
    "dfTest = preprocess_all(readoutsTest, specificationsTest)\n",
    "#dfTrain, XTrain, yTrain = preprocess_all(readoutsTrain, specificationsTrain, tteTrain, validation=False)\n",
    "# XValidation, yValidation = preprocess_all(readoutsValidation, specificationsValidation, labelsValidation, validation=True)\n",
    "# XTest, yTest = preprocess_all(readoutsTest, specificationsTest)"
   ]
  },
  {
   "cell_type": "code",
   "execution_count": null,
   "metadata": {},
   "outputs": [
    {
     "data": {
      "text/html": [
       "<div>\n",
       "<style scoped>\n",
       "    .dataframe tbody tr th:only-of-type {\n",
       "        vertical-align: middle;\n",
       "    }\n",
       "\n",
       "    .dataframe tbody tr th {\n",
       "        vertical-align: top;\n",
       "    }\n",
       "\n",
       "    .dataframe thead th {\n",
       "        text-align: right;\n",
       "    }\n",
       "</style>\n",
       "<table border=\"1\" class=\"dataframe\">\n",
       "  <thead>\n",
       "    <tr style=\"text-align: right;\">\n",
       "      <th></th>\n",
       "      <th>vehicle_id</th>\n",
       "      <th>time_step</th>\n",
       "      <th>171_0</th>\n",
       "      <th>666_0</th>\n",
       "      <th>427_0</th>\n",
       "      <th>837_0</th>\n",
       "      <th>167_0</th>\n",
       "      <th>167_1</th>\n",
       "      <th>167_2</th>\n",
       "      <th>167_3</th>\n",
       "      <th>...</th>\n",
       "      <th>Spec_7_Cat0</th>\n",
       "      <th>Spec_7_Cat1</th>\n",
       "      <th>Spec_7_Cat2</th>\n",
       "      <th>Spec_7_Cat3</th>\n",
       "      <th>Spec_7_Cat4</th>\n",
       "      <th>Spec_7_Cat5</th>\n",
       "      <th>Spec_7_Cat6</th>\n",
       "      <th>Spec_7_Cat7</th>\n",
       "      <th>Spec_7_Cat8</th>\n",
       "      <th>class_label</th>\n",
       "    </tr>\n",
       "  </thead>\n",
       "  <tbody>\n",
       "    <tr>\n",
       "      <th>0</th>\n",
       "      <td>0</td>\n",
       "      <td>11.2</td>\n",
       "      <td>167985.0</td>\n",
       "      <td>10787.0</td>\n",
       "      <td>7413813.0</td>\n",
       "      <td>2296.0</td>\n",
       "      <td>4110.0</td>\n",
       "      <td>1296420.0</td>\n",
       "      <td>1628265.0</td>\n",
       "      <td>630345.0</td>\n",
       "      <td>...</td>\n",
       "      <td>1.0</td>\n",
       "      <td>0.0</td>\n",
       "      <td>0.0</td>\n",
       "      <td>0.0</td>\n",
       "      <td>0.0</td>\n",
       "      <td>0.0</td>\n",
       "      <td>0.0</td>\n",
       "      <td>0.0</td>\n",
       "      <td>0.0</td>\n",
       "      <td>0</td>\n",
       "    </tr>\n",
       "    <tr>\n",
       "      <th>1</th>\n",
       "      <td>0</td>\n",
       "      <td>11.4</td>\n",
       "      <td>167985.0</td>\n",
       "      <td>10787.0</td>\n",
       "      <td>7413813.0</td>\n",
       "      <td>2296.0</td>\n",
       "      <td>4111.0</td>\n",
       "      <td>1302855.0</td>\n",
       "      <td>1628265.0</td>\n",
       "      <td>630345.0</td>\n",
       "      <td>...</td>\n",
       "      <td>1.0</td>\n",
       "      <td>0.0</td>\n",
       "      <td>0.0</td>\n",
       "      <td>0.0</td>\n",
       "      <td>0.0</td>\n",
       "      <td>0.0</td>\n",
       "      <td>0.0</td>\n",
       "      <td>0.0</td>\n",
       "      <td>0.0</td>\n",
       "      <td>0</td>\n",
       "    </tr>\n",
       "    <tr>\n",
       "      <th>2</th>\n",
       "      <td>0</td>\n",
       "      <td>19.6</td>\n",
       "      <td>331635.0</td>\n",
       "      <td>14525.0</td>\n",
       "      <td>13683604.0</td>\n",
       "      <td>2600.0</td>\n",
       "      <td>4111.0</td>\n",
       "      <td>1302855.0</td>\n",
       "      <td>1628265.0</td>\n",
       "      <td>630345.0</td>\n",
       "      <td>...</td>\n",
       "      <td>1.0</td>\n",
       "      <td>0.0</td>\n",
       "      <td>0.0</td>\n",
       "      <td>0.0</td>\n",
       "      <td>0.0</td>\n",
       "      <td>0.0</td>\n",
       "      <td>0.0</td>\n",
       "      <td>0.0</td>\n",
       "      <td>0.0</td>\n",
       "      <td>0</td>\n",
       "    </tr>\n",
       "    <tr>\n",
       "      <th>3</th>\n",
       "      <td>0</td>\n",
       "      <td>20.2</td>\n",
       "      <td>354975.0</td>\n",
       "      <td>15015.0</td>\n",
       "      <td>14540449.0</td>\n",
       "      <td>2616.0</td>\n",
       "      <td>4111.0</td>\n",
       "      <td>1302855.0</td>\n",
       "      <td>1628265.0</td>\n",
       "      <td>630345.0</td>\n",
       "      <td>...</td>\n",
       "      <td>1.0</td>\n",
       "      <td>0.0</td>\n",
       "      <td>0.0</td>\n",
       "      <td>0.0</td>\n",
       "      <td>0.0</td>\n",
       "      <td>0.0</td>\n",
       "      <td>0.0</td>\n",
       "      <td>0.0</td>\n",
       "      <td>0.0</td>\n",
       "      <td>0</td>\n",
       "    </tr>\n",
       "    <tr>\n",
       "      <th>4</th>\n",
       "      <td>0</td>\n",
       "      <td>21.0</td>\n",
       "      <td>365550.0</td>\n",
       "      <td>15295.0</td>\n",
       "      <td>14966985.0</td>\n",
       "      <td>2720.0</td>\n",
       "      <td>4111.0</td>\n",
       "      <td>1302855.0</td>\n",
       "      <td>1628265.0</td>\n",
       "      <td>630345.0</td>\n",
       "      <td>...</td>\n",
       "      <td>1.0</td>\n",
       "      <td>0.0</td>\n",
       "      <td>0.0</td>\n",
       "      <td>0.0</td>\n",
       "      <td>0.0</td>\n",
       "      <td>0.0</td>\n",
       "      <td>0.0</td>\n",
       "      <td>0.0</td>\n",
       "      <td>0.0</td>\n",
       "      <td>0</td>\n",
       "    </tr>\n",
       "  </tbody>\n",
       "</table>\n",
       "<p>5 rows × 198 columns</p>\n",
       "</div>"
      ],
      "text/plain": [
       "   vehicle_id  time_step     171_0    666_0       427_0   837_0   167_0  \\\n",
       "0           0       11.2  167985.0  10787.0   7413813.0  2296.0  4110.0   \n",
       "1           0       11.4  167985.0  10787.0   7413813.0  2296.0  4111.0   \n",
       "2           0       19.6  331635.0  14525.0  13683604.0  2600.0  4111.0   \n",
       "3           0       20.2  354975.0  15015.0  14540449.0  2616.0  4111.0   \n",
       "4           0       21.0  365550.0  15295.0  14966985.0  2720.0  4111.0   \n",
       "\n",
       "       167_1      167_2     167_3  ...  Spec_7_Cat0  Spec_7_Cat1  Spec_7_Cat2  \\\n",
       "0  1296420.0  1628265.0  630345.0  ...          1.0          0.0          0.0   \n",
       "1  1302855.0  1628265.0  630345.0  ...          1.0          0.0          0.0   \n",
       "2  1302855.0  1628265.0  630345.0  ...          1.0          0.0          0.0   \n",
       "3  1302855.0  1628265.0  630345.0  ...          1.0          0.0          0.0   \n",
       "4  1302855.0  1628265.0  630345.0  ...          1.0          0.0          0.0   \n",
       "\n",
       "   Spec_7_Cat3  Spec_7_Cat4  Spec_7_Cat5  Spec_7_Cat6  Spec_7_Cat7  \\\n",
       "0          0.0          0.0          0.0          0.0          0.0   \n",
       "1          0.0          0.0          0.0          0.0          0.0   \n",
       "2          0.0          0.0          0.0          0.0          0.0   \n",
       "3          0.0          0.0          0.0          0.0          0.0   \n",
       "4          0.0          0.0          0.0          0.0          0.0   \n",
       "\n",
       "   Spec_7_Cat8  class_label  \n",
       "0          0.0            0  \n",
       "1          0.0            0  \n",
       "2          0.0            0  \n",
       "3          0.0            0  \n",
       "4          0.0            0  \n",
       "\n",
       "[5 rows x 198 columns]"
      ]
     },
     "execution_count": 13,
     "metadata": {},
     "output_type": "execute_result"
    }
   ],
   "source": [
    "dfTrain.head()"
   ]
  },
  {
   "cell_type": "code",
   "execution_count": null,
   "metadata": {},
   "outputs": [],
   "source": [
    "# Use Scikit-learn to normalize the data\n",
    "from sklearn.preprocessing import StandardScaler\n",
    "\n",
    "scaler = StandardScaler()\n",
    "#Normalize the data, but only the columns that are not one hot encoded\n",
    "colsToIgnore = ['vehicle_id', 'class_label', 'Spec']\n",
    "#Get the columns that we don't ignore\n",
    "columns = [col for col in dfTrain.columns if all(ignored not in col for ignored in colsToIgnore)]\n",
    "\n",
    "#Fit and transform the data\n",
    "dfTrain[columns] = scaler.fit_transform(dfTrain[columns])\n",
    "\n",
    "#Use the same transformation for the validation and test data\n",
    "dfValidation[columns] = scaler.transform(dfValidation[columns])\n",
    "dfTest[columns] = scaler.transform(dfTest[columns])"
   ]
  },
  {
   "cell_type": "code",
   "execution_count": null,
   "metadata": {},
   "outputs": [
    {
     "data": {
      "text/html": [
       "<div>\n",
       "<style scoped>\n",
       "    .dataframe tbody tr th:only-of-type {\n",
       "        vertical-align: middle;\n",
       "    }\n",
       "\n",
       "    .dataframe tbody tr th {\n",
       "        vertical-align: top;\n",
       "    }\n",
       "\n",
       "    .dataframe thead th {\n",
       "        text-align: right;\n",
       "    }\n",
       "</style>\n",
       "<table border=\"1\" class=\"dataframe\">\n",
       "  <thead>\n",
       "    <tr style=\"text-align: right;\">\n",
       "      <th></th>\n",
       "      <th>vehicle_id</th>\n",
       "      <th>time_step</th>\n",
       "      <th>171_0</th>\n",
       "      <th>666_0</th>\n",
       "      <th>427_0</th>\n",
       "      <th>837_0</th>\n",
       "      <th>167_0</th>\n",
       "      <th>167_1</th>\n",
       "      <th>167_2</th>\n",
       "      <th>167_3</th>\n",
       "      <th>...</th>\n",
       "      <th>Spec_7_Cat0</th>\n",
       "      <th>Spec_7_Cat1</th>\n",
       "      <th>Spec_7_Cat2</th>\n",
       "      <th>Spec_7_Cat3</th>\n",
       "      <th>Spec_7_Cat4</th>\n",
       "      <th>Spec_7_Cat5</th>\n",
       "      <th>Spec_7_Cat6</th>\n",
       "      <th>Spec_7_Cat7</th>\n",
       "      <th>Spec_7_Cat8</th>\n",
       "      <th>class_label</th>\n",
       "    </tr>\n",
       "  </thead>\n",
       "  <tbody>\n",
       "    <tr>\n",
       "      <th>0</th>\n",
       "      <td>10</td>\n",
       "      <td>-1.401526</td>\n",
       "      <td>-1.174908</td>\n",
       "      <td>-0.792514</td>\n",
       "      <td>-1.215986</td>\n",
       "      <td>-0.519401</td>\n",
       "      <td>-0.275722</td>\n",
       "      <td>-1.123193</td>\n",
       "      <td>-1.054025</td>\n",
       "      <td>-0.895208</td>\n",
       "      <td>...</td>\n",
       "      <td>0.0</td>\n",
       "      <td>1.0</td>\n",
       "      <td>0.0</td>\n",
       "      <td>0.0</td>\n",
       "      <td>0.0</td>\n",
       "      <td>0.0</td>\n",
       "      <td>0.0</td>\n",
       "      <td>0.0</td>\n",
       "      <td>0.0</td>\n",
       "      <td>0</td>\n",
       "    </tr>\n",
       "    <tr>\n",
       "      <th>1</th>\n",
       "      <td>10</td>\n",
       "      <td>-1.350937</td>\n",
       "      <td>-1.143335</td>\n",
       "      <td>-0.694372</td>\n",
       "      <td>-1.167848</td>\n",
       "      <td>-0.475053</td>\n",
       "      <td>-0.275722</td>\n",
       "      <td>-1.049603</td>\n",
       "      <td>-1.033836</td>\n",
       "      <td>-0.880753</td>\n",
       "      <td>...</td>\n",
       "      <td>0.0</td>\n",
       "      <td>1.0</td>\n",
       "      <td>0.0</td>\n",
       "      <td>0.0</td>\n",
       "      <td>0.0</td>\n",
       "      <td>0.0</td>\n",
       "      <td>0.0</td>\n",
       "      <td>0.0</td>\n",
       "      <td>0.0</td>\n",
       "      <td>0</td>\n",
       "    </tr>\n",
       "    <tr>\n",
       "      <th>2</th>\n",
       "      <td>10</td>\n",
       "      <td>-1.344038</td>\n",
       "      <td>-1.136706</td>\n",
       "      <td>-0.672664</td>\n",
       "      <td>-1.158933</td>\n",
       "      <td>-0.467178</td>\n",
       "      <td>-0.275722</td>\n",
       "      <td>-1.045711</td>\n",
       "      <td>-1.029650</td>\n",
       "      <td>-0.879821</td>\n",
       "      <td>...</td>\n",
       "      <td>0.0</td>\n",
       "      <td>1.0</td>\n",
       "      <td>0.0</td>\n",
       "      <td>0.0</td>\n",
       "      <td>0.0</td>\n",
       "      <td>0.0</td>\n",
       "      <td>0.0</td>\n",
       "      <td>0.0</td>\n",
       "      <td>0.0</td>\n",
       "      <td>0</td>\n",
       "    </tr>\n",
       "    <tr>\n",
       "      <th>3</th>\n",
       "      <td>10</td>\n",
       "      <td>-1.298048</td>\n",
       "      <td>-1.119632</td>\n",
       "      <td>-0.637477</td>\n",
       "      <td>-1.137810</td>\n",
       "      <td>-0.436923</td>\n",
       "      <td>-0.207791</td>\n",
       "      <td>-1.009742</td>\n",
       "      <td>-1.020041</td>\n",
       "      <td>-0.875221</td>\n",
       "      <td>...</td>\n",
       "      <td>0.0</td>\n",
       "      <td>1.0</td>\n",
       "      <td>0.0</td>\n",
       "      <td>0.0</td>\n",
       "      <td>0.0</td>\n",
       "      <td>0.0</td>\n",
       "      <td>0.0</td>\n",
       "      <td>0.0</td>\n",
       "      <td>0.0</td>\n",
       "      <td>0</td>\n",
       "    </tr>\n",
       "    <tr>\n",
       "      <th>4</th>\n",
       "      <td>10</td>\n",
       "      <td>-1.295749</td>\n",
       "      <td>-1.119626</td>\n",
       "      <td>-0.637477</td>\n",
       "      <td>-1.137810</td>\n",
       "      <td>-0.436923</td>\n",
       "      <td>-0.207791</td>\n",
       "      <td>-1.009742</td>\n",
       "      <td>-1.020041</td>\n",
       "      <td>-0.875221</td>\n",
       "      <td>...</td>\n",
       "      <td>0.0</td>\n",
       "      <td>1.0</td>\n",
       "      <td>0.0</td>\n",
       "      <td>0.0</td>\n",
       "      <td>0.0</td>\n",
       "      <td>0.0</td>\n",
       "      <td>0.0</td>\n",
       "      <td>0.0</td>\n",
       "      <td>0.0</td>\n",
       "      <td>0</td>\n",
       "    </tr>\n",
       "  </tbody>\n",
       "</table>\n",
       "<p>5 rows × 198 columns</p>\n",
       "</div>"
      ],
      "text/plain": [
       "   vehicle_id  time_step     171_0     666_0     427_0     837_0     167_0  \\\n",
       "0          10  -1.401526 -1.174908 -0.792514 -1.215986 -0.519401 -0.275722   \n",
       "1          10  -1.350937 -1.143335 -0.694372 -1.167848 -0.475053 -0.275722   \n",
       "2          10  -1.344038 -1.136706 -0.672664 -1.158933 -0.467178 -0.275722   \n",
       "3          10  -1.298048 -1.119632 -0.637477 -1.137810 -0.436923 -0.207791   \n",
       "4          10  -1.295749 -1.119626 -0.637477 -1.137810 -0.436923 -0.207791   \n",
       "\n",
       "      167_1     167_2     167_3  ...  Spec_7_Cat0  Spec_7_Cat1  Spec_7_Cat2  \\\n",
       "0 -1.123193 -1.054025 -0.895208  ...          0.0          1.0          0.0   \n",
       "1 -1.049603 -1.033836 -0.880753  ...          0.0          1.0          0.0   \n",
       "2 -1.045711 -1.029650 -0.879821  ...          0.0          1.0          0.0   \n",
       "3 -1.009742 -1.020041 -0.875221  ...          0.0          1.0          0.0   \n",
       "4 -1.009742 -1.020041 -0.875221  ...          0.0          1.0          0.0   \n",
       "\n",
       "   Spec_7_Cat3  Spec_7_Cat4  Spec_7_Cat5  Spec_7_Cat6  Spec_7_Cat7  \\\n",
       "0          0.0          0.0          0.0          0.0          0.0   \n",
       "1          0.0          0.0          0.0          0.0          0.0   \n",
       "2          0.0          0.0          0.0          0.0          0.0   \n",
       "3          0.0          0.0          0.0          0.0          0.0   \n",
       "4          0.0          0.0          0.0          0.0          0.0   \n",
       "\n",
       "   Spec_7_Cat8  class_label  \n",
       "0          0.0            0  \n",
       "1          0.0            0  \n",
       "2          0.0            0  \n",
       "3          0.0            0  \n",
       "4          0.0            0  \n",
       "\n",
       "[5 rows x 198 columns]"
      ]
     },
     "execution_count": 15,
     "metadata": {},
     "output_type": "execute_result"
    }
   ],
   "source": [
    "dfValidation.head()"
   ]
  },
  {
   "cell_type": "markdown",
   "metadata": {},
   "source": [
    "# Augment data\n",
    "We want to get training data for the interesting classes. So we take all observations from the right where we have non-zero data and add them shifted in order to get more of the rare data points"
   ]
  },
  {
   "cell_type": "code",
   "execution_count": null,
   "metadata": {},
   "outputs": [],
   "source": [
    "def augment_data(df):\n",
    "    df = df.copy()\n",
    "    #For each vechicle_id we have T observations. We want to get all observations up to T, then T-1, T-2 and so up to T-n\n",
    "    # We start by grouping by vehicle_id and then we will apply a function to each group\n",
    "\n",
    "    #This function will create a new dataframe with all the observations up to T, then T-1, T-2 and so on\n",
    "    def augment_group(group, max_n=20):\n",
    "        #Get the number of observations for this vehicle with non zero class labels\n",
    "        num_non_zero_class_labels = np.sum(group['class_label'] > 0) # We want to have at least one observation with a class label > 0\n",
    "        #print('num_non_zero_class_labels', num_non_zero_class_labels)\n",
    "        n = np.min([num_non_zero_class_labels + 1, max_n]) #Take all non_zero observations (plus one), but at most max_n\n",
    "        n = np.max([n, 1]) #at least one observation\n",
    "        #print('n', n)\n",
    "        vehic_id = group['vehicle_id'].iloc[0]\n",
    "        #print(vehic_id)\n",
    "\n",
    "        #Create a list of dataframes, where each dataframe is the original dataframe but shifted\n",
    "        dfs = [group.shift(i) for i in range(n)]\n",
    "\n",
    "        #Add the vehicle_id to each dataframe with the corresponding n value\n",
    "        for i, d in enumerate(dfs):\n",
    "            d['vehicle_id_aug'] = f\"{vehic_id}_{i}\"\n",
    "            \n",
    "        #print('len dfs', len(dfs))\n",
    "        #Concatenate all the dataframes\n",
    "        return pd.concat(dfs).dropna()\n",
    "    \n",
    "    #Group by vehicle_id and apply the function to each group\n",
    "    df = df.groupby('vehicle_id').apply(augment_group)\n",
    "    #Reset the index\n",
    "    df = df.reset_index(drop=True)\n",
    "    return df"
   ]
  },
  {
   "cell_type": "code",
   "execution_count": null,
   "metadata": {},
   "outputs": [
    {
     "name": "stdout",
     "output_type": "stream",
     "text": [
      "Before augmentation: (919315, 198)\n",
      "After augmentation: (2025833, 199)\n"
     ]
    }
   ],
   "source": [
    "print('Before augmentation:', dfTrain.shape)\n",
    "dfTrainAugmented = augment_data(dfTrain)\n",
    "print('After augmentation:', dfTrainAugmented.shape)"
   ]
  },
  {
   "cell_type": "code",
   "execution_count": null,
   "metadata": {},
   "outputs": [],
   "source": [
    "# Group by vechicle_id and get the last target_value for each vehicle, this is now our y\n",
    "#yTrain = dfTrain.groupby('vehicle_id').last()['class_label']\n",
    "yTrain = dfTrainAugmented.groupby('vehicle_id_aug').last()['class_label'].astype(int)  \n",
    "yValidation = dfValidation.groupby('vehicle_id').last()['class_label']\n",
    "#No target for test data\n",
    "\n",
    "#For each vechicle_id create a matrix of all the features in order of time_step\n",
    "#This will be our X\n",
    "XTrain = dfTrainAugmented.drop(columns=['class_label']).groupby('vehicle_id_aug').apply(lambda x: x.drop(columns=['vehicle_id', 'vehicle_id_aug']).values)\n",
    "XValidation = dfValidation.drop(columns=['class_label']).groupby('vehicle_id').apply(lambda x: x.drop(columns=['vehicle_id']).values)\n",
    "\n",
    "#No class label for test data\n",
    "XTest = dfTest.groupby('vehicle_id').apply(lambda x: x.drop(columns=['vehicle_id']).values)\n",
    "\n",
    "#Convert to numpy arrays\n",
    "XTrain = np.array(XTrain)\n",
    "XValidation = np.array(XValidation)\n",
    "XTest = np.array(XTest)"
   ]
  },
  {
   "cell_type": "code",
   "execution_count": null,
   "metadata": {},
   "outputs": [
    {
     "data": {
      "text/plain": [
       "((153, 196), (102, 196), (70, 196))"
      ]
     },
     "execution_count": 19,
     "metadata": {},
     "output_type": "execute_result"
    }
   ],
   "source": [
    "XTrain[0].shape, XValidation[0].shape, XTest[0].shape"
   ]
  },
  {
   "cell_type": "code",
   "execution_count": null,
   "metadata": {},
   "outputs": [
    {
     "data": {
      "text/plain": [
       "((48659,), (5046,), (5045,))"
      ]
     },
     "execution_count": 20,
     "metadata": {},
     "output_type": "execute_result"
    }
   ],
   "source": [
    "XTrain.shape, XValidation.shape, XTest.shape"
   ]
  },
  {
   "cell_type": "code",
   "execution_count": null,
   "metadata": {},
   "outputs": [
    {
     "data": {
      "text/plain": [
       "class_label\n",
       "0    23415\n",
       "1    12020\n",
       "2     6167\n",
       "4     3858\n",
       "3     3199\n",
       "Name: count, dtype: int64"
      ]
     },
     "execution_count": 21,
     "metadata": {},
     "output_type": "execute_result"
    }
   ],
   "source": [
    "yTrain.value_counts()"
   ]
  },
  {
   "cell_type": "code",
   "execution_count": null,
   "metadata": {},
   "outputs": [
    {
     "data": {
      "text/plain": [
       "class_label\n",
       "0    4910\n",
       "4      76\n",
       "3      30\n",
       "1      16\n",
       "2      14\n",
       "Name: count, dtype: int64"
      ]
     },
     "execution_count": 22,
     "metadata": {},
     "output_type": "execute_result"
    }
   ],
   "source": [
    "yValidation.value_counts()"
   ]
  },
  {
   "cell_type": "code",
   "execution_count": null,
   "metadata": {},
   "outputs": [
    {
     "data": {
      "text/html": [
       "<div>\n",
       "<style scoped>\n",
       "    .dataframe tbody tr th:only-of-type {\n",
       "        vertical-align: middle;\n",
       "    }\n",
       "\n",
       "    .dataframe tbody tr th {\n",
       "        vertical-align: top;\n",
       "    }\n",
       "\n",
       "    .dataframe thead th {\n",
       "        text-align: right;\n",
       "    }\n",
       "</style>\n",
       "<table border=\"1\" class=\"dataframe\">\n",
       "  <thead>\n",
       "    <tr style=\"text-align: right;\">\n",
       "      <th></th>\n",
       "      <th>vehicle_id</th>\n",
       "      <th>time_step</th>\n",
       "      <th>171_0</th>\n",
       "      <th>666_0</th>\n",
       "      <th>427_0</th>\n",
       "      <th>837_0</th>\n",
       "      <th>167_0</th>\n",
       "      <th>167_1</th>\n",
       "      <th>167_2</th>\n",
       "      <th>167_3</th>\n",
       "      <th>...</th>\n",
       "      <th>Spec_7_Cat0</th>\n",
       "      <th>Spec_7_Cat1</th>\n",
       "      <th>Spec_7_Cat2</th>\n",
       "      <th>Spec_7_Cat3</th>\n",
       "      <th>Spec_7_Cat4</th>\n",
       "      <th>Spec_7_Cat5</th>\n",
       "      <th>Spec_7_Cat6</th>\n",
       "      <th>Spec_7_Cat7</th>\n",
       "      <th>Spec_7_Cat8</th>\n",
       "      <th>class_label</th>\n",
       "    </tr>\n",
       "  </thead>\n",
       "  <tbody>\n",
       "    <tr>\n",
       "      <th>0</th>\n",
       "      <td>0</td>\n",
       "      <td>-1.307246</td>\n",
       "      <td>-1.127307</td>\n",
       "      <td>-0.739064</td>\n",
       "      <td>-1.158006</td>\n",
       "      <td>-0.507713</td>\n",
       "      <td>-0.170246</td>\n",
       "      <td>-0.915208</td>\n",
       "      <td>-0.95772</td>\n",
       "      <td>-0.854462</td>\n",
       "      <td>...</td>\n",
       "      <td>1.0</td>\n",
       "      <td>0.0</td>\n",
       "      <td>0.0</td>\n",
       "      <td>0.0</td>\n",
       "      <td>0.0</td>\n",
       "      <td>0.0</td>\n",
       "      <td>0.0</td>\n",
       "      <td>0.0</td>\n",
       "      <td>0.0</td>\n",
       "      <td>0</td>\n",
       "    </tr>\n",
       "    <tr>\n",
       "      <th>1</th>\n",
       "      <td>0</td>\n",
       "      <td>-1.304947</td>\n",
       "      <td>-1.127307</td>\n",
       "      <td>-0.739064</td>\n",
       "      <td>-1.158006</td>\n",
       "      <td>-0.507713</td>\n",
       "      <td>-0.170220</td>\n",
       "      <td>-0.913899</td>\n",
       "      <td>-0.95772</td>\n",
       "      <td>-0.854462</td>\n",
       "      <td>...</td>\n",
       "      <td>1.0</td>\n",
       "      <td>0.0</td>\n",
       "      <td>0.0</td>\n",
       "      <td>0.0</td>\n",
       "      <td>0.0</td>\n",
       "      <td>0.0</td>\n",
       "      <td>0.0</td>\n",
       "      <td>0.0</td>\n",
       "      <td>0.0</td>\n",
       "      <td>0</td>\n",
       "    </tr>\n",
       "    <tr>\n",
       "      <th>2</th>\n",
       "      <td>0</td>\n",
       "      <td>-1.210667</td>\n",
       "      <td>-1.063137</td>\n",
       "      <td>-0.710888</td>\n",
       "      <td>-1.090373</td>\n",
       "      <td>-0.503513</td>\n",
       "      <td>-0.170220</td>\n",
       "      <td>-0.913899</td>\n",
       "      <td>-0.95772</td>\n",
       "      <td>-0.854462</td>\n",
       "      <td>...</td>\n",
       "      <td>1.0</td>\n",
       "      <td>0.0</td>\n",
       "      <td>0.0</td>\n",
       "      <td>0.0</td>\n",
       "      <td>0.0</td>\n",
       "      <td>0.0</td>\n",
       "      <td>0.0</td>\n",
       "      <td>0.0</td>\n",
       "      <td>0.0</td>\n",
       "      <td>0</td>\n",
       "    </tr>\n",
       "    <tr>\n",
       "      <th>3</th>\n",
       "      <td>0</td>\n",
       "      <td>-1.203769</td>\n",
       "      <td>-1.053985</td>\n",
       "      <td>-0.707194</td>\n",
       "      <td>-1.081130</td>\n",
       "      <td>-0.503292</td>\n",
       "      <td>-0.170220</td>\n",
       "      <td>-0.913899</td>\n",
       "      <td>-0.95772</td>\n",
       "      <td>-0.854462</td>\n",
       "      <td>...</td>\n",
       "      <td>1.0</td>\n",
       "      <td>0.0</td>\n",
       "      <td>0.0</td>\n",
       "      <td>0.0</td>\n",
       "      <td>0.0</td>\n",
       "      <td>0.0</td>\n",
       "      <td>0.0</td>\n",
       "      <td>0.0</td>\n",
       "      <td>0.0</td>\n",
       "      <td>0</td>\n",
       "    </tr>\n",
       "    <tr>\n",
       "      <th>4</th>\n",
       "      <td>0</td>\n",
       "      <td>-1.194571</td>\n",
       "      <td>-1.049838</td>\n",
       "      <td>-0.705083</td>\n",
       "      <td>-1.076529</td>\n",
       "      <td>-0.501855</td>\n",
       "      <td>-0.170220</td>\n",
       "      <td>-0.913899</td>\n",
       "      <td>-0.95772</td>\n",
       "      <td>-0.854462</td>\n",
       "      <td>...</td>\n",
       "      <td>1.0</td>\n",
       "      <td>0.0</td>\n",
       "      <td>0.0</td>\n",
       "      <td>0.0</td>\n",
       "      <td>0.0</td>\n",
       "      <td>0.0</td>\n",
       "      <td>0.0</td>\n",
       "      <td>0.0</td>\n",
       "      <td>0.0</td>\n",
       "      <td>0</td>\n",
       "    </tr>\n",
       "  </tbody>\n",
       "</table>\n",
       "<p>5 rows × 198 columns</p>\n",
       "</div>"
      ],
      "text/plain": [
       "   vehicle_id  time_step     171_0     666_0     427_0     837_0     167_0  \\\n",
       "0           0  -1.307246 -1.127307 -0.739064 -1.158006 -0.507713 -0.170246   \n",
       "1           0  -1.304947 -1.127307 -0.739064 -1.158006 -0.507713 -0.170220   \n",
       "2           0  -1.210667 -1.063137 -0.710888 -1.090373 -0.503513 -0.170220   \n",
       "3           0  -1.203769 -1.053985 -0.707194 -1.081130 -0.503292 -0.170220   \n",
       "4           0  -1.194571 -1.049838 -0.705083 -1.076529 -0.501855 -0.170220   \n",
       "\n",
       "      167_1    167_2     167_3  ...  Spec_7_Cat0  Spec_7_Cat1  Spec_7_Cat2  \\\n",
       "0 -0.915208 -0.95772 -0.854462  ...          1.0          0.0          0.0   \n",
       "1 -0.913899 -0.95772 -0.854462  ...          1.0          0.0          0.0   \n",
       "2 -0.913899 -0.95772 -0.854462  ...          1.0          0.0          0.0   \n",
       "3 -0.913899 -0.95772 -0.854462  ...          1.0          0.0          0.0   \n",
       "4 -0.913899 -0.95772 -0.854462  ...          1.0          0.0          0.0   \n",
       "\n",
       "   Spec_7_Cat3  Spec_7_Cat4  Spec_7_Cat5  Spec_7_Cat6  Spec_7_Cat7  \\\n",
       "0          0.0          0.0          0.0          0.0          0.0   \n",
       "1          0.0          0.0          0.0          0.0          0.0   \n",
       "2          0.0          0.0          0.0          0.0          0.0   \n",
       "3          0.0          0.0          0.0          0.0          0.0   \n",
       "4          0.0          0.0          0.0          0.0          0.0   \n",
       "\n",
       "   Spec_7_Cat8  class_label  \n",
       "0          0.0            0  \n",
       "1          0.0            0  \n",
       "2          0.0            0  \n",
       "3          0.0            0  \n",
       "4          0.0            0  \n",
       "\n",
       "[5 rows x 198 columns]"
      ]
     },
     "execution_count": 23,
     "metadata": {},
     "output_type": "execute_result"
    }
   ],
   "source": [
    "dfTrain.head()"
   ]
  },
  {
   "cell_type": "code",
   "execution_count": null,
   "metadata": {},
   "outputs": [],
   "source": [
    "# We want to create feature inputs for the torch model\n",
    "# Shape should be (n_vehicles, n_timesteps, n_features)\n",
    "# We need to pad the sequences with zeros to make them the same length\n",
    "def pad_sequences(X, max_length=256):\n",
    "    \n",
    "    #Create a tensor for the sequences\n",
    "    X_padded = np.zeros((len(X), max_length, X[0].shape[1]), dtype=np.float32)\n",
    "\n",
    "    #Pad the sequences with zeros\n",
    "    for i, x in enumerate(X):\n",
    "        length = x.shape[0]\n",
    "        X_padded[i, :length] = x[-max_length:] #Only keep the last max_length time steps    \n",
    "\n",
    "    return X_padded"
   ]
  },
  {
   "cell_type": "code",
   "execution_count": null,
   "metadata": {},
   "outputs": [],
   "source": [
    "max_length = 256\n",
    "XPaddedTrain = pad_sequences(XTrain, max_length=max_length)\n",
    "XPaddedValidation = pad_sequences(XValidation, max_length=max_length)\n",
    "XPaddedTest = pad_sequences(XTest, max_length=max_length)"
   ]
  },
  {
   "cell_type": "code",
   "execution_count": null,
   "metadata": {},
   "outputs": [],
   "source": [
    "#Convert to tensors\n",
    "XTrain = torch.tensor(XPaddedTrain, dtype=torch.float32)\n",
    "yTrain = torch.tensor(yTrain.values, dtype=torch.int64)\n",
    "\n",
    "XValidation = torch.tensor(XPaddedValidation, dtype=torch.float32)\n",
    "yValidation = torch.tensor(yValidation.values, dtype=torch.int64)\n",
    "\n",
    "XTest = torch.tensor(XPaddedTest, dtype=torch.float32)\n"
   ]
  },
  {
   "cell_type": "code",
   "execution_count": null,
   "metadata": {},
   "outputs": [
    {
     "data": {
      "text/plain": [
       "torch.Size([48659, 256, 196])"
      ]
     },
     "execution_count": 27,
     "metadata": {},
     "output_type": "execute_result"
    }
   ],
   "source": [
    "XTrain.shape"
   ]
  },
  {
   "cell_type": "code",
   "execution_count": null,
   "metadata": {},
   "outputs": [],
   "source": [
    "# Create a pyTorch Transformer model that takes a sequence of features and outputs a class label\n",
    "# The model should not have an embedding layer, rather the features should be used directly one for each position\n",
    "# The input should be of shape (batch_size, sequence_length, n_features)\n",
    "# The position of the features should be encoded using positional encoding\n",
    "\n",
    "\n",
    "class XTransformer(nn.Module):\n",
    "    def __init__(self, n_features, n_classes, n_layers=6, n_heads=8, max_time_steps=256, hidden_size=512, dropout=0.1, dim_feedforward=2048):\n",
    "        super(XTransformer, self).__init__()\n",
    "        self.n_features = n_features\n",
    "        self.n_classes = n_classes\n",
    "        self.n_layers = n_layers\n",
    "        self.n_heads = n_heads\n",
    "        self.max_time_steps = max_time_steps\n",
    "        self.dim_feedforward = dim_feedforward\n",
    "        self.hidden_size = hidden_size\n",
    "        self.dropout_rate = dropout\n",
    "        self.dropout_layer = nn.Dropout(dropout)\n",
    " \n",
    "        self.input_layer = nn.Linear(n_features, hidden_size)\n",
    "        # Positional embedding\n",
    "        self.position_embedding = nn.Embedding(max_time_steps, embedding_dim=hidden_size)\n",
    "        \n",
    "        self.layer_norm1 = nn.LayerNorm(n_features)\n",
    "        self.layer_norm2 = nn.LayerNorm(hidden_size)\n",
    "\n",
    "        self.input_batch_norm = nn.BatchNorm1d(hidden_size)  # Batch norm after input layer\n",
    "\n",
    "        # Transformer layers\n",
    "        self.transformer_layers = nn.ModuleList([\n",
    "            nn.TransformerEncoderLayer(\n",
    "                d_model=hidden_size, \n",
    "                nhead=n_heads, \n",
    "                dropout=dropout,\n",
    "                dim_feedforward=dim_feedforward,\n",
    "                batch_first=True,\n",
    "                norm_first=True\n",
    "                ) for _ in range(n_layers)])\n",
    "\n",
    "        # Output layer\n",
    "        self.output_layer = nn.Linear(hidden_size, n_classes)\n",
    "\n",
    "    def forward(self, x):\n",
    "\n",
    "        B, T, C = x.shape\n",
    "\n",
    "        device = x.device   \n",
    "\n",
    "        # Input layer, normalize and apply dropout\n",
    "        x = self.layer_norm1(x)\n",
    "        x = self.dropout_layer(x)\n",
    "\n",
    "        #FC layer, to get to the correct hidden size\n",
    "        x = self.input_layer(x)\n",
    "\n",
    "        # Apply batch normalization on input features\n",
    "        x = self.input_batch_norm(x.view(-1, x.shape[-1])).view(B, T, -1)\n",
    "\n",
    "        # Add positional encoding\n",
    "        position_ids = torch.arange(T, device=device).unsqueeze(0).repeat(B, 1)  # Expand to batch size\n",
    "        pos_emb = self.position_embedding(position_ids)  # (B, T, hidden_size)\n",
    "        x = x + pos_emb #(B, T, C)\n",
    "\n",
    "        #Dropout\n",
    "        x = self.dropout_layer(x)\n",
    "\n",
    "        # Transformer layers\n",
    "        for layer in self.transformer_layers:\n",
    "            x = layer(x)\n",
    "\n",
    "\n",
    "        # Normalize and apply dropout\n",
    "        x = self.layer_norm2(x)\n",
    "        \n",
    "        #Dropout\n",
    "        x = self.dropout_layer(x)\n",
    "        \n",
    "        # Output layer\n",
    "        x = self.output_layer(x)\n",
    "\n",
    "        # Only keep the last time step\n",
    "        x = x.mean(dim=1).squeeze()\n",
    "        #x = x[:, -1, :].squeeze()\n",
    "\n",
    "        return x\n"
   ]
  },
  {
   "cell_type": "code",
   "execution_count": null,
   "metadata": {},
   "outputs": [
    {
     "data": {
      "text/plain": [
       "tensor([0, 1, 2, 3, 4])"
      ]
     },
     "execution_count": 29,
     "metadata": {},
     "output_type": "execute_result"
    }
   ],
   "source": [
    "yTrain.unique()"
   ]
  },
  {
   "cell_type": "code",
   "execution_count": null,
   "metadata": {},
   "outputs": [
    {
     "name": "stdout",
     "output_type": "stream",
     "text": [
      "device: cuda\n"
     ]
    }
   ],
   "source": [
    "# Get the current device\n",
    "device = torch.device(\"cuda\" if torch.cuda.is_available() else \"cpu\")\n",
    "print(f'device: {device}')"
   ]
  },
  {
   "cell_type": "code",
   "execution_count": null,
   "metadata": {},
   "outputs": [
    {
     "data": {
      "text/plain": [
       "torch.Size([48659, 256, 196])"
      ]
     },
     "execution_count": 31,
     "metadata": {},
     "output_type": "execute_result"
    }
   ],
   "source": [
    "XTrain.shape"
   ]
  },
  {
   "cell_type": "code",
   "execution_count": null,
   "metadata": {},
   "outputs": [],
   "source": [
    "#model = XTransformer(n_features=XTrain.shape[2], n_classes=5, dropout=0.1, n_layers=3, n_heads=8, max_time_steps=XTrain.shape[1], hidden_size=512, dim_feedforward=2048)\n",
    "model = XTransformer(n_features=XTrain.shape[2], n_classes=5, dropout=0.2, n_layers=3, n_heads=8, max_time_steps=XTrain.shape[1], hidden_size=512, dim_feedforward=2048)"
   ]
  },
  {
   "cell_type": "code",
   "execution_count": null,
   "metadata": {},
   "outputs": [],
   "source": [
    "#Send model to device\n",
    "model = model.to(device)\n"
   ]
  },
  {
   "cell_type": "markdown",
   "metadata": {},
   "source": [
    "# Create weighted samples\n",
    "We need to train the model on a balanced training set, in order to minimize mitigate the effect of inbalance.\n"
   ]
  },
  {
   "cell_type": "code",
   "execution_count": null,
   "metadata": {},
   "outputs": [],
   "source": [
    "# Batch the data\n",
    "batch_size = 1024\n",
    "#batch_size = 5*100\n",
    "num_workers = 6\n",
    "\n",
    "\n",
    "#Calculate the class weights\n",
    "class_weights = 1.0 / torch.tensor([len(yTrain[yTrain == i]) for i in range(5)], dtype=torch.float32, device=device)\n",
    "\n",
    "# Create a sampler for the data\n",
    "weights = class_weights[yTrain]\n",
    "sampler = torch.utils.data.sampler.WeightedRandomSampler(weights, len(weights))\n",
    "\n",
    "train_data = torch.utils.data.TensorDataset(XTrain, yTrain)\n",
    "\n",
    "# Create a DataLoader that samples from the WeightedRandomSampler\n",
    "train_loader= torch.utils.data.DataLoader(train_data, batch_size=batch_size, sampler=sampler, num_workers=num_workers)\n",
    "\n",
    "#Same for validation data, but without the weighted classes\n",
    "validation_data = torch.utils.data.TensorDataset(XValidation, yValidation)\n",
    "validation_loader = torch.utils.data.DataLoader(validation_data, batch_size=batch_size, shuffle=False, num_workers=num_workers)"
   ]
  },
  {
   "cell_type": "code",
   "execution_count": null,
   "metadata": {},
   "outputs": [],
   "source": [
    "# # Get a mini batch\n",
    "# num_workers = 6\n",
    "# XMini, yMini = next(iter(train_loader))\n",
    "# #Creata a train_data with mini-data\n",
    "# #mini_batch_size = 512\n",
    "# train_data_mini = torch.utils.data.TensorDataset(XMini, yMini)\n",
    "# train_loader_mini = torch.utils.data.DataLoader(train_data_mini, batch_size=batch_size, shuffle=True, num_workers=num_workers)\n",
    "# train_loader = train_loader_mini\n",
    "# #validation_loader = train_loader_mini"
   ]
  },
  {
   "cell_type": "code",
   "execution_count": null,
   "metadata": {},
   "outputs": [],
   "source": [
    "# # Get a mini validation loader too\n",
    "\n",
    "# #Calculate the class weights\n",
    "# class_weights = 1.0 / torch.tensor([len(yValidation[yValidation == i]) for i in range(5)], dtype=torch.float32, device=device)\n",
    "\n",
    "# # Create a sampler for the data\n",
    "# weights = class_weights[yValidation]\n",
    "# sampler = torch.utils.data.sampler.WeightedRandomSampler(weights, len(weights))\n",
    "\n",
    "# validation_data = torch.utils.data.TensorDataset(XValidation, yValidation)\n",
    "\n",
    "# # Create a DataLoader that samples from the WeightedRandomSampler\n",
    "# train_loader_mini= torch.utils.data.DataLoader(validation_data, batch_size=batch_size, sampler=sampler)\n",
    "\n",
    "# XValMini, yValMini = next(iter(train_loader_mini))\n",
    "\n",
    "\n",
    "# validation_data_mini = torch.utils.data.TensorDataset(XValMini, yValMini)\n",
    "# train_loader_mini = torch.utils.data.DataLoader(validation_data_mini, batch_size=batch_size, shuffle=False, num_workers=num_workers)\n",
    "# validation_loader = train_loader_mini\n",
    "# plt.hist(np.array(yMini),5)"
   ]
  },
  {
   "cell_type": "code",
   "execution_count": null,
   "metadata": {},
   "outputs": [],
   "source": [
    "# Define the loss function and optimizer\n",
    "# We need to weight the classes since they are imbalanced\n",
    "import torch.optim as optim\n",
    "from sklearn.utils.class_weight import compute_class_weight\n",
    "#Find the class weights\n",
    "#class_weights = 1.0 / torch.tensor([len(yTrain[yTrain == i]) for i in range(5)], dtype=torch.float32, device=device)\n",
    "\n",
    "\n",
    "# classes = np.unique(np.array(yTrain))\n",
    "# # Compute class weights\n",
    "# class_weights = compute_class_weight(class_weight='balanced', classes=classes, y=np.array(yTrain))\n",
    "\n",
    "# class_weights = torch.tensor(class_weights, dtype=torch.float32, device=device)\n",
    "\n",
    "\n",
    "#Create a optimizer and loss function\n",
    "#criterion = nn.CrossEntropyLoss(weight=class_weights)\n",
    "\n",
    "criterion = nn.CrossEntropyLoss() #We will use class weights when sampling the data instead\n",
    "#optimizer = optim.Adam(model.parameters(), lr=0.001)\n",
    "#optimizer = optim.AdamW(model.parameters(), lr=0.0003, weight_decay=0.01)\n",
    "optimizer = optim.AdamW(model.parameters(), lr=0.0006, weight_decay=0.01)\n",
    "\n",
    "#Create a loss function for the validation data\n",
    "class_weights_val = 1.0 / torch.tensor([len(yValidation[yValidation == i]) for i in range(5)], dtype=torch.float32, device=device)\n",
    "criterion_val = nn.CrossEntropyLoss(weight=class_weights_val)\n",
    "\n",
    "scheduler = optim.lr_scheduler.StepLR(optimizer, step_size=5, gamma=0.1)"
   ]
  },
  {
   "cell_type": "code",
   "execution_count": null,
   "metadata": {},
   "outputs": [],
   "source": [
    "loss_train = []\n",
    "loss_validation = []\n",
    "epochs = 15\n",
    "checkpoint_path = 'model3.pth'\n",
    "best_validation_loss = 1e9\n",
    "clip_value = 1.5  # Define the clip value for gradient clipping\n"
   ]
  },
  {
   "cell_type": "code",
   "execution_count": 39,
   "metadata": {},
   "outputs": [
    {
     "data": {
      "application/json": {
       "ascii": false,
       "bar_format": null,
       "colour": null,
       "elapsed": 0.012343406677246094,
       "initial": 0,
       "n": 0,
       "ncols": null,
       "nrows": null,
       "postfix": null,
       "prefix": "Epoch 1/15 [Training]",
       "rate": null,
       "total": 48,
       "unit": "it",
       "unit_divisor": 1000,
       "unit_scale": false
      },
      "application/vnd.jupyter.widget-view+json": {
       "model_id": "92059355ca4c4e9591dc3a719ea8c8fd",
       "version_major": 2,
       "version_minor": 0
      },
      "text/plain": [
       "Epoch 1/15 [Training]:   0%|          | 0/48 [00:00<?, ?it/s]"
      ]
     },
     "metadata": {},
     "output_type": "display_data"
    },
    {
     "name": "stdout",
     "output_type": "stream",
     "text": [
      "Saving model with validation loss 1.6883\n",
      "Epoch 1, loss_train: 1.6884, loss_validation: 1.6883, accuracy_train: 0.2624, accuracy_validation: 0.4237\n"
     ]
    },
    {
     "data": {
      "application/json": {
       "ascii": false,
       "bar_format": null,
       "colour": null,
       "elapsed": 0.020708799362182617,
       "initial": 0,
       "n": 0,
       "ncols": null,
       "nrows": null,
       "postfix": null,
       "prefix": "Epoch 2/15 [Training]",
       "rate": null,
       "total": 48,
       "unit": "it",
       "unit_divisor": 1000,
       "unit_scale": false
      },
      "application/vnd.jupyter.widget-view+json": {
       "model_id": "c0c867553e5548b9b00e42c833f9a501",
       "version_major": 2,
       "version_minor": 0
      },
      "text/plain": [
       "Epoch 2/15 [Training]:   0%|          | 0/48 [00:00<?, ?it/s]"
      ]
     },
     "metadata": {},
     "output_type": "display_data"
    },
    {
     "name": "stdout",
     "output_type": "stream",
     "text": [
      "Saving model with validation loss 1.6396\n",
      "Epoch 2, loss_train: 1.5270, loss_validation: 1.6396, accuracy_train: 0.2983, accuracy_validation: 0.3478\n"
     ]
    },
    {
     "data": {
      "application/json": {
       "ascii": false,
       "bar_format": null,
       "colour": null,
       "elapsed": 0.005898714065551758,
       "initial": 0,
       "n": 0,
       "ncols": null,
       "nrows": null,
       "postfix": null,
       "prefix": "Epoch 3/15 [Training]",
       "rate": null,
       "total": 48,
       "unit": "it",
       "unit_divisor": 1000,
       "unit_scale": false
      },
      "application/vnd.jupyter.widget-view+json": {
       "model_id": "c6bb1633fd98415b88565dc68481b80d",
       "version_major": 2,
       "version_minor": 0
      },
      "text/plain": [
       "Epoch 3/15 [Training]:   0%|          | 0/48 [00:00<?, ?it/s]"
      ]
     },
     "metadata": {},
     "output_type": "display_data"
    },
    {
     "name": "stdout",
     "output_type": "stream",
     "text": [
      "Epoch 3, loss_train: 1.5142, loss_validation: 1.6514, accuracy_train: 0.3069, accuracy_validation: 0.3690\n"
     ]
    },
    {
     "data": {
      "application/json": {
       "ascii": false,
       "bar_format": null,
       "colour": null,
       "elapsed": 0.005469799041748047,
       "initial": 0,
       "n": 0,
       "ncols": null,
       "nrows": null,
       "postfix": null,
       "prefix": "Epoch 4/15 [Training]",
       "rate": null,
       "total": 48,
       "unit": "it",
       "unit_divisor": 1000,
       "unit_scale": false
      },
      "application/vnd.jupyter.widget-view+json": {
       "model_id": "aa2ec206e517492c888c12304f489108",
       "version_major": 2,
       "version_minor": 0
      },
      "text/plain": [
       "Epoch 4/15 [Training]:   0%|          | 0/48 [00:00<?, ?it/s]"
      ]
     },
     "metadata": {},
     "output_type": "display_data"
    },
    {
     "name": "stdout",
     "output_type": "stream",
     "text": [
      "Epoch 4, loss_train: 1.4929, loss_validation: 1.7400, accuracy_train: 0.3159, accuracy_validation: 0.1792\n"
     ]
    },
    {
     "data": {
      "application/json": {
       "ascii": false,
       "bar_format": null,
       "colour": null,
       "elapsed": 0.011766195297241211,
       "initial": 0,
       "n": 0,
       "ncols": null,
       "nrows": null,
       "postfix": null,
       "prefix": "Epoch 5/15 [Training]",
       "rate": null,
       "total": 48,
       "unit": "it",
       "unit_divisor": 1000,
       "unit_scale": false
      },
      "application/vnd.jupyter.widget-view+json": {
       "model_id": "bdd3c832f3df4763b519b4644b367074",
       "version_major": 2,
       "version_minor": 0
      },
      "text/plain": [
       "Epoch 5/15 [Training]:   0%|          | 0/48 [00:00<?, ?it/s]"
      ]
     },
     "metadata": {},
     "output_type": "display_data"
    },
    {
     "name": "stdout",
     "output_type": "stream",
     "text": [
      "Epoch 5, loss_train: 1.4774, loss_validation: 1.8102, accuracy_train: 0.3230, accuracy_validation: 0.1520\n"
     ]
    },
    {
     "data": {
      "application/json": {
       "ascii": false,
       "bar_format": null,
       "colour": null,
       "elapsed": 0.005415201187133789,
       "initial": 0,
       "n": 0,
       "ncols": null,
       "nrows": null,
       "postfix": null,
       "prefix": "Epoch 6/15 [Training]",
       "rate": null,
       "total": 48,
       "unit": "it",
       "unit_divisor": 1000,
       "unit_scale": false
      },
      "application/vnd.jupyter.widget-view+json": {
       "model_id": "e70497abbfed4d129c0b7996e145a158",
       "version_major": 2,
       "version_minor": 0
      },
      "text/plain": [
       "Epoch 6/15 [Training]:   0%|          | 0/48 [00:00<?, ?it/s]"
      ]
     },
     "metadata": {},
     "output_type": "display_data"
    },
    {
     "name": "stdout",
     "output_type": "stream",
     "text": [
      "Epoch 6, loss_train: 1.4548, loss_validation: 1.7184, accuracy_train: 0.3362, accuracy_validation: 0.2210\n"
     ]
    },
    {
     "data": {
      "application/json": {
       "ascii": false,
       "bar_format": null,
       "colour": null,
       "elapsed": 0.008374214172363281,
       "initial": 0,
       "n": 0,
       "ncols": null,
       "nrows": null,
       "postfix": null,
       "prefix": "Epoch 7/15 [Training]",
       "rate": null,
       "total": 48,
       "unit": "it",
       "unit_divisor": 1000,
       "unit_scale": false
      },
      "application/vnd.jupyter.widget-view+json": {
       "model_id": "b52cf56157f64383bf8d59063fac48fc",
       "version_major": 2,
       "version_minor": 0
      },
      "text/plain": [
       "Epoch 7/15 [Training]:   0%|          | 0/48 [00:00<?, ?it/s]"
      ]
     },
     "metadata": {},
     "output_type": "display_data"
    },
    {
     "name": "stdout",
     "output_type": "stream",
     "text": [
      "Epoch 7, loss_train: 1.4337, loss_validation: 1.8289, accuracy_train: 0.3466, accuracy_validation: 0.0971\n"
     ]
    },
    {
     "data": {
      "application/json": {
       "ascii": false,
       "bar_format": null,
       "colour": null,
       "elapsed": 0.005859375,
       "initial": 0,
       "n": 0,
       "ncols": null,
       "nrows": null,
       "postfix": null,
       "prefix": "Epoch 8/15 [Training]",
       "rate": null,
       "total": 48,
       "unit": "it",
       "unit_divisor": 1000,
       "unit_scale": false
      },
      "application/vnd.jupyter.widget-view+json": {
       "model_id": "d9f5f0dae84d47b9a648ffac1394d7a1",
       "version_major": 2,
       "version_minor": 0
      },
      "text/plain": [
       "Epoch 8/15 [Training]:   0%|          | 0/48 [00:00<?, ?it/s]"
      ]
     },
     "metadata": {},
     "output_type": "display_data"
    },
    {
     "name": "stdout",
     "output_type": "stream",
     "text": [
      "Epoch 8, loss_train: 1.4171, loss_validation: 1.9197, accuracy_train: 0.3529, accuracy_validation: 0.1960\n"
     ]
    },
    {
     "data": {
      "application/json": {
       "ascii": false,
       "bar_format": null,
       "colour": null,
       "elapsed": 0.005471944808959961,
       "initial": 0,
       "n": 0,
       "ncols": null,
       "nrows": null,
       "postfix": null,
       "prefix": "Epoch 9/15 [Training]",
       "rate": null,
       "total": 48,
       "unit": "it",
       "unit_divisor": 1000,
       "unit_scale": false
      },
      "application/vnd.jupyter.widget-view+json": {
       "model_id": "8959512903874dbc97a94e7ea7fe11bd",
       "version_major": 2,
       "version_minor": 0
      },
      "text/plain": [
       "Epoch 9/15 [Training]:   0%|          | 0/48 [00:00<?, ?it/s]"
      ]
     },
     "metadata": {},
     "output_type": "display_data"
    },
    {
     "ename": "RuntimeError",
     "evalue": "unique_by_key: failed to synchronize: cudaErrorLaunchTimeout: the launch timed out and was terminated",
     "output_type": "error",
     "traceback": [
      "\u001b[1;31m---------------------------------------------------------------------------\u001b[0m",
      "\u001b[1;31mRuntimeError\u001b[0m                              Traceback (most recent call last)",
      "Cell \u001b[1;32mIn[39], line 32\u001b[0m\n\u001b[0;32m     29\u001b[0m optimizer\u001b[38;5;241m.\u001b[39mzero_grad()\n\u001b[0;32m     31\u001b[0m \u001b[38;5;66;03m#Backward pass\u001b[39;00m\n\u001b[1;32m---> 32\u001b[0m \u001b[43mloss\u001b[49m\u001b[38;5;241;43m.\u001b[39;49m\u001b[43mbackward\u001b[49m\u001b[43m(\u001b[49m\u001b[43m)\u001b[49m\n\u001b[0;32m     34\u001b[0m \u001b[38;5;66;03m# Gradient clipping\u001b[39;00m\n\u001b[0;32m     35\u001b[0m torch\u001b[38;5;241m.\u001b[39mnn\u001b[38;5;241m.\u001b[39mutils\u001b[38;5;241m.\u001b[39mclip_grad_norm_(model\u001b[38;5;241m.\u001b[39mparameters(), clip_value)\n",
      "File \u001b[1;32m~\\AppData\\Roaming\\Python\\Python38\\site-packages\\torch\\_tensor.py:492\u001b[0m, in \u001b[0;36mTensor.backward\u001b[1;34m(self, gradient, retain_graph, create_graph, inputs)\u001b[0m\n\u001b[0;32m    482\u001b[0m \u001b[38;5;28;01mif\u001b[39;00m has_torch_function_unary(\u001b[38;5;28mself\u001b[39m):\n\u001b[0;32m    483\u001b[0m     \u001b[38;5;28;01mreturn\u001b[39;00m handle_torch_function(\n\u001b[0;32m    484\u001b[0m         Tensor\u001b[38;5;241m.\u001b[39mbackward,\n\u001b[0;32m    485\u001b[0m         (\u001b[38;5;28mself\u001b[39m,),\n\u001b[1;32m   (...)\u001b[0m\n\u001b[0;32m    490\u001b[0m         inputs\u001b[38;5;241m=\u001b[39minputs,\n\u001b[0;32m    491\u001b[0m     )\n\u001b[1;32m--> 492\u001b[0m \u001b[43mtorch\u001b[49m\u001b[38;5;241;43m.\u001b[39;49m\u001b[43mautograd\u001b[49m\u001b[38;5;241;43m.\u001b[39;49m\u001b[43mbackward\u001b[49m\u001b[43m(\u001b[49m\n\u001b[0;32m    493\u001b[0m \u001b[43m    \u001b[49m\u001b[38;5;28;43mself\u001b[39;49m\u001b[43m,\u001b[49m\u001b[43m \u001b[49m\u001b[43mgradient\u001b[49m\u001b[43m,\u001b[49m\u001b[43m \u001b[49m\u001b[43mretain_graph\u001b[49m\u001b[43m,\u001b[49m\u001b[43m \u001b[49m\u001b[43mcreate_graph\u001b[49m\u001b[43m,\u001b[49m\u001b[43m \u001b[49m\u001b[43minputs\u001b[49m\u001b[38;5;241;43m=\u001b[39;49m\u001b[43minputs\u001b[49m\n\u001b[0;32m    494\u001b[0m \u001b[43m\u001b[49m\u001b[43m)\u001b[49m\n",
      "File \u001b[1;32m~\\AppData\\Roaming\\Python\\Python38\\site-packages\\torch\\autograd\\__init__.py:251\u001b[0m, in \u001b[0;36mbackward\u001b[1;34m(tensors, grad_tensors, retain_graph, create_graph, grad_variables, inputs)\u001b[0m\n\u001b[0;32m    246\u001b[0m     retain_graph \u001b[38;5;241m=\u001b[39m create_graph\n\u001b[0;32m    248\u001b[0m \u001b[38;5;66;03m# The reason we repeat the same comment below is that\u001b[39;00m\n\u001b[0;32m    249\u001b[0m \u001b[38;5;66;03m# some Python versions print out the first line of a multi-line function\u001b[39;00m\n\u001b[0;32m    250\u001b[0m \u001b[38;5;66;03m# calls in the traceback and some print out the last line\u001b[39;00m\n\u001b[1;32m--> 251\u001b[0m \u001b[43mVariable\u001b[49m\u001b[38;5;241;43m.\u001b[39;49m\u001b[43m_execution_engine\u001b[49m\u001b[38;5;241;43m.\u001b[39;49m\u001b[43mrun_backward\u001b[49m\u001b[43m(\u001b[49m\u001b[43m  \u001b[49m\u001b[38;5;66;43;03m# Calls into the C++ engine to run the backward pass\u001b[39;49;00m\n\u001b[0;32m    252\u001b[0m \u001b[43m    \u001b[49m\u001b[43mtensors\u001b[49m\u001b[43m,\u001b[49m\n\u001b[0;32m    253\u001b[0m \u001b[43m    \u001b[49m\u001b[43mgrad_tensors_\u001b[49m\u001b[43m,\u001b[49m\n\u001b[0;32m    254\u001b[0m \u001b[43m    \u001b[49m\u001b[43mretain_graph\u001b[49m\u001b[43m,\u001b[49m\n\u001b[0;32m    255\u001b[0m \u001b[43m    \u001b[49m\u001b[43mcreate_graph\u001b[49m\u001b[43m,\u001b[49m\n\u001b[0;32m    256\u001b[0m \u001b[43m    \u001b[49m\u001b[43minputs\u001b[49m\u001b[43m,\u001b[49m\n\u001b[0;32m    257\u001b[0m \u001b[43m    \u001b[49m\u001b[43mallow_unreachable\u001b[49m\u001b[38;5;241;43m=\u001b[39;49m\u001b[38;5;28;43;01mTrue\u001b[39;49;00m\u001b[43m,\u001b[49m\n\u001b[0;32m    258\u001b[0m \u001b[43m    \u001b[49m\u001b[43maccumulate_grad\u001b[49m\u001b[38;5;241;43m=\u001b[39;49m\u001b[38;5;28;43;01mTrue\u001b[39;49;00m\u001b[43m,\u001b[49m\n\u001b[0;32m    259\u001b[0m \u001b[43m\u001b[49m\u001b[43m)\u001b[49m\n",
      "\u001b[1;31mRuntimeError\u001b[0m: unique_by_key: failed to synchronize: cudaErrorLaunchTimeout: the launch timed out and was terminated"
     ]
    }
   ],
   "source": [
    "# Create a training loop\n",
    "for epoch in range(epochs):\n",
    "    model.train()\n",
    "    running_loss = 0.0\n",
    "    correct_train = 0\n",
    "    total_train = 0\n",
    "    correct_validation = 0\n",
    "    total_validation = 0\n",
    "\n",
    "\n",
    "    # Setup tqdm progress bar for the training loop\n",
    "    train_progress_bar = tqdm(train_loader, desc=f'Epoch {epoch + 1}/{epochs} [Training]', leave=False)\n",
    "    for i, data in enumerate(train_loader, 0):\n",
    "\n",
    "        inputs, labels = data\n",
    "        inputs, labels = inputs.to(device), labels.to(device)\n",
    "\n",
    "        #Add noise to the inputs for regularization purposes\n",
    "        noise = torch.randn_like(inputs, device=device) * 0.01\n",
    "        inputs = inputs + noise\n",
    "\n",
    "        #Forward pass\n",
    "        outputs = model(inputs)\n",
    "\n",
    "        #Calculate the loss\n",
    "        loss = criterion(outputs, labels)\n",
    "\n",
    "        #Zero the gradients\n",
    "        optimizer.zero_grad()\n",
    "\n",
    "        #Backward pass\n",
    "        loss.backward()\n",
    "\n",
    "        # Gradient clipping\n",
    "        torch.nn.utils.clip_grad_norm_(model.parameters(), clip_value)\n",
    "\n",
    "        #Update the parameters\n",
    "        optimizer.step()\n",
    "\n",
    "        running_loss += loss.item()\n",
    "\n",
    "        #Calculate the accuracy:\n",
    "        _, predicted = torch.max(outputs, 1)\n",
    "        correct = (predicted == labels).sum().item()\n",
    "        total = labels.size(0)\n",
    "        correct_train += correct\n",
    "        total_train += total\n",
    "        accuracy_train = correct_train / total_train\n",
    "\n",
    "        train_progress_bar.set_postfix({'loss': (running_loss / (train_progress_bar.n + 1)), 'accuracy train': accuracy_train})\n",
    "        train_progress_bar.update()\n",
    "        \n",
    "    loss_train.append(running_loss / len(train_loader))\n",
    "    \n",
    "    \n",
    "    # Validation loss\n",
    "    model.eval()\n",
    "    running_loss = 0.0\n",
    "    with torch.no_grad():\n",
    "        for i, data in enumerate(validation_loader, 0):\n",
    "            inputs, labels = data\n",
    "            inputs, labels = inputs.to(device), labels.to(device)\n",
    "\n",
    "            outputs = model(inputs)\n",
    "            loss = criterion_val(outputs, labels) #Use the validation loss function, which has class weights\n",
    "\n",
    "            running_loss += loss.item()\n",
    "             #Calculate the accuracy:\n",
    "            _, predicted = torch.max(outputs, 1)\n",
    "            correct = (predicted == labels).sum().item()\n",
    "            total = labels.size(0)\n",
    "            correct_validation += correct\n",
    "            total_validation+= total\n",
    "\n",
    "    loss_validation.append(running_loss / len(validation_loader))\n",
    "    accuracy_validation = correct_validation / total_validation\n",
    "    accuracy_train = correct_train / total_train\n",
    "\n",
    "    train_progress_bar.close()\n",
    "\n",
    "    #Save the model if it is the best one so far\n",
    "    if loss_validation[-1] < best_validation_loss:\n",
    "        print(f'Saving model with validation loss {loss_validation[-1]:.4f}')\n",
    "        torch.save(model.state_dict(), checkpoint_path)\n",
    "        best_validation_loss = loss_validation[-1]\n",
    "\n",
    "\n",
    "    print(f'Epoch {epoch + 1}, loss_train: {loss_train[-1]:.4f}, loss_validation: {loss_validation[-1]:.4f}, accuracy_train: {accuracy_train:.4f}, accuracy_validation: {accuracy_validation:.4f}')\n",
    "    #Close the progress bar\n",
    "    \n",
    "    \n",
    "    # Step the scheduler\n",
    "    # scheduler.step()"
   ]
  },
  {
   "cell_type": "code",
   "execution_count": 40,
   "metadata": {},
   "outputs": [
    {
     "data": {
      "image/png": "[encoded data removed]",
      "text/plain": [
       "<Figure size 640x480 with 1 Axes>"
      ]
     },
     "metadata": {},
     "output_type": "display_data"
    }
   ],
   "source": [
    "# Plot the loss\n",
    "plt.plot(loss_train, label='train')\n",
    "plt.plot(loss_validation, label='validation')\n",
    "plt.legend()\n",
    "plt.show()\n"
   ]
  },
  {
   "cell_type": "markdown",
   "metadata": {},
   "source": [
    "# Create predictions"
   ]
  },
  {
   "cell_type": "code",
   "execution_count": 41,
   "metadata": {},
   "outputs": [],
   "source": [
    "# Create a function that takes the model, data loader and device and returns the predictions\n",
    "def get_predictions(model, data_loader, device):\n",
    "    model.eval()\n",
    "    predictions = []\n",
    "    targets = []\n",
    "    with torch.no_grad():\n",
    "        for i, data in enumerate(data_loader, 0):\n",
    "            inputs, labels = data\n",
    "            inputs = inputs.to(device)\n",
    "\n",
    "            outputs = model(inputs)\n",
    "            outputs = outputs.argmax(dim=1).cpu().numpy() #Take the class with the highest probability\n",
    "            predictions.append(outputs)\n",
    "            targets.append(labels.numpy())\n",
    "\n",
    "    return np.concatenate(predictions), np.concatenate(targets)"
   ]
  },
  {
   "cell_type": "code",
   "execution_count": 42,
   "metadata": {},
   "outputs": [
    {
     "ename": "RuntimeError",
     "evalue": "CUDA error: the launch timed out and was terminated\nCUDA kernel errors might be asynchronously reported at some other API call, so the stacktrace below might be incorrect.\nFor debugging consider passing CUDA_LAUNCH_BLOCKING=1.\nCompile with `TORCH_USE_CUDA_DSA` to enable device-side assertions.\n",
     "output_type": "error",
     "traceback": [
      "\u001b[1;31m---------------------------------------------------------------------------\u001b[0m",
      "\u001b[1;31mRuntimeError\u001b[0m                              Traceback (most recent call last)",
      "Cell \u001b[1;32mIn[42], line 3\u001b[0m\n\u001b[0;32m      1\u001b[0m \u001b[38;5;66;03m# Create a diffusion matrix of the train and validation data\u001b[39;00m\n\u001b[1;32m----> 3\u001b[0m yPredTrain, yTrainNp \u001b[38;5;241m=\u001b[39m \u001b[43mget_predictions\u001b[49m\u001b[43m(\u001b[49m\u001b[43mmodel\u001b[49m\u001b[43m,\u001b[49m\u001b[43m \u001b[49m\u001b[43mtrain_loader\u001b[49m\u001b[43m,\u001b[49m\u001b[43m \u001b[49m\u001b[43mdevice\u001b[49m\u001b[43m)\u001b[49m\n\u001b[0;32m      4\u001b[0m yPredValidation, yValidationNp \u001b[38;5;241m=\u001b[39m get_predictions(model, validation_loader, device)\n",
      "Cell \u001b[1;32mIn[41], line 7\u001b[0m, in \u001b[0;36mget_predictions\u001b[1;34m(model, data_loader, device)\u001b[0m\n\u001b[0;32m      5\u001b[0m targets \u001b[38;5;241m=\u001b[39m []\n\u001b[0;32m      6\u001b[0m \u001b[38;5;28;01mwith\u001b[39;00m torch\u001b[38;5;241m.\u001b[39mno_grad():\n\u001b[1;32m----> 7\u001b[0m     \u001b[38;5;28;01mfor\u001b[39;00m i, data \u001b[38;5;129;01min\u001b[39;00m \u001b[38;5;28;43menumerate\u001b[39;49m\u001b[43m(\u001b[49m\u001b[43mdata_loader\u001b[49m\u001b[43m,\u001b[49m\u001b[43m \u001b[49m\u001b[38;5;241;43m0\u001b[39;49m\u001b[43m)\u001b[49m:\n\u001b[0;32m      8\u001b[0m         inputs, labels \u001b[38;5;241m=\u001b[39m data\n\u001b[0;32m      9\u001b[0m         inputs \u001b[38;5;241m=\u001b[39m inputs\u001b[38;5;241m.\u001b[39mto(device)\n",
      "File \u001b[1;32m~\\AppData\\Roaming\\Python\\Python38\\site-packages\\torch\\utils\\data\\dataloader.py:438\u001b[0m, in \u001b[0;36mDataLoader.__iter__\u001b[1;34m(self)\u001b[0m\n\u001b[0;32m    436\u001b[0m     \u001b[38;5;28;01mreturn\u001b[39;00m \u001b[38;5;28mself\u001b[39m\u001b[38;5;241m.\u001b[39m_iterator\n\u001b[0;32m    437\u001b[0m \u001b[38;5;28;01melse\u001b[39;00m:\n\u001b[1;32m--> 438\u001b[0m     \u001b[38;5;28;01mreturn\u001b[39;00m \u001b[38;5;28;43mself\u001b[39;49m\u001b[38;5;241;43m.\u001b[39;49m\u001b[43m_get_iterator\u001b[49m\u001b[43m(\u001b[49m\u001b[43m)\u001b[49m\n",
      "File \u001b[1;32m~\\AppData\\Roaming\\Python\\Python38\\site-packages\\torch\\utils\\data\\dataloader.py:386\u001b[0m, in \u001b[0;36mDataLoader._get_iterator\u001b[1;34m(self)\u001b[0m\n\u001b[0;32m    384\u001b[0m \u001b[38;5;28;01melse\u001b[39;00m:\n\u001b[0;32m    385\u001b[0m     \u001b[38;5;28mself\u001b[39m\u001b[38;5;241m.\u001b[39mcheck_worker_number_rationality()\n\u001b[1;32m--> 386\u001b[0m     \u001b[38;5;28;01mreturn\u001b[39;00m \u001b[43m_MultiProcessingDataLoaderIter\u001b[49m\u001b[43m(\u001b[49m\u001b[38;5;28;43mself\u001b[39;49m\u001b[43m)\u001b[49m\n",
      "File \u001b[1;32m~\\AppData\\Roaming\\Python\\Python38\\site-packages\\torch\\utils\\data\\dataloader.py:1084\u001b[0m, in \u001b[0;36m_MultiProcessingDataLoaderIter.__init__\u001b[1;34m(self, loader)\u001b[0m\n\u001b[0;32m   1082\u001b[0m _utils\u001b[38;5;241m.\u001b[39msignal_handling\u001b[38;5;241m.\u001b[39m_set_SIGCHLD_handler()\n\u001b[0;32m   1083\u001b[0m \u001b[38;5;28mself\u001b[39m\u001b[38;5;241m.\u001b[39m_worker_pids_set \u001b[38;5;241m=\u001b[39m \u001b[38;5;28;01mTrue\u001b[39;00m\n\u001b[1;32m-> 1084\u001b[0m \u001b[38;5;28;43mself\u001b[39;49m\u001b[38;5;241;43m.\u001b[39;49m\u001b[43m_reset\u001b[49m\u001b[43m(\u001b[49m\u001b[43mloader\u001b[49m\u001b[43m,\u001b[49m\u001b[43m \u001b[49m\u001b[43mfirst_iter\u001b[49m\u001b[38;5;241;43m=\u001b[39;49m\u001b[38;5;28;43;01mTrue\u001b[39;49;00m\u001b[43m)\u001b[49m\n",
      "File \u001b[1;32m~\\AppData\\Roaming\\Python\\Python38\\site-packages\\torch\\utils\\data\\dataloader.py:1117\u001b[0m, in \u001b[0;36m_MultiProcessingDataLoaderIter._reset\u001b[1;34m(self, loader, first_iter)\u001b[0m\n\u001b[0;32m   1115\u001b[0m \u001b[38;5;66;03m# prime the prefetch loop\u001b[39;00m\n\u001b[0;32m   1116\u001b[0m \u001b[38;5;28;01mfor\u001b[39;00m _ \u001b[38;5;129;01min\u001b[39;00m \u001b[38;5;28mrange\u001b[39m(\u001b[38;5;28mself\u001b[39m\u001b[38;5;241m.\u001b[39m_prefetch_factor \u001b[38;5;241m*\u001b[39m \u001b[38;5;28mself\u001b[39m\u001b[38;5;241m.\u001b[39m_num_workers):\n\u001b[1;32m-> 1117\u001b[0m     \u001b[38;5;28;43mself\u001b[39;49m\u001b[38;5;241;43m.\u001b[39;49m\u001b[43m_try_put_index\u001b[49m\u001b[43m(\u001b[49m\u001b[43m)\u001b[49m\n",
      "File \u001b[1;32m~\\AppData\\Roaming\\Python\\Python38\\site-packages\\torch\\utils\\data\\dataloader.py:1351\u001b[0m, in \u001b[0;36m_MultiProcessingDataLoaderIter._try_put_index\u001b[1;34m(self)\u001b[0m\n\u001b[0;32m   1348\u001b[0m \u001b[38;5;28;01massert\u001b[39;00m \u001b[38;5;28mself\u001b[39m\u001b[38;5;241m.\u001b[39m_tasks_outstanding \u001b[38;5;241m<\u001b[39m \u001b[38;5;28mself\u001b[39m\u001b[38;5;241m.\u001b[39m_prefetch_factor \u001b[38;5;241m*\u001b[39m \u001b[38;5;28mself\u001b[39m\u001b[38;5;241m.\u001b[39m_num_workers\n\u001b[0;32m   1350\u001b[0m \u001b[38;5;28;01mtry\u001b[39;00m:\n\u001b[1;32m-> 1351\u001b[0m     index \u001b[38;5;241m=\u001b[39m \u001b[38;5;28;43mself\u001b[39;49m\u001b[38;5;241;43m.\u001b[39;49m\u001b[43m_next_index\u001b[49m\u001b[43m(\u001b[49m\u001b[43m)\u001b[49m\n\u001b[0;32m   1352\u001b[0m \u001b[38;5;28;01mexcept\u001b[39;00m \u001b[38;5;167;01mStopIteration\u001b[39;00m:\n\u001b[0;32m   1353\u001b[0m     \u001b[38;5;28;01mreturn\u001b[39;00m\n",
      "File \u001b[1;32m~\\AppData\\Roaming\\Python\\Python38\\site-packages\\torch\\utils\\data\\dataloader.py:620\u001b[0m, in \u001b[0;36m_BaseDataLoaderIter._next_index\u001b[1;34m(self)\u001b[0m\n\u001b[0;32m    619\u001b[0m \u001b[38;5;28;01mdef\u001b[39;00m \u001b[38;5;21m_next_index\u001b[39m(\u001b[38;5;28mself\u001b[39m):\n\u001b[1;32m--> 620\u001b[0m     \u001b[38;5;28;01mreturn\u001b[39;00m \u001b[38;5;28;43mnext\u001b[39;49m\u001b[43m(\u001b[49m\u001b[38;5;28;43mself\u001b[39;49m\u001b[38;5;241;43m.\u001b[39;49m\u001b[43m_sampler_iter\u001b[49m\u001b[43m)\u001b[49m\n",
      "File \u001b[1;32m~\\AppData\\Roaming\\Python\\Python38\\site-packages\\torch\\utils\\data\\sampler.py:282\u001b[0m, in \u001b[0;36mBatchSampler.__iter__\u001b[1;34m(self)\u001b[0m\n\u001b[0;32m    280\u001b[0m batch \u001b[38;5;241m=\u001b[39m [\u001b[38;5;241m0\u001b[39m] \u001b[38;5;241m*\u001b[39m \u001b[38;5;28mself\u001b[39m\u001b[38;5;241m.\u001b[39mbatch_size\n\u001b[0;32m    281\u001b[0m idx_in_batch \u001b[38;5;241m=\u001b[39m \u001b[38;5;241m0\u001b[39m\n\u001b[1;32m--> 282\u001b[0m \u001b[38;5;28;01mfor\u001b[39;00m idx \u001b[38;5;129;01min\u001b[39;00m \u001b[38;5;28mself\u001b[39m\u001b[38;5;241m.\u001b[39msampler:\n\u001b[0;32m    283\u001b[0m     batch[idx_in_batch] \u001b[38;5;241m=\u001b[39m idx\n\u001b[0;32m    284\u001b[0m     idx_in_batch \u001b[38;5;241m+\u001b[39m\u001b[38;5;241m=\u001b[39m \u001b[38;5;241m1\u001b[39m\n",
      "File \u001b[1;32m~\\AppData\\Roaming\\Python\\Python38\\site-packages\\torch\\utils\\data\\sampler.py:233\u001b[0m, in \u001b[0;36mWeightedRandomSampler.__iter__\u001b[1;34m(self)\u001b[0m\n\u001b[0;32m    232\u001b[0m \u001b[38;5;28;01mdef\u001b[39;00m \u001b[38;5;21m__iter__\u001b[39m(\u001b[38;5;28mself\u001b[39m) \u001b[38;5;241m-\u001b[39m\u001b[38;5;241m>\u001b[39m Iterator[\u001b[38;5;28mint\u001b[39m]:\n\u001b[1;32m--> 233\u001b[0m     rand_tensor \u001b[38;5;241m=\u001b[39m \u001b[43mtorch\u001b[49m\u001b[38;5;241;43m.\u001b[39;49m\u001b[43mmultinomial\u001b[49m\u001b[43m(\u001b[49m\u001b[38;5;28;43mself\u001b[39;49m\u001b[38;5;241;43m.\u001b[39;49m\u001b[43mweights\u001b[49m\u001b[43m,\u001b[49m\u001b[43m \u001b[49m\u001b[38;5;28;43mself\u001b[39;49m\u001b[38;5;241;43m.\u001b[39;49m\u001b[43mnum_samples\u001b[49m\u001b[43m,\u001b[49m\u001b[43m \u001b[49m\u001b[38;5;28;43mself\u001b[39;49m\u001b[38;5;241;43m.\u001b[39;49m\u001b[43mreplacement\u001b[49m\u001b[43m,\u001b[49m\u001b[43m \u001b[49m\u001b[43mgenerator\u001b[49m\u001b[38;5;241;43m=\u001b[39;49m\u001b[38;5;28;43mself\u001b[39;49m\u001b[38;5;241;43m.\u001b[39;49m\u001b[43mgenerator\u001b[49m\u001b[43m)\u001b[49m\n\u001b[0;32m    234\u001b[0m     \u001b[38;5;28;01myield from\u001b[39;00m \u001b[38;5;28miter\u001b[39m(rand_tensor\u001b[38;5;241m.\u001b[39mtolist())\n",
      "\u001b[1;31mRuntimeError\u001b[0m: CUDA error: the launch timed out and was terminated\nCUDA kernel errors might be asynchronously reported at some other API call, so the stacktrace below might be incorrect.\nFor debugging consider passing CUDA_LAUNCH_BLOCKING=1.\nCompile with `TORCH_USE_CUDA_DSA` to enable device-side assertions.\n"
     ]
    }
   ],
   "source": [
    "# Create a diffusion matrix of the train and validation data\n",
    "\n",
    "yPredTrain, yTrainNp = get_predictions(model, train_loader, device)\n",
    "yPredValidation, yValidationNp = get_predictions(model, validation_loader, device)"
   ]
  },
  {
   "cell_type": "code",
   "execution_count": null,
   "metadata": {},
   "outputs": [
    {
     "data": {
      "text/plain": [
       "(5046,)"
      ]
     },
     "execution_count": 190,
     "metadata": {},
     "output_type": "execute_result"
    }
   ],
   "source": [
    "yPredValidation.shape"
   ]
  },
  {
   "cell_type": "code",
   "execution_count": null,
   "metadata": {},
   "outputs": [
    {
     "name": "stdout",
     "output_type": "stream",
     "text": [
      "Training data:\n",
      "              precision    recall  f1-score   support\n",
      "\n",
      "           0       0.38      0.55      0.45      9721\n",
      "           1       0.25      0.27      0.26      9671\n",
      "           2       0.24      0.04      0.06      9756\n",
      "           3       0.25      0.15      0.19      9715\n",
      "           4       0.25      0.43      0.32      9796\n",
      "\n",
      "    accuracy                           0.29     48659\n",
      "   macro avg       0.27      0.29      0.26     48659\n",
      "weighted avg       0.27      0.29      0.26     48659\n",
      "\n",
      "Validation data:\n",
      "              precision    recall  f1-score   support\n",
      "\n",
      "           0       0.99      0.44      0.61      4910\n",
      "           1       0.01      0.56      0.01        16\n",
      "           2       0.01      0.21      0.01        14\n",
      "           3       0.01      0.10      0.01        30\n",
      "           4       0.02      0.14      0.04        76\n",
      "\n",
      "    accuracy                           0.43      5046\n",
      "   macro avg       0.21      0.29      0.14      5046\n",
      "weighted avg       0.96      0.43      0.59      5046\n",
      "\n"
     ]
    }
   ],
   "source": [
    "from sklearn.metrics import classification_report\n",
    "\n",
    "#Print the classification report\n",
    "print('Training data:')\n",
    "print(classification_report(yTrainNp, yPredTrain))\n",
    "\n",
    "print('Validation data:')\n",
    "print(classification_report(yValidationNp, yPredValidation))\n"
   ]
  },
  {
   "cell_type": "code",
   "execution_count": null,
   "metadata": {},
   "outputs": [
    {
     "data": {
      "image/png": "[encoded data removed]",
      "text/plain": [
       "<Figure size 700x700 with 2 Axes>"
      ]
     },
     "metadata": {},
     "output_type": "display_data"
    }
   ],
   "source": [
    "#Import confusion matrix\n",
    "from sklearn.metrics import confusion_matrix\n",
    "cm = confusion_matrix(yValidationNp, yPredValidation, normalize='true')\n",
    "plt.figure(figsize = (7,7))\n",
    "#add labels\n",
    "plt.title('Confusion matrix Validation')\n",
    "plt.xlabel('Predicted')\n",
    "plt.ylabel('True')\n",
    "#plot the confusion matrix\n",
    "ax = sns.heatmap(cm, annot=True)"
   ]
  },
  {
   "cell_type": "code",
   "execution_count": null,
   "metadata": {},
   "outputs": [
    {
     "data": {
      "image/png": "[encoded data removed]",
      "text/plain": [
       "<Figure size 700x700 with 2 Axes>"
      ]
     },
     "metadata": {},
     "output_type": "display_data"
    }
   ],
   "source": [
    "cm = confusion_matrix(yTrainNp, yPredTrain, normalize='true')\n",
    "plt.figure(figsize = (7,7))\n",
    "#add labels\n",
    "plt.title('Confusion matrix Train')\n",
    "plt.xlabel('Predicted')\n",
    "plt.ylabel('True')\n",
    "#plot the confusion matrix\n",
    "ax = sns.heatmap(cm, annot=True)"
   ]
  },
  {
   "cell_type": "code",
   "execution_count": null,
   "metadata": {},
   "outputs": [],
   "source": [
    "checkpoint_path = 'model3.pth'"
   ]
  },
  {
   "cell_type": "code",
   "execution_count": null,
   "metadata": {},
   "outputs": [],
   "source": [
    "#Clone the latest model\n",
    "import copy\n",
    "model_latest = copy.deepcopy(model)"
   ]
  },
  {
   "cell_type": "code",
   "execution_count": null,
   "metadata": {},
   "outputs": [
    {
     "data": {
      "text/plain": [
       "<All keys matched successfully>"
      ]
     },
     "execution_count": 178,
     "metadata": {},
     "output_type": "execute_result"
    }
   ],
   "source": [
    "#Load the best model\n",
    "model.load_state_dict(torch.load(checkpoint_path))"
   ]
  },
  {
   "cell_type": "code",
   "execution_count": null,
   "metadata": {},
   "outputs": [
    {
     "data": {
      "text/plain": [
       "XTransformer(\n",
       "  (dropout_layer): Dropout(p=0.2, inplace=False)\n",
       "  (input_layer): Linear(in_features=196, out_features=512, bias=True)\n",
       "  (position_embedding): Embedding(256, 512)\n",
       "  (layer_norm1): LayerNorm((196,), eps=1e-05, elementwise_affine=True)\n",
       "  (layer_norm2): LayerNorm((512,), eps=1e-05, elementwise_affine=True)\n",
       "  (input_batch_norm): BatchNorm1d(512, eps=1e-05, momentum=0.1, affine=True, track_running_stats=True)\n",
       "  (transformer_layers): ModuleList(\n",
       "    (0-2): 3 x TransformerEncoderLayer(\n",
       "      (self_attn): MultiheadAttention(\n",
       "        (out_proj): NonDynamicallyQuantizableLinear(in_features=512, out_features=512, bias=True)\n",
       "      )\n",
       "      (linear1): Linear(in_features=512, out_features=2048, bias=True)\n",
       "      (dropout): Dropout(p=0.2, inplace=False)\n",
       "      (linear2): Linear(in_features=2048, out_features=512, bias=True)\n",
       "      (norm1): LayerNorm((512,), eps=1e-05, elementwise_affine=True)\n",
       "      (norm2): LayerNorm((512,), eps=1e-05, elementwise_affine=True)\n",
       "      (dropout1): Dropout(p=0.2, inplace=False)\n",
       "      (dropout2): Dropout(p=0.2, inplace=False)\n",
       "    )\n",
       "  )\n",
       "  (output_layer): Linear(in_features=512, out_features=5, bias=True)\n",
       ")"
      ]
     },
     "execution_count": 42,
     "metadata": {},
     "output_type": "execute_result"
    }
   ],
   "source": [
    "model.to(device)"
   ]
  },
  {
   "cell_type": "code",
   "execution_count": null,
   "metadata": {},
   "outputs": [
    {
     "data": {
      "text/plain": [
       "==========================================================================================\n",
       "Layer (type:depth-idx)                   Output Shape              Param #\n",
       "==========================================================================================\n",
       "XTransformer                             [2, 5]                    --\n",
       "├─LayerNorm: 1-1                         [2, 256, 196]             392\n",
       "├─Dropout: 1-2                           [2, 256, 196]             --\n",
       "├─Linear: 1-3                            [2, 256, 512]             100,864\n",
       "├─BatchNorm1d: 1-4                       [512, 512]                1,024\n",
       "├─Embedding: 1-5                         [2, 256, 512]             131,072\n",
       "├─Dropout: 1-6                           [2, 256, 512]             --\n",
       "├─ModuleList: 1-7                        --                        --\n",
       "│    └─TransformerEncoderLayer: 2-1      [2, 256, 512]             3,152,384\n",
       "│    └─TransformerEncoderLayer: 2-2      [2, 256, 512]             3,152,384\n",
       "│    └─TransformerEncoderLayer: 2-3      [2, 256, 512]             3,152,384\n",
       "├─LayerNorm: 1-8                         [2, 256, 512]             1,024\n",
       "├─Dropout: 1-9                           [2, 256, 512]             --\n",
       "├─Linear: 1-10                           [2, 256, 5]               2,565\n",
       "==========================================================================================\n",
       "Total params: 9,694,093\n",
       "Trainable params: 9,694,093\n",
       "Non-trainable params: 0\n",
       "Total mult-adds (M): 1.00\n",
       "==========================================================================================\n",
       "Input size (MB): 0.40\n",
       "Forward/backward pass size (MB): 9.21\n",
       "Params size (MB): 0.95\n",
       "Estimated Total Size (MB): 10.56\n",
       "=========================================================================================="
      ]
     },
     "execution_count": 43,
     "metadata": {},
     "output_type": "execute_result"
    }
   ],
   "source": [
    "from torchinfo import summary\n",
    "summary(model, (2, XTrain.shape[1], XTrain.shape[2]))"
   ]
  },
  {
   "cell_type": "code",
   "execution_count": null,
   "metadata": {},
   "outputs": [
    {
     "data": {
      "text/plain": [
       "tensor([[-1.3072, -1.1273, -0.7391, -1.1580, -0.5077, -0.1702, -0.9152, -0.9577,\n",
       "         -0.8545, -0.8262, -1.1424, -0.5975, -0.3409, -0.1994, -0.1135, -0.1502,\n",
       "         -0.9025, -0.8762, -0.6149, -0.4785, -1.0147, -0.4707, -0.1609, -0.0617,\n",
       "         -0.0565, -0.0545, -1.1793, -0.3354, -0.0559, -0.0099, -0.0067, -0.7657,\n",
       "         -0.5794, -0.3132, -0.1320, -0.0420, -0.0187, -0.0191, -0.0078, -0.7432,\n",
       "         -1.1875, -1.1341, -1.0226, -1.0457, -0.9844, -0.9252, -0.8589, -0.6760,\n",
       "         -0.3848, -0.9631, -0.6579, -0.7007, -0.8898, -0.8436, -0.8188, -0.7907,\n",
       "         -0.8033, -0.8110, -0.8420, -0.8709, -0.8625, -0.8589, -0.8408, -0.6987,\n",
       "         -0.7025, -0.8920, -0.3297, -0.0223, -0.0312, -0.0126, -0.0767, -0.2012,\n",
       "         -0.0363, -0.0371, -0.0108, -0.3804, -0.0283, -0.0319, -0.3025, -0.0088,\n",
       "         -0.0076, -0.0065, -0.0129, -0.1194, -0.0427, -0.0163, -0.0120, -0.0196,\n",
       "         -0.4979, -0.0467, -0.9211, -0.0180, -0.0068, -0.0064, -0.1815, -0.6756,\n",
       "         -0.9085, -0.2720, -0.0066, -0.0099, -0.0587, -0.4984, -0.6371, -0.5990,\n",
       "         -0.3966, -0.1799,  1.0000,  0.0000,  0.0000,  1.0000,  0.0000,  0.0000,\n",
       "          0.0000,  0.0000,  0.0000,  0.0000,  0.0000,  0.0000,  0.0000,  0.0000,\n",
       "          0.0000,  0.0000,  0.0000,  0.0000,  0.0000,  0.0000,  0.0000,  0.0000,\n",
       "          0.0000,  0.0000,  0.0000,  0.0000,  0.0000,  0.0000,  0.0000,  0.0000,\n",
       "          0.0000,  0.0000,  1.0000,  0.0000,  0.0000,  0.0000,  0.0000,  0.0000,\n",
       "          0.0000,  0.0000,  0.0000,  0.0000,  0.0000,  0.0000,  0.0000,  0.0000,\n",
       "          0.0000,  0.0000,  0.0000,  0.0000,  0.0000,  0.0000,  0.0000,  1.0000,\n",
       "          0.0000,  0.0000,  0.0000,  1.0000,  0.0000,  1.0000,  0.0000,  0.0000,\n",
       "          0.0000,  0.0000,  1.0000,  0.0000,  0.0000,  0.0000,  0.0000,  0.0000,\n",
       "          0.0000,  0.0000,  0.0000,  0.0000,  0.0000,  0.0000,  0.0000,  0.0000,\n",
       "          0.0000,  0.0000,  0.0000,  1.0000,  0.0000,  0.0000,  0.0000,  0.0000,\n",
       "          0.0000,  0.0000,  0.0000,  0.0000]])"
      ]
     },
     "execution_count": 44,
     "metadata": {},
     "output_type": "execute_result"
    }
   ],
   "source": [
    "XTrain[:1,0,:]"
   ]
  },
  {
   "cell_type": "code",
   "execution_count": null,
   "metadata": {},
   "outputs": [],
   "source": [
    "Xbatch = XTrain[:1, :, :]\n",
    "#Add noise to the input\n",
    "Xbatch = Xbatch + torch.randn_like(Xbatch) * 0.01"
   ]
  },
  {
   "cell_type": "code",
   "execution_count": null,
   "metadata": {},
   "outputs": [
    {
     "data": {
      "text/plain": [
       "tensor([[-1.3211e+00, -1.1387e+00, -7.4385e-01, -1.1557e+00, -4.9768e-01,\n",
       "         -1.6460e-01, -9.2882e-01, -9.6957e-01, -8.2462e-01, -8.2931e-01,\n",
       "         -1.1333e+00, -5.9550e-01, -3.4666e-01, -2.0196e-01, -1.0587e-01,\n",
       "         -1.5429e-01, -9.1878e-01, -8.8746e-01, -6.0618e-01, -4.8232e-01,\n",
       "         -1.0267e+00, -4.7993e-01, -1.6980e-01, -4.7727e-02, -5.4352e-02,\n",
       "         -5.8708e-02, -1.1740e+00, -3.2959e-01, -5.4450e-02, -1.7154e-02,\n",
       "         -1.1375e-02, -7.6791e-01, -5.8212e-01, -3.0274e-01, -1.2822e-01,\n",
       "         -4.8627e-02, -2.7700e-02, -2.1461e-02, -2.0984e-02, -7.3206e-01,\n",
       "         -1.2017e+00, -1.1231e+00, -1.0214e+00, -1.0447e+00, -9.7563e-01,\n",
       "         -9.2934e-01, -8.5394e-01, -6.9535e-01, -3.6552e-01, -9.6174e-01,\n",
       "         -6.6364e-01, -7.0364e-01, -9.1170e-01, -8.5485e-01, -8.1707e-01,\n",
       "         -8.0211e-01, -7.9773e-01, -8.0615e-01, -8.4796e-01, -8.9041e-01,\n",
       "         -8.5958e-01, -8.6118e-01, -8.1781e-01, -6.9090e-01, -7.0826e-01,\n",
       "         -8.9898e-01, -3.2423e-01, -2.4897e-02, -3.8437e-02, -1.3327e-02,\n",
       "         -8.9356e-02, -1.9454e-01, -4.5085e-02, -2.8009e-02, -7.8867e-03,\n",
       "         -3.7860e-01, -3.3706e-02, -3.7733e-02, -3.1332e-01, -1.2578e-02,\n",
       "         -9.2125e-03, -5.5963e-03, -2.6697e-02, -1.3585e-01, -4.7037e-02,\n",
       "         -2.6830e-02, -6.4011e-03, -2.5331e-02, -4.9493e-01, -5.0483e-02,\n",
       "         -9.4318e-01, -1.1520e-02, -2.6287e-03, -1.8100e-02, -1.7477e-01,\n",
       "         -6.9020e-01, -8.8813e-01, -2.5584e-01, -1.7077e-02, -9.8557e-03,\n",
       "         -5.2195e-02, -5.0657e-01, -6.3352e-01, -6.0088e-01, -3.9661e-01,\n",
       "         -1.7121e-01,  1.0049e+00,  2.3879e-02,  1.3256e-03,  9.9421e-01,\n",
       "         -1.3333e-02, -1.8612e-02,  4.0914e-03, -1.9301e-03, -1.5895e-02,\n",
       "          8.5026e-03, -1.7202e-02, -1.4613e-02,  1.3319e-03, -8.0562e-03,\n",
       "         -2.4445e-03,  3.6262e-03,  7.5524e-03,  2.8429e-03, -1.2405e-02,\n",
       "          1.3370e-02, -2.3996e-02, -1.0185e-02, -3.4502e-03,  1.4051e-02,\n",
       "          2.0335e-02,  7.5782e-03,  1.1452e-02, -2.0287e-02,  1.1676e-02,\n",
       "          1.7871e-02, -1.0622e-02,  1.1553e-02,  1.0081e+00, -8.4933e-04,\n",
       "         -9.1945e-03, -1.0706e-02,  3.3849e-03,  1.2807e-02, -4.2419e-03,\n",
       "         -1.2959e-03,  2.0345e-02,  1.0540e-02,  1.6420e-02, -9.6432e-03,\n",
       "         -1.1933e-02,  9.0201e-03,  5.5534e-03,  3.7004e-03, -5.1612e-03,\n",
       "         -6.7900e-03,  7.6512e-03, -2.0208e-03, -1.9873e-03,  9.9430e-01,\n",
       "          1.0428e-02, -8.8645e-03, -6.7747e-03,  1.0181e+00, -2.8558e-03,\n",
       "          9.9677e-01,  3.8239e-03,  1.1767e-02,  3.0513e-03, -5.9106e-03,\n",
       "          9.9873e-01, -5.8714e-03,  1.5807e-02, -1.1084e-03, -1.5592e-02,\n",
       "         -1.0667e-02, -1.1562e-02, -1.1028e-02, -1.4515e-03,  4.6254e-04,\n",
       "          2.2211e-02,  1.0467e-02,  1.4080e-03, -5.4754e-03, -6.3433e-03,\n",
       "         -5.3606e-03,  4.4882e-03,  9.8765e-01, -4.2888e-03,  2.2465e-02,\n",
       "         -2.4314e-02, -1.1936e-03, -8.8346e-03,  8.8873e-03,  1.0748e-02,\n",
       "          5.4759e-03]])"
      ]
     },
     "execution_count": 46,
     "metadata": {},
     "output_type": "execute_result"
    }
   ],
   "source": [
    "Xbatch[:1,0,:]"
   ]
  }
 ],
 "metadata": {
  "kernelspec": {
   "display_name": "tf38",
   "language": "python",
   "name": "python3"
  },
  "language_info": {
   "codemirror_mode": {
    "name": "ipython",
    "version": 3
   },
   "file_extension": ".py",
   "mimetype": "text/x-python",
   "name": "python",
   "nbconvert_exporter": "python",
   "pygments_lexer": "ipython3",
   "version": "3.8.19"
  }
 },
 "nbformat": 4,
 "nbformat_minor": 2
}
