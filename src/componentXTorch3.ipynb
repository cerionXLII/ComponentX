{
 "cells": [
  {
   "cell_type": "markdown",
   "metadata": {},
   "source": [
    "# This notebook will use pyTorch to classify the componentX \n",
    "We will use pyTorch and the Transformer architecture to do classifications of the life time for Component X."
   ]
  },
  {
   "cell_type": "code",
   "execution_count": 1,
   "metadata": {},
   "outputs": [],
   "source": [
    "#Includes\n",
    "import pandas as pd\n",
    "import numpy as np\n",
    "import matplotlib.pyplot as plt\n",
    "import seaborn as sns\n",
    "import torch\n",
    "from tqdm.notebook import tqdm\n",
    "\n",
    "import torch.nn as nn\n",
    "import torch.nn.functional as F\n"
   ]
  },
  {
   "cell_type": "code",
   "execution_count": 2,
   "metadata": {},
   "outputs": [],
   "source": [
    "#Read the raw data\n",
    "#Train data\n",
    "tteTrain = pd.read_csv('../data/train_tte.csv')\n",
    "specificationsTrain = pd.read_csv('../data/train_specifications.csv')\n",
    "readoutsTrain = pd.read_csv('../data/train_operational_readouts.csv')\n",
    "\n",
    "\n",
    "#Validation data\n",
    "labelsValidation = pd.read_csv('../data/validation_labels.csv')\n",
    "specificationsValidation = pd.read_csv('../data/validation_specifications.csv')\n",
    "readoutsValidation = pd.read_csv('../data/validation_operational_readouts.csv')\n",
    "\n",
    "#Test data\n",
    "specificationsTest = pd.read_csv('../data/test_specifications.csv')\n",
    "readoutsTest = pd.read_csv('../data/test_operational_readouts.csv')\n",
    "#No labels for test data yet\n"
   ]
  },
  {
   "cell_type": "code",
   "execution_count": null,
   "metadata": {},
   "outputs": [],
   "source": [
    "#First we group by vehicle_id and we will forward fill the last known value.\n",
    "#Then if the entire column is NaN, we will fill it with the median of the column. \n",
    "#If there are still any NaNs we will fill them with 0.\n",
    "\n",
    "def fill_missing_values(df):\n",
    "    df = df.groupby('vehicle_id').apply(lambda x: x.ffill(axis=0)) #Forward fill last known value, but only for the same vehicle\n",
    "    df = df.droplevel('vehicle_id') #Remove multi-index, as we don't want to group by vehicle_id anymore    \n",
    "    df = df.fillna(df.median()) #Fill with median rather than mean to avoid outliers\n",
    "    df = df.fillna(0) #Last resort fill with 0\n",
    "    \n",
    "    return df"
   ]
  },
  {
   "cell_type": "code",
   "execution_count": null,
   "metadata": {},
   "outputs": [],
   "source": [
    "#df is the dataframe containing categorical values\n",
    "#possible_categories is a dictionary with the column name as the key and the possible categories as the values\n",
    "def one_hot_encoding_fixed_columns(df, possible_categories):\n",
    "    \n",
    "    #Create all possible combinations of the columns and categories\n",
    "    source_columns = list(possible_categories.keys())\n",
    "    cols = [f'{col}_{cat}' for col in source_columns for cat in possible_categories[col]]\n",
    "    \n",
    "    #Create a dataframe with the fixed columns with zeros, using the index of df as the index\n",
    "    one_hot_encoded = pd.DataFrame(0, index=df.index, columns=cols, dtype=np.float16) \n",
    "    \n",
    "    # Get dummies dataset\n",
    "    dummies_df = pd.get_dummies(df,columns=source_columns, dtype=np.float16)\n",
    "\n",
    "    # Make sure columns exists in both dataframes    \n",
    "    cols_in_both = dummies_df.columns.intersection(cols)\n",
    "\n",
    "    #Copy the one hot encoded columns to the fixed columns\n",
    "    one_hot_encoded[cols_in_both] = dummies_df[cols_in_both]\n",
    "\n",
    "    \n",
    "    return one_hot_encoded"
   ]
  },
  {
   "cell_type": "code",
   "execution_count": null,
   "metadata": {},
   "outputs": [],
   "source": [
    "def add_features(readoutsdf, specificationsdf):\n",
    "    df = readoutsdf.copy()\n",
    "\n",
    "    # Add the specifications of the vehicles\n",
    "    # We have the specifications of each vehicle. Lets join that to the main table. \n",
    "    # Then we will one-hot encode them in order to feed them into a ML model.\n",
    "\n",
    "    # Join the specifications for the vehicles, then one hot encode the categorical variables\n",
    "    df = pd.merge(df, specificationsdf, on = 'vehicle_id', how='left')\n",
    "\n",
    "    # Define possible categories for each column, since the test data may not have all categories\n",
    "    possible_categories = {\n",
    "        'Spec_0': ['Cat0', 'Cat1', 'Cat2'],\n",
    "        'Spec_1': ['Cat0', 'Cat1', 'Cat10', 'Cat11', 'Cat12', 'Cat13', 'Cat14', 'Cat15', 'Cat16', 'Cat17', 'Cat18', 'Cat19', 'Cat2', 'Cat20', 'Cat21', 'Cat22', 'Cat23', 'Cat24', 'Cat25', 'Cat26', 'Cat27', 'Cat28', 'Cat3', 'Cat4', 'Cat5', 'Cat6', 'Cat7', 'Cat8', 'Cat9'],\n",
    "        'Spec_2': ['Cat0', 'Cat1', 'Cat10', 'Cat11', 'Cat12', 'Cat13', 'Cat14', 'Cat15', 'Cat16', 'Cat17', 'Cat18', 'Cat19', 'Cat2', 'Cat20', 'Cat3', 'Cat4', 'Cat5', 'Cat6', 'Cat7', 'Cat8', 'Cat9'],\n",
    "        'Spec_3': ['Cat0', 'Cat1', 'Cat2', 'Cat3'],\n",
    "        'Spec_4': ['Cat0', 'Cat1'],\n",
    "        'Spec_5': ['Cat0', 'Cat1', 'Cat2', 'Cat3', 'Cat4'],\n",
    "        'Spec_6': ['Cat0', 'Cat1', 'Cat10', 'Cat11', 'Cat12', 'Cat13', 'Cat15', 'Cat17', 'Cat18', 'Cat2', 'Cat3', 'Cat4', 'Cat5', 'Cat6', 'Cat7', 'Cat8', 'Cat9'],\n",
    "        'Spec_7': ['Cat0', 'Cat1', 'Cat2', 'Cat3', 'Cat4', 'Cat5', 'Cat6', 'Cat7', 'Cat8']\n",
    "    }\n",
    "\n",
    "    # One-hot encode the categorical variables \n",
    "    one_hot_encoded = one_hot_encoding_fixed_columns(df, possible_categories)\n",
    "    \n",
    "    # Concatenate the one-hot encoded columns with the original DataFrame\n",
    "    df = pd.concat([df, one_hot_encoded], axis=1)\n",
    "\n",
    "    #Drop the categorical columns and only keep the one-hot encoded ones\n",
    "    df = df.drop(columns = list(possible_categories.keys()))\n",
    "\n",
    "    return df"
   ]
  },
  {
   "cell_type": "code",
   "execution_count": null,
   "metadata": {},
   "outputs": [],
   "source": [
    "df = readoutsTrain.copy()\n",
    "df = fill_missing_values(df) \n",
    "  \n",
    "#Add features\n",
    "df = add_features(df, specificationsTrain)"
   ]
  },
  {
   "cell_type": "code",
   "execution_count": null,
   "metadata": {},
   "outputs": [
    {
     "data": {
      "text/html": [
       "<div>\n",
       "<style scoped>\n",
       "    .dataframe tbody tr th:only-of-type {\n",
       "        vertical-align: middle;\n",
       "    }\n",
       "\n",
       "    .dataframe tbody tr th {\n",
       "        vertical-align: top;\n",
       "    }\n",
       "\n",
       "    .dataframe thead th {\n",
       "        text-align: right;\n",
       "    }\n",
       "</style>\n",
       "<table border=\"1\" class=\"dataframe\">\n",
       "  <thead>\n",
       "    <tr style=\"text-align: right;\">\n",
       "      <th></th>\n",
       "      <th>vehicle_id</th>\n",
       "      <th>time_step</th>\n",
       "      <th>171_0</th>\n",
       "      <th>666_0</th>\n",
       "      <th>427_0</th>\n",
       "      <th>837_0</th>\n",
       "      <th>167_0</th>\n",
       "      <th>167_1</th>\n",
       "      <th>167_2</th>\n",
       "      <th>167_3</th>\n",
       "      <th>...</th>\n",
       "      <th>Spec_6_Cat9</th>\n",
       "      <th>Spec_7_Cat0</th>\n",
       "      <th>Spec_7_Cat1</th>\n",
       "      <th>Spec_7_Cat2</th>\n",
       "      <th>Spec_7_Cat3</th>\n",
       "      <th>Spec_7_Cat4</th>\n",
       "      <th>Spec_7_Cat5</th>\n",
       "      <th>Spec_7_Cat6</th>\n",
       "      <th>Spec_7_Cat7</th>\n",
       "      <th>Spec_7_Cat8</th>\n",
       "    </tr>\n",
       "  </thead>\n",
       "  <tbody>\n",
       "    <tr>\n",
       "      <th>0</th>\n",
       "      <td>0</td>\n",
       "      <td>11.2</td>\n",
       "      <td>167985.0</td>\n",
       "      <td>10787.0</td>\n",
       "      <td>7413813.0</td>\n",
       "      <td>2296.0</td>\n",
       "      <td>4110.0</td>\n",
       "      <td>1296420.0</td>\n",
       "      <td>1628265.0</td>\n",
       "      <td>630345.0</td>\n",
       "      <td>...</td>\n",
       "      <td>0.0</td>\n",
       "      <td>1.0</td>\n",
       "      <td>0.0</td>\n",
       "      <td>0.0</td>\n",
       "      <td>0.0</td>\n",
       "      <td>0.0</td>\n",
       "      <td>0.0</td>\n",
       "      <td>0.0</td>\n",
       "      <td>0.0</td>\n",
       "      <td>0.0</td>\n",
       "    </tr>\n",
       "    <tr>\n",
       "      <th>1</th>\n",
       "      <td>0</td>\n",
       "      <td>11.4</td>\n",
       "      <td>167985.0</td>\n",
       "      <td>10787.0</td>\n",
       "      <td>7413813.0</td>\n",
       "      <td>2296.0</td>\n",
       "      <td>4111.0</td>\n",
       "      <td>1302855.0</td>\n",
       "      <td>1628265.0</td>\n",
       "      <td>630345.0</td>\n",
       "      <td>...</td>\n",
       "      <td>0.0</td>\n",
       "      <td>1.0</td>\n",
       "      <td>0.0</td>\n",
       "      <td>0.0</td>\n",
       "      <td>0.0</td>\n",
       "      <td>0.0</td>\n",
       "      <td>0.0</td>\n",
       "      <td>0.0</td>\n",
       "      <td>0.0</td>\n",
       "      <td>0.0</td>\n",
       "    </tr>\n",
       "    <tr>\n",
       "      <th>2</th>\n",
       "      <td>0</td>\n",
       "      <td>19.6</td>\n",
       "      <td>331635.0</td>\n",
       "      <td>14525.0</td>\n",
       "      <td>13683604.0</td>\n",
       "      <td>2600.0</td>\n",
       "      <td>4111.0</td>\n",
       "      <td>1302855.0</td>\n",
       "      <td>1628265.0</td>\n",
       "      <td>630345.0</td>\n",
       "      <td>...</td>\n",
       "      <td>0.0</td>\n",
       "      <td>1.0</td>\n",
       "      <td>0.0</td>\n",
       "      <td>0.0</td>\n",
       "      <td>0.0</td>\n",
       "      <td>0.0</td>\n",
       "      <td>0.0</td>\n",
       "      <td>0.0</td>\n",
       "      <td>0.0</td>\n",
       "      <td>0.0</td>\n",
       "    </tr>\n",
       "    <tr>\n",
       "      <th>3</th>\n",
       "      <td>0</td>\n",
       "      <td>20.2</td>\n",
       "      <td>354975.0</td>\n",
       "      <td>15015.0</td>\n",
       "      <td>14540449.0</td>\n",
       "      <td>2616.0</td>\n",
       "      <td>4111.0</td>\n",
       "      <td>1302855.0</td>\n",
       "      <td>1628265.0</td>\n",
       "      <td>630345.0</td>\n",
       "      <td>...</td>\n",
       "      <td>0.0</td>\n",
       "      <td>1.0</td>\n",
       "      <td>0.0</td>\n",
       "      <td>0.0</td>\n",
       "      <td>0.0</td>\n",
       "      <td>0.0</td>\n",
       "      <td>0.0</td>\n",
       "      <td>0.0</td>\n",
       "      <td>0.0</td>\n",
       "      <td>0.0</td>\n",
       "    </tr>\n",
       "    <tr>\n",
       "      <th>4</th>\n",
       "      <td>0</td>\n",
       "      <td>21.0</td>\n",
       "      <td>365550.0</td>\n",
       "      <td>15295.0</td>\n",
       "      <td>14966985.0</td>\n",
       "      <td>2720.0</td>\n",
       "      <td>4111.0</td>\n",
       "      <td>1302855.0</td>\n",
       "      <td>1628265.0</td>\n",
       "      <td>630345.0</td>\n",
       "      <td>...</td>\n",
       "      <td>0.0</td>\n",
       "      <td>1.0</td>\n",
       "      <td>0.0</td>\n",
       "      <td>0.0</td>\n",
       "      <td>0.0</td>\n",
       "      <td>0.0</td>\n",
       "      <td>0.0</td>\n",
       "      <td>0.0</td>\n",
       "      <td>0.0</td>\n",
       "      <td>0.0</td>\n",
       "    </tr>\n",
       "  </tbody>\n",
       "</table>\n",
       "<p>5 rows × 197 columns</p>\n",
       "</div>"
      ],
      "text/plain": [
       "   vehicle_id  time_step     171_0    666_0       427_0   837_0   167_0  \\\n",
       "0           0       11.2  167985.0  10787.0   7413813.0  2296.0  4110.0   \n",
       "1           0       11.4  167985.0  10787.0   7413813.0  2296.0  4111.0   \n",
       "2           0       19.6  331635.0  14525.0  13683604.0  2600.0  4111.0   \n",
       "3           0       20.2  354975.0  15015.0  14540449.0  2616.0  4111.0   \n",
       "4           0       21.0  365550.0  15295.0  14966985.0  2720.0  4111.0   \n",
       "\n",
       "       167_1      167_2     167_3  ...  Spec_6_Cat9  Spec_7_Cat0  Spec_7_Cat1  \\\n",
       "0  1296420.0  1628265.0  630345.0  ...          0.0          1.0          0.0   \n",
       "1  1302855.0  1628265.0  630345.0  ...          0.0          1.0          0.0   \n",
       "2  1302855.0  1628265.0  630345.0  ...          0.0          1.0          0.0   \n",
       "3  1302855.0  1628265.0  630345.0  ...          0.0          1.0          0.0   \n",
       "4  1302855.0  1628265.0  630345.0  ...          0.0          1.0          0.0   \n",
       "\n",
       "   Spec_7_Cat2  Spec_7_Cat3  Spec_7_Cat4  Spec_7_Cat5  Spec_7_Cat6  \\\n",
       "0          0.0          0.0          0.0          0.0          0.0   \n",
       "1          0.0          0.0          0.0          0.0          0.0   \n",
       "2          0.0          0.0          0.0          0.0          0.0   \n",
       "3          0.0          0.0          0.0          0.0          0.0   \n",
       "4          0.0          0.0          0.0          0.0          0.0   \n",
       "\n",
       "   Spec_7_Cat7  Spec_7_Cat8  \n",
       "0          0.0          0.0  \n",
       "1          0.0          0.0  \n",
       "2          0.0          0.0  \n",
       "3          0.0          0.0  \n",
       "4          0.0          0.0  \n",
       "\n",
       "[5 rows x 197 columns]"
      ]
     },
     "execution_count": 7,
     "metadata": {},
     "output_type": "execute_result"
    }
   ],
   "source": [
    "df.head()"
   ]
  },
  {
   "cell_type": "code",
   "execution_count": null,
   "metadata": {},
   "outputs": [],
   "source": [
    "# We want to create labels for the training data based on the time to event data\n",
    "# Labels in validation set are denoted by 0, 1, 2, 3, 4 where they are related to readouts within a time window of: (more than 48), (48 to 24), (24 to 12), (12 to 6), and (6 to 0) time_step before the failure, respectively. \n",
    "# If we don't have a failure reported, and the time_step left is less 48 we don't know when the failure will happen, so we will label it as -1. \n",
    "\n",
    "def get_class_label_train(row):\n",
    "    #classes denoted by 0, 1, 2, 3, 4 where they are related to readouts within a time window of: (more than 48), (48 to 24), (24 to 12), (12 to 6), and (6 to 0) time_step before the failure, respectively\n",
    "    if row['time_to_potential_event'] > 48:\n",
    "        return 0 #No failure within 48 time steps\n",
    "    elif row['time_to_potential_event'] > 24 and row['in_study_repair'] == 1:\n",
    "        return 1 #Failure within 48 to 24 time steps\n",
    "    elif row['time_to_potential_event'] > 12 and row['in_study_repair'] == 1:\n",
    "        return 2 #Failure within 24 to 12 time steps\n",
    "    elif row['time_to_potential_event'] > 6 and row['in_study_repair'] == 1:\n",
    "        return 3 #Failure within 12 to 6 time steps\n",
    "    elif row['time_to_potential_event'] > 0 and row['in_study_repair'] == 1:\n",
    "        return 4 #Failure within 6 to 0 time steps\n",
    "    else:\n",
    "        return -1 #No failure reported, but within 48 time steps from the end of the study, don't know if it will fail or not\n",
    "    \n",
    "def add_class_labels_train(ttedf, readoutsdf):\n",
    "    # Join the readouts and the time to event data\n",
    "    df = pd.merge(readoutsdf, ttedf, on = 'vehicle_id', how='left').copy()\n",
    "\n",
    "    #Calculate the time to a failure event\n",
    "    df['time_to_potential_event'] = df['length_of_study_time_step'] - df['time_step']\n",
    "\n",
    "    df['class_label'] = df.apply(get_class_label_train, axis=1)\n",
    "\n",
    "    return df"
   ]
  },
  {
   "cell_type": "code",
   "execution_count": null,
   "metadata": {},
   "outputs": [],
   "source": [
    "# We want to create labels for the training data based on the time to event data\n",
    "# Labels in validation set are denoted by 0, 1, 2, 3, 4 where they are related to readouts within a time window of: (more than 48), (48 to 24), (24 to 12), (12 to 6), and (6 to 0) time_step before the failure, respectively. \n",
    "# The validation_labels.csv file has 5046 rows, which is equal to the number of vehicles contributed to the operational data of the\n",
    "# validation set. It includes a column named class_label, corresponding to the class for the last readout of each vehicle.\n",
    "# As mentioned in subsection validation_operational_readouts.csv, the last readout for the validation set is selected randomly\n",
    "# among all readouts for each vehicle. The temporal placement of this final simulated readout is categorized into five classes\n",
    "# denoted by 0, 1, 2, 3, 4 where they are related to readouts within a time window of: (more than 48), (48 to 24), (24 to 12), (12\n",
    "# to 6), and (6 to 0) time_step before the failure, respectively. These classes show the time windows in which the last readouts for\n",
    "# each vehicle are randomly selected.\n",
    "\n",
    "def get_class_label_validation(row):\n",
    "    #classes denoted by 0, 1, 2, 3, 4 where they are related to readouts within a time window of: (more than 48), (48 to 24), (24 to 12), (12 to 6), and (6 to 0) time_step before the failure, respectively\n",
    "    dt = row['time_to_potential_event'] #Time left to the end of the time series\n",
    "\n",
    "    #Add time based on the class_labels\n",
    "    if row['class_label'] == 0:\n",
    "        #(48+) after last readout\n",
    "        dt += 48\n",
    "    elif row['class_label'] == 1:\n",
    "        #(48 to 24) after last readout\n",
    "        dt += 24\n",
    "    elif row['class_label'] == 2:\n",
    "        #(24 to 12) after last readout\n",
    "        dt += 12\n",
    "    elif row['class_label'] == 3:\n",
    "        #(12 to 6) after last readout\n",
    "        dt += 6\n",
    "    elif row['class_label'] == 4:\n",
    "        #(6 to 0) after last readout\n",
    "        dt += 0\n",
    "\n",
    "\n",
    "    if dt >= 48:\n",
    "        return 0 #No failure within 48 time steps\n",
    "    elif dt >= 24:\n",
    "        return 1 #Failure within 48 to 24 time steps\n",
    "    elif dt >= 12:\n",
    "        return 2 #Failure within 24 to 12 time steps\n",
    "    elif dt >= 6:\n",
    "        return 3 #Failure within 12 to 6 time steps\n",
    "    elif dt >= 0:\n",
    "        return 4 #Failure within 6 to 0 time steps\n",
    "    else:\n",
    "        return -1 #Should not happen...\n",
    "    \n",
    "def add_class_labels_validation(ttedf, readoutsdf):\n",
    "    # Join the readouts and the time to event data\n",
    "    df = pd.merge(readoutsdf, ttedf, on = 'vehicle_id', how='left').copy()\n",
    "\n",
    "    # For each vehicle get the max time_step seen for that vehicle:\n",
    "    df['length_of_study_time_step'] = df.groupby('vehicle_id')['time_step'].transform('max')\n",
    "\n",
    "    #Calculate the time to a failure event\n",
    "    df['time_to_potential_event'] = df['length_of_study_time_step'] - df['time_step']\n",
    "\n",
    "    df['class_label'] = df.apply(get_class_label_validation, axis=1)\n",
    "\n",
    "    return df"
   ]
  },
  {
   "cell_type": "code",
   "execution_count": null,
   "metadata": {},
   "outputs": [],
   "source": []
  },
  {
   "cell_type": "code",
   "execution_count": null,
   "metadata": {},
   "outputs": [],
   "source": [
    "#This function will preprocess all the data step by step and return X and y\n",
    "def preprocess_all(readoutsdf, specificationsdf, ttedf=None, validation=False):\n",
    "    #Fill missing values\n",
    "    df = fill_missing_values(readoutsdf) \n",
    "  \n",
    "    #Add features\n",
    "    df = add_features(df, specificationsdf)\n",
    "\n",
    "    #We only have information about the class labels in the training and validation data\n",
    "    if ttedf is not None:\n",
    "\n",
    "        #Merge the time to event data with the readouts data and figure out which class they belong to\n",
    "        #Later we will need to remove the columns: length_of_study_time_step, in_study_repair, time_to_potential_event, class_label and remove any rows with class label -1\n",
    "\n",
    "        #Train and validation targets are structured in different ways, needs to be handled differently\n",
    "        if validation:\n",
    "            df = add_class_labels_validation(ttedf, df)\n",
    "            #Drop the columns that we cannot use for training, since they contain information about the class label\n",
    "            df = df.drop(columns = ['length_of_study_time_step', 'time_to_potential_event'])\n",
    "        else:\n",
    "            df = add_class_labels_train(ttedf, df)\n",
    "            #Drop the columns that we cannot use for training, since they contain information about the class label\n",
    "            df = df.drop(columns = ['length_of_study_time_step', 'in_study_repair', 'time_to_potential_event'])\n",
    "\n",
    "        # Remove classes with class -1, where we don't know if the vehicle will fail or not within 48 hours\n",
    "        df = df[df['class_label'] != -1]\n",
    "  \n",
    "\n",
    "    return df"
   ]
  },
  {
   "cell_type": "code",
   "execution_count": null,
   "metadata": {},
   "outputs": [],
   "source": [
    "dfTrain = preprocess_all(readoutsTrain, specificationsTrain, tteTrain, validation=False)\n",
    "dfValidation = preprocess_all(readoutsValidation, specificationsValidation, labelsValidation, validation=True)\n",
    "dfTest = preprocess_all(readoutsTest, specificationsTest)\n",
    "#dfTrain, XTrain, yTrain = preprocess_all(readoutsTrain, specificationsTrain, tteTrain, validation=False)\n",
    "# XValidation, yValidation = preprocess_all(readoutsValidation, specificationsValidation, labelsValidation, validation=True)\n",
    "# XTest, yTest = preprocess_all(readoutsTest, specificationsTest)"
   ]
  },
  {
   "cell_type": "code",
   "execution_count": null,
   "metadata": {},
   "outputs": [
    {
     "data": {
      "text/html": [
       "<div>\n",
       "<style scoped>\n",
       "    .dataframe tbody tr th:only-of-type {\n",
       "        vertical-align: middle;\n",
       "    }\n",
       "\n",
       "    .dataframe tbody tr th {\n",
       "        vertical-align: top;\n",
       "    }\n",
       "\n",
       "    .dataframe thead th {\n",
       "        text-align: right;\n",
       "    }\n",
       "</style>\n",
       "<table border=\"1\" class=\"dataframe\">\n",
       "  <thead>\n",
       "    <tr style=\"text-align: right;\">\n",
       "      <th></th>\n",
       "      <th>vehicle_id</th>\n",
       "      <th>time_step</th>\n",
       "      <th>171_0</th>\n",
       "      <th>666_0</th>\n",
       "      <th>427_0</th>\n",
       "      <th>837_0</th>\n",
       "      <th>167_0</th>\n",
       "      <th>167_1</th>\n",
       "      <th>167_2</th>\n",
       "      <th>167_3</th>\n",
       "      <th>...</th>\n",
       "      <th>Spec_7_Cat0</th>\n",
       "      <th>Spec_7_Cat1</th>\n",
       "      <th>Spec_7_Cat2</th>\n",
       "      <th>Spec_7_Cat3</th>\n",
       "      <th>Spec_7_Cat4</th>\n",
       "      <th>Spec_7_Cat5</th>\n",
       "      <th>Spec_7_Cat6</th>\n",
       "      <th>Spec_7_Cat7</th>\n",
       "      <th>Spec_7_Cat8</th>\n",
       "      <th>class_label</th>\n",
       "    </tr>\n",
       "  </thead>\n",
       "  <tbody>\n",
       "    <tr>\n",
       "      <th>0</th>\n",
       "      <td>0</td>\n",
       "      <td>11.2</td>\n",
       "      <td>167985.0</td>\n",
       "      <td>10787.0</td>\n",
       "      <td>7413813.0</td>\n",
       "      <td>2296.0</td>\n",
       "      <td>4110.0</td>\n",
       "      <td>1296420.0</td>\n",
       "      <td>1628265.0</td>\n",
       "      <td>630345.0</td>\n",
       "      <td>...</td>\n",
       "      <td>1.0</td>\n",
       "      <td>0.0</td>\n",
       "      <td>0.0</td>\n",
       "      <td>0.0</td>\n",
       "      <td>0.0</td>\n",
       "      <td>0.0</td>\n",
       "      <td>0.0</td>\n",
       "      <td>0.0</td>\n",
       "      <td>0.0</td>\n",
       "      <td>0</td>\n",
       "    </tr>\n",
       "    <tr>\n",
       "      <th>1</th>\n",
       "      <td>0</td>\n",
       "      <td>11.4</td>\n",
       "      <td>167985.0</td>\n",
       "      <td>10787.0</td>\n",
       "      <td>7413813.0</td>\n",
       "      <td>2296.0</td>\n",
       "      <td>4111.0</td>\n",
       "      <td>1302855.0</td>\n",
       "      <td>1628265.0</td>\n",
       "      <td>630345.0</td>\n",
       "      <td>...</td>\n",
       "      <td>1.0</td>\n",
       "      <td>0.0</td>\n",
       "      <td>0.0</td>\n",
       "      <td>0.0</td>\n",
       "      <td>0.0</td>\n",
       "      <td>0.0</td>\n",
       "      <td>0.0</td>\n",
       "      <td>0.0</td>\n",
       "      <td>0.0</td>\n",
       "      <td>0</td>\n",
       "    </tr>\n",
       "    <tr>\n",
       "      <th>2</th>\n",
       "      <td>0</td>\n",
       "      <td>19.6</td>\n",
       "      <td>331635.0</td>\n",
       "      <td>14525.0</td>\n",
       "      <td>13683604.0</td>\n",
       "      <td>2600.0</td>\n",
       "      <td>4111.0</td>\n",
       "      <td>1302855.0</td>\n",
       "      <td>1628265.0</td>\n",
       "      <td>630345.0</td>\n",
       "      <td>...</td>\n",
       "      <td>1.0</td>\n",
       "      <td>0.0</td>\n",
       "      <td>0.0</td>\n",
       "      <td>0.0</td>\n",
       "      <td>0.0</td>\n",
       "      <td>0.0</td>\n",
       "      <td>0.0</td>\n",
       "      <td>0.0</td>\n",
       "      <td>0.0</td>\n",
       "      <td>0</td>\n",
       "    </tr>\n",
       "    <tr>\n",
       "      <th>3</th>\n",
       "      <td>0</td>\n",
       "      <td>20.2</td>\n",
       "      <td>354975.0</td>\n",
       "      <td>15015.0</td>\n",
       "      <td>14540449.0</td>\n",
       "      <td>2616.0</td>\n",
       "      <td>4111.0</td>\n",
       "      <td>1302855.0</td>\n",
       "      <td>1628265.0</td>\n",
       "      <td>630345.0</td>\n",
       "      <td>...</td>\n",
       "      <td>1.0</td>\n",
       "      <td>0.0</td>\n",
       "      <td>0.0</td>\n",
       "      <td>0.0</td>\n",
       "      <td>0.0</td>\n",
       "      <td>0.0</td>\n",
       "      <td>0.0</td>\n",
       "      <td>0.0</td>\n",
       "      <td>0.0</td>\n",
       "      <td>0</td>\n",
       "    </tr>\n",
       "    <tr>\n",
       "      <th>4</th>\n",
       "      <td>0</td>\n",
       "      <td>21.0</td>\n",
       "      <td>365550.0</td>\n",
       "      <td>15295.0</td>\n",
       "      <td>14966985.0</td>\n",
       "      <td>2720.0</td>\n",
       "      <td>4111.0</td>\n",
       "      <td>1302855.0</td>\n",
       "      <td>1628265.0</td>\n",
       "      <td>630345.0</td>\n",
       "      <td>...</td>\n",
       "      <td>1.0</td>\n",
       "      <td>0.0</td>\n",
       "      <td>0.0</td>\n",
       "      <td>0.0</td>\n",
       "      <td>0.0</td>\n",
       "      <td>0.0</td>\n",
       "      <td>0.0</td>\n",
       "      <td>0.0</td>\n",
       "      <td>0.0</td>\n",
       "      <td>0</td>\n",
       "    </tr>\n",
       "  </tbody>\n",
       "</table>\n",
       "<p>5 rows × 198 columns</p>\n",
       "</div>"
      ],
      "text/plain": [
       "   vehicle_id  time_step     171_0    666_0       427_0   837_0   167_0  \\\n",
       "0           0       11.2  167985.0  10787.0   7413813.0  2296.0  4110.0   \n",
       "1           0       11.4  167985.0  10787.0   7413813.0  2296.0  4111.0   \n",
       "2           0       19.6  331635.0  14525.0  13683604.0  2600.0  4111.0   \n",
       "3           0       20.2  354975.0  15015.0  14540449.0  2616.0  4111.0   \n",
       "4           0       21.0  365550.0  15295.0  14966985.0  2720.0  4111.0   \n",
       "\n",
       "       167_1      167_2     167_3  ...  Spec_7_Cat0  Spec_7_Cat1  Spec_7_Cat2  \\\n",
       "0  1296420.0  1628265.0  630345.0  ...          1.0          0.0          0.0   \n",
       "1  1302855.0  1628265.0  630345.0  ...          1.0          0.0          0.0   \n",
       "2  1302855.0  1628265.0  630345.0  ...          1.0          0.0          0.0   \n",
       "3  1302855.0  1628265.0  630345.0  ...          1.0          0.0          0.0   \n",
       "4  1302855.0  1628265.0  630345.0  ...          1.0          0.0          0.0   \n",
       "\n",
       "   Spec_7_Cat3  Spec_7_Cat4  Spec_7_Cat5  Spec_7_Cat6  Spec_7_Cat7  \\\n",
       "0          0.0          0.0          0.0          0.0          0.0   \n",
       "1          0.0          0.0          0.0          0.0          0.0   \n",
       "2          0.0          0.0          0.0          0.0          0.0   \n",
       "3          0.0          0.0          0.0          0.0          0.0   \n",
       "4          0.0          0.0          0.0          0.0          0.0   \n",
       "\n",
       "   Spec_7_Cat8  class_label  \n",
       "0          0.0            0  \n",
       "1          0.0            0  \n",
       "2          0.0            0  \n",
       "3          0.0            0  \n",
       "4          0.0            0  \n",
       "\n",
       "[5 rows x 198 columns]"
      ]
     },
     "execution_count": 12,
     "metadata": {},
     "output_type": "execute_result"
    }
   ],
   "source": [
    "dfTrain.head()"
   ]
  },
  {
   "cell_type": "code",
   "execution_count": null,
   "metadata": {},
   "outputs": [],
   "source": [
    "# Use Scikit-learn to normalize the data\n",
    "from sklearn.preprocessing import StandardScaler\n",
    "\n",
    "scaler = StandardScaler()\n",
    "#Normalize the data, but only the columns that are not one hot encoded\n",
    "colsToIgnore = ['vehicle_id', 'class_label', 'Spec']\n",
    "#Get the columns that we don't ignore\n",
    "columns = [col for col in dfTrain.columns if all(ignored not in col for ignored in colsToIgnore)]\n",
    "\n",
    "#Fit and transform the data\n",
    "dfTrain[columns] = scaler.fit_transform(dfTrain[columns])\n",
    "\n",
    "#Use the same transformation for the validation and test data\n",
    "dfValidation[columns] = scaler.transform(dfValidation[columns])\n",
    "dfTest[columns] = scaler.transform(dfTest[columns])"
   ]
  },
  {
   "cell_type": "code",
   "execution_count": null,
   "metadata": {},
   "outputs": [
    {
     "data": {
      "text/html": [
       "<div>\n",
       "<style scoped>\n",
       "    .dataframe tbody tr th:only-of-type {\n",
       "        vertical-align: middle;\n",
       "    }\n",
       "\n",
       "    .dataframe tbody tr th {\n",
       "        vertical-align: top;\n",
       "    }\n",
       "\n",
       "    .dataframe thead th {\n",
       "        text-align: right;\n",
       "    }\n",
       "</style>\n",
       "<table border=\"1\" class=\"dataframe\">\n",
       "  <thead>\n",
       "    <tr style=\"text-align: right;\">\n",
       "      <th></th>\n",
       "      <th>vehicle_id</th>\n",
       "      <th>time_step</th>\n",
       "      <th>171_0</th>\n",
       "      <th>666_0</th>\n",
       "      <th>427_0</th>\n",
       "      <th>837_0</th>\n",
       "      <th>167_0</th>\n",
       "      <th>167_1</th>\n",
       "      <th>167_2</th>\n",
       "      <th>167_3</th>\n",
       "      <th>...</th>\n",
       "      <th>Spec_7_Cat0</th>\n",
       "      <th>Spec_7_Cat1</th>\n",
       "      <th>Spec_7_Cat2</th>\n",
       "      <th>Spec_7_Cat3</th>\n",
       "      <th>Spec_7_Cat4</th>\n",
       "      <th>Spec_7_Cat5</th>\n",
       "      <th>Spec_7_Cat6</th>\n",
       "      <th>Spec_7_Cat7</th>\n",
       "      <th>Spec_7_Cat8</th>\n",
       "      <th>class_label</th>\n",
       "    </tr>\n",
       "  </thead>\n",
       "  <tbody>\n",
       "    <tr>\n",
       "      <th>0</th>\n",
       "      <td>10</td>\n",
       "      <td>-1.401526</td>\n",
       "      <td>-1.174908</td>\n",
       "      <td>-0.792514</td>\n",
       "      <td>-1.215986</td>\n",
       "      <td>-0.519401</td>\n",
       "      <td>-0.275722</td>\n",
       "      <td>-1.123193</td>\n",
       "      <td>-1.054025</td>\n",
       "      <td>-0.895208</td>\n",
       "      <td>...</td>\n",
       "      <td>0.0</td>\n",
       "      <td>1.0</td>\n",
       "      <td>0.0</td>\n",
       "      <td>0.0</td>\n",
       "      <td>0.0</td>\n",
       "      <td>0.0</td>\n",
       "      <td>0.0</td>\n",
       "      <td>0.0</td>\n",
       "      <td>0.0</td>\n",
       "      <td>0</td>\n",
       "    </tr>\n",
       "    <tr>\n",
       "      <th>1</th>\n",
       "      <td>10</td>\n",
       "      <td>-1.350937</td>\n",
       "      <td>-1.143335</td>\n",
       "      <td>-0.694372</td>\n",
       "      <td>-1.167848</td>\n",
       "      <td>-0.475053</td>\n",
       "      <td>-0.275722</td>\n",
       "      <td>-1.049603</td>\n",
       "      <td>-1.033836</td>\n",
       "      <td>-0.880753</td>\n",
       "      <td>...</td>\n",
       "      <td>0.0</td>\n",
       "      <td>1.0</td>\n",
       "      <td>0.0</td>\n",
       "      <td>0.0</td>\n",
       "      <td>0.0</td>\n",
       "      <td>0.0</td>\n",
       "      <td>0.0</td>\n",
       "      <td>0.0</td>\n",
       "      <td>0.0</td>\n",
       "      <td>0</td>\n",
       "    </tr>\n",
       "    <tr>\n",
       "      <th>2</th>\n",
       "      <td>10</td>\n",
       "      <td>-1.344038</td>\n",
       "      <td>-1.136706</td>\n",
       "      <td>-0.672664</td>\n",
       "      <td>-1.158933</td>\n",
       "      <td>-0.467178</td>\n",
       "      <td>-0.275722</td>\n",
       "      <td>-1.045711</td>\n",
       "      <td>-1.029650</td>\n",
       "      <td>-0.879821</td>\n",
       "      <td>...</td>\n",
       "      <td>0.0</td>\n",
       "      <td>1.0</td>\n",
       "      <td>0.0</td>\n",
       "      <td>0.0</td>\n",
       "      <td>0.0</td>\n",
       "      <td>0.0</td>\n",
       "      <td>0.0</td>\n",
       "      <td>0.0</td>\n",
       "      <td>0.0</td>\n",
       "      <td>0</td>\n",
       "    </tr>\n",
       "    <tr>\n",
       "      <th>3</th>\n",
       "      <td>10</td>\n",
       "      <td>-1.298048</td>\n",
       "      <td>-1.119632</td>\n",
       "      <td>-0.637477</td>\n",
       "      <td>-1.137810</td>\n",
       "      <td>-0.436923</td>\n",
       "      <td>-0.207791</td>\n",
       "      <td>-1.009742</td>\n",
       "      <td>-1.020041</td>\n",
       "      <td>-0.875221</td>\n",
       "      <td>...</td>\n",
       "      <td>0.0</td>\n",
       "      <td>1.0</td>\n",
       "      <td>0.0</td>\n",
       "      <td>0.0</td>\n",
       "      <td>0.0</td>\n",
       "      <td>0.0</td>\n",
       "      <td>0.0</td>\n",
       "      <td>0.0</td>\n",
       "      <td>0.0</td>\n",
       "      <td>0</td>\n",
       "    </tr>\n",
       "    <tr>\n",
       "      <th>4</th>\n",
       "      <td>10</td>\n",
       "      <td>-1.295749</td>\n",
       "      <td>-1.119626</td>\n",
       "      <td>-0.637477</td>\n",
       "      <td>-1.137810</td>\n",
       "      <td>-0.436923</td>\n",
       "      <td>-0.207791</td>\n",
       "      <td>-1.009742</td>\n",
       "      <td>-1.020041</td>\n",
       "      <td>-0.875221</td>\n",
       "      <td>...</td>\n",
       "      <td>0.0</td>\n",
       "      <td>1.0</td>\n",
       "      <td>0.0</td>\n",
       "      <td>0.0</td>\n",
       "      <td>0.0</td>\n",
       "      <td>0.0</td>\n",
       "      <td>0.0</td>\n",
       "      <td>0.0</td>\n",
       "      <td>0.0</td>\n",
       "      <td>0</td>\n",
       "    </tr>\n",
       "  </tbody>\n",
       "</table>\n",
       "<p>5 rows × 198 columns</p>\n",
       "</div>"
      ],
      "text/plain": [
       "   vehicle_id  time_step     171_0     666_0     427_0     837_0     167_0  \\\n",
       "0          10  -1.401526 -1.174908 -0.792514 -1.215986 -0.519401 -0.275722   \n",
       "1          10  -1.350937 -1.143335 -0.694372 -1.167848 -0.475053 -0.275722   \n",
       "2          10  -1.344038 -1.136706 -0.672664 -1.158933 -0.467178 -0.275722   \n",
       "3          10  -1.298048 -1.119632 -0.637477 -1.137810 -0.436923 -0.207791   \n",
       "4          10  -1.295749 -1.119626 -0.637477 -1.137810 -0.436923 -0.207791   \n",
       "\n",
       "      167_1     167_2     167_3  ...  Spec_7_Cat0  Spec_7_Cat1  Spec_7_Cat2  \\\n",
       "0 -1.123193 -1.054025 -0.895208  ...          0.0          1.0          0.0   \n",
       "1 -1.049603 -1.033836 -0.880753  ...          0.0          1.0          0.0   \n",
       "2 -1.045711 -1.029650 -0.879821  ...          0.0          1.0          0.0   \n",
       "3 -1.009742 -1.020041 -0.875221  ...          0.0          1.0          0.0   \n",
       "4 -1.009742 -1.020041 -0.875221  ...          0.0          1.0          0.0   \n",
       "\n",
       "   Spec_7_Cat3  Spec_7_Cat4  Spec_7_Cat5  Spec_7_Cat6  Spec_7_Cat7  \\\n",
       "0          0.0          0.0          0.0          0.0          0.0   \n",
       "1          0.0          0.0          0.0          0.0          0.0   \n",
       "2          0.0          0.0          0.0          0.0          0.0   \n",
       "3          0.0          0.0          0.0          0.0          0.0   \n",
       "4          0.0          0.0          0.0          0.0          0.0   \n",
       "\n",
       "   Spec_7_Cat8  class_label  \n",
       "0          0.0            0  \n",
       "1          0.0            0  \n",
       "2          0.0            0  \n",
       "3          0.0            0  \n",
       "4          0.0            0  \n",
       "\n",
       "[5 rows x 198 columns]"
      ]
     },
     "execution_count": 14,
     "metadata": {},
     "output_type": "execute_result"
    }
   ],
   "source": [
    "dfValidation.head()"
   ]
  },
  {
   "cell_type": "code",
   "execution_count": null,
   "metadata": {},
   "outputs": [],
   "source": [
    "# Group by vechicle_id and get the last target_value for each vehicle, this is now our y\n",
    "yTrain = dfTrain.groupby('vehicle_id').last()['class_label']\n",
    "yValidation = dfValidation.groupby('vehicle_id').last()['class_label']\n",
    "#No target for test data\n",
    "\n",
    "#For each vechicle_id create a matrix of all the features in order of time_step\n",
    "#This will be our X\n",
    "XTrain = dfTrain.drop(columns=['class_label']).groupby('vehicle_id').apply(lambda x: x.drop(columns=['vehicle_id']).values)\n",
    "XValidation = dfValidation.drop(columns=['class_label']).groupby('vehicle_id').apply(lambda x: x.drop(columns=['vehicle_id']).values)\n",
    "\n",
    "#No class label for test data\n",
    "XTest = dfTest.groupby('vehicle_id').apply(lambda x: x.drop(columns=['vehicle_id']).values)\n",
    "\n",
    "#Convert to numpy arrays\n",
    "XTrain = np.array(XTrain)\n",
    "XValidation = np.array(XValidation)\n",
    "XTest = np.array(XTest)"
   ]
  },
  {
   "cell_type": "code",
   "execution_count": null,
   "metadata": {},
   "outputs": [],
   "source": [
    "# We want to create feature inputs for the torch model\n",
    "# Shape should be (n_vehicles, n_timesteps, n_features)\n",
    "# We need to pad the sequences with zeros to make them the same length\n",
    "def pad_sequences(X, max_length=256):\n",
    "    \n",
    "    #Create a tensor for the sequences\n",
    "    X_padded = np.zeros((len(X), max_length, X[0].shape[1]), dtype=np.float32)\n",
    "\n",
    "    #Pad the sequences with zeros\n",
    "    for i, x in enumerate(X):\n",
    "        length = x.shape[0]\n",
    "        X_padded[i, :length] = x[-max_length:] #Only keep the last max_length time steps    \n",
    "\n",
    "    return X_padded"
   ]
  },
  {
   "cell_type": "code",
   "execution_count": null,
   "metadata": {},
   "outputs": [],
   "source": [
    "max_length = 256\n",
    "XPaddedTrain = pad_sequences(XTrain, max_length=max_length)\n",
    "XPaddedValidation = pad_sequences(XValidation, max_length=max_length)\n",
    "XPaddedTest = pad_sequences(XTest, max_length=max_length)"
   ]
  },
  {
   "cell_type": "code",
   "execution_count": null,
   "metadata": {},
   "outputs": [],
   "source": [
    "#Convert to tensors\n",
    "XTrain = torch.tensor(XPaddedTrain, dtype=torch.float32)\n",
    "yTrain = torch.tensor(yTrain.values, dtype=torch.int64)\n",
    "\n",
    "XValidation = torch.tensor(XPaddedValidation, dtype=torch.float32)\n",
    "yValidation = torch.tensor(yValidation.values, dtype=torch.int64)\n",
    "\n",
    "XTest = torch.tensor(XPaddedTest, dtype=torch.float32)\n"
   ]
  },
  {
   "cell_type": "code",
   "execution_count": null,
   "metadata": {},
   "outputs": [
    {
     "data": {
      "text/plain": [
       "torch.Size([23549, 256, 196])"
      ]
     },
     "execution_count": 19,
     "metadata": {},
     "output_type": "execute_result"
    }
   ],
   "source": [
    "XTrain.shape"
   ]
  },
  {
   "cell_type": "code",
   "execution_count": null,
   "metadata": {},
   "outputs": [],
   "source": [
    "# Create a pyTorch Transformer model that takes a sequence of features and outputs a class label\n",
    "# The model should not have an embedding layer, rather the features should be used directly one for each position\n",
    "# The input should be of shape (batch_size, sequence_length, n_features)\n",
    "# The position of the features should be encoded using positional encoding\n",
    "\n",
    "\n",
    "class XTransformer(nn.Module):\n",
    "    def __init__(self, n_features, n_classes, n_layers=6, n_heads=8, max_time_steps=256, hidden_size=512, dropout=0.1, dim_feedforward=2048):\n",
    "        super(XTransformer, self).__init__()\n",
    "        self.n_features = n_features\n",
    "        self.n_classes = n_classes\n",
    "        self.n_layers = n_layers\n",
    "        self.n_heads = n_heads\n",
    "        self.max_time_steps = max_time_steps\n",
    "        self.dim_feedforward = dim_feedforward\n",
    "        self.hidden_size = hidden_size\n",
    "        self.dropout_rate = dropout\n",
    "        self.dropout_layer = nn.Dropout(dropout)\n",
    " \n",
    "        self.input_layer = nn.Linear(n_features, hidden_size)\n",
    "        # Positional embedding\n",
    "        self.position_embedding = nn.Embedding(max_time_steps, embedding_dim=hidden_size)\n",
    "        \n",
    "        self.layer_norm1 = nn.LayerNorm(n_features)\n",
    "        self.layer_norm2 = nn.LayerNorm(hidden_size)\n",
    "\n",
    "        # Transformer layers\n",
    "        self.transformer_layers = nn.ModuleList([\n",
    "            nn.TransformerEncoderLayer(\n",
    "                d_model=hidden_size, \n",
    "                nhead=n_heads, \n",
    "                dropout=dropout,\n",
    "                dim_feedforward=dim_feedforward,\n",
    "                batch_first=True\n",
    "                ) for _ in range(n_layers)])\n",
    "\n",
    "        # Output layer\n",
    "        self.output_layer = nn.Linear(hidden_size, n_classes)\n",
    "\n",
    "    def forward(self, x):\n",
    "\n",
    "        B, T, C = x.shape\n",
    "\n",
    "        device = x.device   \n",
    "\n",
    "        # Input layer, normalize and apply dropout\n",
    "        x = self.layer_norm1(x)\n",
    "        x = self.dropout_layer(x)\n",
    "\n",
    "        #FC layer, to get to the correct hidden size\n",
    "        x = self.input_layer(x)\n",
    "\n",
    "        # Add positional encoding\n",
    "        position_ids = torch.arange(T, device=device).unsqueeze(0).repeat(B, 1)  # Expand to batch size\n",
    "        pos_emb = self.position_embedding(position_ids)  # (B, T, hidden_size)\n",
    "        x = x + pos_emb #(B, T, C)\n",
    "\n",
    "        #Dropout\n",
    "        x = self.dropout_layer(x)\n",
    "\n",
    "        # Transformer layers\n",
    "        for layer in self.transformer_layers:\n",
    "            x = layer(x)\n",
    "\n",
    "\n",
    "        # Normalize and apply dropout\n",
    "        x = self.layer_norm2(x)\n",
    "        \n",
    "        #Dropout\n",
    "        x = self.dropout_layer(x)\n",
    "        \n",
    "        # Output layer\n",
    "        x = self.output_layer(x)\n",
    "\n",
    "        # Only keep the last time step\n",
    "        #x = x.mean(dim=1).squeeze()\n",
    "        x = x[:, -1, :].squeeze()\n",
    "\n",
    "        return x\n"
   ]
  },
  {
   "cell_type": "code",
   "execution_count": null,
   "metadata": {},
   "outputs": [
    {
     "data": {
      "text/plain": [
       "tensor([0, 1, 2, 3, 4])"
      ]
     },
     "execution_count": 21,
     "metadata": {},
     "output_type": "execute_result"
    }
   ],
   "source": [
    "yTrain.unique()"
   ]
  },
  {
   "cell_type": "code",
   "execution_count": null,
   "metadata": {},
   "outputs": [
    {
     "name": "stdout",
     "output_type": "stream",
     "text": [
      "device: cuda\n"
     ]
    }
   ],
   "source": [
    "# Get the current device\n",
    "device = torch.device(\"cuda\" if torch.cuda.is_available() else \"cpu\")\n",
    "print(f'device: {device}')"
   ]
  },
  {
   "cell_type": "code",
   "execution_count": null,
   "metadata": {},
   "outputs": [
    {
     "data": {
      "text/plain": [
       "torch.Size([23549, 256, 196])"
      ]
     },
     "execution_count": 23,
     "metadata": {},
     "output_type": "execute_result"
    }
   ],
   "source": [
    "XTrain.shape"
   ]
  },
  {
   "cell_type": "code",
   "execution_count": null,
   "metadata": {},
   "outputs": [],
   "source": [
    "#model = XTransformer(n_features=XTrain.shape[2], n_classes=5, dropout=0.1, n_layers=3, n_heads=8, max_time_steps=XTrain.shape[1], hidden_size=512, dim_feedforward=2048)\n",
    "model = XTransformer(n_features=XTrain.shape[2], n_classes=5, dropout=0.2, n_layers=3, n_heads=8, max_time_steps=XTrain.shape[1], hidden_size=512, dim_feedforward=2048)"
   ]
  },
  {
   "cell_type": "code",
   "execution_count": null,
   "metadata": {},
   "outputs": [],
   "source": [
    "#Send model to device\n",
    "model = model.to(device)\n"
   ]
  },
  {
   "cell_type": "markdown",
   "metadata": {},
   "source": [
    "# Create weighted samples\n",
    "We need to train the model on a balanced training set, in order to minimize mitigate the effect of inbalance.\n"
   ]
  },
  {
   "cell_type": "code",
   "execution_count": null,
   "metadata": {},
   "outputs": [],
   "source": [
    "# Batch the data\n",
    "batch_size = 1024\n",
    "#batch_size = 5*100\n",
    "num_workers = 6\n",
    "\n",
    "\n",
    "#Calculate the class weights\n",
    "class_weights = 1.0 / torch.tensor([len(yTrain[yTrain == i]) for i in range(5)], dtype=torch.float32, device=device)\n",
    "\n",
    "# Create a sampler for the data\n",
    "weights = class_weights[yTrain]\n",
    "sampler = torch.utils.data.sampler.WeightedRandomSampler(weights, len(weights))\n",
    "\n",
    "train_data = torch.utils.data.TensorDataset(XTrain, yTrain)\n",
    "\n",
    "# Create a DataLoader that samples from the WeightedRandomSampler\n",
    "train_loader= torch.utils.data.DataLoader(train_data, batch_size=batch_size, sampler=sampler, num_workers=num_workers)\n",
    "\n",
    "#Same for validation data, but without the weighted classes\n",
    "validation_data = torch.utils.data.TensorDataset(XValidation, yValidation)\n",
    "validation_loader = torch.utils.data.DataLoader(validation_data, batch_size=batch_size, shuffle=False, num_workers=num_workers)"
   ]
  },
  {
   "cell_type": "code",
   "execution_count": null,
   "metadata": {},
   "outputs": [],
   "source": [
    "# # Get a mini batch\n",
    "# num_workers = 6\n",
    "# XMini, yMini = next(iter(train_loader))\n",
    "# #Creata a train_data with mini-data\n",
    "# #mini_batch_size = 512\n",
    "# train_data_mini = torch.utils.data.TensorDataset(XMini, yMini)\n",
    "# train_loader_mini = torch.utils.data.DataLoader(train_data_mini, batch_size=batch_size, shuffle=True, num_workers=num_workers)\n",
    "# train_loader = train_loader_mini\n",
    "# #validation_loader = train_loader_mini"
   ]
  },
  {
   "cell_type": "code",
   "execution_count": null,
   "metadata": {},
   "outputs": [],
   "source": [
    "# # Get a mini validation loader too\n",
    "\n",
    "# #Calculate the class weights\n",
    "# class_weights = 1.0 / torch.tensor([len(yValidation[yValidation == i]) for i in range(5)], dtype=torch.float32, device=device)\n",
    "\n",
    "# # Create a sampler for the data\n",
    "# weights = class_weights[yValidation]\n",
    "# sampler = torch.utils.data.sampler.WeightedRandomSampler(weights, len(weights))\n",
    "\n",
    "# validation_data = torch.utils.data.TensorDataset(XValidation, yValidation)\n",
    "\n",
    "# # Create a DataLoader that samples from the WeightedRandomSampler\n",
    "# train_loader_mini= torch.utils.data.DataLoader(validation_data, batch_size=batch_size, sampler=sampler)\n",
    "\n",
    "# XValMini, yValMini = next(iter(train_loader_mini))\n",
    "\n",
    "\n",
    "# validation_data_mini = torch.utils.data.TensorDataset(XValMini, yValMini)\n",
    "# train_loader_mini = torch.utils.data.DataLoader(validation_data_mini, batch_size=batch_size, shuffle=False, num_workers=num_workers)\n",
    "# validation_loader = train_loader_mini\n",
    "# plt.hist(np.array(yMini),5)"
   ]
  },
  {
   "cell_type": "code",
   "execution_count": null,
   "metadata": {},
   "outputs": [],
   "source": [
    "# Define the loss function and optimizer\n",
    "# We need to weight the classes since they are imbalanced\n",
    "import torch.optim as optim\n",
    "from sklearn.utils.class_weight import compute_class_weight\n",
    "#Find the class weights\n",
    "#class_weights = 1.0 / torch.tensor([len(yTrain[yTrain == i]) for i in range(5)], dtype=torch.float32, device=device)\n",
    "\n",
    "\n",
    "# classes = np.unique(np.array(yTrain))\n",
    "# # Compute class weights\n",
    "# class_weights = compute_class_weight(class_weight='balanced', classes=classes, y=np.array(yTrain))\n",
    "\n",
    "# class_weights = torch.tensor(class_weights, dtype=torch.float32, device=device)\n",
    "\n",
    "\n",
    "#Create a optimizer and loss function\n",
    "#criterion = nn.CrossEntropyLoss(weight=class_weights)\n",
    "\n",
    "criterion = nn.CrossEntropyLoss() #We will use class weights when sampling the data instead\n",
    "#optimizer = optim.Adam(model.parameters(), lr=0.001)\n",
    "optimizer = optim.AdamW(model.parameters(), lr=0.0003, weight_decay=0.05)\n",
    "\n",
    "#Create a loss function for the validation data\n",
    "class_weights_val = 1.0 / torch.tensor([len(yValidation[yValidation == i]) for i in range(5)], dtype=torch.float32, device=device)\n",
    "criterion_val = nn.CrossEntropyLoss(weight=class_weights_val)\n",
    "\n",
    "scheduler = optim.lr_scheduler.StepLR(optimizer, step_size=5, gamma=0.1)"
   ]
  },
  {
   "cell_type": "code",
   "execution_count": null,
   "metadata": {},
   "outputs": [],
   "source": [
    "loss_train = []\n",
    "loss_validation = []\n",
    "epochs = 25\n",
    "checkpoint_path = 'model3.pth'\n",
    "best_validation_loss = 1e9\n",
    "clip_value = 1.0  # Define the clip value for gradient clipping\n"
   ]
  },
  {
   "cell_type": "code",
   "execution_count": null,
   "metadata": {},
   "outputs": [
    {
     "data": {
      "application/json": {
       "ascii": false,
       "bar_format": null,
       "colour": null,
       "elapsed": 0.015059947967529297,
       "initial": 0,
       "n": 0,
       "ncols": null,
       "nrows": null,
       "postfix": null,
       "prefix": "Epoch 1/25 [Training]",
       "rate": null,
       "total": 23,
       "unit": "it",
       "unit_divisor": 1000,
       "unit_scale": false
      },
      "application/vnd.jupyter.widget-view+json": {
       "model_id": "f2b82f06010f496c99acbfe49b4d8da1",
       "version_major": 2,
       "version_minor": 0
      },
      "text/plain": [
       "Epoch 1/25 [Training]:   0%|          | 0/23 [00:00<?, ?it/s]"
      ]
     },
     "metadata": {},
     "output_type": "display_data"
    },
    {
     "name": "stdout",
     "output_type": "stream",
     "text": [
      "Saving model with validation loss 1.6262\n",
      "Epoch 1, loss_train: 1.7425, loss_validation: 1.6262, accuracy_train: 0.2561, accuracy_validation: 0.1657\n"
     ]
    },
    {
     "data": {
      "application/json": {
       "ascii": false,
       "bar_format": null,
       "colour": null,
       "elapsed": 0.00643467903137207,
       "initial": 0,
       "n": 0,
       "ncols": null,
       "nrows": null,
       "postfix": null,
       "prefix": "Epoch 2/25 [Training]",
       "rate": null,
       "total": 23,
       "unit": "it",
       "unit_divisor": 1000,
       "unit_scale": false
      },
      "application/vnd.jupyter.widget-view+json": {
       "model_id": "afdfbc4302e945e4a2e773bc3957b052",
       "version_major": 2,
       "version_minor": 0
      },
      "text/plain": [
       "Epoch 2/25 [Training]:   0%|          | 0/23 [00:00<?, ?it/s]"
      ]
     },
     "metadata": {},
     "output_type": "display_data"
    },
    {
     "name": "stdout",
     "output_type": "stream",
     "text": [
      "Epoch 2, loss_train: 1.3580, loss_validation: 2.0974, accuracy_train: 0.4105, accuracy_validation: 0.1536\n"
     ]
    },
    {
     "data": {
      "application/json": {
       "ascii": false,
       "bar_format": null,
       "colour": null,
       "elapsed": 0.0058574676513671875,
       "initial": 0,
       "n": 0,
       "ncols": null,
       "nrows": null,
       "postfix": null,
       "prefix": "Epoch 3/25 [Training]",
       "rate": null,
       "total": 23,
       "unit": "it",
       "unit_divisor": 1000,
       "unit_scale": false
      },
      "application/vnd.jupyter.widget-view+json": {
       "model_id": "33b1e79ad6fe43b2909eba12b41e2424",
       "version_major": 2,
       "version_minor": 0
      },
      "text/plain": [
       "Epoch 3/25 [Training]:   0%|          | 0/23 [00:00<?, ?it/s]"
      ]
     },
     "metadata": {},
     "output_type": "display_data"
    },
    {
     "name": "stdout",
     "output_type": "stream",
     "text": [
      "Epoch 3, loss_train: 1.1350, loss_validation: 2.6774, accuracy_train: 0.5289, accuracy_validation: 0.1013\n"
     ]
    },
    {
     "data": {
      "application/json": {
       "ascii": false,
       "bar_format": null,
       "colour": null,
       "elapsed": 0.005861520767211914,
       "initial": 0,
       "n": 0,
       "ncols": null,
       "nrows": null,
       "postfix": null,
       "prefix": "Epoch 4/25 [Training]",
       "rate": null,
       "total": 23,
       "unit": "it",
       "unit_divisor": 1000,
       "unit_scale": false
      },
      "application/vnd.jupyter.widget-view+json": {
       "model_id": "2a6b5fd0281d44c0873ccaa67487d052",
       "version_major": 2,
       "version_minor": 0
      },
      "text/plain": [
       "Epoch 4/25 [Training]:   0%|          | 0/23 [00:00<?, ?it/s]"
      ]
     },
     "metadata": {},
     "output_type": "display_data"
    },
    {
     "name": "stdout",
     "output_type": "stream",
     "text": [
      "Epoch 4, loss_train: 1.0131, loss_validation: 2.8824, accuracy_train: 0.5790, accuracy_validation: 0.1292\n"
     ]
    },
    {
     "data": {
      "application/json": {
       "ascii": false,
       "bar_format": null,
       "colour": null,
       "elapsed": 0.00448155403137207,
       "initial": 0,
       "n": 0,
       "ncols": null,
       "nrows": null,
       "postfix": null,
       "prefix": "Epoch 5/25 [Training]",
       "rate": null,
       "total": 23,
       "unit": "it",
       "unit_divisor": 1000,
       "unit_scale": false
      },
      "application/vnd.jupyter.widget-view+json": {
       "model_id": "53fc628731f34210992f60b57a37524a",
       "version_major": 2,
       "version_minor": 0
      },
      "text/plain": [
       "Epoch 5/25 [Training]:   0%|          | 0/23 [00:00<?, ?it/s]"
      ]
     },
     "metadata": {},
     "output_type": "display_data"
    },
    {
     "name": "stdout",
     "output_type": "stream",
     "text": [
      "Epoch 5, loss_train: 0.8745, loss_validation: 3.1431, accuracy_train: 0.6354, accuracy_validation: 0.2190\n"
     ]
    },
    {
     "data": {
      "application/json": {
       "ascii": false,
       "bar_format": null,
       "colour": null,
       "elapsed": 0.005732297897338867,
       "initial": 0,
       "n": 0,
       "ncols": null,
       "nrows": null,
       "postfix": null,
       "prefix": "Epoch 6/25 [Training]",
       "rate": null,
       "total": 23,
       "unit": "it",
       "unit_divisor": 1000,
       "unit_scale": false
      },
      "application/vnd.jupyter.widget-view+json": {
       "model_id": "bca3403d2ff74c899ba6a70ea08058db",
       "version_major": 2,
       "version_minor": 0
      },
      "text/plain": [
       "Epoch 6/25 [Training]:   0%|          | 0/23 [00:00<?, ?it/s]"
      ]
     },
     "metadata": {},
     "output_type": "display_data"
    },
    {
     "name": "stdout",
     "output_type": "stream",
     "text": [
      "Epoch 6, loss_train: 0.7579, loss_validation: 3.2181, accuracy_train: 0.6906, accuracy_validation: 0.1417\n"
     ]
    },
    {
     "data": {
      "application/json": {
       "ascii": false,
       "bar_format": null,
       "colour": null,
       "elapsed": 0.005442142486572266,
       "initial": 0,
       "n": 0,
       "ncols": null,
       "nrows": null,
       "postfix": null,
       "prefix": "Epoch 7/25 [Training]",
       "rate": null,
       "total": 23,
       "unit": "it",
       "unit_divisor": 1000,
       "unit_scale": false
      },
      "application/vnd.jupyter.widget-view+json": {
       "model_id": "81c6d65f2d2d482eaa44c83eb7fdc27c",
       "version_major": 2,
       "version_minor": 0
      },
      "text/plain": [
       "Epoch 7/25 [Training]:   0%|          | 0/23 [00:00<?, ?it/s]"
      ]
     },
     "metadata": {},
     "output_type": "display_data"
    },
    {
     "name": "stdout",
     "output_type": "stream",
     "text": [
      "Epoch 7, loss_train: 0.7237, loss_validation: 3.3765, accuracy_train: 0.7026, accuracy_validation: 0.1514\n"
     ]
    },
    {
     "data": {
      "application/json": {
       "ascii": false,
       "bar_format": null,
       "colour": null,
       "elapsed": 0.0054514408111572266,
       "initial": 0,
       "n": 0,
       "ncols": null,
       "nrows": null,
       "postfix": null,
       "prefix": "Epoch 8/25 [Training]",
       "rate": null,
       "total": 23,
       "unit": "it",
       "unit_divisor": 1000,
       "unit_scale": false
      },
      "application/vnd.jupyter.widget-view+json": {
       "model_id": "a5f5d7a780bc482dad4c373006fb6a0f",
       "version_major": 2,
       "version_minor": 0
      },
      "text/plain": [
       "Epoch 8/25 [Training]:   0%|          | 0/23 [00:00<?, ?it/s]"
      ]
     },
     "metadata": {},
     "output_type": "display_data"
    },
    {
     "name": "stdout",
     "output_type": "stream",
     "text": [
      "Epoch 8, loss_train: 0.7088, loss_validation: 3.4205, accuracy_train: 0.7092, accuracy_validation: 0.1556\n"
     ]
    },
    {
     "data": {
      "application/json": {
       "ascii": false,
       "bar_format": null,
       "colour": null,
       "elapsed": 0.004880189895629883,
       "initial": 0,
       "n": 0,
       "ncols": null,
       "nrows": null,
       "postfix": null,
       "prefix": "Epoch 9/25 [Training]",
       "rate": null,
       "total": 23,
       "unit": "it",
       "unit_divisor": 1000,
       "unit_scale": false
      },
      "application/vnd.jupyter.widget-view+json": {
       "model_id": "2dbef396f4ff4ba7b3b196eb351d54cb",
       "version_major": 2,
       "version_minor": 0
      },
      "text/plain": [
       "Epoch 9/25 [Training]:   0%|          | 0/23 [00:00<?, ?it/s]"
      ]
     },
     "metadata": {},
     "output_type": "display_data"
    },
    {
     "name": "stdout",
     "output_type": "stream",
     "text": [
      "Epoch 9, loss_train: 0.6807, loss_validation: 3.5359, accuracy_train: 0.7188, accuracy_validation: 0.1845\n"
     ]
    },
    {
     "data": {
      "application/json": {
       "ascii": false,
       "bar_format": null,
       "colour": null,
       "elapsed": 0.004886627197265625,
       "initial": 0,
       "n": 0,
       "ncols": null,
       "nrows": null,
       "postfix": null,
       "prefix": "Epoch 10/25 [Training]",
       "rate": null,
       "total": 23,
       "unit": "it",
       "unit_divisor": 1000,
       "unit_scale": false
      },
      "application/vnd.jupyter.widget-view+json": {
       "model_id": "973a6152ba6d4666aff030a682b52797",
       "version_major": 2,
       "version_minor": 0
      },
      "text/plain": [
       "Epoch 10/25 [Training]:   0%|          | 0/23 [00:00<?, ?it/s]"
      ]
     },
     "metadata": {},
     "output_type": "display_data"
    },
    {
     "name": "stdout",
     "output_type": "stream",
     "text": [
      "Epoch 10, loss_train: 0.6664, loss_validation: 3.7111, accuracy_train: 0.7279, accuracy_validation: 0.1538\n"
     ]
    },
    {
     "data": {
      "application/json": {
       "ascii": false,
       "bar_format": null,
       "colour": null,
       "elapsed": 0.00541377067565918,
       "initial": 0,
       "n": 0,
       "ncols": null,
       "nrows": null,
       "postfix": null,
       "prefix": "Epoch 11/25 [Training]",
       "rate": null,
       "total": 23,
       "unit": "it",
       "unit_divisor": 1000,
       "unit_scale": false
      },
      "application/vnd.jupyter.widget-view+json": {
       "model_id": "1d1e5bfbf29641e994da3721e591f9d3",
       "version_major": 2,
       "version_minor": 0
      },
      "text/plain": [
       "Epoch 11/25 [Training]:   0%|          | 0/23 [00:00<?, ?it/s]"
      ]
     },
     "metadata": {},
     "output_type": "display_data"
    },
    {
     "name": "stdout",
     "output_type": "stream",
     "text": [
      "Epoch 11, loss_train: 0.6592, loss_validation: 3.6437, accuracy_train: 0.7320, accuracy_validation: 0.1865\n"
     ]
    },
    {
     "data": {
      "application/json": {
       "ascii": false,
       "bar_format": null,
       "colour": null,
       "elapsed": 0.005859375,
       "initial": 0,
       "n": 0,
       "ncols": null,
       "nrows": null,
       "postfix": null,
       "prefix": "Epoch 12/25 [Training]",
       "rate": null,
       "total": 23,
       "unit": "it",
       "unit_divisor": 1000,
       "unit_scale": false
      },
      "application/vnd.jupyter.widget-view+json": {
       "model_id": "1d6e5c51e51a404aaa6fda4ac088e666",
       "version_major": 2,
       "version_minor": 0
      },
      "text/plain": [
       "Epoch 12/25 [Training]:   0%|          | 0/23 [00:00<?, ?it/s]"
      ]
     },
     "metadata": {},
     "output_type": "display_data"
    },
    {
     "name": "stdout",
     "output_type": "stream",
     "text": [
      "Epoch 12, loss_train: 0.6465, loss_validation: 3.6594, accuracy_train: 0.7320, accuracy_validation: 0.1855\n"
     ]
    },
    {
     "data": {
      "application/json": {
       "ascii": false,
       "bar_format": null,
       "colour": null,
       "elapsed": 0.004492998123168945,
       "initial": 0,
       "n": 0,
       "ncols": null,
       "nrows": null,
       "postfix": null,
       "prefix": "Epoch 13/25 [Training]",
       "rate": null,
       "total": 23,
       "unit": "it",
       "unit_divisor": 1000,
       "unit_scale": false
      },
      "application/vnd.jupyter.widget-view+json": {
       "model_id": "e53177eaf559498f92b81c33a729bbd2",
       "version_major": 2,
       "version_minor": 0
      },
      "text/plain": [
       "Epoch 13/25 [Training]:   0%|          | 0/23 [00:00<?, ?it/s]"
      ]
     },
     "metadata": {},
     "output_type": "display_data"
    },
    {
     "name": "stdout",
     "output_type": "stream",
     "text": [
      "Epoch 13, loss_train: 0.6531, loss_validation: 3.6685, accuracy_train: 0.7337, accuracy_validation: 0.1829\n"
     ]
    },
    {
     "data": {
      "application/json": {
       "ascii": false,
       "bar_format": null,
       "colour": null,
       "elapsed": 0.004881620407104492,
       "initial": 0,
       "n": 0,
       "ncols": null,
       "nrows": null,
       "postfix": null,
       "prefix": "Epoch 14/25 [Training]",
       "rate": null,
       "total": 23,
       "unit": "it",
       "unit_divisor": 1000,
       "unit_scale": false
      },
      "application/vnd.jupyter.widget-view+json": {
       "model_id": "03eb2ea3330844d8ba95df30bbeca666",
       "version_major": 2,
       "version_minor": 0
      },
      "text/plain": [
       "Epoch 14/25 [Training]:   0%|          | 0/23 [00:00<?, ?it/s]"
      ]
     },
     "metadata": {},
     "output_type": "display_data"
    },
    {
     "name": "stdout",
     "output_type": "stream",
     "text": [
      "Epoch 14, loss_train: 0.6426, loss_validation: 3.6419, accuracy_train: 0.7406, accuracy_validation: 0.1797\n"
     ]
    },
    {
     "data": {
      "application/json": {
       "ascii": false,
       "bar_format": null,
       "colour": null,
       "elapsed": 0.004881858825683594,
       "initial": 0,
       "n": 0,
       "ncols": null,
       "nrows": null,
       "postfix": null,
       "prefix": "Epoch 15/25 [Training]",
       "rate": null,
       "total": 23,
       "unit": "it",
       "unit_divisor": 1000,
       "unit_scale": false
      },
      "application/vnd.jupyter.widget-view+json": {
       "model_id": "10617af843ee42daa3daeb2c6771b8ee",
       "version_major": 2,
       "version_minor": 0
      },
      "text/plain": [
       "Epoch 15/25 [Training]:   0%|          | 0/23 [00:00<?, ?it/s]"
      ]
     },
     "metadata": {},
     "output_type": "display_data"
    },
    {
     "name": "stdout",
     "output_type": "stream",
     "text": [
      "Epoch 15, loss_train: 0.6364, loss_validation: 3.6743, accuracy_train: 0.7374, accuracy_validation: 0.1792\n"
     ]
    },
    {
     "data": {
      "application/json": {
       "ascii": false,
       "bar_format": null,
       "colour": null,
       "elapsed": 0.0058133602142333984,
       "initial": 0,
       "n": 0,
       "ncols": null,
       "nrows": null,
       "postfix": null,
       "prefix": "Epoch 16/25 [Training]",
       "rate": null,
       "total": 23,
       "unit": "it",
       "unit_divisor": 1000,
       "unit_scale": false
      },
      "application/vnd.jupyter.widget-view+json": {
       "model_id": "4f0dd95586d0464488f34ed6d12fd2bb",
       "version_major": 2,
       "version_minor": 0
      },
      "text/plain": [
       "Epoch 16/25 [Training]:   0%|          | 0/23 [00:00<?, ?it/s]"
      ]
     },
     "metadata": {},
     "output_type": "display_data"
    },
    {
     "name": "stdout",
     "output_type": "stream",
     "text": [
      "Epoch 16, loss_train: 0.6405, loss_validation: 3.6723, accuracy_train: 0.7374, accuracy_validation: 0.1815\n"
     ]
    },
    {
     "data": {
      "application/json": {
       "ascii": false,
       "bar_format": null,
       "colour": null,
       "elapsed": 0.009369134902954102,
       "initial": 0,
       "n": 0,
       "ncols": null,
       "nrows": null,
       "postfix": null,
       "prefix": "Epoch 17/25 [Training]",
       "rate": null,
       "total": 23,
       "unit": "it",
       "unit_divisor": 1000,
       "unit_scale": false
      },
      "application/vnd.jupyter.widget-view+json": {
       "model_id": "e1a2cf6265be42ddac723dd6aed3b3e9",
       "version_major": 2,
       "version_minor": 0
      },
      "text/plain": [
       "Epoch 17/25 [Training]:   0%|          | 0/23 [00:00<?, ?it/s]"
      ]
     },
     "metadata": {},
     "output_type": "display_data"
    },
    {
     "name": "stdout",
     "output_type": "stream",
     "text": [
      "Epoch 17, loss_train: 0.6507, loss_validation: 3.6731, accuracy_train: 0.7338, accuracy_validation: 0.1807\n"
     ]
    },
    {
     "data": {
      "application/json": {
       "ascii": false,
       "bar_format": null,
       "colour": null,
       "elapsed": 0.006447553634643555,
       "initial": 0,
       "n": 0,
       "ncols": null,
       "nrows": null,
       "postfix": null,
       "prefix": "Epoch 18/25 [Training]",
       "rate": null,
       "total": 23,
       "unit": "it",
       "unit_divisor": 1000,
       "unit_scale": false
      },
      "application/vnd.jupyter.widget-view+json": {
       "model_id": "a68cd9c5a8bc44758f5465397fe9c2ae",
       "version_major": 2,
       "version_minor": 0
      },
      "text/plain": [
       "Epoch 18/25 [Training]:   0%|          | 0/23 [00:00<?, ?it/s]"
      ]
     },
     "metadata": {},
     "output_type": "display_data"
    },
    {
     "name": "stdout",
     "output_type": "stream",
     "text": [
      "Epoch 18, loss_train: 0.6574, loss_validation: 3.6742, accuracy_train: 0.7273, accuracy_validation: 0.1809\n"
     ]
    },
    {
     "data": {
      "application/json": {
       "ascii": false,
       "bar_format": null,
       "colour": null,
       "elapsed": 0.006389617919921875,
       "initial": 0,
       "n": 0,
       "ncols": null,
       "nrows": null,
       "postfix": null,
       "prefix": "Epoch 19/25 [Training]",
       "rate": null,
       "total": 23,
       "unit": "it",
       "unit_divisor": 1000,
       "unit_scale": false
      },
      "application/vnd.jupyter.widget-view+json": {
       "model_id": "f2c07fddee224e62930f14e4bcad658d",
       "version_major": 2,
       "version_minor": 0
      },
      "text/plain": [
       "Epoch 19/25 [Training]:   0%|          | 0/23 [00:00<?, ?it/s]"
      ]
     },
     "metadata": {},
     "output_type": "display_data"
    },
    {
     "name": "stdout",
     "output_type": "stream",
     "text": [
      "Epoch 19, loss_train: 0.6369, loss_validation: 3.6776, accuracy_train: 0.7409, accuracy_validation: 0.1813\n"
     ]
    },
    {
     "data": {
      "application/json": {
       "ascii": false,
       "bar_format": null,
       "colour": null,
       "elapsed": 0.00490880012512207,
       "initial": 0,
       "n": 0,
       "ncols": null,
       "nrows": null,
       "postfix": null,
       "prefix": "Epoch 20/25 [Training]",
       "rate": null,
       "total": 23,
       "unit": "it",
       "unit_divisor": 1000,
       "unit_scale": false
      },
      "application/vnd.jupyter.widget-view+json": {
       "model_id": "8cd73f03288440dfbb80f06a8667a734",
       "version_major": 2,
       "version_minor": 0
      },
      "text/plain": [
       "Epoch 20/25 [Training]:   0%|          | 0/23 [00:00<?, ?it/s]"
      ]
     },
     "metadata": {},
     "output_type": "display_data"
    },
    {
     "name": "stdout",
     "output_type": "stream",
     "text": [
      "Epoch 20, loss_train: 0.6428, loss_validation: 3.6716, accuracy_train: 0.7399, accuracy_validation: 0.1855\n"
     ]
    },
    {
     "data": {
      "application/json": {
       "ascii": false,
       "bar_format": null,
       "colour": null,
       "elapsed": 0.005415439605712891,
       "initial": 0,
       "n": 0,
       "ncols": null,
       "nrows": null,
       "postfix": null,
       "prefix": "Epoch 21/25 [Training]",
       "rate": null,
       "total": 23,
       "unit": "it",
       "unit_divisor": 1000,
       "unit_scale": false
      },
      "application/vnd.jupyter.widget-view+json": {
       "model_id": "2cff581b09174444be1505746cb7f565",
       "version_major": 2,
       "version_minor": 0
      },
      "text/plain": [
       "Epoch 21/25 [Training]:   0%|          | 0/23 [00:00<?, ?it/s]"
      ]
     },
     "metadata": {},
     "output_type": "display_data"
    },
    {
     "name": "stdout",
     "output_type": "stream",
     "text": [
      "Epoch 21, loss_train: 0.6439, loss_validation: 3.6725, accuracy_train: 0.7340, accuracy_validation: 0.1855\n"
     ]
    },
    {
     "data": {
      "application/json": {
       "ascii": false,
       "bar_format": null,
       "colour": null,
       "elapsed": 0.004881143569946289,
       "initial": 0,
       "n": 0,
       "ncols": null,
       "nrows": null,
       "postfix": null,
       "prefix": "Epoch 22/25 [Training]",
       "rate": null,
       "total": 23,
       "unit": "it",
       "unit_divisor": 1000,
       "unit_scale": false
      },
      "application/vnd.jupyter.widget-view+json": {
       "model_id": "4c4950641ab94039b624398e9dc1250c",
       "version_major": 2,
       "version_minor": 0
      },
      "text/plain": [
       "Epoch 22/25 [Training]:   0%|          | 0/23 [00:00<?, ?it/s]"
      ]
     },
     "metadata": {},
     "output_type": "display_data"
    },
    {
     "name": "stdout",
     "output_type": "stream",
     "text": [
      "Epoch 22, loss_train: 0.6413, loss_validation: 3.6738, accuracy_train: 0.7362, accuracy_validation: 0.1849\n"
     ]
    },
    {
     "data": {
      "application/json": {
       "ascii": false,
       "bar_format": null,
       "colour": null,
       "elapsed": 0.005919694900512695,
       "initial": 0,
       "n": 0,
       "ncols": null,
       "nrows": null,
       "postfix": null,
       "prefix": "Epoch 23/25 [Training]",
       "rate": null,
       "total": 23,
       "unit": "it",
       "unit_divisor": 1000,
       "unit_scale": false
      },
      "application/vnd.jupyter.widget-view+json": {
       "model_id": "0f81cc84c86a48ec9e5019713b3f7cab",
       "version_major": 2,
       "version_minor": 0
      },
      "text/plain": [
       "Epoch 23/25 [Training]:   0%|          | 0/23 [00:00<?, ?it/s]"
      ]
     },
     "metadata": {},
     "output_type": "display_data"
    },
    {
     "name": "stdout",
     "output_type": "stream",
     "text": [
      "Epoch 23, loss_train: 0.6430, loss_validation: 3.6745, accuracy_train: 0.7357, accuracy_validation: 0.1849\n"
     ]
    },
    {
     "data": {
      "application/json": {
       "ascii": false,
       "bar_format": null,
       "colour": null,
       "elapsed": 0.005448579788208008,
       "initial": 0,
       "n": 0,
       "ncols": null,
       "nrows": null,
       "postfix": null,
       "prefix": "Epoch 24/25 [Training]",
       "rate": null,
       "total": 23,
       "unit": "it",
       "unit_divisor": 1000,
       "unit_scale": false
      },
      "application/vnd.jupyter.widget-view+json": {
       "model_id": "1ca36c7b70cf4b039cae78634dec30df",
       "version_major": 2,
       "version_minor": 0
      },
      "text/plain": [
       "Epoch 24/25 [Training]:   0%|          | 0/23 [00:00<?, ?it/s]"
      ]
     },
     "metadata": {},
     "output_type": "display_data"
    },
    {
     "name": "stdout",
     "output_type": "stream",
     "text": [
      "Epoch 24, loss_train: 0.6429, loss_validation: 3.6751, accuracy_train: 0.7383, accuracy_validation: 0.1849\n"
     ]
    },
    {
     "data": {
      "application/json": {
       "ascii": false,
       "bar_format": null,
       "colour": null,
       "elapsed": 0.005450010299682617,
       "initial": 0,
       "n": 0,
       "ncols": null,
       "nrows": null,
       "postfix": null,
       "prefix": "Epoch 25/25 [Training]",
       "rate": null,
       "total": 23,
       "unit": "it",
       "unit_divisor": 1000,
       "unit_scale": false
      },
      "application/vnd.jupyter.widget-view+json": {
       "model_id": "41ee1bff66854e69b720504c7fd96bcb",
       "version_major": 2,
       "version_minor": 0
      },
      "text/plain": [
       "Epoch 25/25 [Training]:   0%|          | 0/23 [00:00<?, ?it/s]"
      ]
     },
     "metadata": {},
     "output_type": "display_data"
    },
    {
     "name": "stdout",
     "output_type": "stream",
     "text": [
      "Epoch 25, loss_train: 0.6348, loss_validation: 3.6763, accuracy_train: 0.7391, accuracy_validation: 0.1847\n"
     ]
    }
   ],
   "source": [
    "# Create a training loop\n",
    "for epoch in range(epochs):\n",
    "    model.train()\n",
    "    running_loss = 0.0\n",
    "    correct_train = 0\n",
    "    total_train = 0\n",
    "    correct_validation = 0\n",
    "    total_validation = 0\n",
    "\n",
    "\n",
    "    # Setup tqdm progress bar for the training loop\n",
    "    train_progress_bar = tqdm(train_loader, desc=f'Epoch {epoch + 1}/{epochs} [Training]', leave=False)\n",
    "    for i, data in enumerate(train_loader, 0):\n",
    "\n",
    "        inputs, labels = data\n",
    "        inputs, labels = inputs.to(device), labels.to(device)\n",
    "\n",
    "        #Add noise to the inputs for regularization purposes\n",
    "        inputs = inputs + torch.randn_like(inputs, device=device) * 0.01\n",
    "\n",
    "        #Forward pass\n",
    "        outputs = model(inputs)\n",
    "\n",
    "        #Calculate the loss\n",
    "        loss = criterion(outputs, labels)\n",
    "\n",
    "        #Zero the gradients\n",
    "        optimizer.zero_grad()\n",
    "\n",
    "        #Backward pass\n",
    "        loss.backward()\n",
    "\n",
    "        # Gradient clipping\n",
    "        torch.nn.utils.clip_grad_norm_(model.parameters(), clip_value)\n",
    "\n",
    "        #Update the parameters\n",
    "        optimizer.step()\n",
    "\n",
    "        running_loss += loss.item()\n",
    "\n",
    "        #Calculate the accuracy:\n",
    "        _, predicted = torch.max(outputs, 1)\n",
    "        correct = (predicted == labels).sum().item()\n",
    "        total = labels.size(0)\n",
    "        correct_train += correct\n",
    "        total_train += total\n",
    "        accuracy_train = correct_train / total_train\n",
    "\n",
    "        train_progress_bar.set_postfix({'loss': (running_loss / (train_progress_bar.n + 1)), 'accuracy train': accuracy_train})\n",
    "        train_progress_bar.update()\n",
    "        \n",
    "    loss_train.append(running_loss / len(train_loader))\n",
    "\n",
    "    \n",
    "    # Validation loss\n",
    "    model.eval()\n",
    "    running_loss = 0.0\n",
    "    with torch.no_grad():\n",
    "        for i, data in enumerate(validation_loader, 0):\n",
    "            inputs, labels = data\n",
    "            inputs, labels = inputs.to(device), labels.to(device)\n",
    "\n",
    "            outputs = model(inputs)\n",
    "            loss = criterion_val(outputs, labels) #Use the validation loss function, which has class weights\n",
    "\n",
    "            running_loss += loss.item()\n",
    "             #Calculate the accuracy:\n",
    "            _, predicted = torch.max(outputs, 1)\n",
    "            correct = (predicted == labels).sum().item()\n",
    "            total = labels.size(0)\n",
    "            correct_validation += correct\n",
    "            total_validation+= total\n",
    "\n",
    "    loss_validation.append(running_loss / len(validation_loader))\n",
    "    accuracy_validation = correct_validation / total_validation\n",
    "    accuracy_train = correct_train / total_train\n",
    "\n",
    "    #Save the model if it is the best one so far\n",
    "    if loss_validation[-1] < best_validation_loss:\n",
    "        print(f'Saving model with validation loss {loss_validation[-1]:.4f}')\n",
    "        torch.save(model.state_dict(), checkpoint_path)\n",
    "        best_validation_loss = loss_validation[-1]\n",
    "\n",
    "\n",
    "    print(f'Epoch {epoch + 1}, loss_train: {loss_train[-1]:.4f}, loss_validation: {loss_validation[-1]:.4f}, accuracy_train: {accuracy_train:.4f}, accuracy_validation: {accuracy_validation:.4f}')\n",
    "    #Close the progress bar\n",
    "    \n",
    "    train_progress_bar.close()\n",
    "    # Step the scheduler\n",
    "    scheduler.step()"
   ]
  },
  {
   "cell_type": "code",
   "execution_count": null,
   "metadata": {},
   "outputs": [
    {
     "data": {
      "image/png": "[encoded data removed]",
      "text/plain": [
       "<Figure size 640x480 with 1 Axes>"
      ]
     },
     "metadata": {},
     "output_type": "display_data"
    }
   ],
   "source": [
    "# Plot the loss\n",
    "plt.plot(loss_train, label='train')\n",
    "plt.plot(loss_validation, label='validation')\n",
    "plt.legend()\n",
    "plt.show()\n"
   ]
  },
  {
   "cell_type": "markdown",
   "metadata": {},
   "source": [
    "# Create predictions"
   ]
  },
  {
   "cell_type": "code",
   "execution_count": null,
   "metadata": {},
   "outputs": [],
   "source": [
    "# Create a function that takes the model, data loader and device and returns the predictions\n",
    "def get_predictions(model, data_loader, device):\n",
    "    model.eval()\n",
    "    predictions = []\n",
    "    targets = []\n",
    "    with torch.no_grad():\n",
    "        for i, data in enumerate(data_loader, 0):\n",
    "            inputs, labels = data\n",
    "            inputs = inputs.to(device)\n",
    "\n",
    "            outputs = model(inputs)\n",
    "            outputs = outputs.argmax(dim=1).cpu().numpy() #Take the class with the highest probability\n",
    "            predictions.append(outputs)\n",
    "            targets.append(labels.numpy())\n",
    "\n",
    "    return np.concatenate(predictions), np.concatenate(targets)"
   ]
  },
  {
   "cell_type": "code",
   "execution_count": null,
   "metadata": {},
   "outputs": [],
   "source": [
    "# Create a diffusion matrix of the train and validation data\n",
    "\n",
    "yPredTrain, yTrainNp = get_predictions(model, train_loader, device)\n",
    "yPredValidation, yValidationNp = get_predictions(model, validation_loader, device)"
   ]
  },
  {
   "cell_type": "code",
   "execution_count": null,
   "metadata": {},
   "outputs": [
    {
     "data": {
      "text/plain": [
       "(5046,)"
      ]
     },
     "execution_count": 35,
     "metadata": {},
     "output_type": "execute_result"
    }
   ],
   "source": [
    "yPredValidation.shape"
   ]
  },
  {
   "cell_type": "code",
   "execution_count": null,
   "metadata": {},
   "outputs": [
    {
     "name": "stdout",
     "output_type": "stream",
     "text": [
      "Training data:\n",
      "              precision    recall  f1-score   support\n",
      "\n",
      "           0       0.61      0.46      0.52      4548\n",
      "           1       0.95      1.00      0.97      4705\n",
      "           2       0.87      1.00      0.93      4667\n",
      "           3       0.69      0.74      0.71      4779\n",
      "           4       0.61      0.58      0.60      4850\n",
      "\n",
      "    accuracy                           0.76     23549\n",
      "   macro avg       0.75      0.76      0.75     23549\n",
      "weighted avg       0.74      0.76      0.75     23549\n",
      "\n",
      "Validation data:\n",
      "              precision    recall  f1-score   support\n",
      "\n",
      "           0       0.99      0.18      0.31      4910\n",
      "           1       0.00      0.06      0.00        16\n",
      "           2       0.00      0.07      0.00        14\n",
      "           3       0.01      0.57      0.01        30\n",
      "           4       0.02      0.21      0.04        76\n",
      "\n",
      "    accuracy                           0.18      5046\n",
      "   macro avg       0.21      0.22      0.07      5046\n",
      "weighted avg       0.97      0.18      0.30      5046\n",
      "\n"
     ]
    }
   ],
   "source": [
    "from sklearn.metrics import classification_report\n",
    "\n",
    "#Print the classification report\n",
    "print('Training data:')\n",
    "print(classification_report(yTrainNp, yPredTrain))\n",
    "\n",
    "print('Validation data:')\n",
    "print(classification_report(yValidationNp, yPredValidation))\n"
   ]
  },
  {
   "cell_type": "code",
   "execution_count": null,
   "metadata": {},
   "outputs": [
    {
     "data": {
      "image/png": "[encoded data removed]",
      "text/plain": [
       "<Figure size 700x700 with 2 Axes>"
      ]
     },
     "metadata": {},
     "output_type": "display_data"
    }
   ],
   "source": [
    "#Import confusion matrix\n",
    "from sklearn.metrics import confusion_matrix\n",
    "cm = confusion_matrix(yValidationNp, yPredValidation, normalize='true')\n",
    "plt.figure(figsize = (7,7))\n",
    "#add labels\n",
    "plt.title('Confusion matrix Validation')\n",
    "plt.xlabel('Predicted')\n",
    "plt.ylabel('True')\n",
    "#plot the confusion matrix\n",
    "ax = sns.heatmap(cm, annot=True)"
   ]
  },
  {
   "cell_type": "code",
   "execution_count": null,
   "metadata": {},
   "outputs": [
    {
     "data": {
      "image/png": "[encoded data removed]",
      "text/plain": [
       "<Figure size 700x700 with 2 Axes>"
      ]
     },
     "metadata": {},
     "output_type": "display_data"
    }
   ],
   "source": [
    "cm = confusion_matrix(yTrainNp, yPredTrain, normalize='true')\n",
    "plt.figure(figsize = (7,7))\n",
    "#add labels\n",
    "plt.title('Confusion matrix Train')\n",
    "plt.xlabel('Predicted')\n",
    "plt.ylabel('True')\n",
    "#plot the confusion matrix\n",
    "ax = sns.heatmap(cm, annot=True)"
   ]
  },
  {
   "cell_type": "code",
   "execution_count": null,
   "metadata": {},
   "outputs": [],
   "source": [
    "checkpoint_path = 'model3.pth'"
   ]
  },
  {
   "cell_type": "code",
   "execution_count": null,
   "metadata": {},
   "outputs": [],
   "source": [
    "#Clone the latest model\n",
    "import copy\n",
    "model_latest = copy.deepcopy(model)"
   ]
  },
  {
   "cell_type": "code",
   "execution_count": null,
   "metadata": {},
   "outputs": [
    {
     "data": {
      "text/plain": [
       "<All keys matched successfully>"
      ]
     },
     "execution_count": 41,
     "metadata": {},
     "output_type": "execute_result"
    }
   ],
   "source": [
    "#Load the best model\n",
    "model.load_state_dict(torch.load(checkpoint_path))"
   ]
  },
  {
   "cell_type": "code",
   "execution_count": null,
   "metadata": {},
   "outputs": [
    {
     "data": {
      "text/plain": [
       "XTransformer(\n",
       "  (dropout_layer): Dropout(p=0.2, inplace=False)\n",
       "  (input_layer): Linear(in_features=196, out_features=512, bias=True)\n",
       "  (position_embedding): Embedding(256, 512)\n",
       "  (layer_norm1): LayerNorm((196,), eps=1e-05, elementwise_affine=True)\n",
       "  (layer_norm2): LayerNorm((512,), eps=1e-05, elementwise_affine=True)\n",
       "  (transformer_layers): ModuleList(\n",
       "    (0-2): 3 x TransformerEncoderLayer(\n",
       "      (self_attn): MultiheadAttention(\n",
       "        (out_proj): NonDynamicallyQuantizableLinear(in_features=512, out_features=512, bias=True)\n",
       "      )\n",
       "      (linear1): Linear(in_features=512, out_features=2048, bias=True)\n",
       "      (dropout): Dropout(p=0.2, inplace=False)\n",
       "      (linear2): Linear(in_features=2048, out_features=512, bias=True)\n",
       "      (norm1): LayerNorm((512,), eps=1e-05, elementwise_affine=True)\n",
       "      (norm2): LayerNorm((512,), eps=1e-05, elementwise_affine=True)\n",
       "      (dropout1): Dropout(p=0.2, inplace=False)\n",
       "      (dropout2): Dropout(p=0.2, inplace=False)\n",
       "    )\n",
       "  )\n",
       "  (output_layer): Linear(in_features=512, out_features=5, bias=True)\n",
       ")"
      ]
     },
     "execution_count": 42,
     "metadata": {},
     "output_type": "execute_result"
    }
   ],
   "source": [
    "model.to(device)"
   ]
  },
  {
   "cell_type": "code",
   "execution_count": null,
   "metadata": {},
   "outputs": [
    {
     "data": {
      "text/plain": [
       "==========================================================================================\n",
       "Layer (type:depth-idx)                   Output Shape              Param #\n",
       "==========================================================================================\n",
       "XTransformer                             [2, 5]                    --\n",
       "├─LayerNorm: 1-1                         [2, 256, 196]             392\n",
       "├─Dropout: 1-2                           [2, 256, 196]             --\n",
       "├─Linear: 1-3                            [2, 256, 512]             100,864\n",
       "├─Embedding: 1-4                         [2, 256, 512]             131,072\n",
       "├─Dropout: 1-5                           [2, 256, 512]             --\n",
       "├─ModuleList: 1-6                        --                        --\n",
       "│    └─TransformerEncoderLayer: 2-1      [2, 256, 512]             3,152,384\n",
       "│    └─TransformerEncoderLayer: 2-2      [2, 256, 512]             3,152,384\n",
       "│    └─TransformerEncoderLayer: 2-3      [2, 256, 512]             3,152,384\n",
       "├─LayerNorm: 1-7                         [2, 256, 512]             1,024\n",
       "├─Dropout: 1-8                           [2, 256, 512]             --\n",
       "├─Linear: 1-9                            [2, 256, 5]               2,565\n",
       "==========================================================================================\n",
       "Total params: 9,693,069\n",
       "Trainable params: 9,693,069\n",
       "Non-trainable params: 0\n",
       "Total mult-adds (M): 0.47\n",
       "==========================================================================================\n",
       "Input size (MB): 0.40\n",
       "Forward/backward pass size (MB): 7.11\n",
       "Params size (MB): 0.94\n",
       "Estimated Total Size (MB): 8.46\n",
       "=========================================================================================="
      ]
     },
     "execution_count": 47,
     "metadata": {},
     "output_type": "execute_result"
    }
   ],
   "source": [
    "from torchinfo import summary\n",
    "summary(model, (2, XTrain.shape[1], XTrain.shape[2]))"
   ]
  },
  {
   "cell_type": "code",
   "execution_count": null,
   "metadata": {},
   "outputs": [
    {
     "data": {
      "text/plain": [
       "tensor([[-1.3072, -1.1273, -0.7391, -1.1580, -0.5077, -0.1702, -0.9152, -0.9577,\n",
       "         -0.8545, -0.8262, -1.1424, -0.5975, -0.3409, -0.1994, -0.1135, -0.1502,\n",
       "         -0.9025, -0.8762, -0.6149, -0.4785, -1.0147, -0.4707, -0.1609, -0.0617,\n",
       "         -0.0565, -0.0545, -1.1793, -0.3354, -0.0559, -0.0099, -0.0067, -0.7657,\n",
       "         -0.5794, -0.3132, -0.1320, -0.0420, -0.0187, -0.0191, -0.0078, -0.7432,\n",
       "         -1.1875, -1.1341, -1.0226, -1.0457, -0.9844, -0.9252, -0.8589, -0.6760,\n",
       "         -0.3848, -0.9631, -0.6579, -0.7007, -0.8898, -0.8436, -0.8188, -0.7907,\n",
       "         -0.8033, -0.8110, -0.8420, -0.8709, -0.8625, -0.8589, -0.8408, -0.6987,\n",
       "         -0.7025, -0.8920, -0.3297, -0.0223, -0.0312, -0.0126, -0.0767, -0.2012,\n",
       "         -0.0363, -0.0371, -0.0108, -0.3804, -0.0283, -0.0319, -0.3025, -0.0088,\n",
       "         -0.0076, -0.0065, -0.0129, -0.1194, -0.0427, -0.0163, -0.0120, -0.0196,\n",
       "         -0.4979, -0.0467, -0.9211, -0.0180, -0.0068, -0.0064, -0.1815, -0.6756,\n",
       "         -0.9085, -0.2720, -0.0066, -0.0099, -0.0587, -0.4984, -0.6371, -0.5990,\n",
       "         -0.3966, -0.1799,  1.0000,  0.0000,  0.0000,  1.0000,  0.0000,  0.0000,\n",
       "          0.0000,  0.0000,  0.0000,  0.0000,  0.0000,  0.0000,  0.0000,  0.0000,\n",
       "          0.0000,  0.0000,  0.0000,  0.0000,  0.0000,  0.0000,  0.0000,  0.0000,\n",
       "          0.0000,  0.0000,  0.0000,  0.0000,  0.0000,  0.0000,  0.0000,  0.0000,\n",
       "          0.0000,  0.0000,  1.0000,  0.0000,  0.0000,  0.0000,  0.0000,  0.0000,\n",
       "          0.0000,  0.0000,  0.0000,  0.0000,  0.0000,  0.0000,  0.0000,  0.0000,\n",
       "          0.0000,  0.0000,  0.0000,  0.0000,  0.0000,  0.0000,  0.0000,  1.0000,\n",
       "          0.0000,  0.0000,  0.0000,  1.0000,  0.0000,  1.0000,  0.0000,  0.0000,\n",
       "          0.0000,  0.0000,  1.0000,  0.0000,  0.0000,  0.0000,  0.0000,  0.0000,\n",
       "          0.0000,  0.0000,  0.0000,  0.0000,  0.0000,  0.0000,  0.0000,  0.0000,\n",
       "          0.0000,  0.0000,  0.0000,  1.0000,  0.0000,  0.0000,  0.0000,  0.0000,\n",
       "          0.0000,  0.0000,  0.0000,  0.0000]])"
      ]
     },
     "execution_count": 48,
     "metadata": {},
     "output_type": "execute_result"
    }
   ],
   "source": [
    "XTrain[:1,0,:]"
   ]
  },
  {
   "cell_type": "code",
   "execution_count": null,
   "metadata": {},
   "outputs": [],
   "source": [
    "Xbatch = XTrain[:1, :, :]\n",
    "#Add noise to the input\n",
    "Xbatch = Xbatch + torch.randn_like(Xbatch) * 0.01"
   ]
  },
  {
   "cell_type": "code",
   "execution_count": null,
   "metadata": {},
   "outputs": [
    {
     "data": {
      "text/plain": [
       "tensor([[-1.3267e+00, -1.1944e+00, -8.3317e-01, -1.2592e+00, -6.2155e-01,\n",
       "         -2.8731e-01, -8.2699e-01, -8.0758e-01, -7.7688e-01, -7.9297e-01,\n",
       "         -1.2220e+00, -4.4714e-01, -1.1961e-01, -2.7579e-01,  2.5382e-02,\n",
       "         -1.5561e-01, -9.2952e-01, -1.0014e+00, -6.5453e-01, -3.9136e-01,\n",
       "         -7.8352e-01, -3.8433e-01, -2.0759e-01, -2.3543e-01, -2.4767e-01,\n",
       "         -1.5774e-01, -1.2020e+00, -2.2190e-01, -1.8582e-01, -5.9130e-02,\n",
       "          1.7118e-01, -7.4520e-01, -6.6385e-01, -4.4410e-02,  3.7261e-02,\n",
       "          1.7731e-02, -7.8666e-02, -1.0866e-01,  3.1369e-02, -6.8034e-01,\n",
       "         -1.2918e+00, -1.1383e+00, -1.0352e+00, -9.6814e-01, -1.1047e+00,\n",
       "         -9.5862e-01, -8.5881e-01, -6.7879e-01, -5.0567e-01, -1.0521e+00,\n",
       "         -8.4914e-01, -6.5407e-01, -9.6427e-01, -9.7646e-01, -1.0625e+00,\n",
       "         -7.3236e-01, -1.0257e+00, -7.7528e-01, -8.8715e-01, -9.3012e-01,\n",
       "         -8.7049e-01, -9.1877e-01, -8.9547e-01, -8.3779e-01, -8.3228e-01,\n",
       "         -9.4950e-01, -4.6091e-01, -1.1729e-01, -1.7368e-01, -3.0208e-02,\n",
       "         -1.1313e-02, -2.5291e-01, -1.6770e-01, -1.2571e-01,  1.0270e-02,\n",
       "         -4.3470e-01, -1.3139e-02, -5.0819e-02, -2.0292e-01, -2.0877e-01,\n",
       "          1.1604e-01,  2.1856e-01,  8.6335e-02, -4.7483e-02, -7.5499e-02,\n",
       "         -8.1534e-02,  9.9304e-02,  4.3170e-02, -6.3061e-01, -9.6455e-03,\n",
       "         -7.9101e-01,  1.3740e-01, -1.8389e-02,  6.8940e-02, -1.7578e-01,\n",
       "         -7.6156e-01, -9.2576e-01, -2.7187e-01, -1.1585e-01,  2.7986e-01,\n",
       "         -9.6383e-02, -3.8381e-01, -7.4830e-01, -6.4054e-01, -1.3962e-01,\n",
       "         -3.6804e-01,  9.8379e-01,  1.0176e-01,  1.6402e-01,  6.8666e-01,\n",
       "         -1.4592e-01, -8.6558e-02,  6.4839e-02,  6.2921e-03,  5.2932e-02,\n",
       "         -5.0225e-03,  1.0046e-02,  6.6528e-02, -3.5160e-02, -5.8814e-02,\n",
       "          6.7868e-02,  6.2145e-02,  9.8260e-02,  8.8569e-03, -1.0271e-01,\n",
       "         -6.1562e-02, -2.0658e-03,  1.3090e-01, -4.1360e-02, -1.4361e-01,\n",
       "          3.9627e-02,  1.2617e-01, -1.6663e-01,  9.4325e-02,  1.7803e-01,\n",
       "          2.2299e-02,  2.5050e-02,  1.3409e-01,  9.6385e-01, -1.1386e-01,\n",
       "          2.2809e-01,  4.7860e-02, -8.4609e-02,  1.3639e-01,  2.1413e-02,\n",
       "         -4.2951e-02, -9.7060e-02,  3.0539e-02, -4.9322e-02, -1.2235e-01,\n",
       "          4.8490e-02,  1.2585e-01, -7.7016e-02, -6.7338e-02, -2.8086e-02,\n",
       "         -1.4710e-01, -7.4573e-02, -8.6931e-02,  2.7223e-02,  1.1216e+00,\n",
       "          1.2774e-01, -8.3190e-02,  1.5545e-01,  1.1307e+00, -5.5464e-02,\n",
       "          1.0666e+00, -1.6378e-01,  1.1641e-01,  1.9426e-01,  1.1545e-01,\n",
       "          8.3497e-01, -5.5781e-02,  1.1758e-01,  1.4195e-01,  8.2684e-02,\n",
       "         -2.4398e-03,  1.4148e-02,  7.2140e-02, -4.2835e-02,  2.7643e-02,\n",
       "          1.0936e-03, -7.9822e-02,  5.5237e-02, -5.9823e-02,  1.4189e-01,\n",
       "         -1.1440e-01, -4.8758e-03,  9.2855e-01,  2.4101e-02, -4.2294e-02,\n",
       "         -7.2030e-02, -8.2761e-02, -1.4937e-01, -1.7790e-01, -1.3370e-02,\n",
       "          4.0450e-02]])"
      ]
     },
     "execution_count": 51,
     "metadata": {},
     "output_type": "execute_result"
    }
   ],
   "source": [
    "Xbatch[:1,0,:]"
   ]
  }
 ],
 "metadata": {
  "kernelspec": {
   "display_name": "tf38",
   "language": "python",
   "name": "python3"
  },
  "language_info": {
   "codemirror_mode": {
    "name": "ipython",
    "version": 3
   },
   "file_extension": ".py",
   "mimetype": "text/x-python",
   "name": "python",
   "nbconvert_exporter": "python",
   "pygments_lexer": "ipython3",
   "version": "3.8.19"
  }
 },
 "nbformat": 4,
 "nbformat_minor": 2
}
